{
 "cells": [
  {
   "cell_type": "code",
   "execution_count": 1,
   "metadata": {},
   "outputs": [],
   "source": [
    "import os\n",
    "# os.environ['NUMBA_DISABLE_JIT'] = '1'"
   ]
  },
  {
   "cell_type": "code",
   "execution_count": 2,
   "metadata": {},
   "outputs": [
    {
     "name": "stdout",
     "output_type": "stream",
     "text": [
      "Solution Results:\n",
      "\tpH = 7.86640\n",
      "\tsc = 6602.68061uS/cm\n",
      "\tI = 73.74077mmol/L\n",
      "\tDIC = 50.00000mmol/L\n",
      "Saturation Index:\n",
      "\tHalite: -4.77905928064043\n",
      "\tCalcite: 2.083610139715626\n",
      "\tAragonite: 1.9398402923233906\n",
      "\tVaterite: 1.5171786455013265\n",
      "Ionic Activity Product:\n",
      "\tHalite: 0.0006179320474486506\n",
      "\tCalcite: 4.0158757237289743e-07\n",
      "\tAragonite: 4.0158757237289743e-07\n",
      "\tVaterite: 4.0158757237289743e-07\n",
      "Precipitation concentration:\n",
      "\tHalite: 0.0 mM\n",
      "\tCalcite: 0.0 mM\n",
      "\tAragonite: 0.0 mM\n",
      "\tVaterite: 0.0 mM\n"
     ]
    },
    {
     "data": {
      "text/latex": [
       "$\\displaystyle \\ce{ {H2O^{}} <=> {OH^{-}} +{H^{+}}}$"
      ],
      "text/plain": [
       "<IPython.core.display.Math object>"
      ]
     },
     "metadata": {},
     "output_type": "display_data"
    },
    {
     "data": {
      "text/latex": [
       "$\\displaystyle \\ce{ {Na^{+}} +{HCO3^{-}} <=> {NaHCO3^{}}}$"
      ],
      "text/plain": [
       "<IPython.core.display.Math object>"
      ]
     },
     "metadata": {},
     "output_type": "display_data"
    },
    {
     "data": {
      "text/latex": [
       "$\\displaystyle \\ce{ {Na^{+}} +{H2O^{}} <=> {NaOH^{}} +{H^{+}}}$"
      ],
      "text/plain": [
       "<IPython.core.display.Math object>"
      ]
     },
     "metadata": {},
     "output_type": "display_data"
    },
    {
     "data": {
      "text/latex": [
       "$\\displaystyle \\ce{ {CO3^{2-}} +{H^{+}} <=> {HCO3^{-}}}$"
      ],
      "text/plain": [
       "<IPython.core.display.Math object>"
      ]
     },
     "metadata": {},
     "output_type": "display_data"
    },
    {
     "data": {
      "text/latex": [
       "$\\displaystyle \\ce{ {Na^{+}} +{CO3^{2-}} <=> {NaCO3^{-}}}$"
      ],
      "text/plain": [
       "<IPython.core.display.Math object>"
      ]
     },
     "metadata": {},
     "output_type": "display_data"
    },
    {
     "data": {
      "text/latex": [
       "$\\displaystyle \\ce{ 2{Na^{+}} +{CO3^{2-}} <=> {Na2CO3^{}}}$"
      ],
      "text/plain": [
       "<IPython.core.display.Math object>"
      ]
     },
     "metadata": {},
     "output_type": "display_data"
    },
    {
     "data": {
      "text/latex": [
       "$\\displaystyle \\ce{ {CO2^{}} +{H2O^{}} <=> {HCO3^{-}} +{H^{+}}}$"
      ],
      "text/plain": [
       "<IPython.core.display.Math object>"
      ]
     },
     "metadata": {},
     "output_type": "display_data"
    },
    {
     "data": {
      "text/latex": [
       "$\\displaystyle \\ce{ {Ca^{2+}} +{H2O^{}} <=> {CaOH^{+}} +{H^{+}}}$"
      ],
      "text/plain": [
       "<IPython.core.display.Math object>"
      ]
     },
     "metadata": {},
     "output_type": "display_data"
    },
    {
     "data": {
      "text/latex": [
       "$\\displaystyle \\ce{ {Ca^{2+}} +{CO3^{2-}} <=> {CaCO3^{}}}$"
      ],
      "text/plain": [
       "<IPython.core.display.Math object>"
      ]
     },
     "metadata": {},
     "output_type": "display_data"
    },
    {
     "data": {
      "text/latex": [
       "$\\displaystyle \\ce{ {Ca^{2+}} +{HCO3^{-}} <=> {CaHCO3^{+}}}$"
      ],
      "text/plain": [
       "<IPython.core.display.Math object>"
      ]
     },
     "metadata": {},
     "output_type": "display_data"
    },
    {
     "data": {
      "text/latex": [
       "$\\displaystyle \\ce{ {CaCl2^{}}->{Ca^{2+}} +2{Cl^{-}}}$"
      ],
      "text/plain": [
       "<IPython.core.display.Math object>"
      ]
     },
     "metadata": {},
     "output_type": "display_data"
    }
   ],
   "source": [
    "import pyequion\n",
    "sol = pyequion.solve_solution({'NaHCO3': 50, 'CaCl2': 10})\n",
    "pyequion.print_solution(sol)\n",
    "pyequion.ipython_display_reactions(sol)"
   ]
  },
  {
   "cell_type": "code",
   "execution_count": 3,
   "metadata": {},
   "outputs": [],
   "source": [
    "# pyequion.jit_compile_functions()"
   ]
  },
  {
   "cell_type": "code",
   "execution_count": 12,
   "metadata": {},
   "outputs": [
    {
     "name": "stdout",
     "output_type": "stream",
     "text": [
      "Solution Results:\n",
      "\tpH = 9.35154\n",
      "\tsc = 5280.38511uS/cm\n",
      "\tI = 52.75759mmol/L\n",
      "\tDIC = 24.30007mmol/L\n",
      "Saturation Index:\n",
      "\tHalite: -4.836401293165923\n",
      "\tCalcite: 0.0\n",
      "\tAragonite: -0.1437698473922353\n",
      "\tVaterite: -0.5664314942142994\n",
      "Ionic Activity Product:\n",
      "\tHalite: 0.000541500306566468\n",
      "\tCalcite: 3.312608598711612e-09\n",
      "\tAragonite: 3.312608598711612e-09\n",
      "\tVaterite: 3.312608598711612e-09\n",
      "Precipitation concentration:\n",
      "\tHalite: 0.0 mM\n",
      "\tCalcite: 9.975237400730848 mM\n",
      "\tAragonite: 0.0 mM\n",
      "\tVaterite: 0.0 mM\n"
     ]
    }
   ],
   "source": [
    "sol = pyequion.solve_solution(\n",
    "    {'NaHCO3': 50, 'CaCl2': 10},\n",
    "    allow_precipitation=True,\n",
    "    close_type=pyequion.ClosingEquationType.OPEN,\n",
    "    activity_model_type='pitzer',\n",
    "    solid_equilibrium_phases=['Calcite'],\n",
    "    co2_partial_pressure=pyequion.pCO2_ref,\n",
    "    fugacity_calculation='pr',\n",
    ")\n",
    "pyequion.print_solution(sol)"
   ]
  },
  {
   "cell_type": "code",
   "execution_count": null,
   "metadata": {},
   "outputs": [],
   "source": [
    "sys_eq = pyequion.create_equilibrium(\n",
    "        feed_compounds=['NaHCO3', 'CaCl2']\n",
    ")"
   ]
  },
  {
   "cell_type": "code",
   "execution_count": 8,
   "metadata": {},
   "outputs": [
    {
     "name": "stderr",
     "output_type": "stream",
     "text": [
      "WARNING:root:Allow precipitation is ON and solid phase are not provided.\n",
      "            The software will equilibrate with the phase with higher saturation index.\n",
      "                Is recommended to set the solid phases which should be equilibrated.\n"
     ]
    },
    {
     "name": "stdout",
     "output_type": "stream",
     "text": [
      "Solution Results:\n",
      "\tpH = 6.80377\n",
      "\tsc = 5330.41004uS/cm\n",
      "\tI = 52.34816mmol/L\n",
      "\tDIC = 41.09321mmol/L\n",
      "Saturation Index:\n",
      "\tHalite: -4.752652614745573\n",
      "\tCalcite: 0.0\n",
      "\tAragonite: -0.1437698473922353\n",
      "\tVaterite: -0.5664314942142994\n",
      "Ionic Activity Product:\n",
      "\tHalite: 0.0006566703164358376\n",
      "\tCalcite: 3.312608598711612e-09\n",
      "\tAragonite: 3.312608598711612e-09\n",
      "\tVaterite: 3.312608598711612e-09\n",
      "Precipitation concentration:\n",
      "\tHalite: 0.0 mM\n",
      "\tCalcite: 8.906791664995803 mM\n",
      "\tAragonite: 0.0 mM\n",
      "\tVaterite: 0.0 mM\n"
     ]
    }
   ],
   "source": [
    "sol = pyequion.solve_solution(\n",
    "    {'NaHCO3': 50, 'CaCl2': 10},\n",
    "    reaction_system=sys_eq,\n",
    "#     activity_model_type='BROMLEY',\n",
    "    allow_precipitation=True,\n",
    "#     activity_model_type=pyequion.TypeActivityCalculation('BROMLEY'),\n",
    "#     activity_model_type='PITZER',\n",
    "#     activity_model_type='BROMLEY',\n",
    "#     solid_equilibrium_phases=['Calcite']\n",
    ")\n",
    "pyequion.print_solution(sol)"
   ]
  },
  {
   "cell_type": "markdown",
   "metadata": {},
   "source": [
    "$$\\require{mhchem}$$ "
   ]
  }
 ],
 "metadata": {
  "kernelspec": {
   "display_name": "Python 3",
   "language": "python",
   "name": "python3"
  },
  "language_info": {
   "codemirror_mode": {
    "name": "ipython",
    "version": 3
   },
   "file_extension": ".py",
   "mimetype": "text/x-python",
   "name": "python",
   "nbconvert_exporter": "python",
   "pygments_lexer": "ipython3",
   "version": "3.7.3"
  }
 },
 "nbformat": 4,
 "nbformat_minor": 2
}