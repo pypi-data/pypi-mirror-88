{
 "cells": [
  {
   "cell_type": "markdown",
   "metadata": {},
   "source": [
    "## Concha\n",
    "\n",
    "Concha calculcates the optimal number of things to make/order of perishables.\n",
    "It uses machine learning, the day of the week, the weather, and the profit margin\n",
    "of each product to optimally balance filling customer demand and reducing waste."
   ]
  },
  {
   "cell_type": "code",
   "execution_count": 5,
   "metadata": {},
   "outputs": [],
   "source": [
    "# Run this cell first to bring in the concha code\n",
    "!pip -q install concha\n",
    "from concha import Planner"
   ]
  },
  {
   "cell_type": "code",
   "execution_count": 3,
   "metadata": {},
   "outputs": [],
   "source": [
    "# This is a simulation for muffins.\n",
    "# Let's say they're made in batches of 4, the marginal cost is\n",
    "# $1.50 per muffin ($6 per batch), and they sell for $3.00 each.\n",
    "sim_planner = Planner(\n",
    "    planner_name=\"cafe_2\",\n",
    "    batch_size = 4,\n",
    "    batch_cost= 6.0,\n",
    "    unit_sale_price= 3.0\n",
    ")\n",
    "\n",
    "# We'll simulate 180 days of sales for 5 kinds of muffins\n",
    "sim_planner.simulate_history(\n",
    "    num_days=180,\n",
    "    stockout_prob=0.5,\n",
    "    demand_mean=100,\n",
    "    demand_std=10,\n",
    "    num_products = 5,\n",
    "    write_csv=True\n",
    ") "
   ]
  },
  {
   "cell_type": "code",
   "execution_count": 4,
   "metadata": {},
   "outputs": [
    {
     "name": "stdout",
     "output_type": "stream",
     "text": [
      "Evaluating: {'model': 'MeanWeekPart'}\n",
      "Evaluating: {'model': 'ProfitMaximizer'}\n"
     ]
    },
    {
     "data": {
      "text/html": [
       "<div>\n",
       "<style scoped>\n",
       "    .dataframe tbody tr th:only-of-type {\n",
       "        vertical-align: middle;\n",
       "    }\n",
       "\n",
       "    .dataframe tbody tr th {\n",
       "        vertical-align: top;\n",
       "    }\n",
       "\n",
       "    .dataframe thead th {\n",
       "        text-align: right;\n",
       "    }\n",
       "</style>\n",
       "<table border=\"1\" class=\"dataframe\">\n",
       "  <thead>\n",
       "    <tr style=\"text-align: right;\">\n",
       "      <th></th>\n",
       "      <th>model</th>\n",
       "      <th>label</th>\n",
       "      <th>profit_avg</th>\n",
       "      <th>waste_pct</th>\n",
       "      <th>profit</th>\n",
       "      <th>val_loss</th>\n",
       "      <th>waste</th>\n",
       "    </tr>\n",
       "  </thead>\n",
       "  <tbody>\n",
       "    <tr>\n",
       "      <th>0</th>\n",
       "      <td>MeanWeekPart</td>\n",
       "      <td>model=MeanWeekPart</td>\n",
       "      <td>94.563333</td>\n",
       "      <td>8.626473</td>\n",
       "      <td>[[55.67, 46.58, 57.0, 59.5, 65.42, 105.08, 90....</td>\n",
       "      <td>[[]]</td>\n",
       "      <td>[[10.78, 13.81, 9.78, 10.44, 6.47, 3.19, 9.53,...</td>\n",
       "    </tr>\n",
       "    <tr>\n",
       "      <th>1</th>\n",
       "      <td>ProfitMaximizer</td>\n",
       "      <td>model=ProfitMaximizer</td>\n",
       "      <td>112.026667</td>\n",
       "      <td>8.684107</td>\n",
       "      <td>[[69.25, 62.5, 77.83, 64.25, 83.75, 126.25, 11...</td>\n",
       "      <td>[[1.4166, 1.2792, 1.2088, 1.1658, 1.1328, 1.10...</td>\n",
       "      <td>[[6.36, 9.28, 3.39, 8.97, 5.64, 5.42, 7.81, 7....</td>\n",
       "    </tr>\n",
       "  </tbody>\n",
       "</table>\n",
       "</div>"
      ],
      "text/plain": [
       "             model                  label  profit_avg  waste_pct  \\\n",
       "0     MeanWeekPart     model=MeanWeekPart   94.563333   8.626473   \n",
       "1  ProfitMaximizer  model=ProfitMaximizer  112.026667   8.684107   \n",
       "\n",
       "                                              profit  \\\n",
       "0  [[55.67, 46.58, 57.0, 59.5, 65.42, 105.08, 90....   \n",
       "1  [[69.25, 62.5, 77.83, 64.25, 83.75, 126.25, 11...   \n",
       "\n",
       "                                            val_loss  \\\n",
       "0                                               [[]]   \n",
       "1  [[1.4166, 1.2792, 1.2088, 1.1658, 1.1328, 1.10...   \n",
       "\n",
       "                                               waste  \n",
       "0  [[10.78, 13.81, 9.78, 10.44, 6.47, 3.19, 9.53,...  \n",
       "1  [[6.36, 9.28, 3.39, 8.97, 5.64, 5.42, 7.81, 7....  "
      ]
     },
     "execution_count": 4,
     "metadata": {},
     "output_type": "execute_result"
    }
   ],
   "source": [
    "# We'll compare profits from two different ways to plan production.\n",
    "# The first is to use the average for weekdays and weekends from past\n",
    "# days to plan future production. The other uses machine learning to\n",
    "# maximize profit (revenue - waste). \n",
    "sim_planner.grid_search(\n",
    "    param_grid={\"model\": [\n",
    "        \"MeanWeekPart\",\n",
    "        \"ProfitMaximizer\"\n",
    "    ]},\n",
    "    true_demand='demand'\n",
    ")\n",
    "# The difference in the profit_avg amount is the difference in daily profit between each\n",
    "# way of planning production. "
   ]
  },
  {
   "cell_type": "code",
   "execution_count": 5,
   "metadata": {},
   "outputs": [
    {
     "data": {
      "image/png": "[encoded data removed]",
      "text/plain": [
       "<Figure size 432x288 with 1 Axes>"
      ]
     },
     "metadata": {
      "needs_background": "light"
     },
     "output_type": "display_data"
    }
   ],
   "source": [
    "# Let's plot plot the average profits for each test run and each product.\n",
    "sim_planner.plot_profits()"
   ]
  }
 ],
 "metadata": {
  "kernelspec": {
   "display_name": "Python 3",
   "language": "python",
   "name": "python3"
  },
  "language_info": {
   "codemirror_mode": {
    "name": "ipython",
    "version": 3
   },
   "file_extension": ".py",
   "mimetype": "text/x-python",
   "name": "python",
   "nbconvert_exporter": "python",
   "pygments_lexer": "ipython3",
   "version": "3.7.7"
  }
 },
 "nbformat": 4,
 "nbformat_minor": 4
}
