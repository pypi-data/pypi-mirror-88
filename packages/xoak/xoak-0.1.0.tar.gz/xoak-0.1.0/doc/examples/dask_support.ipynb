{
 "cells": [
  {
   "cell_type": "markdown",
   "metadata": {},
   "source": [
    "# Indexing / Selecting Large Data\n",
    "\n",
    "**Note: this feature is experimental!**\n",
    "\n",
    "When the dataset have chunked coordinates (dask arrays), Xoak may build the index and/or performs the selection in-parallel. "
   ]
  },
  {
   "cell_type": "code",
   "execution_count": null,
   "metadata": {},
   "outputs": [],
   "source": [
    "import dask\n",
    "import dask.array as da\n",
    "import numpy as np\n",
    "import xarray as xr\n",
    "import xoak\n",
    "\n",
    "xr.set_options(display_style='text');"
   ]
  },
  {
   "cell_type": "markdown",
   "metadata": {},
   "source": [
    "Let's first create an `xarray.Dataset` of latitude / longitude points located randomly on the sphere, forming a 2-dimensional (x, y) model mesh. The array coordinates are split into 4 chunks of 250x250 elements each."
   ]
  },
  {
   "cell_type": "code",
   "execution_count": null,
   "metadata": {},
   "outputs": [],
   "source": [
    "shape = (500, 500)\n",
    "chunk_shape = (250, 250)\n",
    "\n",
    "lat = da.random.uniform(-90, 90, size=shape, chunks=chunk_shape)\n",
    "lon = da.random.uniform(-180, 180, size=shape, chunks=chunk_shape)\n",
    "\n",
    "field = lat + lon\n",
    "\n",
    "ds_mesh = xr.Dataset(\n",
    "    coords={'lat': (('x', 'y'), lat), 'lon': (('x', 'y'), lon)},\n",
    "    data_vars={'field': (('x', 'y'), field)},\n",
    ")\n",
    "\n",
    "ds_mesh"
   ]
  },
  {
   "cell_type": "markdown",
   "metadata": {},
   "source": [
    "Xoak builds an index structure for each chunk (all coordinates must have the same chunks):"
   ]
  },
  {
   "cell_type": "code",
   "execution_count": null,
   "metadata": {},
   "outputs": [],
   "source": [
    "ds_mesh.xoak.set_index(['lat', 'lon'], 'sklearn_geo_balltree')\n",
    "\n",
    "# here returns a list of BallTree objects, one for each chunk\n",
    "ds_mesh.xoak.index"
   ]
  },
  {
   "cell_type": "markdown",
   "metadata": {},
   "source": [
    "Let's create some query data points, which may also be chunked (here 2 chunks)."
   ]
  },
  {
   "cell_type": "code",
   "execution_count": null,
   "metadata": {},
   "outputs": [],
   "source": [
    "shape = (100, 10)\n",
    "chunk_shape = (50, 10)\n",
    "\n",
    "ds_data = xr.Dataset({\n",
    "    'lat': (('y', 'x'), da.random.uniform(-90, 90, size=shape, chunks=chunk_shape)),\n",
    "    'lon': (('y', 'x'), da.random.uniform(-180, 180, size=shape, chunks=chunk_shape))\n",
    "})\n",
    "\n",
    "ds_data"
   ]
  },
  {
   "cell_type": "markdown",
   "metadata": {},
   "source": [
    "Queries may be perfomed in parallel using Dask. Please note, however, that some indexes may not support multi-threads and/or multi-process parallelism."
   ]
  },
  {
   "cell_type": "code",
   "execution_count": null,
   "metadata": {},
   "outputs": [],
   "source": [
    "from dask.diagnostics import ProgressBar\n",
    "\n",
    "with ProgressBar(), dask.config.set(scheduler='processes'):\n",
    "    ds_selection = ds_mesh.xoak.sel(lat=ds_data.lat, lon=ds_data.lon)\n",
    "\n",
    "ds_selection"
   ]
  },
  {
   "cell_type": "code",
   "execution_count": null,
   "metadata": {},
   "outputs": [],
   "source": []
  }
 ],
 "metadata": {
  "kernelspec": {
   "display_name": "Python [conda env:xoak_dev]",
   "language": "python",
   "name": "conda-env-xoak_dev-py"
  },
  "language_info": {
   "codemirror_mode": {
    "name": "ipython",
    "version": 3
   },
   "file_extension": ".py",
   "mimetype": "text/x-python",
   "name": "python",
   "nbconvert_exporter": "python",
   "pygments_lexer": "ipython3",
   "version": "3.8.6"
  }
 },
 "nbformat": 4,
 "nbformat_minor": 4
}
