{
 "cells": [
  {
   "cell_type": "markdown",
   "metadata": {},
   "source": [
    "# Custom Indexes\n",
    "\n",
    "While Xoak provides some built-in index adapters, it is easy to adapt and register new indexes. "
   ]
  },
  {
   "cell_type": "code",
   "execution_count": null,
   "metadata": {},
   "outputs": [],
   "source": [
    "import numpy as np\n",
    "import xarray as xr\n",
    "import xoak"
   ]
  },
  {
   "cell_type": "markdown",
   "metadata": {},
   "source": [
    "An instance of `xoak.IndexRegistry` by default contains a collection of Xoak built-in index adapters:"
   ]
  },
  {
   "cell_type": "code",
   "execution_count": null,
   "metadata": {},
   "outputs": [],
   "source": [
    "ireg = xoak.IndexRegistry()\n",
    "\n",
    "ireg"
   ]
  },
  {
   "cell_type": "markdown",
   "metadata": {},
   "source": [
    "## Example: add a brute-force \"index\"\n",
    "\n",
    "Every Xoak supported index is a subclass of `xoak.IndexAdapter` that must implement the `build` and `query` methods. The `IndexRegistry.register` decorator may be used to register a new index adpater.\n",
    "\n",
    "Let's create and register a new adapter, which simply performs brute-force nearest-neighbor lookup by computing the pairwise distances between all index and query points and finding the minimum distance. "
   ]
  },
  {
   "cell_type": "code",
   "execution_count": null,
   "metadata": {},
   "outputs": [],
   "source": [
    "from sklearn.metrics.pairwise import pairwise_distances_argmin_min\n",
    "\n",
    "\n",
    "@ireg.register('brute_force')\n",
    "class BruteForceIndex(xoak.IndexAdapter):\n",
    "    \"\"\"Brute-force nearest neighbor lookup.\"\"\"\n",
    "    \n",
    "    def build(self, points):\n",
    "        # there is no index to build here, just return the points\n",
    "        return points\n",
    "    \n",
    "    def query(self, index, points):\n",
    "        positions, distances = pairwise_distances_argmin_min(points, index)\n",
    "        return distances, positions\n"
   ]
  },
  {
   "cell_type": "markdown",
   "metadata": {},
   "source": [
    "This new index now appears in the registry:"
   ]
  },
  {
   "cell_type": "code",
   "execution_count": null,
   "metadata": {},
   "outputs": [],
   "source": [
    "ireg"
   ]
  },
  {
   "cell_type": "markdown",
   "metadata": {},
   "source": [
    "Let's use this index in the basic example below:"
   ]
  },
  {
   "cell_type": "code",
   "execution_count": null,
   "metadata": {},
   "outputs": [],
   "source": [
    "# create mesh\n",
    "shape = (20, 20)\n",
    "x = np.random.uniform(0, 100, size=shape)\n",
    "y = np.random.uniform(0, 100, size=shape)\n",
    "\n",
    "field = x + y\n",
    "\n",
    "ds_mesh = xr.Dataset(\n",
    "    coords={'meshx': (('x', 'y'), x), 'meshy': (('x', 'y'), y)},\n",
    "    data_vars={'field': (('x', 'y'), field)},\n",
    ")\n",
    "\n",
    "# set the brute-force index (doesn't really build any index in this case)\n",
    "ds_mesh.xoak.set_index(['meshx', 'meshy'], ireg.brute_force)\n",
    "\n",
    "# create trajectory points\n",
    "ds_trajectory = xr.Dataset({\n",
    "    'trajx': ('trajectory', np.linspace(0, 100, 20)),\n",
    "    'trajy': ('trajectory', np.linspace(0, 100, 20))\n",
    "})\n",
    "\n",
    "# select mesh points\n",
    "ds_selection = ds_mesh.xoak.sel(\n",
    "    meshx=ds_trajectory.trajx,\n",
    "    meshy=ds_trajectory.trajy\n",
    ")\n",
    "\n",
    "# plot results\n",
    "ds_trajectory.plot.scatter(x='trajx', y='trajy', c='k', alpha=0.7);\n",
    "ds_selection.plot.scatter(x='meshx', y='meshy', hue='field', alpha=0.9);"
   ]
  },
  {
   "cell_type": "code",
   "execution_count": null,
   "metadata": {},
   "outputs": [],
   "source": []
  }
 ],
 "metadata": {
  "kernelspec": {
   "display_name": "Python [conda env:xoak_dev]",
   "language": "python",
   "name": "conda-env-xoak_dev-py"
  },
  "language_info": {
   "codemirror_mode": {
    "name": "ipython",
    "version": 3
   },
   "file_extension": ".py",
   "mimetype": "text/x-python",
   "name": "python",
   "nbconvert_exporter": "python",
   "pygments_lexer": "ipython3",
   "version": "3.8.6"
  }
 },
 "nbformat": 4,
 "nbformat_minor": 4
}
