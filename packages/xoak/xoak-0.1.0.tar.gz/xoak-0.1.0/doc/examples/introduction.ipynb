{
 "cells": [
  {
   "cell_type": "markdown",
   "metadata": {},
   "source": [
    "# Introduction to Xoak\n",
    "\n",
    "This notebook briefly shows how to use Xoak with Xarray's [advanced indexing](http://xarray.pydata.org/en/stable/indexing.html#more-advanced-indexing) to perform point-wise selection of irrelgularly spaced data encoded in coordinates with an arbitrary number of dimensions (1, 2, ..., n-d)."
   ]
  },
  {
   "cell_type": "code",
   "execution_count": null,
   "metadata": {},
   "outputs": [],
   "source": [
    "import numpy as np\n",
    "import xarray as xr\n",
    "import xoak\n",
    "\n",
    "xr.set_options(display_style='text');"
   ]
  },
  {
   "cell_type": "markdown",
   "metadata": {},
   "source": [
    "Let's first create an `xarray.Dataset` of latitude / longitude points located randomly on the sphere, forming a 2-dimensional (x, y) model mesh (note that Xoak supports indexing coordinates with an arbitrary number of dimensions)."
   ]
  },
  {
   "cell_type": "code",
   "execution_count": null,
   "metadata": {},
   "outputs": [],
   "source": [
    "shape = (100, 100)\n",
    "lat = np.random.uniform(-90, 90, size=shape)\n",
    "lon = np.random.uniform(-180, 180, size=shape)\n",
    "\n",
    "field = lat + lon"
   ]
  },
  {
   "cell_type": "code",
   "execution_count": null,
   "metadata": {},
   "outputs": [],
   "source": [
    "ds_mesh = xr.Dataset(\n",
    "    coords={'lat': (('x', 'y'), lat), 'lon': (('x', 'y'), lon)},\n",
    "    data_vars={'field': (('x', 'y'), field)},\n",
    ")\n",
    "\n",
    "ds_mesh"
   ]
  },
  {
   "cell_type": "markdown",
   "metadata": {},
   "source": [
    "We first need to build an index to allow fast point-wise selection. Xoak supports several indexes that can be used depending on the data. Here we use the `sklearn_geo_balltree` index, a wrapper around [sklearn.BallTree](https://scikit-learn.org/stable/modules/generated/sklearn.neighbors.BallTree.html#sklearn.neighbors.BallTree) using the Haversine distance metric that is suited for indexing latitude / longitude points.\n",
    "\n",
    "With this index, it is important to specify `lat` and `lon` in this specific order. Both the `lat` and `lon` coordinates must have exactly the same dimensions in the same order, here `('x', 'y')`."
   ]
  },
  {
   "cell_type": "code",
   "execution_count": null,
   "metadata": {},
   "outputs": [],
   "source": [
    "ds_mesh.xoak.set_index(['lat', 'lon'], 'sklearn_geo_balltree')"
   ]
  },
  {
   "cell_type": "markdown",
   "metadata": {},
   "source": [
    "Let's create another `xarray.Dataset` of latitude / longitude points that here correspond to a trajectory on the sphere."
   ]
  },
  {
   "cell_type": "code",
   "execution_count": null,
   "metadata": {},
   "outputs": [],
   "source": [
    "ds_trajectory = xr.Dataset({\n",
    "    'latitude': ('trajectory', np.linspace(-10, 40, 30)),\n",
    "    'longitude': ('trajectory', np.linspace(-150, 150, 30))\n",
    "})\n",
    "\n",
    "ds_trajectory"
   ]
  },
  {
   "cell_type": "markdown",
   "metadata": {},
   "source": [
    "We can use `xarray.Dataset.xoak.sel()` to select the mesh points that are the closest to the trajectory vertices. It works very much like `xarray.Dataset.sel()` and returns another Dataset with the selection.\n",
    "\n",
    "Like for `xarray.Dataset.xoak.set_index()`, it is important here that all indexer coordinates (`latitude` and `longitude` in this example) have the exact same dimensions (here `'trajectory'`). Indexers must be given for each coordinate used to build the index above, (here `latitude` for `lat` and `longitude` for `lon`). "
   ]
  },
  {
   "cell_type": "code",
   "execution_count": null,
   "metadata": {},
   "outputs": [],
   "source": [
    "ds_selection = ds_mesh.xoak.sel(\n",
    "    lat=ds_trajectory.latitude,\n",
    "    lon=ds_trajectory.longitude\n",
    ")\n",
    "\n",
    "ds_selection"
   ]
  },
  {
   "cell_type": "markdown",
   "metadata": {},
   "source": [
    "Let's plot the trajectory vertices (black dots) and the resulting selection (dots colored by the `field` values):"
   ]
  },
  {
   "cell_type": "code",
   "execution_count": null,
   "metadata": {},
   "outputs": [],
   "source": [
    "ds_trajectory.plot.scatter(x='longitude', y='latitude', c='k', alpha=0.7);\n",
    "ds_selection.plot.scatter(x='lon', y='lat', hue='field', alpha=0.9);"
   ]
  },
  {
   "cell_type": "markdown",
   "metadata": {},
   "source": [
    "Xoak also supports providing coordinates with an arbitrary number of dimensions as indexers, like in the example below with vertices of another mesh on the sphere. "
   ]
  },
  {
   "cell_type": "code",
   "execution_count": null,
   "metadata": {},
   "outputs": [],
   "source": [
    "ds_mesh2 = xr.Dataset({\n",
    "    'latitude': (('x', 'y'), np.random.uniform(-90, 90, size=(10, 10))),\n",
    "    'longitude': (('x', 'y'), np.random.uniform(-180, 180, size=(10, 10)))\n",
    "})\n",
    "\n",
    "ds_selection = ds_mesh.xoak.sel(\n",
    "    lat=ds_mesh2.latitude,\n",
    "    lon=ds_mesh2.longitude\n",
    ")\n",
    "\n",
    "ds_selection"
   ]
  },
  {
   "cell_type": "code",
   "execution_count": null,
   "metadata": {},
   "outputs": [],
   "source": [
    "ds_mesh2.plot.scatter(x='longitude', y='latitude', c='k', alpha=0.7);\n",
    "ds_selection.plot.scatter(x='lon', y='lat', hue='field', alpha=0.9);"
   ]
  },
  {
   "cell_type": "code",
   "execution_count": null,
   "metadata": {},
   "outputs": [],
   "source": []
  }
 ],
 "metadata": {
  "kernelspec": {
   "display_name": "Python [conda env:xoak_dev]",
   "language": "python",
   "name": "conda-env-xoak_dev-py"
  },
  "language_info": {
   "codemirror_mode": {
    "name": "ipython",
    "version": 3
   },
   "file_extension": ".py",
   "mimetype": "text/x-python",
   "name": "python",
   "nbconvert_exporter": "python",
   "pygments_lexer": "ipython3",
   "version": "3.8.6"
  }
 },
 "nbformat": 4,
 "nbformat_minor": 4
}
