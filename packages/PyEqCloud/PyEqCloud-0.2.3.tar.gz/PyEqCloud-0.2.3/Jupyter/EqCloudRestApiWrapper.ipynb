{
 "cells": [
  {
   "cell_type": "code",
   "execution_count": 1,
   "metadata": {},
   "outputs": [],
   "source": [
    "import PyEqCloud\n",
    "\n",
    "import pandas as pd                  \n",
    "import getpass"
   ]
  },
  {
   "cell_type": "code",
   "execution_count": 2,
   "metadata": {},
   "outputs": [
    {
     "name": "stdout",
     "output_type": "stream",
     "text": [
      "Enter password:\n"
     ]
    },
    {
     "name": "stdin",
     "output_type": "stream",
     "text": [
      " ············\n"
     ]
    }
   ],
   "source": [
    "### Enter user credentials\n",
    "\n",
    "username = 'xxx'\n",
    "customerID = 'xxx'\n",
    "print('Enter password:')\n",
    "password = getpass.getpass()"
   ]
  },
  {
   "cell_type": "markdown",
   "metadata": {},
   "source": [
    "## initialize request object"
   ]
  },
  {
   "cell_type": "code",
   "execution_count": 3,
   "metadata": {},
   "outputs": [],
   "source": [
    "### initialize request object\n",
    "\n",
    "callOne = PyEqCloud.EqCloudRestApiWrapper(username, password, customerID)"
   ]
  },
  {
   "cell_type": "markdown",
   "metadata": {},
   "source": [
    "## Request data of specific equipment"
   ]
  },
  {
   "cell_type": "markdown",
   "metadata": {},
   "source": [
    "Make a data request by calling a request function from your credential object.\n",
    "\n",
    "For performance sake the days you can fetch are limted by 31. To fetch even more data, it is recommended to build a loop where each iteration uses a timespan of 31 days between startTime and endTime."
   ]
  },
  {
   "cell_type": "markdown",
   "metadata": {},
   "source": [
    "#### Example: process values"
   ]
  },
  {
   "cell_type": "code",
   "execution_count": 1,
   "metadata": {},
   "outputs": [],
   "source": [
    "### define equipment, startTime and endTime parameters\n",
    "\n",
    "equipment = 'EQ001'\n",
    "startTime = '2020-04-21T00:00:00'\n",
    "endTime =  '2020-04-25T00:00:00'\n",
    "\n",
    "### define the list of columns to be fetched\n",
    "\n",
    "columns = ['BandSpeed','EffectiveEnergy','FlowO2','GasInput']\n",
    "\n",
    "df_processValues = callOne.request_processvalues(equipment, startTime, endTime, columns)\n",
    "df_processValues.head(5)"
   ]
  },
  {
   "cell_type": "markdown",
   "metadata": {},
   "source": [
    "#### Example: alarm values"
   ]
  },
  {
   "cell_type": "code",
   "execution_count": 5,
   "metadata": {},
   "outputs": [
    {
     "data": {
      "text/html": [
       "<div>\n",
       "<style scoped>\n",
       "    .dataframe tbody tr th:only-of-type {\n",
       "        vertical-align: middle;\n",
       "    }\n",
       "\n",
       "    .dataframe tbody tr th {\n",
       "        vertical-align: top;\n",
       "    }\n",
       "\n",
       "    .dataframe thead th {\n",
       "        text-align: right;\n",
       "    }\n",
       "</style>\n",
       "<table border=\"1\" class=\"dataframe\">\n",
       "  <thead>\n",
       "    <tr style=\"text-align: right;\">\n",
       "      <th></th>\n",
       "      <th>id</th>\n",
       "      <th>state</th>\n",
       "      <th>ts_end</th>\n",
       "      <th>ts_start</th>\n",
       "    </tr>\n",
       "  </thead>\n",
       "  <tbody>\n",
       "    <tr>\n",
       "      <th>0</th>\n",
       "      <td>857</td>\n",
       "      <td>UDT</td>\n",
       "      <td>2020-04-21 00:19:24</td>\n",
       "      <td>2020-04-21 00:18:36</td>\n",
       "    </tr>\n",
       "    <tr>\n",
       "      <th>1</th>\n",
       "      <td>857</td>\n",
       "      <td>UDT</td>\n",
       "      <td>2020-04-21 00:19:24</td>\n",
       "      <td>2020-04-21 00:18:36</td>\n",
       "    </tr>\n",
       "  </tbody>\n",
       "</table>\n",
       "</div>"
      ],
      "text/plain": [
       "    id state              ts_end            ts_start\n",
       "0  857   UDT 2020-04-21 00:19:24 2020-04-21 00:18:36\n",
       "1  857   UDT 2020-04-21 00:19:24 2020-04-21 00:18:36"
      ]
     },
     "execution_count": 5,
     "metadata": {},
     "output_type": "execute_result"
    }
   ],
   "source": [
    "### define equipment, startTime and endTime parameters\n",
    "\n",
    "equipment = 'EQ001'\n",
    "startTime = '2020-04-21T00:00:00'\n",
    "endTime =  '2020-04-25T00:00:00'\n",
    "\n",
    "df_alarms = callOne.request_alarms(equipment, startTime, endTime)\n",
    "df_alarms.head(2)"
   ]
  },
  {
   "cell_type": "markdown",
   "metadata": {},
   "source": [
    "#### Example: state values"
   ]
  },
  {
   "cell_type": "code",
   "execution_count": 6,
   "metadata": {},
   "outputs": [
    {
     "data": {
      "text/html": [
       "<div>\n",
       "<style scoped>\n",
       "    .dataframe tbody tr th:only-of-type {\n",
       "        vertical-align: middle;\n",
       "    }\n",
       "\n",
       "    .dataframe tbody tr th {\n",
       "        vertical-align: top;\n",
       "    }\n",
       "\n",
       "    .dataframe thead th {\n",
       "        text-align: right;\n",
       "    }\n",
       "</style>\n",
       "<table border=\"1\" class=\"dataframe\">\n",
       "  <thead>\n",
       "    <tr style=\"text-align: right;\">\n",
       "      <th></th>\n",
       "      <th>eq_state</th>\n",
       "      <th>state</th>\n",
       "      <th>ts_end</th>\n",
       "      <th>ts_start</th>\n",
       "    </tr>\n",
       "  </thead>\n",
       "  <tbody>\n",
       "    <tr>\n",
       "      <th>0</th>\n",
       "      <td>Non Scheduled</td>\n",
       "      <td>SBY</td>\n",
       "      <td>2020-04-20 23:43:41</td>\n",
       "      <td>2020-04-20 23:41:56</td>\n",
       "    </tr>\n",
       "    <tr>\n",
       "      <th>1</th>\n",
       "      <td>Engineering</td>\n",
       "      <td>PRD</td>\n",
       "      <td>2020-04-21 00:12:29</td>\n",
       "      <td>2020-04-20 23:43:41</td>\n",
       "    </tr>\n",
       "  </tbody>\n",
       "</table>\n",
       "</div>"
      ],
      "text/plain": [
       "        eq_state state              ts_end            ts_start\n",
       "0  Non Scheduled   SBY 2020-04-20 23:43:41 2020-04-20 23:41:56\n",
       "1    Engineering   PRD 2020-04-21 00:12:29 2020-04-20 23:43:41"
      ]
     },
     "execution_count": 6,
     "metadata": {},
     "output_type": "execute_result"
    }
   ],
   "source": [
    "### define equipment, startTime and endTime parameters\n",
    "\n",
    "equipment = 'EQ001'\n",
    "startTime = '2020-04-21T00:00:00'\n",
    "endTime =  '2020-04-25T00:00:00'\n",
    "\n",
    "df_states = callOne.request_states(equipment, startTime, endTime)\n",
    "df_states.head(2)"
   ]
  },
  {
   "cell_type": "markdown",
   "metadata": {},
   "source": [
    "#### Example: unit values"
   ]
  },
  {
   "cell_type": "code",
   "execution_count": 7,
   "metadata": {},
   "outputs": [
    {
     "data": {
      "text/html": [
       "<div>\n",
       "<style scoped>\n",
       "    .dataframe tbody tr th:only-of-type {\n",
       "        vertical-align: middle;\n",
       "    }\n",
       "\n",
       "    .dataframe tbody tr th {\n",
       "        vertical-align: top;\n",
       "    }\n",
       "\n",
       "    .dataframe thead th {\n",
       "        text-align: right;\n",
       "    }\n",
       "</style>\n",
       "<table border=\"1\" class=\"dataframe\">\n",
       "  <thead>\n",
       "    <tr style=\"text-align: right;\">\n",
       "      <th></th>\n",
       "      <th>count</th>\n",
       "      <th>quality</th>\n",
       "      <th>state</th>\n",
       "      <th>timestamp</th>\n",
       "    </tr>\n",
       "  </thead>\n",
       "  <tbody>\n",
       "    <tr>\n",
       "      <th>0</th>\n",
       "      <td>1</td>\n",
       "      <td>1</td>\n",
       "      <td>PRD</td>\n",
       "      <td>2020-04-21 00:42:30</td>\n",
       "    </tr>\n",
       "    <tr>\n",
       "      <th>1</th>\n",
       "      <td>1</td>\n",
       "      <td>1</td>\n",
       "      <td>PRD</td>\n",
       "      <td>2020-04-21 00:43:56</td>\n",
       "    </tr>\n",
       "  </tbody>\n",
       "</table>\n",
       "</div>"
      ],
      "text/plain": [
       "   count  quality state           timestamp\n",
       "0      1        1   PRD 2020-04-21 00:42:30\n",
       "1      1        1   PRD 2020-04-21 00:43:56"
      ]
     },
     "execution_count": 7,
     "metadata": {},
     "output_type": "execute_result"
    }
   ],
   "source": [
    "### define equipment, startTime and endTime parameters\n",
    "\n",
    "equipment = 'EQ001'\n",
    "startTime = '2020-04-21T00:00:00'\n",
    "endTime =  '2020-04-25T00:00:00'\n",
    "\n",
    "df_units = callOne.request_units(equipment, startTime, endTime)\n",
    "df_units.head(2)"
   ]
  },
  {
   "cell_type": "code",
   "execution_count": null,
   "metadata": {},
   "outputs": [],
   "source": []
  }
 ],
 "metadata": {
  "kernelspec": {
   "display_name": "Python 3",
   "language": "python",
   "name": "python3"
  },
  "language_info": {
   "codemirror_mode": {
    "name": "ipython",
    "version": 3
   },
   "file_extension": ".py",
   "mimetype": "text/x-python",
   "name": "python",
   "nbconvert_exporter": "python",
   "pygments_lexer": "ipython3",
   "version": "3.7.5"
  }
 },
 "nbformat": 4,
 "nbformat_minor": 4
}
