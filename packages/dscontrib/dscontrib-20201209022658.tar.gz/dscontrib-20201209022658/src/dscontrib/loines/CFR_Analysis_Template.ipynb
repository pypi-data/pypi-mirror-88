{
  "nbformat": 4,
  "nbformat_minor": 0,
  "metadata": {
    "colab": {
      "name": "CFR Analysis Template",
      "provenance": [],
      "collapsed_sections": [],
      "toc_visible": true
    },
    "kernelspec": {
      "name": "python3",
      "display_name": "Python 3"
    }
  },
  "cells": [
    {
      "cell_type": "markdown",
      "metadata": {
        "id": "bLPzJ0do99jb",
        "colab_type": "text"
      },
      "source": [
        "# CFR MozAnalysis Template\n",
        "This is far from exhaustive but hopefully it will save you time and allow you to get a quick look faster."
      ]
    },
    {
      "cell_type": "code",
      "metadata": {
        "id": "P-CPJwdW9uJU",
        "colab_type": "code",
        "outputId": "921720f7-76b8-4fa6-d06c-18ed77987fe2",
        "colab": {
          "base_uri": "https://localhost:8080/",
          "height": 523
        }
      },
      "source": [
        "# might need to change this\n",
        "!pip install mozanalysis=='2020.4.1'"
      ],
      "execution_count": 0,
      "outputs": [
        {
          "output_type": "stream",
          "text": [
            "Collecting mozanalysis==2020.4.1\n",
            "  Downloading https://files.pythonhosted.org/packages/30/d1/5b5a5adce605f559841f00dd5e39a9e0129cadfd58771953e213095034a0/mozanalysis-2020.4.1-py2.py3-none-any.whl\n",
            "Requirement already satisfied: numpy in /usr/local/lib/python3.6/dist-packages (from mozanalysis==2020.4.1) (1.18.3)\n",
            "Requirement already satisfied: attrs in /usr/local/lib/python3.6/dist-packages (from mozanalysis==2020.4.1) (19.3.0)\n",
            "Requirement already satisfied: google-cloud-bigquery in /usr/local/lib/python3.6/dist-packages (from mozanalysis==2020.4.1) (1.21.0)\n",
            "Requirement already satisfied: pandas in /usr/local/lib/python3.6/dist-packages (from mozanalysis==2020.4.1) (1.0.3)\n",
            "Requirement already satisfied: scipy in /usr/local/lib/python3.6/dist-packages (from mozanalysis==2020.4.1) (1.4.1)\n",
            "Requirement already satisfied: google-resumable-media!=0.4.0,<0.5.0dev,>=0.3.1 in /usr/local/lib/python3.6/dist-packages (from google-cloud-bigquery->mozanalysis==2020.4.1) (0.4.1)\n",
            "Requirement already satisfied: google-cloud-core<2.0dev,>=1.0.3 in /usr/local/lib/python3.6/dist-packages (from google-cloud-bigquery->mozanalysis==2020.4.1) (1.0.3)\n",
            "Requirement already satisfied: protobuf>=3.6.0 in /usr/local/lib/python3.6/dist-packages (from google-cloud-bigquery->mozanalysis==2020.4.1) (3.10.0)\n",
            "Requirement already satisfied: pytz>=2017.2 in /usr/local/lib/python3.6/dist-packages (from pandas->mozanalysis==2020.4.1) (2018.9)\n",
            "Requirement already satisfied: python-dateutil>=2.6.1 in /usr/local/lib/python3.6/dist-packages (from pandas->mozanalysis==2020.4.1) (2.8.1)\n",
            "Requirement already satisfied: six in /usr/local/lib/python3.6/dist-packages (from google-resumable-media!=0.4.0,<0.5.0dev,>=0.3.1->google-cloud-bigquery->mozanalysis==2020.4.1) (1.12.0)\n",
            "Requirement already satisfied: google-api-core<2.0.0dev,>=1.14.0 in /usr/local/lib/python3.6/dist-packages (from google-cloud-core<2.0dev,>=1.0.3->google-cloud-bigquery->mozanalysis==2020.4.1) (1.16.0)\n",
            "Requirement already satisfied: setuptools in /usr/local/lib/python3.6/dist-packages (from protobuf>=3.6.0->google-cloud-bigquery->mozanalysis==2020.4.1) (46.1.3)\n",
            "Requirement already satisfied: requests<3.0.0dev,>=2.18.0 in /usr/local/lib/python3.6/dist-packages (from google-api-core<2.0.0dev,>=1.14.0->google-cloud-core<2.0dev,>=1.0.3->google-cloud-bigquery->mozanalysis==2020.4.1) (2.23.0)\n",
            "Requirement already satisfied: googleapis-common-protos<2.0dev,>=1.6.0 in /usr/local/lib/python3.6/dist-packages (from google-api-core<2.0.0dev,>=1.14.0->google-cloud-core<2.0dev,>=1.0.3->google-cloud-bigquery->mozanalysis==2020.4.1) (1.51.0)\n",
            "Requirement already satisfied: google-auth<2.0dev,>=0.4.0 in /usr/local/lib/python3.6/dist-packages (from google-api-core<2.0.0dev,>=1.14.0->google-cloud-core<2.0dev,>=1.0.3->google-cloud-bigquery->mozanalysis==2020.4.1) (1.7.2)\n",
            "Requirement already satisfied: chardet<4,>=3.0.2 in /usr/local/lib/python3.6/dist-packages (from requests<3.0.0dev,>=2.18.0->google-api-core<2.0.0dev,>=1.14.0->google-cloud-core<2.0dev,>=1.0.3->google-cloud-bigquery->mozanalysis==2020.4.1) (3.0.4)\n",
            "Requirement already satisfied: urllib3!=1.25.0,!=1.25.1,<1.26,>=1.21.1 in /usr/local/lib/python3.6/dist-packages (from requests<3.0.0dev,>=2.18.0->google-api-core<2.0.0dev,>=1.14.0->google-cloud-core<2.0dev,>=1.0.3->google-cloud-bigquery->mozanalysis==2020.4.1) (1.24.3)\n",
            "Requirement already satisfied: certifi>=2017.4.17 in /usr/local/lib/python3.6/dist-packages (from requests<3.0.0dev,>=2.18.0->google-api-core<2.0.0dev,>=1.14.0->google-cloud-core<2.0dev,>=1.0.3->google-cloud-bigquery->mozanalysis==2020.4.1) (2020.4.5.1)\n",
            "Requirement already satisfied: idna<3,>=2.5 in /usr/local/lib/python3.6/dist-packages (from requests<3.0.0dev,>=2.18.0->google-api-core<2.0.0dev,>=1.14.0->google-cloud-core<2.0dev,>=1.0.3->google-cloud-bigquery->mozanalysis==2020.4.1) (2.9)\n",
            "Requirement already satisfied: rsa<4.1,>=3.1.4 in /usr/local/lib/python3.6/dist-packages (from google-auth<2.0dev,>=0.4.0->google-api-core<2.0.0dev,>=1.14.0->google-cloud-core<2.0dev,>=1.0.3->google-cloud-bigquery->mozanalysis==2020.4.1) (4.0)\n",
            "Requirement already satisfied: pyasn1-modules>=0.2.1 in /usr/local/lib/python3.6/dist-packages (from google-auth<2.0dev,>=0.4.0->google-api-core<2.0.0dev,>=1.14.0->google-cloud-core<2.0dev,>=1.0.3->google-cloud-bigquery->mozanalysis==2020.4.1) (0.2.8)\n",
            "Requirement already satisfied: cachetools<3.2,>=2.0.0 in /usr/local/lib/python3.6/dist-packages (from google-auth<2.0dev,>=0.4.0->google-api-core<2.0.0dev,>=1.14.0->google-cloud-core<2.0dev,>=1.0.3->google-cloud-bigquery->mozanalysis==2020.4.1) (3.1.1)\n",
            "Requirement already satisfied: pyasn1>=0.1.3 in /usr/local/lib/python3.6/dist-packages (from rsa<4.1,>=3.1.4->google-auth<2.0dev,>=0.4.0->google-api-core<2.0.0dev,>=1.14.0->google-cloud-core<2.0dev,>=1.0.3->google-cloud-bigquery->mozanalysis==2020.4.1) (0.4.8)\n",
            "Installing collected packages: mozanalysis\n",
            "Successfully installed mozanalysis-2020.4.1\n"
          ],
          "name": "stdout"
        }
      ]
    },
    {
      "cell_type": "code",
      "metadata": {
        "id": "dd-g4VrXAGOq",
        "colab_type": "code",
        "outputId": "ec772d7a-cab1-45b7-abc9-98ee35f0cb08",
        "colab": {
          "base_uri": "https://localhost:8080/",
          "height": 34
        }
      },
      "source": [
        "from google.colab import auth\n",
        "auth.authenticate_user()\n",
        "print('Authenticated')"
      ],
      "execution_count": 0,
      "outputs": [
        {
          "output_type": "stream",
          "text": [
            "Authenticated\n"
          ],
          "name": "stdout"
        }
      ]
    },
    {
      "cell_type": "code",
      "metadata": {
        "id": "9j3G72F2AJg4",
        "colab_type": "code",
        "colab": {}
      },
      "source": [
        "import mozanalysis.metrics.desktop as mmd\n",
        "import mozanalysis.bayesian_stats.binary as mabsbin\n",
        "import mozanalysis.frequentist_stats.bootstrap as mafsboot\n",
        "import pandas as pd\n",
        "from mozanalysis.experiment import Experiment\n",
        "from mozanalysis.bq import BigQueryContext\n",
        "from mozanalysis.metrics import DataSource, Metric, agg_any\n",
        "\n"
      ],
      "execution_count": 0,
      "outputs": []
    },
    {
      "cell_type": "code",
      "metadata": {
        "id": "hBYaKeDl2du4",
        "colab_type": "code",
        "colab": {}
      },
      "source": [
        "# you need to change these things. or, keep them the same and you can see a real-world example.\n",
        "CFR_BUCKET_ID = '\"CFR_IMPORT_PASSWORD\"'\n",
        "CFR_MESSAGE_ID = '\"CFR_EXP_IMPORT_PASSWORD\"'\n",
        "EXPERIMENT_SLUG = 'pref-activity-stream-password-import-cfr-release-74-74-bug-1617735'\n",
        "REFERENCE_BRANCH = 'no-password-cfr'\n",
        "TREATMENT_BRANCH = 'password-cfr'\n",
        "START_DATE = '2020-03-10'\n",
        "NUM_DATES_ENROLLMENT = 15\n",
        "DATASET_ID = 'loines'\n",
        "LAST_DATE_FULL_DATA = '2020-04-08'\n",
        "TIME_SERIES_PERIOD = 'weekly'\n",
        "ANALYSIS_START_DAYS=0\n",
        "ANALYSIS_LENGTH_DAYS=15"
      ],
      "execution_count": 0,
      "outputs": []
    },
    {
      "cell_type": "code",
      "metadata": {
        "id": "sEyrqhbnXmVE",
        "colab_type": "code",
        "colab": {}
      },
      "source": [
        "# because CFR experiments further require a `bucket_id` and `message_id` field to narrow down the cfr campaign of interest,\n",
        "# we have to declare the metrics here, rather than codify them in the MA repo\n",
        "# note also that this will return a bolean yes/no did the client generate the event. \n",
        "# if you care about how many times each client was exposed, you will need to do something else\n",
        "cfr_impression = Metric(\n",
        "    name='cfr_impression',\n",
        "    data_source=cfr,\n",
        "    select_expr=agg_any(\"\"\"event = 'IMPRESSION' \n",
        "    AND bucket_id = {}\n",
        "    AND message_id = {}\"\"\".format(CFR_BUCKET_ID, CFR_MESSAGE_ID))\n",
        ")\n",
        "\n",
        "cfr_enable = Metric(\n",
        "    name='cfr_enable',\n",
        "    data_source=cfr,\n",
        "    select_expr=agg_any(\"\"\"event = 'ENABLE'\n",
        "    AND bucket_id = {}\n",
        "    AND message_id = {}\"\"\".format(CFR_BUCKET_ID, CFR_MESSAGE_ID))\n",
        ")\n",
        "\n",
        "cfr_dismiss = Metric(\n",
        "    name='cfr_dismiss',\n",
        "    data_source=cfr,\n",
        "    select_expr=agg_any(\"\"\"event = 'DISMISS'\n",
        "    AND bucket_id = {}\n",
        "    AND message_id = {}\"\"\".format(CFR_BUCKET_ID, CFR_MESSAGE_ID))\n",
        ")\n"
      ],
      "execution_count": 0,
      "outputs": []
    },
    {
      "cell_type": "code",
      "metadata": {
        "id": "khUrSZ2k-9Vx",
        "colab_type": "code",
        "outputId": "fb7b7578-2ec4-4376-f398-10abc806a519",
        "colab": {
          "base_uri": "https://localhost:8080/",
          "height": 34
        }
      },
      "source": [
        "exp = Experiment(\n",
        "    experiment_slug=EXPERIMENT_SLUG,\n",
        "    start_date=START_DATE,\n",
        "    num_dates_enrollment=NUM_DATES_ENROLLMENT\n",
        ")\n",
        "\n",
        "bq_context = BigQueryContext(\n",
        "    dataset_id=DATASET_ID, \n",
        ")\n",
        "\n",
        "res = exp.get_single_window_data(\n",
        "    bq_context=bq_context,\n",
        "    metric_list=[\n",
        "        mmd.active_hours,\n",
        "        mmd.uri_count,\n",
        "        mmd.search_count,\n",
        "        cfr_impression,\n",
        "        cfr_enable,\n",
        "        cfr_dismiss,\n",
        "    ],\n",
        "    last_date_full_data=LAST_DATE_FULL_DATA,\n",
        "    analysis_start_days=ANALYSIS_START_DAYS,\n",
        "    analysis_length_days=ANALYSIS_LENGTH_DAYS\n",
        ")"
      ],
      "execution_count": 0,
      "outputs": [
        {
          "output_type": "stream",
          "text": [
            "Saved into 2020_04_08_pref_activity_stream_password_import_cfr_release_74_74_bug_1617735_40f7c384bdcb\n"
          ],
          "name": "stdout"
        }
      ]
    },
    {
      "cell_type": "code",
      "metadata": {
        "id": "ApR6jp5e8DrJ",
        "colab_type": "code",
        "outputId": "d57f91f4-3f37-4014-e0eb-fa5542c317e5",
        "colab": {
          "base_uri": "https://localhost:8080/",
          "height": 86
        }
      },
      "source": [
        "# enrollments\n",
        "res.groupby(['branch'])['client_id'].nunique()"
      ],
      "execution_count": 0,
      "outputs": [
        {
          "output_type": "execute_result",
          "data": {
            "text/plain": [
              "branch\n",
              "no-password-cfr    172804\n",
              "password-cfr       173596\n",
              "Name: client_id, dtype: int64"
            ]
          },
          "metadata": {
            "tags": []
          },
          "execution_count": 8
        }
      ]
    },
    {
      "cell_type": "code",
      "metadata": {
        "id": "0L0X3KBH-zPT",
        "colab_type": "code",
        "outputId": "03f43200-8acc-41fb-990e-afc3b893abda",
        "colab": {
          "base_uri": "https://localhost:8080/",
          "height": 486
        }
      },
      "source": [
        "# example of bootstrapped CI on basic engagement metric\n",
        "mafsboot.compare_branches(res, 'active_hours', threshold_quantile=0.9999, ref_branch_label=REFERENCE_BRANCH)"
      ],
      "execution_count": 0,
      "outputs": [
        {
          "output_type": "execute_result",
          "data": {
            "text/plain": [
              "{'comparative': {'password-cfr': rel_uplift    0.005   -0.044567\n",
              "                0.025   -0.039199\n",
              "                0.5     -0.018957\n",
              "                0.975    0.001756\n",
              "                0.995    0.008123\n",
              "                exp     -0.018911\n",
              "  abs_uplift    0.005   -0.195024\n",
              "                0.025   -0.170991\n",
              "                0.5     -0.081822\n",
              "                0.975    0.007507\n",
              "                0.995    0.034654\n",
              "                exp     -0.081856\n",
              "  max_abs_diff  0.95     0.156505\n",
              "  prob_win      NaN      0.036200\n",
              "  dtype: float64}, 'individual': {'no-password-cfr': 0.005    4.231084\n",
              "  0.025    4.249791\n",
              "  0.5      4.314346\n",
              "  0.975    4.382663\n",
              "  0.995    4.403947\n",
              "  mean     4.314682\n",
              "  dtype: float64, 'password-cfr': 0.005    4.159688\n",
              "  0.025    4.175788\n",
              "  0.5      4.232729\n",
              "  0.975    4.290892\n",
              "  0.995    4.310199\n",
              "  mean     4.232826\n",
              "  dtype: float64}}"
            ]
          },
          "metadata": {
            "tags": []
          },
          "execution_count": 27
        }
      ]
    },
    {
      "cell_type": "code",
      "metadata": {
        "id": "Itkg7uWAAOTt",
        "colab_type": "code",
        "outputId": "8e724458-febf-430f-958d-1d86e5237e88",
        "colab": {
          "base_uri": "https://localhost:8080/",
          "height": 143
        }
      },
      "source": [
        "# what are the conversion rates of the CFR message (enables / impressions)\n",
        "# (note that my example data doesn't make sense grouped by branch since the control branch weren't supposed to receive the CFR)\n",
        "res.query(\"cfr_impression == True\")\\\n",
        "  .groupby(['branch'])['client_id']\\\n",
        "  .agg([(\"clients_with_impressions\", lambda client_id: client_id.nunique())])\\\n",
        "  .merge(res.query(\"cfr_enable == True\")\\\n",
        "    .groupby(['branch'])['client_id']\\\n",
        "    .agg([(\"clients_enabled\", lambda client_id: client_id.nunique())]),left_index=True, right_index=True)\\\n",
        "  .assign(enable_rate=lambda x: x['clients_enabled']/x['clients_with_impressions'])"
      ],
      "execution_count": 0,
      "outputs": [
        {
          "output_type": "execute_result",
          "data": {
            "text/html": [
              "<div>\n",
              "<style scoped>\n",
              "    .dataframe tbody tr th:only-of-type {\n",
              "        vertical-align: middle;\n",
              "    }\n",
              "\n",
              "    .dataframe tbody tr th {\n",
              "        vertical-align: top;\n",
              "    }\n",
              "\n",
              "    .dataframe thead th {\n",
              "        text-align: right;\n",
              "    }\n",
              "</style>\n",
              "<table border=\"1\" class=\"dataframe\">\n",
              "  <thead>\n",
              "    <tr style=\"text-align: right;\">\n",
              "      <th></th>\n",
              "      <th>clients_with_impressions</th>\n",
              "      <th>clients_enabled</th>\n",
              "      <th>enable_rate</th>\n",
              "    </tr>\n",
              "    <tr>\n",
              "      <th>branch</th>\n",
              "      <th></th>\n",
              "      <th></th>\n",
              "      <th></th>\n",
              "    </tr>\n",
              "  </thead>\n",
              "  <tbody>\n",
              "    <tr>\n",
              "      <th>no-password-cfr</th>\n",
              "      <td>182</td>\n",
              "      <td>3</td>\n",
              "      <td>0.016484</td>\n",
              "    </tr>\n",
              "    <tr>\n",
              "      <th>password-cfr</th>\n",
              "      <td>55614</td>\n",
              "      <td>530</td>\n",
              "      <td>0.009530</td>\n",
              "    </tr>\n",
              "  </tbody>\n",
              "</table>\n",
              "</div>"
            ],
            "text/plain": [
              "                 clients_with_impressions  clients_enabled  enable_rate\n",
              "branch                                                                 \n",
              "no-password-cfr                       182                3     0.016484\n",
              "password-cfr                        55614              530     0.009530"
            ]
          },
          "metadata": {
            "tags": []
          },
          "execution_count": 25
        }
      ]
    },
    {
      "cell_type": "code",
      "metadata": {
        "id": "FEzZXvZxv0UO",
        "colab_type": "code",
        "outputId": "a34b6a43-27d3-4bba-c3ad-4a8e22c9979b",
        "colab": {
          "base_uri": "https://localhost:8080/",
          "height": 143
        }
      },
      "source": [
        "# what are the dismiss rates of the CFR message (dismisses / impressions)\n",
        "res.query(\"cfr_impression == True\")\\\n",
        "  .groupby(['branch'])['client_id']\\\n",
        "  .agg([(\"clients_with_impressions\", lambda client_id: client_id.nunique())])\\\n",
        "  .merge(res.query(\"cfr_dismiss == True\")\\\n",
        "    .groupby(['branch'])['client_id']\\\n",
        "    .agg([(\"clients_dismissed\", lambda client_id: client_id.nunique())]),left_index=True, right_index=True)\\\n",
        "  .assign(dismiss_rate=lambda x: x['clients_dismissed']/x['clients_with_impressions'])"
      ],
      "execution_count": 0,
      "outputs": [
        {
          "output_type": "execute_result",
          "data": {
            "text/html": [
              "<div>\n",
              "<style scoped>\n",
              "    .dataframe tbody tr th:only-of-type {\n",
              "        vertical-align: middle;\n",
              "    }\n",
              "\n",
              "    .dataframe tbody tr th {\n",
              "        vertical-align: top;\n",
              "    }\n",
              "\n",
              "    .dataframe thead th {\n",
              "        text-align: right;\n",
              "    }\n",
              "</style>\n",
              "<table border=\"1\" class=\"dataframe\">\n",
              "  <thead>\n",
              "    <tr style=\"text-align: right;\">\n",
              "      <th></th>\n",
              "      <th>clients_with_impressions</th>\n",
              "      <th>clients_dismissed</th>\n",
              "      <th>dismiss_rate</th>\n",
              "    </tr>\n",
              "    <tr>\n",
              "      <th>branch</th>\n",
              "      <th></th>\n",
              "      <th></th>\n",
              "      <th></th>\n",
              "    </tr>\n",
              "  </thead>\n",
              "  <tbody>\n",
              "    <tr>\n",
              "      <th>no-password-cfr</th>\n",
              "      <td>182</td>\n",
              "      <td>4</td>\n",
              "      <td>0.021978</td>\n",
              "    </tr>\n",
              "    <tr>\n",
              "      <th>password-cfr</th>\n",
              "      <td>55614</td>\n",
              "      <td>1139</td>\n",
              "      <td>0.020480</td>\n",
              "    </tr>\n",
              "  </tbody>\n",
              "</table>\n",
              "</div>"
            ],
            "text/plain": [
              "                 clients_with_impressions  clients_dismissed  dismiss_rate\n",
              "branch                                                                    \n",
              "no-password-cfr                       182                  4      0.021978\n",
              "password-cfr                        55614               1139      0.020480"
            ]
          },
          "metadata": {
            "tags": []
          },
          "execution_count": 26
        }
      ]
    },
    {
      "cell_type": "code",
      "metadata": {
        "id": "HhIRXEkBwcgf",
        "colab_type": "code",
        "colab": {}
      },
      "source": [
        ""
      ],
      "execution_count": 0,
      "outputs": []
    }
  ]
}