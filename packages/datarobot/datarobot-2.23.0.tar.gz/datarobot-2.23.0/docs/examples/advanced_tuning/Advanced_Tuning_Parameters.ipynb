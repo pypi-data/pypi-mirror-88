{
 "cells": [
  {
   "cell_type": "markdown",
   "metadata": {},
   "source": [
    "# Advanced Model Tuning"
   ]
  },
  {
   "cell_type": "markdown",
   "metadata": {},
   "source": [
    "This notebook explores additional capabilities for tuning models added as a beta feature in the 2.15 release of the DataRobot API (Eureqa models only were available in the 2.13 release).\n",
    "\n",
    "\n",
    "## Prerequisites\n",
    "In order to run this notebook yourself, you will need the following:\n",
    "\n",
    "- This notebook. If you are viewing this in the HTML documentation bundle, you can download all of the example notebooks and supporting materials from [Downloads](../index.rst).\n",
    "- A DataRobot API token. You can find your API token by logging into the DataRobot Web User Interface and looking in your `Profile`.\n",
    "\n",
    "## Preparation\n",
    "\n",
    "Let's start by importing the DataRobot API.  (If you don't have it installed already, you will need to install it in order to run this notebook.)"
   ]
  },
  {
   "cell_type": "code",
   "execution_count": 1,
   "metadata": {},
   "outputs": [],
   "source": [
    "import datarobot as dr\n",
    "from datarobot.enums import AUTOPILOT_MODE"
   ]
  },
  {
   "cell_type": "markdown",
   "metadata": {},
   "source": [
    "## Configure the Python Client\n",
    "Configuring the client requires the following two things:\n",
    "\n",
    "- A DataRobot endpoint - where the API server can be found\n",
    "- A DataRobot API token - a token the server uses to identify and validate the user making API requests\n",
    "\n",
    "The endpoint is usually the URL you would use to log into the DataRobot Web User Interface (e.g., https://app.datarobot.com) with \"/api/v2/\" appended, e.g., (https://app.datarobot.com/api/v2/).\n",
    "\n",
    "You can find your API token by logging into the DataRobot Web User Interface and looking in your `Profile.`\n",
    "\n",
    "The Python client can be configured in several ways. The example we'll use in this notebook is to point to a `yaml` file that has the information. This is a text file containing two lines like this:\n",
    "```yaml\n",
    "endpoint: https://app.datarobot.com/api/v2/\n",
    "token: not-my-real-token\n",
    "```\n",
    "\n",
    "If you want to run this notebook without changes, please save your configuration in a file located under your home directory called `~/.config/datarobot/drconfig.yaml`."
   ]
  },
  {
   "cell_type": "code",
   "execution_count": 2,
   "metadata": {
    "collapsed": true
   },
   "outputs": [
    {
     "data": {
      "text/plain": [
       "<datarobot.rest.RESTClientObject at 0x103acb610>"
      ]
     },
     "execution_count": 2,
     "metadata": {},
     "output_type": "execute_result"
    }
   ],
   "source": [
    "# Initialization with arguments\n",
    "# dr.Client(token='<API TOKEN>', endpoint='https://<YOUR ENDPOINT>/api/v2/')\n",
    "\n",
    "# Initialization with a config file in the same directory as this notebook\n",
    "# dr.Client(config_path='drconfig.yaml')\n",
    "\n",
    "# Initialization with config file located at ~/.config/datarobot/dr.config.yaml\n",
    "dr.Client()"
   ]
  },
  {
   "cell_type": "markdown",
   "metadata": {},
   "source": [
    "## Create Project with features\n",
    "\n",
    "Create a new project using the 10K_diabetes dataset. This dataset contains a binary classification on the target `readmitted`."
   ]
  },
  {
   "cell_type": "code",
   "execution_count": 3,
   "metadata": {},
   "outputs": [
    {
     "name": "stdout",
     "output_type": "stream",
     "text": [
      "Project ID: 5c001c2c6523cd0200c4a035\n"
     ]
    }
   ],
   "source": [
    "url = 'https://s3.amazonaws.com/datarobot_public_datasets/10k_diabetes.xlsx'\n",
    "project = dr.Project.create(url, project_name='10K Advanced Modeling')\n",
    "print('Project ID: {}'.format(project.id))"
   ]
  },
  {
   "cell_type": "markdown",
   "metadata": {},
   "source": [
    "Now, let's set up the project and run Autopilot to get some models."
   ]
  },
  {
   "cell_type": "code",
   "execution_count": 4,
   "metadata": {},
   "outputs": [
    {
     "data": {
      "text/plain": [
       "Project(10K Advanced Modeling)"
      ]
     },
     "execution_count": 4,
     "metadata": {},
     "output_type": "execute_result"
    }
   ],
   "source": [
    "# Increase the worker count to make the project go faster.\n",
    "project.set_worker_count(-1)"
   ]
  },
  {
   "cell_type": "code",
   "execution_count": 5,
   "metadata": {},
   "outputs": [
    {
     "data": {
      "text/plain": [
       "Project(10K Advanced Modeling)"
      ]
     },
     "execution_count": 5,
     "metadata": {},
     "output_type": "execute_result"
    }
   ],
   "source": [
    "project.set_target('readmitted', mode=AUTOPILOT_MODE.FULL_AUTO)"
   ]
  },
  {
   "cell_type": "code",
   "execution_count": 6,
   "metadata": {},
   "outputs": [
    {
     "name": "stdout",
     "output_type": "stream",
     "text": [
      "In progress: 20, queued: 20 (waited: 0s)\n",
      "In progress: 20, queued: 20 (waited: 1s)\n",
      "In progress: 20, queued: 20 (waited: 2s)\n",
      "In progress: 20, queued: 20 (waited: 3s)\n",
      "In progress: 20, queued: 20 (waited: 4s)\n",
      "In progress: 18, queued: 20 (waited: 6s)\n",
      "In progress: 19, queued: 16 (waited: 10s)\n",
      "In progress: 20, queued: 13 (waited: 17s)\n",
      "In progress: 20, queued: 13 (waited: 31s)\n",
      "In progress: 20, queued: 13 (waited: 51s)\n",
      "In progress: 20, queued: 13 (waited: 72s)\n",
      "In progress: 20, queued: 11 (waited: 92s)\n",
      "In progress: 20, queued: 3 (waited: 113s)\n",
      "In progress: 18, queued: 0 (waited: 134s)\n",
      "In progress: 10, queued: 0 (waited: 154s)\n",
      "In progress: 6, queued: 0 (waited: 175s)\n",
      "In progress: 1, queued: 0 (waited: 195s)\n",
      "In progress: 19, queued: 0 (waited: 215s)\n",
      "In progress: 12, queued: 0 (waited: 236s)\n",
      "In progress: 3, queued: 0 (waited: 256s)\n",
      "In progress: 2, queued: 0 (waited: 277s)\n",
      "In progress: 1, queued: 0 (waited: 297s)\n",
      "In progress: 0, queued: 0 (waited: 317s)\n",
      "In progress: 10, queued: 0 (waited: 337s)\n",
      "In progress: 3, queued: 0 (waited: 358s)\n",
      "In progress: 1, queued: 0 (waited: 378s)\n",
      "In progress: 1, queued: 0 (waited: 398s)\n",
      "In progress: 20, queued: 12 (waited: 419s)\n",
      "In progress: 20, queued: 11 (waited: 439s)\n",
      "In progress: 20, queued: 7 (waited: 460s)\n",
      "In progress: 20, queued: 1 (waited: 480s)\n",
      "In progress: 15, queued: 0 (waited: 501s)\n",
      "In progress: 9, queued: 0 (waited: 521s)\n",
      "In progress: 5, queued: 0 (waited: 542s)\n",
      "In progress: 3, queued: 0 (waited: 562s)\n",
      "In progress: 1, queued: 0 (waited: 582s)\n",
      "In progress: 0, queued: 0 (waited: 603s)\n",
      "In progress: 1, queued: 0 (waited: 623s)\n",
      "In progress: 0, queued: 0 (waited: 643s)\n",
      "In progress: 3, queued: 0 (waited: 664s)\n",
      "In progress: 3, queued: 1 (waited: 684s)\n",
      "In progress: 4, queued: 0 (waited: 704s)\n",
      "In progress: 2, queued: 0 (waited: 725s)\n",
      "In progress: 1, queued: 0 (waited: 745s)\n",
      "In progress: 0, queued: 0 (waited: 765s)\n",
      "In progress: 0, queued: 0 (waited: 786s)\n"
     ]
    }
   ],
   "source": [
    "project.wait_for_autopilot()"
   ]
  },
  {
   "cell_type": "markdown",
   "metadata": {},
   "source": [
    "For the purposes of this example, let's look at a Eureqa model."
   ]
  },
  {
   "cell_type": "code",
   "execution_count": 7,
   "metadata": {},
   "outputs": [
    {
     "data": {
      "text/plain": [
       "Model(u'Eureqa Generalized Additive Model Classifier (3000 Generations)')"
      ]
     },
     "execution_count": 7,
     "metadata": {},
     "output_type": "execute_result"
    }
   ],
   "source": [
    "models = project.get_models()\n",
    "model = [\n",
    "    m for m in models\n",
    "    if m.model_type.startswith('Eureqa Generalized Additive Model')\n",
    "][0]\n",
    "model"
   ]
  },
  {
   "cell_type": "markdown",
   "metadata": {},
   "source": [
    "Now that we have a model, we can start an advanced-tuning session based on that model."
   ]
  },
  {
   "cell_type": "code",
   "execution_count": 8,
   "metadata": {},
   "outputs": [],
   "source": [
    "tune = model.start_advanced_tuning_session()"
   ]
  },
  {
   "cell_type": "markdown",
   "metadata": {},
   "source": [
    "Each model's blueprint consists of a series of tasks.  Each task contains some number of tunable parameters.  Let's take a look at the available (tunable) tasks."
   ]
  },
  {
   "cell_type": "code",
   "execution_count": 9,
   "metadata": {},
   "outputs": [
    {
     "data": {
      "text/plain": [
       "[u'Eureqa Generalized Additive Model Classifier (3000 Generations)']"
      ]
     },
     "execution_count": 9,
     "metadata": {},
     "output_type": "execute_result"
    }
   ],
   "source": [
    "tune.get_task_names()"
   ]
  },
  {
   "cell_type": "markdown",
   "metadata": {},
   "source": [
    "Let's drill down into the main Eureqa task, to see what parameters it has available."
   ]
  },
  {
   "cell_type": "code",
   "execution_count": 10,
   "metadata": {},
   "outputs": [
    {
     "data": {
      "text/plain": [
       "[u'EUREQA_building_block__absolute_value',\n",
       " u'EUREQA_building_block__addition',\n",
       " u'EUREQA_building_block__arccosine',\n",
       " u'EUREQA_building_block__arcsine',\n",
       " u'EUREQA_building_block__arctangent',\n",
       " u'EUREQA_building_block__ceiling',\n",
       " u'EUREQA_building_block__complementary_error_function',\n",
       " u'EUREQA_building_block__constant',\n",
       " u'EUREQA_building_block__cosine',\n",
       " u'EUREQA_building_block__division',\n",
       " u'EUREQA_building_block__equal-to',\n",
       " u'EUREQA_building_block__error_function',\n",
       " u'EUREQA_building_block__exponential',\n",
       " u'EUREQA_building_block__factorial',\n",
       " u'EUREQA_building_block__floor',\n",
       " u'EUREQA_building_block__gaussian_function',\n",
       " u'EUREQA_building_block__greater-than',\n",
       " u'EUREQA_building_block__greater-than-or-equal',\n",
       " u'EUREQA_building_block__hyperbolic_cosine',\n",
       " u'EUREQA_building_block__hyperbolic_sine',\n",
       " u'EUREQA_building_block__hyperbolic_tangent',\n",
       " u'EUREQA_building_block__if-then-else',\n",
       " u'EUREQA_building_block__input_variable',\n",
       " u'EUREQA_building_block__integer_constant',\n",
       " u'EUREQA_building_block__inverse_hyperbolic_cosine',\n",
       " u'EUREQA_building_block__inverse_hyperbolic_sine',\n",
       " u'EUREQA_building_block__inverse_hyperbolic_tangent',\n",
       " u'EUREQA_building_block__less-than',\n",
       " u'EUREQA_building_block__less-than-or-equal',\n",
       " u'EUREQA_building_block__logical_and',\n",
       " u'EUREQA_building_block__logical_not',\n",
       " u'EUREQA_building_block__logical_or',\n",
       " u'EUREQA_building_block__logical_xor',\n",
       " u'EUREQA_building_block__logistic_function',\n",
       " u'EUREQA_building_block__maximum',\n",
       " u'EUREQA_building_block__minimum',\n",
       " u'EUREQA_building_block__modulo',\n",
       " u'EUREQA_building_block__multiplication',\n",
       " u'EUREQA_building_block__natural_logarithm',\n",
       " u'EUREQA_building_block__negation',\n",
       " u'EUREQA_building_block__power',\n",
       " u'EUREQA_building_block__round',\n",
       " u'EUREQA_building_block__sign_function',\n",
       " u'EUREQA_building_block__sine',\n",
       " u'EUREQA_building_block__square_root',\n",
       " u'EUREQA_building_block__step_function',\n",
       " u'EUREQA_building_block__subtraction',\n",
       " u'EUREQA_building_block__tangent',\n",
       " u'EUREQA_building_block__two-argument_arctangent',\n",
       " u'EUREQA_experimental__max_expression_ops',\n",
       " u'EUREQA_max_generations',\n",
       " u'EUREQA_num_threads',\n",
       " u'EUREQA_prior_solutions',\n",
       " u'EUREQA_random_seed',\n",
       " u'EUREQA_split_mode',\n",
       " u'EUREQA_sync_migrations',\n",
       " u'EUREQA_target_expression_format',\n",
       " u'EUREQA_target_expression_string',\n",
       " u'EUREQA_training_fraction',\n",
       " u'EUREQA_training_split_expr',\n",
       " u'EUREQA_validation_fraction',\n",
       " u'EUREQA_validation_split_expr',\n",
       " u'EUREQA_weight_expr',\n",
       " u'XGB_base_margin_initialize',\n",
       " u'XGB_colsample_bylevel',\n",
       " u'XGB_colsample_bytree',\n",
       " u'XGB_interval',\n",
       " u'XGB_learning_rate',\n",
       " u'XGB_max_bin',\n",
       " u'XGB_max_delta_step',\n",
       " u'XGB_max_depth',\n",
       " u'XGB_min_child_weight',\n",
       " u'XGB_min_split_loss',\n",
       " u'XGB_missing_value',\n",
       " u'XGB_n_estimators',\n",
       " u'XGB_num_parallel_tree',\n",
       " u'XGB_random_state',\n",
       " u'XGB_reg_alpha',\n",
       " u'XGB_reg_lambda',\n",
       " u'XGB_scale_pos_weight',\n",
       " u'XGB_smooth_interval',\n",
       " u'XGB_subsample',\n",
       " u'XGB_tree_method',\n",
       " u'feature_interaction_max_features',\n",
       " u'feature_interaction_sampling',\n",
       " u'feature_interaction_threshold',\n",
       " u'feature_selection_max_features',\n",
       " u'feature_selection_method',\n",
       " u'feature_selection_min_features',\n",
       " u'feature_selection_threshold',\n",
       " u'highdim_modeling',\n",
       " u'subsample']"
      ]
     },
     "execution_count": 10,
     "metadata": {},
     "output_type": "execute_result"
    }
   ],
   "source": [
    "task_name = 'Eureqa Generalized Additive Model Classifier (3000 Generations)'\n",
    "tune.get_parameter_names(task_name)"
   ]
  },
  {
   "cell_type": "markdown",
   "metadata": {},
   "source": [
    "Eureqa does not search for periodic relationships in the data by default.  Doing so would take time away from other types of modeling, so could reduce model quality if no periodic relationships are present.  But let's say we want to check whether Eureqa can find any strong periodic relationships in the data, by allowing it to consider models that use the mathematical <code>sine()</code> function."
   ]
  },
  {
   "cell_type": "code",
   "execution_count": 11,
   "metadata": {},
   "outputs": [],
   "source": [
    "tune.set_parameter(\n",
    "    task_name=task_name,\n",
    "    parameter_name='EUREQA_building_block__sine',\n",
    "    value=1)"
   ]
  },
  {
   "cell_type": "markdown",
   "metadata": {},
   "source": [
    "More values could be set if desired, using the same approach.\n",
    "\n",
    "Now that some parameters have been set, the tuned model can be run:"
   ]
  },
  {
   "cell_type": "code",
   "execution_count": 12,
   "metadata": {},
   "outputs": [
    {
     "data": {
      "text/plain": [
       "Model(u'Eureqa Generalized Additive Model Classifier (3000 Generations)')"
      ]
     },
     "execution_count": 12,
     "metadata": {},
     "output_type": "execute_result"
    }
   ],
   "source": [
    "job = tune.run()\n",
    "new_model = job.get_result_when_complete()\n",
    "new_model"
   ]
  },
  {
   "cell_type": "markdown",
   "metadata": {},
   "source": [
    "You now have a new model that was run using your specified Advanced Tuning parameters."
   ]
  }
 ],
 "metadata": {
  "kernelspec": {
   "display_name": "Python 2",
   "language": "python",
   "name": "python2"
  },
  "language_info": {
   "codemirror_mode": {
    "name": "ipython",
    "version": 2
   },
   "file_extension": ".py",
   "mimetype": "text/x-python",
   "name": "python",
   "nbconvert_exporter": "python",
   "pygments_lexer": "ipython2",
   "version": "2.7.13"
  }
 },
 "nbformat": 4,
 "nbformat_minor": 1
}
