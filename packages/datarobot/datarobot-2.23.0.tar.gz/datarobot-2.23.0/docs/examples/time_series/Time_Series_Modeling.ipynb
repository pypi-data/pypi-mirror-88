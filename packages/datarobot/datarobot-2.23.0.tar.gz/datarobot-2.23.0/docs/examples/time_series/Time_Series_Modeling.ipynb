{
 "cells": [
  {
   "cell_type": "markdown",
   "metadata": {},
   "source": [
    "# Time Series Modeling\n",
    "\n",
    "## Overview\n",
    "This example provides an introduction to a few of DataRobot's time series modeling capabilities with a sales dataset.\n",
    "Here is a list of things we will touch on during this notebook:\n",
    "\n",
    "- Installing the `datarobot` package\n",
    "- Configuring the client\n",
    "- Creating a project\n",
    "- Denoting known-in-advance features\n",
    "- Specifying a partitioning scheme\n",
    "- Running the automated modeling process\n",
    "- Generating predictions\n",
    "\n",
    "\n",
    "## Prerequisites\n",
    "In order to run this notebook yourself, you will need the following:\n",
    "\n",
    "- This notebook. If you are viewing this in the HTML documentation bundle, you can download all of the example notebooks and supporting materials from [Downloads](../index.rst).\n",
    "- The required datasets, which is included in the same directory as this notebook.\n",
    "- A DataRobot API token. You can find your API token by logging into the DataRobot Web User Interface and looking in your `Profile`.\n",
    "- The `xlrd` Python package is needed for the pandas `read_excel` function. You can install this with `pip install xlrd`.\n",
    "\n",
    "\n",
    "### Installing the `datarobot` package\n",
    "The `datarobot` package is hosted on PyPI. You can install it via:\n",
    "```\n",
    "pip install datarobot\n",
    "```\n",
    "from the command line. Its main dependencies are `numpy` and `pandas`, which could take some time to install on a new system. We highly recommend use of virtualenvs to avoid conflicts with other dependencies in your system-wide python installation."
   ]
  },
  {
   "cell_type": "markdown",
   "metadata": {},
   "source": [
    "## Getting Started\n",
    "This line imports the `datarobot` package. By convention, we always import it with the alias `dr`."
   ]
  },
  {
   "cell_type": "code",
   "execution_count": 1,
   "metadata": {},
   "outputs": [],
   "source": [
    "import datarobot as dr"
   ]
  },
  {
   "cell_type": "markdown",
   "metadata": {},
   "source": [
    "### Other Important Imports\n",
    "We'll use these in this notebook as well. If the previous cell and the following\n",
    "cell both run without issue, you're in good shape."
   ]
  },
  {
   "cell_type": "code",
   "execution_count": 2,
   "metadata": {},
   "outputs": [],
   "source": [
    "import datetime\n",
    "import pandas as pd"
   ]
  },
  {
   "cell_type": "markdown",
   "metadata": {},
   "source": [
    "### Configure the Python Client\n",
    "Configuring the client requires the following two things:\n",
    "\n",
    "- A DataRobot endpoint - where the API server can be found\n",
    "- A DataRobot API token - a token the server uses to identify and validate the user making API requests\n",
    "\n",
    "The endpoint is usually the URL you would use to log into the DataRobot Web User Interface (e.g., https://app.datarobot.com) with \"/api/v2/\" appended, e.g., (https://app.datarobot.com/api/v2/).\n",
    "\n",
    "You can find your API token by logging into the DataRobot Web User Interface and looking in your `Profile.`\n",
    "\n",
    "The Python client can be configured in several ways. The example we'll use in this notebook is to point to a `yaml` file that has the information. This is a text file containing two lines like this:\n",
    "```yaml\n",
    "endpoint: https://app.datarobot.com/api/v2/\n",
    "token: not-my-real-token\n",
    "```\n",
    "\n",
    "If you want to run this notebook without changes, please save your configuration in a file located under your home directory called `~/.config/datarobot/drconfig.yaml`."
   ]
  },
  {
   "cell_type": "code",
   "execution_count": 3,
   "metadata": {},
   "outputs": [
    {
     "data": {
      "text/plain": [
       "<datarobot.rest.RESTClientObject at 0x115b3f850>"
      ]
     },
     "execution_count": 3,
     "metadata": {},
     "output_type": "execute_result"
    }
   ],
   "source": [
    "# Initialization with arguments\n",
    "# dr.Client(token='<API TOKEN>', endpoint='https://<YOUR ENDPOINT>/api/v2/')\n",
    "\n",
    "# Initialization with a config file in the same directory as this notebook\n",
    "# dr.Client(config_path='drconfig.yaml')\n",
    "\n",
    "# Initialization with a config file located at\n",
    "# ~/.config/datarobot/dr.config.yaml\n",
    "dr.Client()"
   ]
  },
  {
   "cell_type": "markdown",
   "metadata": {},
   "source": [
    "## Create the Project\n",
    "Here, we use the `datarobot` package to upload a new file and create a project. The name of the project is optional, but can be helpful when trying to sort among many projects on DataRobot."
   ]
  },
  {
   "cell_type": "code",
   "execution_count": 4,
   "metadata": {},
   "outputs": [
    {
     "name": "stdout",
     "output_type": "stream",
     "text": [
      "Project ID: 5c0086ba784cc602226a9e3f\n"
     ]
    }
   ],
   "source": [
    "filename = 'DR_Demo_Sales_Multiseries_training.xlsx'\n",
    "now = datetime.datetime.now().strftime('%Y-%m-%dT%H:%M')\n",
    "project_name = 'DR_Demo_Sales_Multiseries_{}'.format(now)\n",
    "proj = dr.Project.create(sourcedata=filename,\n",
    "                         project_name=project_name,\n",
    "                         max_wait=3600)\n",
    "print('Project ID: {}'.format(proj.id))"
   ]
  },
  {
   "cell_type": "markdown",
   "metadata": {},
   "source": [
    "## Identify Known-In-Advance Features\n",
    "This dataset has five columns that will always be known-in-advance and available for prediction."
   ]
  },
  {
   "cell_type": "code",
   "execution_count": 5,
   "metadata": {},
   "outputs": [],
   "source": [
    "known_in_advance = ['Marketing', 'Near_Xmas', 'Near_BlackFriday',\n",
    "                    'Holiday', 'DestinationEvent']\n",
    "feature_settings = [dr.FeatureSettings(feat_name,\n",
    "                                       known_in_advance=True)\n",
    "                    for feat_name in known_in_advance]"
   ]
  },
  {
   "cell_type": "markdown",
   "metadata": {},
   "source": [
    "## Create a Partition Specification\n",
    "This problem has a time component to it, and it would be bad practice to train on data from the present and predict on the past. We could manually add a column to the dataset to indicate which rows should be used for training, test, and validation, but it is straightforward to allow DataRobot to do it automatically. This dataset contains sales data from multiple individual stores so we use `multiseries_id_columns` to tell DataRobot there are actually multiple time series in this file and to indicate the column that identifies the series each row belongs to."
   ]
  },
  {
   "cell_type": "code",
   "execution_count": 6,
   "metadata": {},
   "outputs": [],
   "source": [
    "time_partition = dr.DatetimePartitioningSpecification(\n",
    "    datetime_partition_column='Date',\n",
    "    multiseries_id_columns=['Store'],\n",
    "    use_time_series=True,\n",
    "    feature_settings=feature_settings,\n",
    ")"
   ]
  },
  {
   "cell_type": "markdown",
   "metadata": {},
   "source": [
    "## Run the Automated Modeling Process\n",
    "Now we can start the modeling process. The target for this problem is called `Sales` and we let DataRobot automatically select the metric for scoring and comparing models.\n",
    "\n",
    "The `partitioning_method` is used to specify that we would like DataRobot to use the partitioning schema we specified previously\n",
    "\n",
    "Finally, the `worker_count` parameter specifies how many workers should be used for this project. Passing a value of `-1` tells DataRobot to set the worker count to the maximum available to you. You can also specify the exact number of workers to use, but this command will fail if you request more workers than your account allows. If you need more resources than what has been allocated to you, you should think about upgrading your license.\n",
    "\n",
    "The second command provides a URL that can be used to see the project execute on the DataRobot UI.\n",
    "\n",
    "The last command in this cell is just a blocking loop that periodically checks on the project to see if it is done, printing out the number of jobs in progress and in the queue along the way so you can see progress. The automated model exploration process will occasionally add more jobs to the queue, so don't be alarmed if the number of jobs does not strictly decrease over time."
   ]
  },
  {
   "cell_type": "code",
   "execution_count": 7,
   "metadata": {},
   "outputs": [
    {
     "name": "stdout",
     "output_type": "stream",
     "text": [
      "https://staging.datarobot.com/projects/5c0086ba784cc602226a9e3f/models\n",
      "In progress: 20, queued: 1 (waited: 0s)\n",
      "In progress: 20, queued: 1 (waited: 1s)\n",
      "In progress: 20, queued: 1 (waited: 2s)\n",
      "In progress: 20, queued: 1 (waited: 3s)\n",
      "In progress: 20, queued: 1 (waited: 4s)\n",
      "In progress: 20, queued: 1 (waited: 7s)\n",
      "In progress: 20, queued: 1 (waited: 11s)\n",
      "In progress: 20, queued: 1 (waited: 18s)\n",
      "In progress: 19, queued: 0 (waited: 31s)\n",
      "In progress: 19, queued: 0 (waited: 52s)\n",
      "In progress: 17, queued: 0 (waited: 72s)\n",
      "In progress: 16, queued: 0 (waited: 93s)\n",
      "In progress: 15, queued: 0 (waited: 114s)\n",
      "In progress: 13, queued: 0 (waited: 134s)\n",
      "In progress: 12, queued: 0 (waited: 155s)\n",
      "In progress: 12, queued: 0 (waited: 175s)\n",
      "In progress: 10, queued: 0 (waited: 196s)\n",
      "In progress: 9, queued: 0 (waited: 217s)\n",
      "In progress: 7, queued: 0 (waited: 238s)\n",
      "In progress: 6, queued: 0 (waited: 258s)\n",
      "In progress: 6, queued: 0 (waited: 278s)\n",
      "In progress: 2, queued: 0 (waited: 299s)\n",
      "In progress: 1, queued: 0 (waited: 320s)\n",
      "In progress: 8, queued: 0 (waited: 340s)\n",
      "In progress: 8, queued: 0 (waited: 360s)\n",
      "In progress: 8, queued: 0 (waited: 381s)\n",
      "In progress: 6, queued: 0 (waited: 402s)\n",
      "In progress: 5, queued: 0 (waited: 422s)\n",
      "In progress: 5, queued: 0 (waited: 442s)\n",
      "In progress: 3, queued: 0 (waited: 463s)\n",
      "In progress: 3, queued: 0 (waited: 483s)\n",
      "In progress: 3, queued: 0 (waited: 504s)\n",
      "In progress: 1, queued: 0 (waited: 524s)\n",
      "In progress: 0, queued: 0 (waited: 545s)\n",
      "In progress: 1, queued: 0 (waited: 565s)\n",
      "In progress: 1, queued: 0 (waited: 586s)\n",
      "In progress: 1, queued: 0 (waited: 606s)\n",
      "In progress: 1, queued: 0 (waited: 626s)\n",
      "In progress: 1, queued: 0 (waited: 647s)\n",
      "In progress: 1, queued: 0 (waited: 667s)\n",
      "In progress: 0, queued: 0 (waited: 688s)\n",
      "In progress: 1, queued: 0 (waited: 708s)\n",
      "In progress: 1, queued: 0 (waited: 728s)\n",
      "In progress: 1, queued: 0 (waited: 749s)\n",
      "In progress: 1, queued: 0 (waited: 769s)\n",
      "In progress: 1, queued: 0 (waited: 790s)\n",
      "In progress: 1, queued: 0 (waited: 810s)\n",
      "In progress: 1, queued: 0 (waited: 830s)\n",
      "In progress: 1, queued: 0 (waited: 851s)\n",
      "In progress: 1, queued: 0 (waited: 871s)\n",
      "In progress: 1, queued: 0 (waited: 892s)\n",
      "In progress: 1, queued: 0 (waited: 912s)\n",
      "In progress: 0, queued: 0 (waited: 932s)\n"
     ]
    }
   ],
   "source": [
    "proj.set_target(\n",
    "    target='Sales',\n",
    "    partitioning_method=time_partition,\n",
    "    max_wait=3600,\n",
    "    worker_count=-1\n",
    ")\n",
    "\n",
    "print(proj.get_leaderboard_ui_permalink())\n",
    "\n",
    "proj.wait_for_autopilot()"
   ]
  },
  {
   "cell_type": "markdown",
   "metadata": {},
   "source": [
    "## Choose the Best Model\n",
    "First, we take a look at the top of the leaderboard. In this example, we choose the model that has the lowest backtesting error."
   ]
  },
  {
   "cell_type": "code",
   "execution_count": 8,
   "metadata": {},
   "outputs": [
    {
     "data": {
      "text/plain": [
       "[Model(u'AVG Blender'),\n",
       " Model(u'eXtreme Gradient Boosted Trees Regressor with Early Stopping'),\n",
       " Model(u'eXtreme Gradient Boosted Trees Regressor with Early Stopping'),\n",
       " Model(u'eXtreme Gradient Boosted Trees Regressor with Early Stopping'),\n",
       " Model(u'eXtreme Gradient Boosted Trees Regressor with Early Stopping'),\n",
       " Model(u'Light Gradient Boosting on ElasticNet Predictions '),\n",
       " Model(u'eXtreme Gradient Boosting on ElasticNet Predictions'),\n",
       " Model(u'Light Gradient Boosting on ElasticNet Predictions '),\n",
       " Model(u'Ridge Regressor with Forecast Distance Modeling'),\n",
       " Model(u'eXtreme Gradient Boosting on ElasticNet Predictions')]"
      ]
     },
     "execution_count": 8,
     "metadata": {},
     "output_type": "execute_result"
    }
   ],
   "source": [
    "proj.get_models()[:10]"
   ]
  },
  {
   "cell_type": "code",
   "execution_count": 9,
   "metadata": {},
   "outputs": [
    {
     "name": "stdout",
     "output_type": "stream",
     "text": [
      "AVG Blender\n",
      "https://staging.datarobot.com/projects/5c0086ba784cc602226a9e3f/models/5c008a2ce23dec598947eb1d\n"
     ]
    }
   ],
   "source": [
    "lb = proj.get_models()\n",
    "valid_models = [m for m in lb if\n",
    "                m.metrics[proj.metric]['crossValidation']]\n",
    "best_model = min(valid_models,\n",
    "                 key=lambda m: m.metrics[proj.metric]['crossValidation'])\n",
    "\n",
    "print(best_model.model_type)\n",
    "print(best_model.get_leaderboard_ui_permalink())"
   ]
  },
  {
   "cell_type": "markdown",
   "metadata": {},
   "source": [
    "## Generate Predictions\n",
    "This example notebook uses the modeling API to make predictions, which uses modeling servers to score the predictions. If you have dedicated prediction servers, you should use that API for faster performance.\n",
    "\n",
    "### Finish training\n",
    "First, we unlock the holdout data to fully train the best model. The last command in the next cell prints the URL to examine the fully-trained model in the DataRobot UI."
   ]
  },
  {
   "cell_type": "code",
   "execution_count": 10,
   "metadata": {},
   "outputs": [
    {
     "name": "stdout",
     "output_type": "stream",
     "text": [
      "https://staging.datarobot.com/projects/5c0086ba784cc602226a9e3f/models/5c008b29784cc6020c6a9e8c\n"
     ]
    }
   ],
   "source": [
    "proj.unlock_holdout()\n",
    "job = best_model.request_frozen_datetime_model()\n",
    "retrained_model = job.get_result_when_complete()\n",
    "\n",
    "print(retrained_model.get_leaderboard_ui_permalink())"
   ]
  },
  {
   "cell_type": "markdown",
   "metadata": {},
   "source": [
    "### Execute a prediction job\n",
    "First, we find the latest date in the training data. Then, we upload a dataset to predict from, setting the starting `forecast_point` to be the end of the training data. Finally, we execute the prediction request."
   ]
  },
  {
   "cell_type": "code",
   "execution_count": 11,
   "metadata": {},
   "outputs": [],
   "source": [
    "d = pd.read_excel('DR_Demo_Sales_Multiseries_training.xlsx')\n",
    "last_train_date = pd.to_datetime(d['Date']).max()\n",
    "\n",
    "dataset = proj.upload_dataset(\n",
    "    'DR_Demo_Sales_Multiseries_prediction.xlsx',\n",
    "    forecast_point=last_train_date\n",
    ")\n",
    "\n",
    "pred_job = retrained_model.request_predictions(dataset_id=dataset.id)\n",
    "preds = pred_job.get_result_when_complete()\n"
   ]
  },
  {
   "cell_type": "markdown",
   "metadata": {},
   "source": [
    "Each row of the resulting predictions has a `prediction` of sales at a `timestamp` for a particular `series_id` and can be matched to the the uploaded prediction data set through the `row_id` field. The `forecast_distance` is the number of time units after the forecast point for a given row."
   ]
  },
  {
   "cell_type": "code",
   "execution_count": 12,
   "metadata": {},
   "outputs": [
    {
     "data": {
      "text/html": [
       "<div>\n",
       "<style scoped>\n",
       "    .dataframe tbody tr th:only-of-type {\n",
       "        vertical-align: middle;\n",
       "    }\n",
       "\n",
       "    .dataframe tbody tr th {\n",
       "        vertical-align: top;\n",
       "    }\n",
       "\n",
       "    .dataframe thead th {\n",
       "        text-align: right;\n",
       "    }\n",
       "</style>\n",
       "<table border=\"1\" class=\"dataframe\">\n",
       "  <thead>\n",
       "    <tr style=\"text-align: right;\">\n",
       "      <th></th>\n",
       "      <th>forecast_distance</th>\n",
       "      <th>forecast_point</th>\n",
       "      <th>prediction</th>\n",
       "      <th>row_id</th>\n",
       "      <th>series_id</th>\n",
       "      <th>timestamp</th>\n",
       "    </tr>\n",
       "  </thead>\n",
       "  <tbody>\n",
       "    <tr>\n",
       "      <th>0</th>\n",
       "      <td>1</td>\n",
       "      <td>2014-06-14T00:00:00.000000Z</td>\n",
       "      <td>148181.314360</td>\n",
       "      <td>714</td>\n",
       "      <td>Louisville</td>\n",
       "      <td>2014-06-15T00:00:00.000000Z</td>\n",
       "    </tr>\n",
       "    <tr>\n",
       "      <th>1</th>\n",
       "      <td>2</td>\n",
       "      <td>2014-06-14T00:00:00.000000Z</td>\n",
       "      <td>139278.257114</td>\n",
       "      <td>715</td>\n",
       "      <td>Louisville</td>\n",
       "      <td>2014-06-16T00:00:00.000000Z</td>\n",
       "    </tr>\n",
       "    <tr>\n",
       "      <th>2</th>\n",
       "      <td>3</td>\n",
       "      <td>2014-06-14T00:00:00.000000Z</td>\n",
       "      <td>139419.155936</td>\n",
       "      <td>716</td>\n",
       "      <td>Louisville</td>\n",
       "      <td>2014-06-17T00:00:00.000000Z</td>\n",
       "    </tr>\n",
       "    <tr>\n",
       "      <th>3</th>\n",
       "      <td>4</td>\n",
       "      <td>2014-06-14T00:00:00.000000Z</td>\n",
       "      <td>135730.704195</td>\n",
       "      <td>717</td>\n",
       "      <td>Louisville</td>\n",
       "      <td>2014-06-18T00:00:00.000000Z</td>\n",
       "    </tr>\n",
       "    <tr>\n",
       "      <th>4</th>\n",
       "      <td>5</td>\n",
       "      <td>2014-06-14T00:00:00.000000Z</td>\n",
       "      <td>140947.763900</td>\n",
       "      <td>718</td>\n",
       "      <td>Louisville</td>\n",
       "      <td>2014-06-19T00:00:00.000000Z</td>\n",
       "    </tr>\n",
       "  </tbody>\n",
       "</table>\n",
       "</div>"
      ],
      "text/plain": [
       "   forecast_distance               forecast_point     prediction  row_id  \\\n",
       "0                  1  2014-06-14T00:00:00.000000Z  148181.314360     714   \n",
       "1                  2  2014-06-14T00:00:00.000000Z  139278.257114     715   \n",
       "2                  3  2014-06-14T00:00:00.000000Z  139419.155936     716   \n",
       "3                  4  2014-06-14T00:00:00.000000Z  135730.704195     717   \n",
       "4                  5  2014-06-14T00:00:00.000000Z  140947.763900     718   \n",
       "\n",
       "    series_id                    timestamp  \n",
       "0  Louisville  2014-06-15T00:00:00.000000Z  \n",
       "1  Louisville  2014-06-16T00:00:00.000000Z  \n",
       "2  Louisville  2014-06-17T00:00:00.000000Z  \n",
       "3  Louisville  2014-06-18T00:00:00.000000Z  \n",
       "4  Louisville  2014-06-19T00:00:00.000000Z  "
      ]
     },
     "execution_count": 12,
     "metadata": {},
     "output_type": "execute_result"
    }
   ],
   "source": [
    "preds.head()\n",
    "\n",
    "# we could also write predictions out to a file for subsequent analysis\n",
    "# preds.to_csv('DR_Demo_Sales_Multiseries_prediction_output.csv', index=False)"
   ]
  }
 ],
 "metadata": {
  "kernelspec": {
   "display_name": "Python 2",
   "language": "python",
   "name": "python2"
  },
  "language_info": {
   "codemirror_mode": {
    "name": "ipython",
    "version": 2
   },
   "file_extension": ".py",
   "mimetype": "text/x-python",
   "name": "python",
   "nbconvert_exporter": "python",
   "pygments_lexer": "ipython2",
   "version": "2.7.13"
  }
 },
 "nbformat": 4,
 "nbformat_minor": 1
}
