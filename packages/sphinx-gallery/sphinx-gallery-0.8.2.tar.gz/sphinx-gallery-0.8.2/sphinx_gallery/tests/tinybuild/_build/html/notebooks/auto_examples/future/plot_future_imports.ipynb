{
  "cells": [
    {
      "cell_type": "code",
      "execution_count": null,
      "metadata": {
        "collapsed": false
      },
      "outputs": [],
      "source": [
        "%matplotlib inline"
      ]
    },
    {
      "cell_type": "markdown",
      "metadata": {},
      "source": [
        "\n# Test __future__ imports across cells\n\nThis example tests that __future__ imports works across cells.\n"
      ]
    },
    {
      "cell_type": "code",
      "execution_count": null,
      "metadata": {
        "collapsed": false
      },
      "outputs": [],
      "source": [
        "from __future__ import division\nfrom __future__ import print_function\nimport matplotlib"
      ]
    },
    {
      "cell_type": "markdown",
      "metadata": {},
      "source": [
        "Dummy section, with :func:`sphinx_gallery.backreferences.NameFinder` ref.\n\n"
      ]
    },
    {
      "cell_type": "code",
      "execution_count": null,
      "metadata": {
        "collapsed": false
      },
      "outputs": [],
      "source": [
        "assert 3/2 == 1.5\nprint(3/2, end='')\n\n# testing reset of mpl\norig_dpi = 80. if matplotlib.__version__[0] < '2' else 100.\nassert matplotlib.rcParams['figure.dpi'] == orig_dpi\nmatplotlib.rcParams['figure.dpi'] = 90.\nassert matplotlib.rcParams['figure.dpi'] == 90."
      ]
    }
  ],
  "metadata": {
    "kernelspec": {
      "display_name": "Python 3",
      "language": "python",
      "name": "python3"
    },
    "language_info": {
      "codemirror_mode": {
        "name": "ipython",
        "version": 3
      },
      "file_extension": ".py",
      "mimetype": "text/x-python",
      "name": "python",
      "nbconvert_exporter": "python",
      "pygments_lexer": "ipython3",
      "version": "3.7.5"
    }
  },
  "nbformat": 4,
  "nbformat_minor": 0
}