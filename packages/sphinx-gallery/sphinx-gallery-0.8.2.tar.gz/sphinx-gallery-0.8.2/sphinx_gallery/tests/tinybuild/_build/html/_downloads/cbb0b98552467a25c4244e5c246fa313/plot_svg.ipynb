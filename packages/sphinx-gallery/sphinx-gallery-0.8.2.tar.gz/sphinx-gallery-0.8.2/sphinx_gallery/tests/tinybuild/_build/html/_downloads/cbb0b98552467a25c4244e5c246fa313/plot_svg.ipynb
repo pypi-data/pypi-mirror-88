{
  "cells": [
    {
      "cell_type": "code",
      "execution_count": null,
      "metadata": {
        "collapsed": false
      },
      "outputs": [],
      "source": [
        "%matplotlib inline"
      ]
    },
    {
      "cell_type": "markdown",
      "metadata": {},
      "source": [
        "\n# \"SVG\":-`graphics_`\n\nMake sure we can embed SVG graphics.\nUse title that has punctuation marks.\n"
      ]
    },
    {
      "cell_type": "code",
      "execution_count": null,
      "metadata": {
        "collapsed": false
      },
      "outputs": [],
      "source": [
        "import numpy as np\nimport matplotlib.pyplot as plt\n\nfrom local_module import N  # N = 1000\n\nt = np.arange(N) / float(N)\nwin = np.hanning(N)\nplt.figure()\nplt.plot(t, win, color='r')\nplt.text(0, 1, 'svg', size=40, va='top')"
      ]
    }
  ],
  "metadata": {
    "kernelspec": {
      "display_name": "Python 3",
      "language": "python",
      "name": "python3"
    },
    "language_info": {
      "codemirror_mode": {
        "name": "ipython",
        "version": 3
      },
      "file_extension": ".py",
      "mimetype": "text/x-python",
      "name": "python",
      "nbconvert_exporter": "python",
      "pygments_lexer": "ipython3",
      "version": "3.7.5"
    }
  },
  "nbformat": 4,
  "nbformat_minor": 0
}