{
  "cells": [
    {
      "cell_type": "code",
      "execution_count": null,
      "metadata": {
        "collapsed": false
      },
      "outputs": [],
      "source": [
        "%matplotlib inline"
      ]
    },
    {
      "cell_type": "markdown",
      "metadata": {},
      "source": [
        "\n# Testing future statements across examples\n\nThis example runs after plot_future_statements.py (alphabetical ordering within\nsubsection) and should be unaffected by the __future__ import in\nplot_future_statements.py.\n"
      ]
    },
    {
      "cell_type": "code",
      "execution_count": null,
      "metadata": {
        "collapsed": false
      },
      "outputs": [],
      "source": [
        "# sphinx_gallery_thumbnail_path = '_static_nonstandard/demo.png'\n\nimport sys\nfrom sphinx_gallery.sorting import ExplicitOrder\n\nExplicitOrder([])  # must actually be used to become a backref target!\n\nPY2 = sys.version_info[0] == 2\n\nexpected = 1 if PY2 else 1.5\nassert 3/2 == expected\n\n# Make sure print is a keyword not a function. Note: need to use exec because\n# otherwise you get a SyntaxError on Python 3\nif PY2:\n    exec('print \"test\"')"
      ]
    }
  ],
  "metadata": {
    "kernelspec": {
      "display_name": "Python 3",
      "language": "python",
      "name": "python3"
    },
    "language_info": {
      "codemirror_mode": {
        "name": "ipython",
        "version": 3
      },
      "file_extension": ".py",
      "mimetype": "text/x-python",
      "name": "python",
      "nbconvert_exporter": "python",
      "pygments_lexer": "ipython3",
      "version": "3.7.5"
    }
  },
  "nbformat": 4,
  "nbformat_minor": 0
}