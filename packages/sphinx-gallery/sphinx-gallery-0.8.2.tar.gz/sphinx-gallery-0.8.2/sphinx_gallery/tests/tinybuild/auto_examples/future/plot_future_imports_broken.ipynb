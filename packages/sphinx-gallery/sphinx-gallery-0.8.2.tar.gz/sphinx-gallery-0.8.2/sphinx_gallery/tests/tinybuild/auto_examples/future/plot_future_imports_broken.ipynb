{
  "cells": [
    {
      "cell_type": "code",
      "execution_count": null,
      "metadata": {
        "collapsed": false
      },
      "outputs": [],
      "source": [
        "%matplotlib inline"
      ]
    },
    {
      "cell_type": "markdown",
      "metadata": {},
      "source": [
        "\n# Test without __future__ imports\n\nTest that __future__ imports inside sphinx_gallery modules does not affect the\nparsing of this script.\n"
      ]
    },
    {
      "cell_type": "code",
      "execution_count": null,
      "metadata": {
        "collapsed": false
      },
      "outputs": [],
      "source": [
        "import sys\nPY3_OR_LATER = sys.version_info[0] >= 3\n\n# SyntaxError on Python 2\nprint(3/2, end='')\n\n# Need to make this example fail on Python 3 as well (currently no way to say\n# that an example is expected to fail only on Python 2)\nif PY3_OR_LATER:\n    raise RuntimeError('Forcing this example to fail on Python 3')"
      ]
    }
  ],
  "metadata": {
    "kernelspec": {
      "display_name": "Python 3",
      "language": "python",
      "name": "python3"
    },
    "language_info": {
      "codemirror_mode": {
        "name": "ipython",
        "version": 3
      },
      "file_extension": ".py",
      "mimetype": "text/x-python",
      "name": "python",
      "nbconvert_exporter": "python",
      "pygments_lexer": "ipython3",
      "version": "3.7.5"
    }
  },
  "nbformat": 4,
  "nbformat_minor": 0
}