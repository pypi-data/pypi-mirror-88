{
 "cells": [
  {
   "cell_type": "markdown",
   "metadata": {
    "slideshow": {
     "slide_type": "notes"
    }
   },
   "source": [
    "# Things to keep in mind\n",
    "* Remember, the teaching staff already has full access to your code, so there is no need to focus on small implementation details.\n",
    "    * DO NOT include snippets of your actual library code in your presentation!\n",
    "\n",
    "* Pseudo-code and flowcharts can be very useful to give the big idea of how your package works.\n",
    "* Library demos can be very useful, but be careful. If they don't work well then you'll waste all your video time.\n",
    "* You should provide sufficient background for the project.\n",
    "    * Don't overdo the mathematical details for automatic differentation. We are already familiar with them.\n",
    "    * Instead, provide the big ideas behind automatic differentation and the motivation for using it.\n",
    "* Spend a fair bit of time on your new feature.\n",
    "* You may need to present some mathematical background to get your audience oriented, but this will depend on your extension.\n",
    "* Be sure to conclude with future work and possible additional extensions.\n"
   ]
  },
  {
   "cell_type": "markdown",
   "metadata": {
    "slideshow": {
     "slide_type": "slide"
    }
   },
   "source": [
    "# West Coast AD\n",
    "\n",
    "\n",
    "**CS107 Final Project - Group 14**\n",
    "\n",
    "\n",
    "\n",
    "\n",
    "Anita Mahinpei, Erik Adames, Lekshmi Santhosh, Yingchen Liu"
   ]
  },
  {
   "cell_type": "markdown",
   "metadata": {
    "slideshow": {
     "slide_type": "slide"
    }
   },
   "source": [
    "# Agenda\n",
    "\n",
    "### Introduction\n",
    "* Background\n",
    "* Automatic Differentiation\n",
    "\n",
    "### Intall & Usage\n",
    "* Implementation details\n",
    "* Software organization\n",
    "* How to use\n",
    "\n",
    "### Extension: Optimizer\n",
    "* Implementation details\n",
    "* How to use Optimizer\n",
    "\n",
    "### Future work"
   ]
  },
  {
   "cell_type": "markdown",
   "metadata": {
    "slideshow": {
     "slide_type": "slide"
    }
   },
   "source": [
    "# Introduction"
   ]
  },
  {
   "cell_type": "markdown",
   "metadata": {
    "slideshow": {
     "slide_type": "subslide"
    }
   },
   "source": [
    "## Automatic Differentiation\n",
    "\n",
    "Automatic differentiation is a set of techniques to numerically evaluate the derivative of a function specified by a computer program. \n",
    "\n",
    "### Advantage:\n",
    "1. Avoids problems of the symbolic method\n",
    "    * the application of the rules of differentiation\n",
    "2. Evaluation are carried out in parallel \n",
    "    * during the whole process, only numbers have to be manipulated.\n",
    "3. Requires only small extra storage\n",
    "4. Running times are short"
   ]
  },
  {
   "cell_type": "markdown",
   "metadata": {
    "slideshow": {
     "slide_type": "subslide"
    }
   },
   "source": [
    "## Background\n",
    "\n",
    "Automatic differentiation assumes that we are working with a differentiable function composed of a finite number of elementary functions and operations with known symbolic derivatives. The table below shows some examples of elementary functions and their respective derivatives:\n",
    "\n",
    "| Elementary Function    | Derivative              |\n",
    "| :--------------------: | :----------------------:|\n",
    "| $x^3$                  | $3 x^{2}$               | \n",
    "| $e^x$                  | $e^x$                   |\n",
    "| $\\sin(x)$              | $\\cos(x)$               |\n",
    "| $\\ln(x)$               | $\\frac{1}{x}$           |\n",
    "\n",
    "Given a list of elementary functions and their corresponding derivatives, the automatic differentiation process involves the evaluations of the derivatives of complex compositions of these elementary functions through repeated applications of the chain rule:\n",
    "\n",
    "$ \\frac{\\partial}{\\partial x}\\left[f_1 \\circ (f_2 \\circ \\ldots (f_{n-1} \\circ f_n)) \\right] = \n",
    "\\frac{\\partial f_1}{\\partial f_2} \\frac{\\partial f_2}{\\partial f_3} \\ldots \\frac{\\partial f_{n-1}}{\\partial f_n}\\frac{\\partial f_n}{\\partial x}$\n",
    "\n",
    "This process can be applied to the evaluation of partial derivatives as well thus allowing for computing derivatives of multivariate and vector-valued functions.\n",
    " "
   ]
  },
  {
   "cell_type": "markdown",
   "metadata": {
    "slideshow": {
     "slide_type": "slide"
    }
   },
   "source": [
    "## Install & Usage"
   ]
  },
  {
   "cell_type": "markdown",
   "metadata": {
    "slideshow": {
     "slide_type": "subslide"
    }
   },
   "source": [
    "## Implementation details"
   ]
  },
  {
   "cell_type": "markdown",
   "metadata": {
    "slideshow": {
     "slide_type": "subslide"
    }
   },
   "source": [
    "## Software organization"
   ]
  },
  {
   "cell_type": "markdown",
   "metadata": {
    "slideshow": {
     "slide_type": "subslide"
    }
   },
   "source": [
    "## How to use"
   ]
  },
  {
   "cell_type": "markdown",
   "metadata": {
    "slideshow": {
     "slide_type": "subslide"
    }
   },
   "source": [
    "### Installation with GitHub\n",
    "1. Clone the package repository:\n",
    "\n",
    "    `git clone https://github.com/West-Coast-Differentiators/cs107-FinalProject.git`\n",
    "\n",
    "2. If you do not have Anaconda installed, follow the instructions on their [website](https://deepnote.com/project/07e48b43-3d96-4960-83bf-911527fb55ea?cellId=00002-de6540a6-d222-4d8b-b063-a392b8a9b7d4#/milestone2-2.ipynb) to install it.\n",
    "3. Create a new conda environment:\n",
    "\n",
    "    `conda create --name <env_name> python=3.8` \n",
    "\n",
    "4. Activate your virtual environment:\n",
    "\n",
    "    `conda activate <env_name>`\n",
    "5. Navigate to the base repository:\n",
    "\n",
    "    `cd cs107-FinalProject`\n",
    "\n",
    "6. Install the package and its requirements:\n",
    "\n",
    "    `pip install ./`\n",
    "\n",
    "7. You may check that the installation was successful by running the package tests:\n",
    "\n",
    "    `python -m unittest discover -s WestCoastAD/test -p '*_test.py'`\n"
   ]
  },
  {
   "cell_type": "markdown",
   "metadata": {
    "slideshow": {
     "slide_type": "subslide"
    }
   },
   "source": [
    "### Using the Package\n",
    "\n",
    "Having installed the package, users can evaluate derivatives of functions written in terms of WestCoastAD variables. For instance, the derivatives of $f(x) = x^3+ 2x^2$ and $f(x) = sin(x) + cos(x)$ can be evaluated as follows:"
   ]
  },
  {
   "cell_type": "code",
   "execution_count": 10,
   "metadata": {
    "slideshow": {
     "slide_type": "fragment"
    }
   },
   "outputs": [
    {
     "name": "stdout",
     "output_type": "stream",
     "text": [
      "function: f = x**3 + 2* x**2\n",
      "Value: 16\n",
      "Derivative: 20\n"
     ]
    }
   ],
   "source": [
    "# 1) import WestCoastAD\n",
    "from WestCoastAD import Variable\n",
    "# 2) define the variables of your function as WestCoastAD variables \n",
    "#    with the value at which you want to evaluate the derivative and \n",
    "#    a derivative seed value\n",
    "x = Variable(value=2, derivative_seed=1) \n",
    "# 3) define your function in terms of the WestCoastAD variable objects\n",
    "f = x**3 + 2* x**2\n",
    "# 4) access the computed derivative and the value of the function \n",
    "print('function: f = x**3 + 2* x**2')\n",
    "print('Value:', f.value)\n",
    "print('Derivative:', f.derivative)\n"
   ]
  },
  {
   "cell_type": "markdown",
   "metadata": {
    "slideshow": {
     "slide_type": "subslide"
    }
   },
   "source": [
    "For other mathematical operations that are not part of the standard python library, the function could be called with numpy or directly on the variable itself. "
   ]
  },
  {
   "cell_type": "code",
   "execution_count": 11,
   "metadata": {
    "slideshow": {
     "slide_type": "fragment"
    }
   },
   "outputs": [
    {
     "name": "stdout",
     "output_type": "stream",
     "text": [
      "function: f = x.sin() + np.cos(x)\n",
      "Value: 1.0\n",
      "Derivative: -0.9999999999999999\n"
     ]
    }
   ],
   "source": [
    "import numpy as np\n",
    "x = Variable(value=np.pi/2, derivative_seed=1)\n",
    "# 6) As an example, below we directly call sin on the variable and use numpy to call cos\n",
    "f = x.sin() + np.cos(x)\n",
    "print('function: f = x.sin() + np.cos(x)')\n",
    "print('Value:', f.value)\n",
    "print('Derivative:', f.derivative)"
   ]
  },
  {
   "cell_type": "markdown",
   "metadata": {
    "slideshow": {
     "slide_type": "subslide"
    }
   },
   "source": [
    "Passing an array to bind variables"
   ]
  },
  {
   "cell_type": "code",
   "execution_count": 12,
   "metadata": {
    "slideshow": {
     "slide_type": "fragment"
    }
   },
   "outputs": [
    {
     "name": "stdout",
     "output_type": "stream",
     "text": [
      "function: f =x**2*y + np.sin(x-y)\n",
      "Value: 16.14112000805987\n",
      "Derivative: [ 7.0100075 16.9899925]\n"
     ]
    }
   ],
   "source": [
    "import numpy as np\n",
    "x = Variable(4, np.array([1, 0]))\n",
    "y = Variable(1, np.array([0, 1]))\n",
    "f = x**2*y + np.sin(x-y)\n",
    "print('function: f =x**2*y + np.sin(x-y)')\n",
    "print('Value:', f.value)\n",
    "print('Derivative:', f.derivative)"
   ]
  },
  {
   "cell_type": "markdown",
   "metadata": {
    "slideshow": {
     "slide_type": "slide"
    }
   },
   "source": [
    "## Extension: Optimizer"
   ]
  },
  {
   "cell_type": "markdown",
   "metadata": {
    "slideshow": {
     "slide_type": "subslide"
    }
   },
   "source": [
    "### Implementation details\n"
   ]
  },
  {
   "cell_type": "markdown",
   "metadata": {
    "slideshow": {
     "slide_type": "subslide"
    }
   },
   "source": [
    "### How to use Optimizer"
   ]
  },
  {
   "cell_type": "markdown",
   "metadata": {
    "slideshow": {
     "slide_type": "slide"
    }
   },
   "source": [
    "## Future work"
   ]
  }
 ],
 "metadata": {
  "celltoolbar": "Slideshow",
  "kernelspec": {
   "display_name": "Python 3",
   "language": "python",
   "name": "python3"
  },
  "language_info": {
   "codemirror_mode": {
    "name": "ipython",
    "version": 3
   },
   "file_extension": ".py",
   "mimetype": "text/x-python",
   "name": "python",
   "nbconvert_exporter": "python",
   "pygments_lexer": "ipython3",
   "version": "3.8.3"
  }
 },
 "nbformat": 4,
 "nbformat_minor": 4
}
