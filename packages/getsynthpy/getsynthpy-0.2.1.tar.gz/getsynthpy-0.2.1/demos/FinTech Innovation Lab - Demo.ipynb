{
 "cells": [
  {
   "cell_type": "code",
   "execution_count": null,
   "metadata": {},
   "outputs": [],
   "source": [
    "from demo_utils import load_users_data, clean_up, fancy_dataframe, pretty_print, Tracker"
   ]
  },
  {
   "cell_type": "markdown",
   "metadata": {},
   "source": [
    "# Synth: the fastest way to get synthetic data to your engineers"
   ]
  },
  {
   "cell_type": "code",
   "execution_count": null,
   "metadata": {},
   "outputs": [],
   "source": [
    "users_data = await load_users_data()"
   ]
  },
  {
   "cell_type": "code",
   "execution_count": null,
   "metadata": {},
   "outputs": [],
   "source": [
    "fancy_dataframe(users_data).head()"
   ]
  },
  {
   "cell_type": "markdown",
   "metadata": {},
   "source": [
    "## Synthesize your data in two steps"
   ]
  },
  {
   "cell_type": "markdown",
   "metadata": {},
   "source": [
    "### Step 1: Upload the raw sensitive data to the persistent process\n",
    "\n",
    "- This is done by someone in the organization who is highly credentialed, but here is the key: it is done only **once**!\n",
    "- This lets `Synth` do two things:\n",
    "  1. Scan the data and automagically flag bits and pieces as sensitive: this makes sure the synthetic data is anonymized.\n",
    "  2. Build an ML-driven model of the data: this makes sure the synthetic data is highly representative of the original."
   ]
  },
  {
   "cell_type": "code",
   "execution_count": null,
   "metadata": {},
   "outputs": [],
   "source": [
    "from synthpy import Synth\n",
    "synth = Synth()"
   ]
  },
  {
   "cell_type": "code",
   "execution_count": null,
   "metadata": {},
   "outputs": [],
   "source": [
    "with Tracker(\"Synth is working...\"):\n",
    "    await synth.ingest.put_documents(\n",
    "        namespace=\"dev\", \n",
    "        collection=\"users\", \n",
    "        batch=users_data\n",
    "    )"
   ]
  },
  {
   "cell_type": "markdown",
   "metadata": {},
   "source": [
    "### Step 2: Collect as many synthetic documents as you need, whenever you need it\n",
    "- This is done by any engineer in my team. Because the data is anonymized, it is safe to move around.\n",
    "- `Synth` is built **API-first**: it can be integrated in any testing suite or environment in a jiffy."
   ]
  },
  {
   "cell_type": "code",
   "execution_count": null,
   "metadata": {
    "scrolled": false
   },
   "outputs": [],
   "source": [
    "synthesized_data = await synth.generate.get_documents(\n",
    "    namespace=\"dev\", \n",
    "    collection=\"users\",\n",
    "    size=10\n",
    ")\n",
    "fancy_dataframe(synthesized_data).head()"
   ]
  },
  {
   "cell_type": "markdown",
   "metadata": {},
   "source": [
    "# How did it do that??"
   ]
  },
  {
   "cell_type": "code",
   "execution_count": null,
   "metadata": {},
   "outputs": [],
   "source": [
    "schema = await synth.namespace.get_schema(\n",
    "    namespace=\"dev\", \n",
    "    collection=\"users\"\n",
    ")\n",
    "pretty_print(schema)"
   ]
  },
  {
   "cell_type": "code",
   "execution_count": null,
   "metadata": {},
   "outputs": [],
   "source": []
  }
 ],
 "metadata": {
  "kernelspec": {
   "display_name": "Python 3 (OpenQuery)",
   "language": "python",
   "name": "python3"
  },
  "language_info": {
   "codemirror_mode": {
    "name": "ipython",
    "version": 3
   },
   "file_extension": ".py",
   "mimetype": "text/x-python",
   "name": "python",
   "nbconvert_exporter": "python",
   "pygments_lexer": "ipython3",
   "version": "3.7.6"
  },
  "name": "demo.ipynb"
 },
 "nbformat": 4,
 "nbformat_minor": 4
}
