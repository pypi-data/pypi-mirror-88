{
 "cells": [
  {
   "cell_type": "markdown",
   "metadata": {},
   "source": [
    "# Install and import the package"
   ]
  },
  {
   "cell_type": "code",
   "execution_count": 18,
   "metadata": {
    "collapsed": true
   },
   "outputs": [
    {
     "name": "stdout",
     "output_type": "stream",
     "text": [
      "Requirement already up-to-date: thorondor in c:\\programdata\\anaconda3\\lib\\site-packages (0.3.22)\n",
      "Requirement already satisfied, skipping upgrade: corner in c:\\programdata\\anaconda3\\lib\\site-packages (from thorondor) (2.1.0)\n",
      "Requirement already satisfied, skipping upgrade: xlrd in c:\\programdata\\anaconda3\\lib\\site-packages (from thorondor) (1.2.0)\n",
      "Requirement already satisfied, skipping upgrade: matplotlib in c:\\programdata\\anaconda3\\lib\\site-packages (from thorondor) (3.3.2)\n",
      "Requirement already satisfied, skipping upgrade: lmfit in c:\\programdata\\anaconda3\\lib\\site-packages (from thorondor) (1.0.1)\n",
      "Requirement already satisfied, skipping upgrade: ipython in c:\\programdata\\anaconda3\\lib\\site-packages (from thorondor) (7.19.0)\n",
      "Requirement already satisfied, skipping upgrade: tables in c:\\programdata\\anaconda3\\lib\\site-packages (from thorondor) (3.6.1)\n",
      "Requirement already satisfied, skipping upgrade: emcee in c:\\programdata\\anaconda3\\lib\\site-packages (from thorondor) (3.0.2)\n",
      "Requirement already satisfied, skipping upgrade: numdifftools in c:\\programdata\\anaconda3\\lib\\site-packages (from thorondor) (0.9.39)\n",
      "Requirement already satisfied, skipping upgrade: scipy in c:\\programdata\\anaconda3\\lib\\site-packages (from thorondor) (1.5.2)\n",
      "Requirement already satisfied, skipping upgrade: pandas in c:\\programdata\\anaconda3\\lib\\site-packages (from thorondor) (1.1.3)\n",
      "Requirement already satisfied, skipping upgrade: ipywidgets in c:\\programdata\\anaconda3\\lib\\site-packages (from thorondor) (7.5.1)\n",
      "Requirement already satisfied, skipping upgrade: numpy in c:\\programdata\\anaconda3\\lib\\site-packages (from thorondor) (1.19.2)\n",
      "Requirement already satisfied, skipping upgrade: setuptools-scm in c:\\programdata\\anaconda3\\lib\\site-packages (from corner->thorondor) (4.1.2)\n",
      "Requirement already satisfied, skipping upgrade: wheel in c:\\programdata\\anaconda3\\lib\\site-packages (from corner->thorondor) (0.35.1)\n",
      "Requirement already satisfied, skipping upgrade: setuptools>=40.6.0 in c:\\programdata\\anaconda3\\lib\\site-packages (from corner->thorondor) (50.3.1.post20201107)\n",
      "Requirement already satisfied, skipping upgrade: pyparsing!=2.0.4,!=2.1.2,!=2.1.6,>=2.0.3 in c:\\programdata\\anaconda3\\lib\\site-packages (from matplotlib->thorondor) (2.4.7)\n",
      "Requirement already satisfied, skipping upgrade: python-dateutil>=2.1 in c:\\programdata\\anaconda3\\lib\\site-packages (from matplotlib->thorondor) (2.8.1)\n",
      "Requirement already satisfied, skipping upgrade: certifi>=2020.06.20 in c:\\programdata\\anaconda3\\lib\\site-packages (from matplotlib->thorondor) (2020.6.20)\n",
      "Requirement already satisfied, skipping upgrade: cycler>=0.10 in c:\\programdata\\anaconda3\\lib\\site-packages (from matplotlib->thorondor) (0.10.0)\n",
      "Requirement already satisfied, skipping upgrade: pillow>=6.2.0 in c:\\programdata\\anaconda3\\lib\\site-packages (from matplotlib->thorondor) (8.0.1)\n",
      "Requirement already satisfied, skipping upgrade: kiwisolver>=1.0.1 in c:\\programdata\\anaconda3\\lib\\site-packages (from matplotlib->thorondor) (1.3.0)\n",
      "Requirement already satisfied, skipping upgrade: uncertainties>=3.0.1 in c:\\programdata\\anaconda3\\lib\\site-packages (from lmfit->thorondor) (3.1.5)\n",
      "Requirement already satisfied, skipping upgrade: asteval>=0.9.16 in c:\\programdata\\anaconda3\\lib\\site-packages (from lmfit->thorondor) (0.9.21)\n",
      "Requirement already satisfied, skipping upgrade: jedi>=0.10 in c:\\programdata\\anaconda3\\lib\\site-packages (from ipython->thorondor) (0.17.1)\n",
      "Requirement already satisfied, skipping upgrade: decorator in c:\\programdata\\anaconda3\\lib\\site-packages (from ipython->thorondor) (4.4.2)\n",
      "Requirement already satisfied, skipping upgrade: pygments in c:\\programdata\\anaconda3\\lib\\site-packages (from ipython->thorondor) (2.7.2)\n",
      "Requirement already satisfied, skipping upgrade: pickleshare in c:\\programdata\\anaconda3\\lib\\site-packages (from ipython->thorondor) (0.7.5)\n",
      "Requirement already satisfied, skipping upgrade: colorama; sys_platform == \"win32\" in c:\\programdata\\anaconda3\\lib\\site-packages (from ipython->thorondor) (0.4.4)\n",
      "Requirement already satisfied, skipping upgrade: backcall in c:\\programdata\\anaconda3\\lib\\site-packages (from ipython->thorondor) (0.2.0)\n",
      "Requirement already satisfied, skipping upgrade: prompt-toolkit!=3.0.0,!=3.0.1,<3.1.0,>=2.0.0 in c:\\programdata\\anaconda3\\lib\\site-packages (from ipython->thorondor) (3.0.8)\n",
      "Requirement already satisfied, skipping upgrade: traitlets>=4.2 in c:\\programdata\\anaconda3\\lib\\site-packages (from ipython->thorondor) (5.0.5)\n",
      "Requirement already satisfied, skipping upgrade: numexpr>=2.6.2 in c:\\programdata\\anaconda3\\lib\\site-packages (from tables->thorondor) (2.7.1)\n",
      "Requirement already satisfied, skipping upgrade: pytz>=2017.2 in c:\\programdata\\anaconda3\\lib\\site-packages (from pandas->thorondor) (2020.1)\n",
      "Requirement already satisfied, skipping upgrade: ipykernel>=4.5.1 in c:\\programdata\\anaconda3\\lib\\site-packages (from ipywidgets->thorondor) (5.3.4)\n",
      "Requirement already satisfied, skipping upgrade: widgetsnbextension~=3.5.0 in c:\\programdata\\anaconda3\\lib\\site-packages (from ipywidgets->thorondor) (3.5.1)\n",
      "Requirement already satisfied, skipping upgrade: nbformat>=4.2.0 in c:\\programdata\\anaconda3\\lib\\site-packages (from ipywidgets->thorondor) (5.0.8)\n",
      "Requirement already satisfied, skipping upgrade: six>=1.5 in c:\\programdata\\anaconda3\\lib\\site-packages (from python-dateutil>=2.1->matplotlib->thorondor) (1.15.0)\n",
      "Requirement already satisfied, skipping upgrade: future in c:\\programdata\\anaconda3\\lib\\site-packages (from uncertainties>=3.0.1->lmfit->thorondor) (0.18.2)\n",
      "Requirement already satisfied, skipping upgrade: parso<0.8.0,>=0.7.0 in c:\\programdata\\anaconda3\\lib\\site-packages (from jedi>=0.10->ipython->thorondor) (0.7.0)\n",
      "Requirement already satisfied, skipping upgrade: wcwidth in c:\\programdata\\anaconda3\\lib\\site-packages (from prompt-toolkit!=3.0.0,!=3.0.1,<3.1.0,>=2.0.0->ipython->thorondor) (0.2.5)\n",
      "Requirement already satisfied, skipping upgrade: ipython-genutils in c:\\programdata\\anaconda3\\lib\\site-packages (from traitlets>=4.2->ipython->thorondor) (0.2.0)\n",
      "Requirement already satisfied, skipping upgrade: tornado>=4.2 in c:\\programdata\\anaconda3\\lib\\site-packages (from ipykernel>=4.5.1->ipywidgets->thorondor) (6.0.4)\n",
      "Requirement already satisfied, skipping upgrade: jupyter-client in c:\\programdata\\anaconda3\\lib\\site-packages (from ipykernel>=4.5.1->ipywidgets->thorondor) (6.1.7)\n",
      "Requirement already satisfied, skipping upgrade: notebook>=4.4.1 in c:\\programdata\\anaconda3\\lib\\site-packages (from widgetsnbextension~=3.5.0->ipywidgets->thorondor) (6.1.4)\n",
      "Requirement already satisfied, skipping upgrade: jsonschema!=2.5.0,>=2.4 in c:\\programdata\\anaconda3\\lib\\site-packages (from nbformat>=4.2.0->ipywidgets->thorondor) (3.2.0)\n",
      "Requirement already satisfied, skipping upgrade: jupyter-core in c:\\programdata\\anaconda3\\lib\\site-packages (from nbformat>=4.2.0->ipywidgets->thorondor) (4.6.3)\n",
      "Requirement already satisfied, skipping upgrade: pyzmq>=13 in c:\\programdata\\anaconda3\\lib\\site-packages (from jupyter-client->ipykernel>=4.5.1->ipywidgets->thorondor) (19.0.2)\n",
      "Requirement already satisfied, skipping upgrade: argon2-cffi in c:\\programdata\\anaconda3\\lib\\site-packages (from notebook>=4.4.1->widgetsnbextension~=3.5.0->ipywidgets->thorondor) (20.1.0)\n",
      "Requirement already satisfied, skipping upgrade: nbconvert in c:\\programdata\\anaconda3\\lib\\site-packages (from notebook>=4.4.1->widgetsnbextension~=3.5.0->ipywidgets->thorondor) (6.0.7)\n",
      "Requirement already satisfied, skipping upgrade: jinja2 in c:\\programdata\\anaconda3\\lib\\site-packages (from notebook>=4.4.1->widgetsnbextension~=3.5.0->ipywidgets->thorondor) (2.11.2)\n",
      "Requirement already satisfied, skipping upgrade: terminado>=0.8.3 in c:\\programdata\\anaconda3\\lib\\site-packages (from notebook>=4.4.1->widgetsnbextension~=3.5.0->ipywidgets->thorondor) (0.9.1)\n",
      "Requirement already satisfied, skipping upgrade: Send2Trash in c:\\programdata\\anaconda3\\lib\\site-packages (from notebook>=4.4.1->widgetsnbextension~=3.5.0->ipywidgets->thorondor) (1.5.0)\n",
      "Requirement already satisfied, skipping upgrade: prometheus-client in c:\\programdata\\anaconda3\\lib\\site-packages (from notebook>=4.4.1->widgetsnbextension~=3.5.0->ipywidgets->thorondor) (0.8.0)\n",
      "Requirement already satisfied, skipping upgrade: attrs>=17.4.0 in c:\\programdata\\anaconda3\\lib\\site-packages (from jsonschema!=2.5.0,>=2.4->nbformat>=4.2.0->ipywidgets->thorondor) (20.3.0)\n",
      "Requirement already satisfied, skipping upgrade: pyrsistent>=0.14.0 in c:\\programdata\\anaconda3\\lib\\site-packages (from jsonschema!=2.5.0,>=2.4->nbformat>=4.2.0->ipywidgets->thorondor) (0.17.3)\n",
      "Requirement already satisfied, skipping upgrade: pywin32>=1.0; sys_platform == \"win32\" in c:\\programdata\\anaconda3\\lib\\site-packages (from jupyter-core->nbformat>=4.2.0->ipywidgets->thorondor) (227)\n",
      "Requirement already satisfied, skipping upgrade: cffi>=1.0.0 in c:\\programdata\\anaconda3\\lib\\site-packages (from argon2-cffi->notebook>=4.4.1->widgetsnbextension~=3.5.0->ipywidgets->thorondor) (1.14.3)\n",
      "Requirement already satisfied, skipping upgrade: mistune<2,>=0.8.1 in c:\\programdata\\anaconda3\\lib\\site-packages (from nbconvert->notebook>=4.4.1->widgetsnbextension~=3.5.0->ipywidgets->thorondor) (0.8.4)\n",
      "Requirement already satisfied, skipping upgrade: defusedxml in c:\\programdata\\anaconda3\\lib\\site-packages (from nbconvert->notebook>=4.4.1->widgetsnbextension~=3.5.0->ipywidgets->thorondor) (0.6.0)\n",
      "Requirement already satisfied, skipping upgrade: pandocfilters>=1.4.1 in c:\\programdata\\anaconda3\\lib\\site-packages (from nbconvert->notebook>=4.4.1->widgetsnbextension~=3.5.0->ipywidgets->thorondor) (1.4.3)\n",
      "Requirement already satisfied, skipping upgrade: nbclient<0.6.0,>=0.5.0 in c:\\programdata\\anaconda3\\lib\\site-packages (from nbconvert->notebook>=4.4.1->widgetsnbextension~=3.5.0->ipywidgets->thorondor) (0.5.1)\n",
      "Requirement already satisfied, skipping upgrade: jupyterlab-pygments in c:\\programdata\\anaconda3\\lib\\site-packages (from nbconvert->notebook>=4.4.1->widgetsnbextension~=3.5.0->ipywidgets->thorondor) (0.1.2)\n",
      "Requirement already satisfied, skipping upgrade: testpath in c:\\programdata\\anaconda3\\lib\\site-packages (from nbconvert->notebook>=4.4.1->widgetsnbextension~=3.5.0->ipywidgets->thorondor) (0.4.4)\n",
      "Requirement already satisfied, skipping upgrade: entrypoints>=0.2.2 in c:\\programdata\\anaconda3\\lib\\site-packages (from nbconvert->notebook>=4.4.1->widgetsnbextension~=3.5.0->ipywidgets->thorondor) (0.3)\n",
      "Requirement already satisfied, skipping upgrade: bleach in c:\\programdata\\anaconda3\\lib\\site-packages (from nbconvert->notebook>=4.4.1->widgetsnbextension~=3.5.0->ipywidgets->thorondor) (3.2.1)\n",
      "Requirement already satisfied, skipping upgrade: MarkupSafe>=0.23 in c:\\programdata\\anaconda3\\lib\\site-packages (from jinja2->notebook>=4.4.1->widgetsnbextension~=3.5.0->ipywidgets->thorondor) (1.1.1)\n",
      "Requirement already satisfied, skipping upgrade: pywinpty>=0.5 in c:\\programdata\\anaconda3\\lib\\site-packages (from terminado>=0.8.3->notebook>=4.4.1->widgetsnbextension~=3.5.0->ipywidgets->thorondor) (0.5.7)\n",
      "Requirement already satisfied, skipping upgrade: pycparser in c:\\programdata\\anaconda3\\lib\\site-packages (from cffi>=1.0.0->argon2-cffi->notebook>=4.4.1->widgetsnbextension~=3.5.0->ipywidgets->thorondor) (2.20)\n",
      "Requirement already satisfied, skipping upgrade: async-generator in c:\\programdata\\anaconda3\\lib\\site-packages (from nbclient<0.6.0,>=0.5.0->nbconvert->notebook>=4.4.1->widgetsnbextension~=3.5.0->ipywidgets->thorondor) (1.10)\n",
      "Requirement already satisfied, skipping upgrade: nest-asyncio in c:\\programdata\\anaconda3\\lib\\site-packages (from nbclient<0.6.0,>=0.5.0->nbconvert->notebook>=4.4.1->widgetsnbextension~=3.5.0->ipywidgets->thorondor) (1.4.2)\n",
      "Requirement already satisfied, skipping upgrade: packaging in c:\\programdata\\anaconda3\\lib\\site-packages (from bleach->nbconvert->notebook>=4.4.1->widgetsnbextension~=3.5.0->ipywidgets->thorondor) (20.4)\n",
      "Requirement already satisfied, skipping upgrade: webencodings in c:\\programdata\\anaconda3\\lib\\site-packages (from bleach->nbconvert->notebook>=4.4.1->widgetsnbextension~=3.5.0->ipywidgets->thorondor) (0.5.1)\n"
     ]
    }
   ],
   "source": [
    "! pip install thorondor -U"
   ]
  },
  {
   "cell_type": "code",
   "execution_count": 1,
   "metadata": {},
   "outputs": [],
   "source": [
    "from thorondor import *"
   ]
  },
  {
   "cell_type": "markdown",
   "metadata": {},
   "source": [
    "# Cell to run before\n",
    "\n",
    "This javascript code will just allow you to automatically expand your notebook cells, which is highly recommended during the use of thorondor"
   ]
  },
  {
   "cell_type": "code",
   "execution_count": 2,
   "metadata": {},
   "outputs": [
    {
     "data": {
      "application/javascript": [
       "IPython.OutputArea.prototype._should_scroll = function(lines) {\n",
       "    return false;\n",
       "}\n"
      ],
      "text/plain": [
       "<IPython.core.display.Javascript object>"
      ]
     },
     "metadata": {},
     "output_type": "display_data"
    }
   ],
   "source": [
    "%%javascript\n",
    "IPython.OutputArea.prototype._should_scroll = function(lines) {\n",
    "    return false;\n",
    "}"
   ]
  },
  {
   "cell_type": "markdown",
   "metadata": {},
   "source": [
    "# If on google colab, run and adapt the following cells to move the data from the python package to your current directory"
   ]
  },
  {
   "cell_type": "code",
   "execution_count": null,
   "metadata": {},
   "outputs": [],
   "source": [
    "import inspect\n",
    "inspect.getfile(gui).split(\"gui\")[0]"
   ]
  },
  {
   "cell_type": "markdown",
   "metadata": {},
   "source": [
    "### Check if example data folder well was imported along with the data"
   ]
  },
  {
   "cell_type": "code",
   "execution_count": null,
   "metadata": {},
   "outputs": [],
   "source": [
    "%%bash\n",
    "cd /usr/local/lib/python3.6/dist-packages/thorondor/Example/\n",
    "ls"
   ]
  },
  {
   "cell_type": "markdown",
   "metadata": {},
   "source": [
    "### Replace \"/usr/local/lib/python3.6/dist-packages/thorondor/\" in the following by the previously printed path"
   ]
  },
  {
   "cell_type": "code",
   "execution_count": null,
   "metadata": {},
   "outputs": [],
   "source": [
    "%%bash \n",
    "cp -r /usr/local/lib/python3.6/dist-packages/thorondor/Example/ExampleData ExampleData"
   ]
  },
  {
   "cell_type": "markdown",
   "metadata": {},
   "source": [
    "### Verify that the folder ExampleData is in our google colab directory"
   ]
  },
  {
   "cell_type": "code",
   "execution_count": 8,
   "metadata": {},
   "outputs": [
    {
     "name": "stdout",
     "output_type": "stream",
     "text": [
      "total 44\n",
      "drwxrwxrwx 1 momonne momonne  4096 Dec 14 13:52 .\n",
      "drwxrwxrwx 1 momonne momonne  4096 Dec 14 12:27 ..\n",
      "drwxrwxrwx 1 momonne momonne  4096 Dec 14 12:37 .ipynb_checkpoints\n",
      "drwxrwxrwx 1 momonne momonne  4096 Dec 14 12:36 ExampleData\n",
      "-rwxrwxrwx 1 momonne momonne 16452 Dec 11 15:12 LogbookExample.xlsx\n",
      "-rwxrwxrwx 1 momonne momonne 20748 Dec 14 13:52 TestGUI.ipynb\n"
     ]
    }
   ],
   "source": [
    "%%bash\n",
    "ls -la"
   ]
  },
  {
   "cell_type": "markdown",
   "metadata": {},
   "source": [
    "# Run this cell if you start from scratch"
   ]
  },
  {
   "cell_type": "code",
   "execution_count": 3,
   "metadata": {},
   "outputs": [
    {
     "data": {
      "application/vnd.jupyter.widget-view+json": {
       "model_id": "95c4d83253dc437a88013e4baa5b64f3",
       "version_major": 2,
       "version_minor": 0
      },
      "text/plain": [
       "Tab(children=(VBox(children=(HBox(children=(Text(value='data_folder', description='Data folder:', placeholder=…"
      ]
     },
     "metadata": {},
     "output_type": "display_data"
    }
   ],
   "source": [
    "start_example = gui.Interface()"
   ]
  },
  {
   "cell_type": "markdown",
   "metadata": {},
   "source": [
    "## First steps\n",
    "\n",
    "* Run the two cells\n",
    "\n",
    "* DataFolder, replace ExampleData\n",
    "* Fix name\n",
    "* click Create/Check\n",
    "* Example data is in .txt\n",
    "* click start working \n",
    "* Just click on a random column in \"new name for this column\", it will initialize a fct that will automatically pick the names\n",
    "* Click on show new df\n",
    "* Click on keep and ...\n",
    "* Fix step\n",
    "* Then the initialization is OK, for plotting or reduction tyou can select multiple datasets to compare\n",
    "* The fitting module works with lmfit\n",
    "* For the Logbook, replace Logbook.xlsx by SpirosCop-Mn.xlsx, and unclick the button, you can add filters"
   ]
  },
  {
   "cell_type": "markdown",
   "metadata": {},
   "source": [
    "# Run this cell to load your previous work with thorondor\n",
    "\n",
    "Will not work if you have not initialized the data with the previous step, this is keep working with the GUI if you had quit jupyter in the meantime"
   ]
  },
  {
   "cell_type": "code",
   "execution_count": 4,
   "metadata": {
    "scrolled": false
   },
   "outputs": [
    {
     "data": {
      "application/vnd.jupyter.widget-view+json": {
       "model_id": "0d66fed1034d44a984e4bd01cfecc485",
       "version_major": 2,
       "version_minor": 0
      },
      "text/plain": [
       "Tab(children=(VBox(children=(HBox(children=(Text(value='ExampleData', description='Data folder:', disabled=Tru…"
      ]
     },
     "metadata": {},
     "output_type": "display_data"
    }
   ],
   "source": [
    "work_again = gui.Interface.get_class_list(data_folder = \"ExampleData\")"
   ]
  },
  {
   "cell_type": "markdown",
   "metadata": {},
   "source": [
    "# Treatment\n",
    "* Correction of the intensity to account for gas in the chamber, or electron count from the membrane can be performed via the tools tab.\n",
    "* Some more classical methods to \"clean\" the data are also available, such as deglitching and shifting tools.\n",
    "* To use the other tools, please refer to the paper in which they are described with details."
   ]
  },
  {
   "cell_type": "markdown",
   "metadata": {},
   "source": [
    "# Background redution\n",
    "* Different methods are available to subtract from the data a background that is typical to NEXAFS measurements, please try different parameter combinations and find what works best for you"
   ]
  },
  {
   "cell_type": "markdown",
   "metadata": {},
   "source": [
    "# Fitting\n",
    "* The fitting tool is entirely based on the lmfit package\n",
    "* Different algorithms can be used, plase again refer to the paper to have a first description of what could work for you and to be redirected to mroe complete documentation\n",
    "* The post-fitting methods `confidence intervals` and `parameter distribution` are described in detail on the lmfit website"
   ]
  },
  {
   "cell_type": "markdown",
   "metadata": {},
   "source": [
    "# Additional info for advanced users\n",
    "* The datasets that you see in the GUI, are instances of the thorondor.Datasets class\n",
    "* These are pickled after each modification in a subfolder of your directory\n",
    "* To export them and use the data after working with thorondor, you can unpickle them in a new notebook and work with the pandas.DataFrame then\n",
    "* These Dataset instances will soon be available in a .nxs format\n",
    "* More informations is available in the readme tab"
   ]
  },
  {
   "cell_type": "code",
   "execution_count": 7,
   "metadata": {},
   "outputs": [
    {
     "data": {
      "text/plain": [
       "Dataset_240120_003, created on the 2020-01-26 20:50:02."
      ]
     },
     "execution_count": 7,
     "metadata": {},
     "output_type": "execute_result"
    }
   ],
   "source": [
    "work_again.class_list[0]"
   ]
  }
 ],
 "metadata": {
  "kernelspec": {
   "display_name": "Python 3",
   "language": "python",
   "name": "python3"
  },
  "language_info": {
   "codemirror_mode": {
    "name": "ipython",
    "version": 3
   },
   "file_extension": ".py",
   "mimetype": "text/x-python",
   "name": "python",
   "nbconvert_exporter": "python",
   "pygments_lexer": "ipython3",
   "version": "3.8.5"
  }
 },
 "nbformat": 4,
 "nbformat_minor": 4
}
