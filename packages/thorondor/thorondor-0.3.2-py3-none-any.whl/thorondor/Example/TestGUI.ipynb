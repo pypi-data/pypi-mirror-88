{
 "cells": [
  {
   "cell_type": "markdown",
   "metadata": {},
   "source": [
    "# Import the package"
   ]
  },
  {
   "cell_type": "code",
   "execution_count": 5,
   "metadata": {},
   "outputs": [],
   "source": [
    "from thorondor import *"
   ]
  },
  {
   "cell_type": "markdown",
   "metadata": {},
   "source": [
    "# Cell to run before working\n",
    "\n",
    "This javascript code will just allow you to automatically expand your notebook cells, which is highly recommended during the use of thorondor"
   ]
  },
  {
   "cell_type": "code",
   "execution_count": 6,
   "metadata": {},
   "outputs": [
    {
     "data": {
      "application/javascript": [
       "IPython.OutputArea.prototype._should_scroll = function(lines) {\n",
       "    return false;\n",
       "}\n"
      ],
      "text/plain": [
       "<IPython.core.display.Javascript object>"
      ]
     },
     "metadata": {},
     "output_type": "display_data"
    }
   ],
   "source": [
    "%%javascript\n",
    "IPython.OutputArea.prototype._should_scroll = function(lines) {\n",
    "    return false;\n",
    "}"
   ]
  },
  {
   "cell_type": "markdown",
   "metadata": {},
   "source": [
    "# Run this cell if you start from scratch"
   ]
  },
  {
   "cell_type": "code",
   "execution_count": 7,
   "metadata": {},
   "outputs": [
    {
     "data": {
      "application/vnd.jupyter.widget-view+json": {
       "model_id": "8e32090258154981a8ac682f6a005ac9",
       "version_major": 2,
       "version_minor": 0
      },
      "text/plain": [
       "Tab(children=(VBox(children=(HBox(children=(Text(value='data_folder', description='Data folder:', placeholder=…"
      ]
     },
     "metadata": {},
     "output_type": "display_data"
    }
   ],
   "source": [
    "start_example = GUI.Interface()"
   ]
  },
  {
   "cell_type": "markdown",
   "metadata": {},
   "source": [
    "# Run this cell to load your previous work with thorondor\n",
    "\n",
    "Will not work if you have not initialized the data with the previous step, this is keep working with the GUI if you had quit jupyter in the meantime"
   ]
  },
  {
   "cell_type": "code",
   "execution_count": 4,
   "metadata": {
    "scrolled": false
   },
   "outputs": [
    {
     "data": {
      "application/vnd.jupyter.widget-view+json": {
       "model_id": "ab21fbf32d0d43b4ac1fd5cb71568cb8",
       "version_major": 2,
       "version_minor": 0
      },
      "text/plain": [
       "Tab(children=(VBox(children=(HBox(children=(Text(value='data_folder', description='Data folder:', placeholder=…"
      ]
     },
     "metadata": {},
     "output_type": "display_data"
    }
   ],
   "source": [
    "work_again = GUI.Interface.get_class_list(data_folder = \"Co-L\")"
   ]
  },
  {
   "cell_type": "markdown",
   "metadata": {},
   "source": [
    "# First steps\n",
    "\n",
    "* Run the two cells\n",
    "\n",
    "* DataFolder, replace by Co-L\n",
    "* click Create/Check\n",
    "* click start working\n",
    "* Just click on a random column in \"new name for this column\", it will initialize a fct that will automatically pick the names\n",
    "* Click on show new df\n",
    "* Click on keep and ...\n",
    "* Fix step\n",
    "* Then the initialization is OK, for plotting or reduction tyou can select multiple datasets to compare\n",
    "* The fitting module works with lmfit\n",
    "* For the Logbook, replace Logbook.xlsx by SpirosCop-Mn.xlsx, and unclick the button, you can add filters"
   ]
  },
  {
   "cell_type": "markdown",
   "metadata": {},
   "source": [
    "# Treatment\n",
    "* Correction of the intensity to account for gas in the chamber, or electron count from the membrane can be performed via the tools tab.\n",
    "* Some more classical methods to \"clean\" the data are also available, such as deglitching and shifting tools.\n",
    "* To use the other tools, please refer to the paper in which they are described with details."
   ]
  },
  {
   "cell_type": "markdown",
   "metadata": {},
   "source": [
    "# Background redution\n",
    "* Different methods are available to subtract from the data a background that is typical to NEXAFS measurements, please try different parameter combinations and find what works best for you"
   ]
  },
  {
   "cell_type": "markdown",
   "metadata": {},
   "source": [
    "# Fitting\n",
    "* The fitting tool is entirely based on the lmfit package\n",
    "* Different algorithms can be used, plase again refer to the paper to have a first description of what could work for you and to be redirected to mroe complete documentation\n",
    "* The post-fitting methods `confidence intervals` and `parameter distribution` are described in detail on the lmfit website"
   ]
  },
  {
   "cell_type": "markdown",
   "metadata": {},
   "source": [
    "# Additional info for advanced users\n",
    "* The datasets that you see in the GUI, are instances of the thorondor.Datasets class\n",
    "* These are pickled after each modification in a subfolder of your directory\n",
    "* To export them and use the data after working with thorondor, you can unpickle them in a new notebook and work with the pandas.DataFrame then\n",
    "* These Dataset instances will soon be available in a .nxs format\n",
    "* More informations is available in the readme tab"
   ]
  }
 ],
 "metadata": {
  "kernelspec": {
   "display_name": "Python 3",
   "language": "python",
   "name": "python3"
  },
  "language_info": {
   "codemirror_mode": {
    "name": "ipython",
    "version": 3
   },
   "file_extension": ".py",
   "mimetype": "text/x-python",
   "name": "python",
   "nbconvert_exporter": "python",
   "pygments_lexer": "ipython3",
   "version": "3.8.5"
  }
 },
 "nbformat": 4,
 "nbformat_minor": 4
}
