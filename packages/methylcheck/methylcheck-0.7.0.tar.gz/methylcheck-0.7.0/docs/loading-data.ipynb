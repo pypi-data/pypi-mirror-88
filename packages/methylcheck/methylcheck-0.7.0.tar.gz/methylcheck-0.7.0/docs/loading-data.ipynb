{
 "cells": [
  {
   "cell_type": "markdown",
   "metadata": {},
   "source": [
    "# Loading methylation datasets"
   ]
  },
  {
   "cell_type": "code",
   "execution_count": 1,
   "metadata": {},
   "outputs": [],
   "source": [
    "import methylcheck\n",
    "from pathlib import Path # a tidier (pythonic) way to refer to files and folder paths"
   ]
  },
  {
   "cell_type": "markdown",
   "metadata": {},
   "source": [
    "previously, I processed a batch of IDAT files in the command line using this command in the folder:\n",
    "```\n",
    "python -m methylprep process -d . --all\n",
    "```\n",
    "that creates a bunch of new python pickle `.pkl` files in the folder:\n",
    "\n",
    "```\n",
    "beta_values.pkl\n",
    "poobah_values.pkl\n",
    "control_probes.pkl\n",
    "m_values.pkl\n",
    "noob_meth_values.pkl\n",
    "noob_unmeth_values.pkl\n",
    "sample_sheet_meta_data.pkl\n",
    "```\n",
    "\n",
    "## Loading beta values\n",
    "The default data format for `methylcheck` functions is a Pandas DataFrame (like a spreadsheet with columns and rows), but the `methylcheck.load` function will let you load a variety of file formats."
   ]
  },
  {
   "cell_type": "code",
   "execution_count": 2,
   "metadata": {},
   "outputs": [
    {
     "name": "stderr",
     "output_type": "stream",
     "text": [
      "Files: 100%|██████████| 1/1 [00:00<00:00, 50.68it/s]\n",
      "INFO:methylcheck.load_processed:loaded data (127852, 1) from 1 pickled files (0.038s)\n",
      "Files:   0%|          | 0/1 [00:00<?, ?it/s]INFO:numexpr.utils:Note: NumExpr detected 12 cores but \"NUMEXPR_MAX_THREADS\" not set, so enforcing safe limit of 8.\n",
      "INFO:numexpr.utils:NumExpr defaulting to 8 threads.\n",
      "Files: 100%|██████████| 1/1 [00:00<00:00,  9.42it/s]\n",
      "INFO:methylcheck.load_processed:loaded data (127852, 1) from 1 pickled files (0.187s)\n"
     ]
    }
   ],
   "source": [
    "filepath = Path('/Volumes/LEGX/Barnes/one')\n",
    "df = methylcheck.load(filepath)\n",
    "# where the first argument is the path or file you want to load. This also works, \n",
    "# if you start your jupyter notebook in the same folder\n",
    "df = methylcheck.load(Path(filepath,'beta_values.pkl'))\n",
    "# by default, probes that failed p-value detection are removed from the dataframe, \n",
    "# unless you used the `--no_poobah` option during processing."
   ]
  },
  {
   "cell_type": "markdown",
   "metadata": {},
   "source": [
    "#### Gotcha: pointing to a folder with multiple sets of files\n",
    " If you point to a folder with MULTIPLE batches of samples, of different array types, you'll get an error.\n",
    " all samples in the path you choose need to have the same number of probes (same array type)\n",
    " ERROR; don't do this:"
   ]
  },
  {
   "cell_type": "code",
   "execution_count": 3,
   "metadata": {},
   "outputs": [],
   "source": [
    "# multifilepath = Path('/Volumes/LEGX/<somefolder>')\n",
    "# df = methylcheck.load(multifilepath)\n",
    "# the error says the probe counts don't match."
   ]
  },
  {
   "cell_type": "markdown",
   "metadata": {},
   "source": [
    "> ValueError: all the input array dimensions for the concatenation axis must match exactly, but along dimension 0, the array at index 0 has size 226618 and the array at index 1 has size 244827\n",
    "\n",
    "instead, move the files from different array-types into separate folders and point to each one separately."
   ]
  },
  {
   "cell_type": "markdown",
   "metadata": {},
   "source": [
    "## Open Sesame\n",
    "`methylcheck.load` works on the CSVs produced the the `sesame` `R` package."
   ]
  },
  {
   "cell_type": "markdown",
   "metadata": {},
   "source": [
    "You must specify an additional paramter: `format='sesame'`.\n",
    "\n",
    "```df = methylcheck.load('.', format='sesame')```\n"
   ]
  },
  {
   "cell_type": "code",
   "execution_count": 4,
   "metadata": {},
   "outputs": [
    {
     "name": "stderr",
     "output_type": "stream",
     "text": [
      "INFO:methylcheck.load_processed:2 files matched\n",
      "INFO:methylcheck.load_processed:203319730027_R01C01, (866553, 1) --> 1\n",
      "INFO:methylcheck.load_processed:203319730027_R01C01, (866553, 1) --> 2\n"
     ]
    },
    {
     "data": {
      "text/html": [
       "<div>\n",
       "<style scoped>\n",
       "    .dataframe tbody tr th:only-of-type {\n",
       "        vertical-align: middle;\n",
       "    }\n",
       "\n",
       "    .dataframe tbody tr th {\n",
       "        vertical-align: top;\n",
       "    }\n",
       "\n",
       "    .dataframe thead th {\n",
       "        text-align: right;\n",
       "    }\n",
       "</style>\n",
       "<table border=\"1\" class=\"dataframe\">\n",
       "  <thead>\n",
       "    <tr style=\"text-align: right;\">\n",
       "      <th></th>\n",
       "      <th>203319730027_R01C01</th>\n",
       "      <th>203319730027_R01C01</th>\n",
       "    </tr>\n",
       "    <tr>\n",
       "      <th>Probe_ID</th>\n",
       "      <th></th>\n",
       "      <th></th>\n",
       "    </tr>\n",
       "  </thead>\n",
       "  <tbody>\n",
       "    <tr>\n",
       "      <td>cg00000029</td>\n",
       "      <td>NaN</td>\n",
       "      <td>NaN</td>\n",
       "    </tr>\n",
       "    <tr>\n",
       "      <td>cg00000103</td>\n",
       "      <td>NaN</td>\n",
       "      <td>NaN</td>\n",
       "    </tr>\n",
       "    <tr>\n",
       "      <td>cg00000109</td>\n",
       "      <td>0.933105</td>\n",
       "      <td>0.933105</td>\n",
       "    </tr>\n",
       "    <tr>\n",
       "      <td>cg00000155</td>\n",
       "      <td>0.947754</td>\n",
       "      <td>0.947754</td>\n",
       "    </tr>\n",
       "    <tr>\n",
       "      <td>cg00000158</td>\n",
       "      <td>0.958496</td>\n",
       "      <td>0.958496</td>\n",
       "    </tr>\n",
       "    <tr>\n",
       "      <td>...</td>\n",
       "      <td>...</td>\n",
       "      <td>...</td>\n",
       "    </tr>\n",
       "    <tr>\n",
       "      <td>rs9363764</td>\n",
       "      <td>0.056000</td>\n",
       "      <td>0.056000</td>\n",
       "    </tr>\n",
       "    <tr>\n",
       "      <td>rs939290</td>\n",
       "      <td>0.548828</td>\n",
       "      <td>0.548828</td>\n",
       "    </tr>\n",
       "    <tr>\n",
       "      <td>rs951295</td>\n",
       "      <td>0.048615</td>\n",
       "      <td>0.048615</td>\n",
       "    </tr>\n",
       "    <tr>\n",
       "      <td>rs966367</td>\n",
       "      <td>0.964355</td>\n",
       "      <td>0.964355</td>\n",
       "    </tr>\n",
       "    <tr>\n",
       "      <td>rs9839873</td>\n",
       "      <td>0.542480</td>\n",
       "      <td>0.542480</td>\n",
       "    </tr>\n",
       "  </tbody>\n",
       "</table>\n",
       "<p>866553 rows × 2 columns</p>\n",
       "</div>"
      ],
      "text/plain": [
       "            203319730027_R01C01  203319730027_R01C01\n",
       "Probe_ID                                            \n",
       "cg00000029                  NaN                  NaN\n",
       "cg00000103                  NaN                  NaN\n",
       "cg00000109             0.933105             0.933105\n",
       "cg00000155             0.947754             0.947754\n",
       "cg00000158             0.958496             0.958496\n",
       "...                         ...                  ...\n",
       "rs9363764              0.056000             0.056000\n",
       "rs939290               0.548828             0.548828\n",
       "rs951295               0.048615             0.048615\n",
       "rs966367               0.964355             0.964355\n",
       "rs9839873              0.542480             0.542480\n",
       "\n",
       "[866553 rows x 2 columns]"
      ]
     },
     "execution_count": 4,
     "metadata": {},
     "output_type": "execute_result"
    }
   ],
   "source": [
    "filepath = Path('/Volumes/LEGX/Barnes/output_test')\n",
    "df = methylcheck.load(filepath, format='sesame', verbose=True)\n",
    "df"
   ]
  },
  {
   "cell_type": "markdown",
   "metadata": {},
   "source": [
    "## Loading from methylprep CSV output\n",
    "`methylcheck` assumes you want to load data the fastest way, using a single high-performance python3 pickled dataframe. \n",
    "But there are times when you want to load from CSV output files instead. One use case is where you want\n",
    "to examine probes that were filtered out by poobah (p-value probe detection). The CSVs contain this information,\n",
    "whereas the pickled dataframe has it removed by default."
   ]
  },
  {
   "cell_type": "code",
   "execution_count": 5,
   "metadata": {},
   "outputs": [
    {
     "name": "stderr",
     "output_type": "stream",
     "text": [
      "Files: 100%|██████████| 6/6 [00:00<00:00,  8.74it/s]\n",
      "/Users/mmaxmeister/anaconda3/lib/python3.7/site-packages/tqdm/std.py:658: FutureWarning: The Panel class is removed from pandas. Accessing it from the top-level namespace will also be removed in the next version\n",
      "  from pandas import Panel\n",
      "INFO:methylcheck.load_processed:merging...\n",
      "100%|██████████| 6/6 [00:00<00:00, 2400.86it/s]\n"
     ]
    },
    {
     "data": {
      "text/html": [
       "<div>\n",
       "<style scoped>\n",
       "    .dataframe tbody tr th:only-of-type {\n",
       "        vertical-align: middle;\n",
       "    }\n",
       "\n",
       "    .dataframe tbody tr th {\n",
       "        vertical-align: top;\n",
       "    }\n",
       "\n",
       "    .dataframe thead th {\n",
       "        text-align: right;\n",
       "    }\n",
       "</style>\n",
       "<table border=\"1\" class=\"dataframe\">\n",
       "  <thead>\n",
       "    <tr style=\"text-align: right;\">\n",
       "      <th></th>\n",
       "      <th>204879580038_R01C02</th>\n",
       "      <th>204879580038_R02C02</th>\n",
       "      <th>204879580038_R03C02</th>\n",
       "      <th>204879580038_R04C02</th>\n",
       "      <th>204879580038_R05C02</th>\n",
       "      <th>204879580038_R06C02</th>\n",
       "    </tr>\n",
       "    <tr>\n",
       "      <th>IlmnID</th>\n",
       "      <th></th>\n",
       "      <th></th>\n",
       "      <th></th>\n",
       "      <th></th>\n",
       "      <th></th>\n",
       "      <th></th>\n",
       "    </tr>\n",
       "  </thead>\n",
       "  <tbody>\n",
       "    <tr>\n",
       "      <td>cg00531009_BC21</td>\n",
       "      <td>0.930176</td>\n",
       "      <td>0.912109</td>\n",
       "      <td>0.919922</td>\n",
       "      <td>0.901855</td>\n",
       "      <td>0.924805</td>\n",
       "      <td>0.943848</td>\n",
       "    </tr>\n",
       "    <tr>\n",
       "      <td>cg00747726_TC21</td>\n",
       "      <td>0.883789</td>\n",
       "      <td>0.869141</td>\n",
       "      <td>0.880859</td>\n",
       "      <td>0.886230</td>\n",
       "      <td>0.895996</td>\n",
       "      <td>0.905762</td>\n",
       "    </tr>\n",
       "    <tr>\n",
       "      <td>cg01326836_BC21</td>\n",
       "      <td>0.206055</td>\n",
       "      <td>0.239990</td>\n",
       "      <td>0.239014</td>\n",
       "      <td>0.224976</td>\n",
       "      <td>0.229004</td>\n",
       "      <td>0.239990</td>\n",
       "    </tr>\n",
       "    <tr>\n",
       "      <td>cg01603043_TC21</td>\n",
       "      <td>0.858887</td>\n",
       "      <td>0.858887</td>\n",
       "      <td>0.876953</td>\n",
       "      <td>0.858887</td>\n",
       "      <td>0.869141</td>\n",
       "      <td>0.898926</td>\n",
       "    </tr>\n",
       "    <tr>\n",
       "      <td>cg01683044_BC21</td>\n",
       "      <td>0.058990</td>\n",
       "      <td>0.058990</td>\n",
       "      <td>0.056000</td>\n",
       "      <td>0.062988</td>\n",
       "      <td>0.067993</td>\n",
       "      <td>0.080994</td>\n",
       "    </tr>\n",
       "    <tr>\n",
       "      <td>...</td>\n",
       "      <td>...</td>\n",
       "      <td>...</td>\n",
       "      <td>...</td>\n",
       "      <td>...</td>\n",
       "      <td>...</td>\n",
       "      <td>...</td>\n",
       "    </tr>\n",
       "    <tr>\n",
       "      <td>ch985669618_BC21</td>\n",
       "      <td>0.816895</td>\n",
       "      <td>0.833984</td>\n",
       "      <td>NaN</td>\n",
       "      <td>NaN</td>\n",
       "      <td>NaN</td>\n",
       "      <td>NaN</td>\n",
       "    </tr>\n",
       "    <tr>\n",
       "      <td>ch985669618_BC21</td>\n",
       "      <td>0.816895</td>\n",
       "      <td>0.833984</td>\n",
       "      <td>NaN</td>\n",
       "      <td>NaN</td>\n",
       "      <td>NaN</td>\n",
       "      <td>NaN</td>\n",
       "    </tr>\n",
       "    <tr>\n",
       "      <td>ch985669618_BC21</td>\n",
       "      <td>0.816895</td>\n",
       "      <td>0.833984</td>\n",
       "      <td>NaN</td>\n",
       "      <td>NaN</td>\n",
       "      <td>NaN</td>\n",
       "      <td>NaN</td>\n",
       "    </tr>\n",
       "    <tr>\n",
       "      <td>ch991719372_BC21</td>\n",
       "      <td>NaN</td>\n",
       "      <td>NaN</td>\n",
       "      <td>NaN</td>\n",
       "      <td>NaN</td>\n",
       "      <td>NaN</td>\n",
       "      <td>NaN</td>\n",
       "    </tr>\n",
       "    <tr>\n",
       "      <td>ch997280303_BC21</td>\n",
       "      <td>NaN</td>\n",
       "      <td>NaN</td>\n",
       "      <td>NaN</td>\n",
       "      <td>NaN</td>\n",
       "      <td>NaN</td>\n",
       "      <td>NaN</td>\n",
       "    </tr>\n",
       "  </tbody>\n",
       "</table>\n",
       "<p>127852 rows × 6 columns</p>\n",
       "</div>"
      ],
      "text/plain": [
       "                  204879580038_R01C02  204879580038_R02C02  \\\n",
       "IlmnID                                                       \n",
       "cg00531009_BC21              0.930176             0.912109   \n",
       "cg00747726_TC21              0.883789             0.869141   \n",
       "cg01326836_BC21              0.206055             0.239990   \n",
       "cg01603043_TC21              0.858887             0.858887   \n",
       "cg01683044_BC21              0.058990             0.058990   \n",
       "...                               ...                  ...   \n",
       "ch985669618_BC21             0.816895             0.833984   \n",
       "ch985669618_BC21             0.816895             0.833984   \n",
       "ch985669618_BC21             0.816895             0.833984   \n",
       "ch991719372_BC21                  NaN                  NaN   \n",
       "ch997280303_BC21                  NaN                  NaN   \n",
       "\n",
       "                  204879580038_R03C02  204879580038_R04C02  \\\n",
       "IlmnID                                                       \n",
       "cg00531009_BC21              0.919922             0.901855   \n",
       "cg00747726_TC21              0.880859             0.886230   \n",
       "cg01326836_BC21              0.239014             0.224976   \n",
       "cg01603043_TC21              0.876953             0.858887   \n",
       "cg01683044_BC21              0.056000             0.062988   \n",
       "...                               ...                  ...   \n",
       "ch985669618_BC21                  NaN                  NaN   \n",
       "ch985669618_BC21                  NaN                  NaN   \n",
       "ch985669618_BC21                  NaN                  NaN   \n",
       "ch991719372_BC21                  NaN                  NaN   \n",
       "ch997280303_BC21                  NaN                  NaN   \n",
       "\n",
       "                  204879580038_R05C02  204879580038_R06C02  \n",
       "IlmnID                                                      \n",
       "cg00531009_BC21              0.924805             0.943848  \n",
       "cg00747726_TC21              0.895996             0.905762  \n",
       "cg01326836_BC21              0.229004             0.239990  \n",
       "cg01603043_TC21              0.869141             0.898926  \n",
       "cg01683044_BC21              0.067993             0.080994  \n",
       "...                               ...                  ...  \n",
       "ch985669618_BC21                  NaN                  NaN  \n",
       "ch985669618_BC21                  NaN                  NaN  \n",
       "ch985669618_BC21                  NaN                  NaN  \n",
       "ch991719372_BC21                  NaN                  NaN  \n",
       "ch997280303_BC21                  NaN                  NaN  \n",
       "\n",
       "[127852 rows x 6 columns]"
      ]
     },
     "execution_count": 5,
     "metadata": {},
     "output_type": "execute_result"
    }
   ],
   "source": [
    "filepath = Path('/Volumes/LEGX/Barnes/mouse_test')\n",
    "df = methylcheck.load(filepath, format='beta_csv')\n",
    "df"
   ]
  },
  {
   "cell_type": "markdown",
   "metadata": {},
   "source": [
    "## Other file formats supported by `methylcheck.load`:\n",
    "formats: ('beta_value', 'm_value', 'meth', 'meth_df', 'noob_df', 'sesame', 'beta_csv')\n",
    "where 'beta_value' is the default.\n"
   ]
  },
  {
   "cell_type": "markdown",
   "metadata": {},
   "source": [
    "### 'meth_df' format\n",
    "Returns two dataframes, representing the raw methylated and unmethylated fluorescence intensity values for all probes (in rows) and samples (in columns)."
   ]
  },
  {
   "cell_type": "code",
   "execution_count": 6,
   "metadata": {},
   "outputs": [
    {
     "name": "stderr",
     "output_type": "stream",
     "text": [
      "/Users/mmaxmeister/anaconda3/lib/python3.7/site-packages/tqdm/std.py:658: FutureWarning: The Panel class is removed from pandas. Accessing it from the top-level namespace will also be removed in the next version\n",
      "  from pandas import Panel\n",
      "100%|██████████| 6/6 [00:00<00:00, 2850.68it/s]\n",
      "100%|██████████| 6/6 [00:00<00:00, 2738.39it/s]\n",
      "INFO:methylcheck.load_processed:(127852, 6) (127852, 6)\n"
     ]
    },
    {
     "data": {
      "text/plain": [
       "((127852, 6), (127852, 6))"
      ]
     },
     "execution_count": 6,
     "metadata": {},
     "output_type": "execute_result"
    }
   ],
   "source": [
    "filepath = Path('/Volumes/LEGX/Barnes/mouse_test')\n",
    "(meth,unmeth) = methylcheck.load(filepath, format='meth_df')\n",
    "(meth.shape, unmeth.shape)"
   ]
  },
  {
   "cell_type": "markdown",
   "metadata": {},
   "source": [
    "### 'noob_df' format\n",
    "Returns two dataframes, representing the NOOB-(background substracted) methylated and unmethylated fluorescence intensity values for all probes (in rows) and samples (in columns)."
   ]
  },
  {
   "cell_type": "code",
   "execution_count": 7,
   "metadata": {},
   "outputs": [
    {
     "name": "stderr",
     "output_type": "stream",
     "text": [
      "/Users/mmaxmeister/anaconda3/lib/python3.7/site-packages/tqdm/std.py:658: FutureWarning: The Panel class is removed from pandas. Accessing it from the top-level namespace will also be removed in the next version\n",
      "  from pandas import Panel\n",
      "100%|██████████| 6/6 [00:00<00:00, 1549.62it/s]\n",
      "100%|██████████| 6/6 [00:00<00:00, 2265.76it/s]\n",
      "INFO:methylcheck.load_processed:(127852, 6), (127852, 6)\n"
     ]
    },
    {
     "data": {
      "text/plain": [
       "((127852, 6), (127852, 6))"
      ]
     },
     "execution_count": 7,
     "metadata": {},
     "output_type": "execute_result"
    }
   ],
   "source": [
    "filepath = Path('/Volumes/LEGX/Barnes/mouse_test')\n",
    "(noob_meth,noob_unmeth) = methylcheck.load(filepath, format='noob_df')\n",
    "(noob_meth.shape, noob_unmeth.shape)"
   ]
  },
  {
   "cell_type": "markdown",
   "metadata": {},
   "source": [
    "### 'meth' format will return a list of Python SampleDataContainer objects. \n",
    "This input is used in some older `methylcheck` functions, but you may never need it. You can get the same data from `meth_df` format in DataFrames."
   ]
  },
  {
   "cell_type": "code",
   "execution_count": 8,
   "metadata": {
    "scrolled": false
   },
   "outputs": [
    {
     "name": "stderr",
     "output_type": "stream",
     "text": [
      "Files: 100%|██████████| 6/6 [00:01<00:00,  3.68it/s]\n",
      "INFO:methylcheck.load_processed:Produced a list of Sample objects (use obj._SampleDataContainer__data_frame to get values)...\n"
     ]
    },
    {
     "data": {
      "text/plain": [
       "[<methylcheck.load_processed.SampleDataContainer at 0x7f82a9259b70>,\n",
       " <methylcheck.load_processed.SampleDataContainer at 0x7f82aa053470>,\n",
       " <methylcheck.load_processed.SampleDataContainer at 0x7f82a9259b38>,\n",
       " <methylcheck.load_processed.SampleDataContainer at 0x7f82a92597b8>,\n",
       " <methylcheck.load_processed.SampleDataContainer at 0x7f82a9259d68>,\n",
       " <methylcheck.load_processed.SampleDataContainer at 0x7f82a9259e80>]"
      ]
     },
     "execution_count": 8,
     "metadata": {},
     "output_type": "execute_result"
    }
   ],
   "source": [
    "filepath = Path('/Volumes/LEGX/Barnes/mouse_test')\n",
    "containers = methylcheck.load(filepath, format='meth')\n",
    "containers"
   ]
  },
  {
   "cell_type": "markdown",
   "metadata": {},
   "source": [
    "### Loading CSVs using Pandas\n",
    "The `methylcheck.load('.', format='beta_csv') option will only load beta_values into a single DataFrame. IF you need to load everything, use Pandas.\n",
    "\n",
    "Here is a simple function to load all files in a folder into a list:"
   ]
  },
  {
   "cell_type": "code",
   "execution_count": 9,
   "metadata": {},
   "outputs": [
    {
     "data": {
      "text/plain": [
       "9"
      ]
     },
     "execution_count": 9,
     "metadata": {},
     "output_type": "execute_result"
    }
   ],
   "source": [
    "import pandas as pd\n",
    "filepath = Path('/Volumes/LEGX/Barnes/mouse_test')\n",
    "sample_list = []\n",
    "for FILE in filepath.rglob('*.csv'):\n",
    "    sample_list.append( pd.read_csv(FILE) )\n",
    "len(sample_list)"
   ]
  },
  {
   "cell_type": "code",
   "execution_count": 10,
   "metadata": {},
   "outputs": [
    {
     "data": {
      "text/html": [
       "<div>\n",
       "<style scoped>\n",
       "    .dataframe tbody tr th:only-of-type {\n",
       "        vertical-align: middle;\n",
       "    }\n",
       "\n",
       "    .dataframe tbody tr th {\n",
       "        vertical-align: top;\n",
       "    }\n",
       "\n",
       "    .dataframe thead th {\n",
       "        text-align: right;\n",
       "    }\n",
       "</style>\n",
       "<table border=\"1\" class=\"dataframe\">\n",
       "  <thead>\n",
       "    <tr style=\"text-align: right;\">\n",
       "      <th></th>\n",
       "      <th>IlmnID</th>\n",
       "      <th>noob_meth</th>\n",
       "      <th>noob_unmeth</th>\n",
       "      <th>poobah_pval</th>\n",
       "      <th>meth</th>\n",
       "      <th>unmeth</th>\n",
       "      <th>beta_value</th>\n",
       "      <th>m_value</th>\n",
       "    </tr>\n",
       "  </thead>\n",
       "  <tbody>\n",
       "    <tr>\n",
       "      <td>0</td>\n",
       "      <td>cg00531009_BC21</td>\n",
       "      <td>8944</td>\n",
       "      <td>431.0</td>\n",
       "      <td>0.002</td>\n",
       "      <td>9260.0</td>\n",
       "      <td>1257.0</td>\n",
       "      <td>0.944</td>\n",
       "      <td>4.373</td>\n",
       "    </tr>\n",
       "    <tr>\n",
       "      <td>1</td>\n",
       "      <td>cg00747726_TC21</td>\n",
       "      <td>6108</td>\n",
       "      <td>533.0</td>\n",
       "      <td>0.007</td>\n",
       "      <td>6430.0</td>\n",
       "      <td>1479.0</td>\n",
       "      <td>0.906</td>\n",
       "      <td>3.517</td>\n",
       "    </tr>\n",
       "    <tr>\n",
       "      <td>2</td>\n",
       "      <td>cg01326836_BC21</td>\n",
       "      <td>1379</td>\n",
       "      <td>4255.0</td>\n",
       "      <td>0.004</td>\n",
       "      <td>1702.0</td>\n",
       "      <td>9570.0</td>\n",
       "      <td>0.240</td>\n",
       "      <td>-1.625</td>\n",
       "    </tr>\n",
       "    <tr>\n",
       "      <td>3</td>\n",
       "      <td>cg01603043_TC21</td>\n",
       "      <td>3255</td>\n",
       "      <td>266.0</td>\n",
       "      <td>0.015</td>\n",
       "      <td>3578.0</td>\n",
       "      <td>899.0</td>\n",
       "      <td>0.899</td>\n",
       "      <td>3.608</td>\n",
       "    </tr>\n",
       "    <tr>\n",
       "      <td>4</td>\n",
       "      <td>cg01683044_BC21</td>\n",
       "      <td>97</td>\n",
       "      <td>998.0</td>\n",
       "      <td>0.024</td>\n",
       "      <td>360.0</td>\n",
       "      <td>2490.0</td>\n",
       "      <td>0.081</td>\n",
       "      <td>-3.352</td>\n",
       "    </tr>\n",
       "    <tr>\n",
       "      <td>...</td>\n",
       "      <td>...</td>\n",
       "      <td>...</td>\n",
       "      <td>...</td>\n",
       "      <td>...</td>\n",
       "      <td>...</td>\n",
       "      <td>...</td>\n",
       "      <td>...</td>\n",
       "      <td>...</td>\n",
       "    </tr>\n",
       "    <tr>\n",
       "      <td>127847</td>\n",
       "      <td>ch985669618_BC21</td>\n",
       "      <td>379</td>\n",
       "      <td>37.0</td>\n",
       "      <td>0.096</td>\n",
       "      <td>702.0</td>\n",
       "      <td>230.0</td>\n",
       "      <td>0.734</td>\n",
       "      <td>3.311</td>\n",
       "    </tr>\n",
       "    <tr>\n",
       "      <td>127848</td>\n",
       "      <td>ch985669618_BC21</td>\n",
       "      <td>379</td>\n",
       "      <td>37.0</td>\n",
       "      <td>0.096</td>\n",
       "      <td>702.0</td>\n",
       "      <td>230.0</td>\n",
       "      <td>0.734</td>\n",
       "      <td>3.311</td>\n",
       "    </tr>\n",
       "    <tr>\n",
       "      <td>127849</td>\n",
       "      <td>ch985669618_BC21</td>\n",
       "      <td>379</td>\n",
       "      <td>37.0</td>\n",
       "      <td>0.096</td>\n",
       "      <td>702.0</td>\n",
       "      <td>230.0</td>\n",
       "      <td>0.734</td>\n",
       "      <td>3.311</td>\n",
       "    </tr>\n",
       "    <tr>\n",
       "      <td>127850</td>\n",
       "      <td>ch991719372_BC21</td>\n",
       "      <td>196</td>\n",
       "      <td>34.0</td>\n",
       "      <td>0.170</td>\n",
       "      <td>513.0</td>\n",
       "      <td>192.0</td>\n",
       "      <td>0.594</td>\n",
       "      <td>2.499</td>\n",
       "    </tr>\n",
       "    <tr>\n",
       "      <td>127851</td>\n",
       "      <td>ch997280303_BC21</td>\n",
       "      <td>85</td>\n",
       "      <td>34.0</td>\n",
       "      <td>0.432</td>\n",
       "      <td>328.0</td>\n",
       "      <td>197.0</td>\n",
       "      <td>0.387</td>\n",
       "      <td>1.282</td>\n",
       "    </tr>\n",
       "  </tbody>\n",
       "</table>\n",
       "<p>127852 rows × 8 columns</p>\n",
       "</div>"
      ],
      "text/plain": [
       "                  IlmnID  noob_meth  noob_unmeth  poobah_pval    meth  unmeth  \\\n",
       "0        cg00531009_BC21       8944        431.0        0.002  9260.0  1257.0   \n",
       "1        cg00747726_TC21       6108        533.0        0.007  6430.0  1479.0   \n",
       "2        cg01326836_BC21       1379       4255.0        0.004  1702.0  9570.0   \n",
       "3        cg01603043_TC21       3255        266.0        0.015  3578.0   899.0   \n",
       "4        cg01683044_BC21         97        998.0        0.024   360.0  2490.0   \n",
       "...                  ...        ...          ...          ...     ...     ...   \n",
       "127847  ch985669618_BC21        379         37.0        0.096   702.0   230.0   \n",
       "127848  ch985669618_BC21        379         37.0        0.096   702.0   230.0   \n",
       "127849  ch985669618_BC21        379         37.0        0.096   702.0   230.0   \n",
       "127850  ch991719372_BC21        196         34.0        0.170   513.0   192.0   \n",
       "127851  ch997280303_BC21         85         34.0        0.432   328.0   197.0   \n",
       "\n",
       "        beta_value  m_value  \n",
       "0            0.944    4.373  \n",
       "1            0.906    3.517  \n",
       "2            0.240   -1.625  \n",
       "3            0.899    3.608  \n",
       "4            0.081   -3.352  \n",
       "...            ...      ...  \n",
       "127847       0.734    3.311  \n",
       "127848       0.734    3.311  \n",
       "127849       0.734    3.311  \n",
       "127850       0.594    2.499  \n",
       "127851       0.387    1.282  \n",
       "\n",
       "[127852 rows x 8 columns]"
      ]
     },
     "execution_count": 10,
     "metadata": {},
     "output_type": "execute_result"
    }
   ],
   "source": [
    "sample_list[-1]"
   ]
  },
  {
   "cell_type": "markdown",
   "metadata": {},
   "source": [
    "### 'm_value'\n",
    "As an alternative to beta_values, `methylcheck` also provides sample `m_values`, returning a DataFrame."
   ]
  },
  {
   "cell_type": "code",
   "execution_count": 11,
   "metadata": {
    "scrolled": true
   },
   "outputs": [
    {
     "name": "stderr",
     "output_type": "stream",
     "text": [
      "Files: 100%|██████████| 1/1 [00:00<00:00, 50.02it/s]\n",
      "INFO:methylcheck.load_processed:loaded data (127852, 6) from 1 pickled files (0.039s)\n"
     ]
    },
    {
     "data": {
      "text/html": [
       "<div>\n",
       "<style scoped>\n",
       "    .dataframe tbody tr th:only-of-type {\n",
       "        vertical-align: middle;\n",
       "    }\n",
       "\n",
       "    .dataframe tbody tr th {\n",
       "        vertical-align: top;\n",
       "    }\n",
       "\n",
       "    .dataframe thead th {\n",
       "        text-align: right;\n",
       "    }\n",
       "</style>\n",
       "<table border=\"1\" class=\"dataframe\">\n",
       "  <thead>\n",
       "    <tr style=\"text-align: right;\">\n",
       "      <th></th>\n",
       "      <th>204879580038_R01C02</th>\n",
       "      <th>204879580038_R02C02</th>\n",
       "      <th>204879580038_R03C02</th>\n",
       "      <th>204879580038_R04C02</th>\n",
       "      <th>204879580038_R05C02</th>\n",
       "      <th>204879580038_R06C02</th>\n",
       "    </tr>\n",
       "    <tr>\n",
       "      <th>IlmnID</th>\n",
       "      <th></th>\n",
       "      <th></th>\n",
       "      <th></th>\n",
       "      <th></th>\n",
       "      <th></th>\n",
       "      <th></th>\n",
       "    </tr>\n",
       "  </thead>\n",
       "  <tbody>\n",
       "    <tr>\n",
       "      <td>cg00531009_BC21</td>\n",
       "      <td>4.042</td>\n",
       "      <td>3.552</td>\n",
       "      <td>3.738</td>\n",
       "      <td>3.377</td>\n",
       "      <td>3.830</td>\n",
       "      <td>4.373</td>\n",
       "    </tr>\n",
       "    <tr>\n",
       "      <td>cg00747726_TC21</td>\n",
       "      <td>3.119</td>\n",
       "      <td>2.854</td>\n",
       "      <td>3.064</td>\n",
       "      <td>3.146</td>\n",
       "      <td>3.307</td>\n",
       "      <td>3.517</td>\n",
       "    </tr>\n",
       "    <tr>\n",
       "      <td>cg01326836_BC21</td>\n",
       "      <td>-1.910</td>\n",
       "      <td>-1.637</td>\n",
       "      <td>-1.639</td>\n",
       "      <td>-1.753</td>\n",
       "      <td>-1.724</td>\n",
       "      <td>-1.625</td>\n",
       "    </tr>\n",
       "    <tr>\n",
       "      <td>cg01603043_TC21</td>\n",
       "      <td>2.944</td>\n",
       "      <td>2.851</td>\n",
       "      <td>3.220</td>\n",
       "      <td>2.908</td>\n",
       "      <td>3.013</td>\n",
       "      <td>3.608</td>\n",
       "    </tr>\n",
       "    <tr>\n",
       "      <td>cg01683044_BC21</td>\n",
       "      <td>-3.904</td>\n",
       "      <td>-3.925</td>\n",
       "      <td>-3.979</td>\n",
       "      <td>-3.807</td>\n",
       "      <td>-3.681</td>\n",
       "      <td>-3.352</td>\n",
       "    </tr>\n",
       "    <tr>\n",
       "      <td>...</td>\n",
       "      <td>...</td>\n",
       "      <td>...</td>\n",
       "      <td>...</td>\n",
       "      <td>...</td>\n",
       "      <td>...</td>\n",
       "      <td>...</td>\n",
       "    </tr>\n",
       "    <tr>\n",
       "      <td>ch985669618_BC21</td>\n",
       "      <td>3.541</td>\n",
       "      <td>3.514</td>\n",
       "      <td>NaN</td>\n",
       "      <td>NaN</td>\n",
       "      <td>NaN</td>\n",
       "      <td>NaN</td>\n",
       "    </tr>\n",
       "    <tr>\n",
       "      <td>ch985669618_BC21</td>\n",
       "      <td>3.541</td>\n",
       "      <td>3.514</td>\n",
       "      <td>NaN</td>\n",
       "      <td>NaN</td>\n",
       "      <td>NaN</td>\n",
       "      <td>NaN</td>\n",
       "    </tr>\n",
       "    <tr>\n",
       "      <td>ch985669618_BC21</td>\n",
       "      <td>3.541</td>\n",
       "      <td>3.514</td>\n",
       "      <td>NaN</td>\n",
       "      <td>NaN</td>\n",
       "      <td>NaN</td>\n",
       "      <td>NaN</td>\n",
       "    </tr>\n",
       "    <tr>\n",
       "      <td>ch991719372_BC21</td>\n",
       "      <td>NaN</td>\n",
       "      <td>NaN</td>\n",
       "      <td>NaN</td>\n",
       "      <td>NaN</td>\n",
       "      <td>NaN</td>\n",
       "      <td>NaN</td>\n",
       "    </tr>\n",
       "    <tr>\n",
       "      <td>ch997280303_BC21</td>\n",
       "      <td>NaN</td>\n",
       "      <td>NaN</td>\n",
       "      <td>NaN</td>\n",
       "      <td>NaN</td>\n",
       "      <td>NaN</td>\n",
       "      <td>NaN</td>\n",
       "    </tr>\n",
       "  </tbody>\n",
       "</table>\n",
       "<p>127852 rows × 6 columns</p>\n",
       "</div>"
      ],
      "text/plain": [
       "                  204879580038_R01C02  204879580038_R02C02  \\\n",
       "IlmnID                                                       \n",
       "cg00531009_BC21                 4.042                3.552   \n",
       "cg00747726_TC21                 3.119                2.854   \n",
       "cg01326836_BC21                -1.910               -1.637   \n",
       "cg01603043_TC21                 2.944                2.851   \n",
       "cg01683044_BC21                -3.904               -3.925   \n",
       "...                               ...                  ...   \n",
       "ch985669618_BC21                3.541                3.514   \n",
       "ch985669618_BC21                3.541                3.514   \n",
       "ch985669618_BC21                3.541                3.514   \n",
       "ch991719372_BC21                  NaN                  NaN   \n",
       "ch997280303_BC21                  NaN                  NaN   \n",
       "\n",
       "                  204879580038_R03C02  204879580038_R04C02  \\\n",
       "IlmnID                                                       \n",
       "cg00531009_BC21                 3.738                3.377   \n",
       "cg00747726_TC21                 3.064                3.146   \n",
       "cg01326836_BC21                -1.639               -1.753   \n",
       "cg01603043_TC21                 3.220                2.908   \n",
       "cg01683044_BC21                -3.979               -3.807   \n",
       "...                               ...                  ...   \n",
       "ch985669618_BC21                  NaN                  NaN   \n",
       "ch985669618_BC21                  NaN                  NaN   \n",
       "ch985669618_BC21                  NaN                  NaN   \n",
       "ch991719372_BC21                  NaN                  NaN   \n",
       "ch997280303_BC21                  NaN                  NaN   \n",
       "\n",
       "                  204879580038_R05C02  204879580038_R06C02  \n",
       "IlmnID                                                      \n",
       "cg00531009_BC21                 3.830                4.373  \n",
       "cg00747726_TC21                 3.307                3.517  \n",
       "cg01326836_BC21                -1.724               -1.625  \n",
       "cg01603043_TC21                 3.013                3.608  \n",
       "cg01683044_BC21                -3.681               -3.352  \n",
       "...                               ...                  ...  \n",
       "ch985669618_BC21                  NaN                  NaN  \n",
       "ch985669618_BC21                  NaN                  NaN  \n",
       "ch985669618_BC21                  NaN                  NaN  \n",
       "ch991719372_BC21                  NaN                  NaN  \n",
       "ch997280303_BC21                  NaN                  NaN  \n",
       "\n",
       "[127852 rows x 6 columns]"
      ]
     },
     "execution_count": 11,
     "metadata": {},
     "output_type": "execute_result"
    }
   ],
   "source": [
    "filepath = Path('/Volumes/LEGX/Barnes/mouse_test')\n",
    "df = methylcheck.load(filepath, format='m_value')\n",
    "df"
   ]
  },
  {
   "cell_type": "markdown",
   "metadata": {},
   "source": [
    "## Loading both beta_values and meta_data\n",
    "use `methylcheck.load_both(<path>)`.\n",
    "Note that `.load_both()` looks for the meta_data file generated by `methylprep process` and will not recognize meta data from other packages, such as `sesame`."
   ]
  },
  {
   "cell_type": "code",
   "execution_count": 12,
   "metadata": {},
   "outputs": [
    {
     "name": "stderr",
     "output_type": "stream",
     "text": [
      "Files: 100%|██████████| 1/1 [00:00<00:00,  8.26it/s]\n",
      "INFO:methylcheck.load_processed:loaded data (485512, 24) from 1 pickled files (0.162s)\n",
      "INFO:methylcheck.load_processed:meta.Sample_IDs match data.index (OK)\n"
     ]
    },
    {
     "name": "stdout",
     "output_type": "stream",
     "text": [
      "(24, 485512)\n",
      "       GSM_ID                          Sample_Name  Sentrix_ID  \\\n",
      "0  GSM1944936  genomic DNA from placental biopsy 1  9376561054   \n",
      "1  GSM1944939  genomic DNA from placental biopsy 2  9376561054   \n",
      "2  GSM1944942  genomic DNA from placental biopsy 3  9376561054   \n",
      "3  GSM1944944  genomic DNA from placental biopsy 4  9376561054   \n",
      "4  GSM1944946  genomic DNA from placental biopsy 5  9376561054   \n",
      "\n",
      "  Sentrix_Position                                             source     Sex  \\\n",
      "0           R01C01  placental biopsy collected <30mins of delivery...    Male   \n",
      "1           R02C01     placental biopsy collected <30mins of delivery    Male   \n",
      "2           R03C01     placental biopsy collected <30mins of delivery  Female   \n",
      "3           R04C01     placental biopsy collected <30mins of delivery    Male   \n",
      "4           R05C01     placental biopsy collected <30mins of delivery  Female   \n",
      "\n",
      "        disease gestation (wk)    tissue            description  \\\n",
      "0  preeclampsia             36  placenta  preeclampsia placenta   \n",
      "1  preeclampsia             32  placenta  preeclampsia placenta   \n",
      "2  preeclampsia             32  placenta  preeclampsia placenta   \n",
      "3  preeclampsia             35  placenta  preeclampsia placenta   \n",
      "4  preeclampsia             38  placenta  preeclampsia placenta   \n",
      "\n",
      "           Sample_ID  \n",
      "0  9376561054_R01C01  \n",
      "1  9376561054_R02C01  \n",
      "2  9376561054_R03C01  \n",
      "3  9376561054_R04C01  \n",
      "4  9376561054_R05C01  \n"
     ]
    }
   ],
   "source": [
    "filepath = Path('/Volumes/LEGX/GEO/GSE75196')\n",
    "df, meta = methylcheck.load_both(filepath)\n",
    "print(df.shape)\n",
    "print(meta.head())"
   ]
  },
  {
   "cell_type": "code",
   "execution_count": null,
   "metadata": {},
   "outputs": [],
   "source": []
  }
 ],
 "metadata": {
  "kernelspec": {
   "display_name": "Python 3",
   "language": "python",
   "name": "python3"
  },
  "language_info": {
   "codemirror_mode": {
    "name": "ipython",
    "version": 3
   },
   "file_extension": ".py",
   "mimetype": "text/x-python",
   "name": "python",
   "nbconvert_exporter": "python",
   "pygments_lexer": "ipython3",
   "version": "3.7.3"
  }
 },
 "nbformat": 4,
 "nbformat_minor": 4
}
