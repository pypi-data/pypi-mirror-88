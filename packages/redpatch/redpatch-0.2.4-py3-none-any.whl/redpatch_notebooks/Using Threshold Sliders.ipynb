{
 "cells": [
  {
   "cell_type": "markdown",
   "metadata": {},
   "source": [
    "## How to use the threshold sliders\n",
    "\n",
    "The first step is to get an HSV image, we can do this with the `rp.FileBrowser()` function to call up a browser and get the path to it."
   ]
  },
  {
   "cell_type": "code",
   "execution_count": 1,
   "metadata": {},
   "outputs": [
    {
     "data": {
      "application/vnd.jupyter.widget-view+json": {
       "model_id": "0d30dcc6ecc04dd5ac2c2e3bd784f7e8",
       "version_major": 2,
       "version_minor": 0
      },
      "text/plain": [
       "VBox(children=(HTML(value='You have selected: /Users/macleand'), Button(description='up one level', style=Butt…"
      ]
     },
     "metadata": {},
     "output_type": "display_data"
    }
   ],
   "source": [
    "import redpatch as rp\n",
    "\n",
    "f = rp.FileBrowser()\n",
    "f.widget()"
   ]
  },
  {
   "cell_type": "markdown",
   "metadata": {},
   "source": [
    "Then we can load the image"
   ]
  },
  {
   "cell_type": "code",
   "execution_count": 2,
   "metadata": {},
   "outputs": [],
   "source": [
    "new_image = rp.load_as_hsv( f.path )"
   ]
  },
  {
   "cell_type": "markdown",
   "metadata": {},
   "source": [
    "With the image loaded we can run the `rp.run_threshold_preview()` function. This creates some H,S and V sliders that you can set (note the 0..1 scale). When you hit the `Run Interact` button you see a preview of all the pixels that would be retained in a red colour."
   ]
  },
  {
   "cell_type": "code",
   "execution_count": 4,
   "metadata": {},
   "outputs": [
    {
     "data": {
      "application/vnd.jupyter.widget-view+json": {
       "model_id": "e7ae42188008496c83a21ad827345ca8",
       "version_major": 2,
       "version_minor": 0
      },
      "text/plain": [
       "interactive(children=(FloatRangeSlider(value=(0.25, 0.75), continuous_update=False, description='h', layout=La…"
      ]
     },
     "metadata": {},
     "output_type": "display_data"
    }
   ],
   "source": [
    "rp.run_threshold_preview(new_image)"
   ]
  },
  {
   "cell_type": "markdown",
   "metadata": {},
   "source": [
    "Note that the function doesn't do anything other than generate a preview. The point is to get the threshold values for use further downstream. \n",
    "\n",
    "One of the things this function does is downsample the image _before_ it begins thresholding. This reduces the number of pixels that need to be analysed and speeds things up a lot so we get the nice preview in a short time. If you don't like this you can set the option `perfect=True` to get analysis on the full size image that is only downsized _after_ the thresholding is done and the image is displayed. You can control the amount of downsizing with the `scale` parameter in the function, by default this is `0.25` so works on an image 1/4 of the original size.\n",
    "\n",
    "You can use the values in other functions that require the threshold values to be set. The slider function can be invoked wherever you need it."
   ]
  },
  {
   "cell_type": "markdown",
   "metadata": {},
   "source": [
    "If you wish to change the dimensions of the image preview, you can use the `width` and `height` parameters. The scale is in `inches` due to the way the backend works. The aspect ratio is maintained for the image, so you usually only get use out of setting one of `width` or `height`."
   ]
  },
  {
   "cell_type": "code",
   "execution_count": 4,
   "metadata": {},
   "outputs": [
    {
     "data": {
      "application/vnd.jupyter.widget-view+json": {
       "model_id": "257725d23d09428f89bfd8f5bf4ac4d9",
       "version_major": 2,
       "version_minor": 0
      },
      "text/plain": [
       "interactive(children=(FloatRangeSlider(value=(0.25, 0.75), description='h', layout=Layout(width='500px'), max=…"
      ]
     },
     "metadata": {},
     "output_type": "display_data"
    }
   ],
   "source": [
    "rp.run_threshold_preview(new_image, width = 2)"
   ]
  },
  {
   "cell_type": "markdown",
   "metadata": {},
   "source": [
    "The sliders themselves can be made longer. Set the `slider_width` parameter to the pixel width you would like"
   ]
  },
  {
   "cell_type": "code",
   "execution_count": 7,
   "metadata": {},
   "outputs": [
    {
     "data": {
      "application/vnd.jupyter.widget-view+json": {
       "model_id": "b17aaca5c3d14b819616f92ced132163",
       "version_major": 2,
       "version_minor": 0
      },
      "text/plain": [
       "interactive(children=(FloatRangeSlider(value=(0.25, 0.75), description='h', layout=Layout(width='45px'), max=1…"
      ]
     },
     "metadata": {},
     "output_type": "display_data"
    }
   ],
   "source": [
    "rp.run_threshold_preview(new_image, slider_width = 45)"
   ]
  }
 ],
 "metadata": {
  "kernelspec": {
   "display_name": "Python 3",
   "language": "python",
   "name": "python3"
  },
  "language_info": {
   "codemirror_mode": {
    "name": "ipython",
    "version": 3
   },
   "file_extension": ".py",
   "mimetype": "text/x-python",
   "name": "python",
   "nbconvert_exporter": "python",
   "pygments_lexer": "ipython3",
   "version": "3.7.3"
  }
 },
 "nbformat": 4,
 "nbformat_minor": 2
}
