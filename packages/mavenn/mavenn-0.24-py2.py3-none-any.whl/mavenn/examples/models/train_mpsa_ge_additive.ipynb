{
 "cells": [
  {
   "cell_type": "code",
   "execution_count": 1,
   "metadata": {
    "ExecuteTime": {
     "end_time": "2020-11-17T18:18:47.707482Z",
     "start_time": "2020-11-17T18:18:44.952486Z"
    }
   },
   "outputs": [
    {
     "name": "stdout",
     "output_type": "stream",
     "text": [
      "['/Users/jkinney/github/mavenn/mavenn']\n"
     ]
    }
   ],
   "source": [
    "# Standard imports\n",
    "import pandas as pd\n",
    "import matplotlib.pyplot as plt\n",
    "import numpy as np\n",
    "import time\n",
    "\n",
    "# Insert path to mavenn beginning of path\n",
    "import os\n",
    "import sys\n",
    "\n",
    "# Load mavenn\n",
    "import mavenn\n",
    "print(mavenn.__path__)"
   ]
  },
  {
   "cell_type": "code",
   "execution_count": 2,
   "metadata": {
    "ExecuteTime": {
     "end_time": "2020-11-17T18:18:47.835115Z",
     "start_time": "2020-11-17T18:18:47.711219Z"
    }
   },
   "outputs": [
    {
     "name": "stdout",
     "output_type": "stream",
     "text": [
      "test N: 6,249\n",
      "training + validation N: 24,234\n"
     ]
    },
    {
     "data": {
      "text/html": [
       "<div>\n",
       "<style scoped>\n",
       "    .dataframe tbody tr th:only-of-type {\n",
       "        vertical-align: middle;\n",
       "    }\n",
       "\n",
       "    .dataframe tbody tr th {\n",
       "        vertical-align: top;\n",
       "    }\n",
       "\n",
       "    .dataframe thead th {\n",
       "        text-align: right;\n",
       "    }\n",
       "</style>\n",
       "<table border=\"1\" class=\"dataframe\">\n",
       "  <thead>\n",
       "    <tr style=\"text-align: right;\">\n",
       "      <th></th>\n",
       "      <th>set</th>\n",
       "      <th>tot_ct</th>\n",
       "      <th>ex_ct</th>\n",
       "      <th>y</th>\n",
       "      <th>x</th>\n",
       "    </tr>\n",
       "  </thead>\n",
       "  <tbody>\n",
       "    <tr>\n",
       "      <th>0</th>\n",
       "      <td>training</td>\n",
       "      <td>28</td>\n",
       "      <td>2</td>\n",
       "      <td>0.023406</td>\n",
       "      <td>GGAGUGAUG</td>\n",
       "    </tr>\n",
       "    <tr>\n",
       "      <th>1</th>\n",
       "      <td>training</td>\n",
       "      <td>315</td>\n",
       "      <td>7</td>\n",
       "      <td>-0.587914</td>\n",
       "      <td>AGUGUGCAA</td>\n",
       "    </tr>\n",
       "    <tr>\n",
       "      <th>2</th>\n",
       "      <td>validation</td>\n",
       "      <td>27</td>\n",
       "      <td>0</td>\n",
       "      <td>-0.438475</td>\n",
       "      <td>UAAGCUUUU</td>\n",
       "    </tr>\n",
       "    <tr>\n",
       "      <th>3</th>\n",
       "      <td>training</td>\n",
       "      <td>130</td>\n",
       "      <td>2</td>\n",
       "      <td>-0.631467</td>\n",
       "      <td>AUGGUCGGG</td>\n",
       "    </tr>\n",
       "    <tr>\n",
       "      <th>4</th>\n",
       "      <td>training</td>\n",
       "      <td>552</td>\n",
       "      <td>19</td>\n",
       "      <td>-0.433012</td>\n",
       "      <td>AGGGCAGGA</td>\n",
       "    </tr>\n",
       "    <tr>\n",
       "      <th>5</th>\n",
       "      <td>training</td>\n",
       "      <td>151</td>\n",
       "      <td>184</td>\n",
       "      <td>1.094011</td>\n",
       "      <td>AAGGUCCGC</td>\n",
       "    </tr>\n",
       "    <tr>\n",
       "      <th>6</th>\n",
       "      <td>training</td>\n",
       "      <td>88</td>\n",
       "      <td>4</td>\n",
       "      <td>-0.241737</td>\n",
       "      <td>CAGGCAAAC</td>\n",
       "    </tr>\n",
       "    <tr>\n",
       "      <th>7</th>\n",
       "      <td>training</td>\n",
       "      <td>105</td>\n",
       "      <td>5</td>\n",
       "      <td>-0.238471</td>\n",
       "      <td>GUGGCAAAU</td>\n",
       "    </tr>\n",
       "    <tr>\n",
       "      <th>8</th>\n",
       "      <td>validation</td>\n",
       "      <td>14</td>\n",
       "      <td>0</td>\n",
       "      <td>-0.167408</td>\n",
       "      <td>CAUGCAGCU</td>\n",
       "    </tr>\n",
       "    <tr>\n",
       "      <th>9</th>\n",
       "      <td>training</td>\n",
       "      <td>170</td>\n",
       "      <td>14</td>\n",
       "      <td>-0.048222</td>\n",
       "      <td>CAAGUCACU</td>\n",
       "    </tr>\n",
       "  </tbody>\n",
       "</table>\n",
       "</div>"
      ],
      "text/plain": [
       "          set  tot_ct  ex_ct         y          x\n",
       "0    training      28      2  0.023406  GGAGUGAUG\n",
       "1    training     315      7 -0.587914  AGUGUGCAA\n",
       "2  validation      27      0 -0.438475  UAAGCUUUU\n",
       "3    training     130      2 -0.631467  AUGGUCGGG\n",
       "4    training     552     19 -0.433012  AGGGCAGGA\n",
       "5    training     151    184  1.094011  AAGGUCCGC\n",
       "6    training      88      4 -0.241737  CAGGCAAAC\n",
       "7    training     105      5 -0.238471  GUGGCAAAU\n",
       "8  validation      14      0 -0.167408  CAUGCAGCU\n",
       "9    training     170     14 -0.048222  CAAGUCACU"
      ]
     },
     "execution_count": 2,
     "metadata": {},
     "output_type": "execute_result"
    }
   ],
   "source": [
    "# Load example data\n",
    "data_df = mavenn.load_example_dataset('mpsa')\n",
    "\n",
    "# Separate test from data_df\n",
    "ix_test = data_df['set']=='test'\n",
    "test_df = data_df[ix_test].reset_index(drop=True)\n",
    "print(f'test N: {len(test_df):,}')\n",
    "\n",
    "# Remove test data from data_df\n",
    "data_df = data_df[~ix_test].reset_index(drop=True)\n",
    "print(f'training + validation N: {len(data_df):,}')\n",
    "data_df.head(10)"
   ]
  },
  {
   "cell_type": "code",
   "execution_count": 3,
   "metadata": {
    "ExecuteTime": {
     "end_time": "2020-11-17T18:18:49.794989Z",
     "start_time": "2020-11-17T18:18:47.843656Z"
    }
   },
   "outputs": [],
   "source": [
    "# Get sequence length\n",
    "L = len(data_df['x'][0])\n",
    "\n",
    "# Define model\n",
    "model = mavenn.Model(L=L,\n",
    "                     alphabet='rna',\n",
    "                     gpmap_type='additive', \n",
    "                     regression_type='GE',\n",
    "                     ge_noise_model_type='SkewedT',\n",
    "                     ge_heteroskedasticity_order=2)\n"
   ]
  },
  {
   "cell_type": "code",
   "execution_count": 4,
   "metadata": {
    "ExecuteTime": {
     "end_time": "2020-11-17T18:18:50.313341Z",
     "start_time": "2020-11-17T18:18:49.810979Z"
    }
   },
   "outputs": [
    {
     "name": "stdout",
     "output_type": "stream",
     "text": [
      "N = 24,234 observations set as training data.\n",
      "Using 24.8% for validation.\n",
      "Data shuffled.\n",
      "Time to set data: 0.48 sec.\n"
     ]
    }
   ],
   "source": [
    "# Set training data\n",
    "model.set_data(x=data_df['x'],\n",
    "               y=data_df['y'],\n",
    "               validation_flags=(data_df['set']=='validation'),\n",
    "               shuffle=True)"
   ]
  },
  {
   "cell_type": "code",
   "execution_count": 5,
   "metadata": {
    "ExecuteTime": {
     "end_time": "2020-11-17T18:19:26.019705Z",
     "start_time": "2020-11-17T18:18:50.317192Z"
    },
    "scrolled": true
   },
   "outputs": [
    {
     "name": "stdout",
     "output_type": "stream",
     "text": [
      "Epoch 1/1000\n",
      "92/92 [==============================] - 1s 6ms/step - loss: 268.2306 - I_var: -0.5132 - val_loss: 254.5117 - val_I_var: -0.4241\n",
      "Epoch 2/1000\n",
      "92/92 [==============================] - 0s 3ms/step - loss: 246.9376 - I_var: -0.3570 - val_loss: 237.5490 - val_I_var: -0.3057\n",
      "Epoch 3/1000\n",
      "92/92 [==============================] - 0s 3ms/step - loss: 232.0611 - I_var: -0.2567 - val_loss: 224.8442 - val_I_var: -0.2179\n",
      "Epoch 4/1000\n",
      "92/92 [==============================] - 0s 2ms/step - loss: 221.3263 - I_var: -0.1895 - val_loss: 216.0564 - val_I_var: -0.1578\n",
      "Epoch 5/1000\n",
      "92/92 [==============================] - 0s 3ms/step - loss: 214.1755 - I_var: -0.1331 - val_loss: 210.2031 - val_I_var: -0.1188\n",
      "Epoch 6/1000\n",
      "92/92 [==============================] - 0s 2ms/step - loss: 209.3592 - I_var: -0.1024 - val_loss: 205.8030 - val_I_var: -0.0901\n",
      "Epoch 7/1000\n",
      "92/92 [==============================] - 0s 3ms/step - loss: 205.4109 - I_var: -0.0753 - val_loss: 202.4029 - val_I_var: -0.0684\n",
      "Epoch 8/1000\n",
      "92/92 [==============================] - 0s 3ms/step - loss: 202.1129 - I_var: -0.0515 - val_loss: 199.5084 - val_I_var: -0.0505\n",
      "Epoch 9/1000\n",
      "92/92 [==============================] - 0s 2ms/step - loss: 198.8590 - I_var: -0.0312 - val_loss: 196.4095 - val_I_var: -0.0302\n",
      "Epoch 10/1000\n",
      "92/92 [==============================] - 0s 3ms/step - loss: 196.2547 - I_var: -0.0116 - val_loss: 194.4191 - val_I_var: -0.0170\n",
      "Epoch 11/1000\n",
      "92/92 [==============================] - 0s 3ms/step - loss: 194.2773 - I_var: -0.0030 - val_loss: 194.1011 - val_I_var: -0.0152\n",
      "Epoch 12/1000\n",
      "92/92 [==============================] - 0s 2ms/step - loss: 193.1258 - I_var: 0.0085 - val_loss: 191.8575 - val_I_var: 2.8401e-04\n",
      "Epoch 13/1000\n",
      "92/92 [==============================] - 0s 2ms/step - loss: 191.7923 - I_var: 0.0179 - val_loss: 190.8446 - val_I_var: 0.0076\n",
      "Epoch 14/1000\n",
      "92/92 [==============================] - 0s 2ms/step - loss: 190.7292 - I_var: 0.0251 - val_loss: 189.8521 - val_I_var: 0.0150\n",
      "Epoch 15/1000\n",
      "92/92 [==============================] - 0s 3ms/step - loss: 189.7500 - I_var: 0.0287 - val_loss: 188.8520 - val_I_var: 0.0221\n",
      "Epoch 16/1000\n",
      "92/92 [==============================] - 0s 2ms/step - loss: 188.6816 - I_var: 0.0383 - val_loss: 187.7283 - val_I_var: 0.0309\n",
      "Epoch 17/1000\n",
      "92/92 [==============================] - 0s 2ms/step - loss: 187.7262 - I_var: 0.0525 - val_loss: 186.6064 - val_I_var: 0.0395\n",
      "Epoch 18/1000\n",
      "92/92 [==============================] - 0s 2ms/step - loss: 186.6794 - I_var: 0.0539 - val_loss: 185.5329 - val_I_var: 0.0478\n",
      "Epoch 19/1000\n",
      "92/92 [==============================] - 0s 2ms/step - loss: 185.5726 - I_var: 0.0607 - val_loss: 184.2486 - val_I_var: 0.0577\n",
      "Epoch 20/1000\n",
      "92/92 [==============================] - 0s 2ms/step - loss: 184.4433 - I_var: 0.0691 - val_loss: 183.0619 - val_I_var: 0.0672\n",
      "Epoch 21/1000\n",
      "92/92 [==============================] - 0s 2ms/step - loss: 183.3029 - I_var: 0.0811 - val_loss: 181.6407 - val_I_var: 0.0784\n",
      "Epoch 22/1000\n",
      "92/92 [==============================] - 0s 2ms/step - loss: 182.0850 - I_var: 0.0898 - val_loss: 180.4285 - val_I_var: 0.0884\n",
      "Epoch 23/1000\n",
      "92/92 [==============================] - 0s 2ms/step - loss: 180.8802 - I_var: 0.0926 - val_loss: 178.9515 - val_I_var: 0.1000\n",
      "Epoch 24/1000\n",
      "92/92 [==============================] - 0s 2ms/step - loss: 179.8844 - I_var: 0.1059 - val_loss: 177.7772 - val_I_var: 0.1096\n",
      "Epoch 25/1000\n",
      "92/92 [==============================] - 0s 2ms/step - loss: 178.7890 - I_var: 0.1095 - val_loss: 176.6228 - val_I_var: 0.1188\n",
      "Epoch 26/1000\n",
      "92/92 [==============================] - 0s 2ms/step - loss: 177.9755 - I_var: 0.1236 - val_loss: 175.7617 - val_I_var: 0.1260\n",
      "Epoch 27/1000\n",
      "92/92 [==============================] - 0s 3ms/step - loss: 177.3794 - I_var: 0.1180 - val_loss: 176.4082 - val_I_var: 0.1231\n",
      "Epoch 28/1000\n",
      "92/92 [==============================] - 0s 2ms/step - loss: 176.8279 - I_var: 0.1240 - val_loss: 174.5007 - val_I_var: 0.1367\n",
      "Epoch 29/1000\n",
      "92/92 [==============================] - 0s 2ms/step - loss: 176.5177 - I_var: 0.1382 - val_loss: 174.1222 - val_I_var: 0.1402\n",
      "Epoch 30/1000\n",
      "92/92 [==============================] - 0s 2ms/step - loss: 176.2588 - I_var: 0.1341 - val_loss: 173.8210 - val_I_var: 0.1430\n",
      "Epoch 31/1000\n",
      "92/92 [==============================] - 0s 2ms/step - loss: 175.9686 - I_var: 0.1373 - val_loss: 173.5596 - val_I_var: 0.1451\n",
      "Epoch 32/1000\n",
      "92/92 [==============================] - 0s 2ms/step - loss: 175.8260 - I_var: 0.1356 - val_loss: 173.4511 - val_I_var: 0.1462\n",
      "Epoch 33/1000\n",
      "92/92 [==============================] - 0s 3ms/step - loss: 175.6408 - I_var: 0.1370 - val_loss: 173.2629 - val_I_var: 0.1482\n",
      "Epoch 34/1000\n",
      "92/92 [==============================] - 0s 2ms/step - loss: 175.5785 - I_var: 0.1405 - val_loss: 173.1040 - val_I_var: 0.1493\n",
      "Epoch 35/1000\n",
      "92/92 [==============================] - 0s 2ms/step - loss: 175.3913 - I_var: 0.1398 - val_loss: 172.9339 - val_I_var: 0.1510\n",
      "Epoch 36/1000\n",
      "92/92 [==============================] - 0s 2ms/step - loss: 175.2706 - I_var: 0.1440 - val_loss: 172.7683 - val_I_var: 0.1522\n",
      "Epoch 37/1000\n",
      "92/92 [==============================] - 0s 2ms/step - loss: 175.1754 - I_var: 0.1433 - val_loss: 172.7124 - val_I_var: 0.1527\n",
      "Epoch 38/1000\n",
      "92/92 [==============================] - 0s 3ms/step - loss: 175.0405 - I_var: 0.1395 - val_loss: 172.5327 - val_I_var: 0.1545\n",
      "Epoch 39/1000\n",
      "92/92 [==============================] - 0s 3ms/step - loss: 174.9081 - I_var: 0.1429 - val_loss: 172.4553 - val_I_var: 0.1554\n",
      "Epoch 40/1000\n",
      "92/92 [==============================] - 0s 2ms/step - loss: 174.8007 - I_var: 0.1499 - val_loss: 172.4006 - val_I_var: 0.1560\n",
      "Epoch 41/1000\n",
      "92/92 [==============================] - 0s 2ms/step - loss: 174.7791 - I_var: 0.1504 - val_loss: 172.1709 - val_I_var: 0.1577\n",
      "Epoch 42/1000\n",
      "92/92 [==============================] - 0s 2ms/step - loss: 174.5209 - I_var: 0.1463 - val_loss: 172.2369 - val_I_var: 0.1571\n",
      "Epoch 43/1000\n",
      "92/92 [==============================] - 0s 2ms/step - loss: 174.3712 - I_var: 0.1436 - val_loss: 171.9542 - val_I_var: 0.1598\n",
      "Epoch 44/1000\n",
      "92/92 [==============================] - 0s 2ms/step - loss: 174.3566 - I_var: 0.1508 - val_loss: 171.7974 - val_I_var: 0.1610\n",
      "Epoch 45/1000\n",
      "92/92 [==============================] - 0s 2ms/step - loss: 174.1443 - I_var: 0.1417 - val_loss: 171.6707 - val_I_var: 0.1619\n",
      "Epoch 46/1000\n",
      "92/92 [==============================] - 0s 2ms/step - loss: 174.0996 - I_var: 0.1452 - val_loss: 171.6974 - val_I_var: 0.1617\n",
      "Epoch 47/1000\n",
      "92/92 [==============================] - 0s 2ms/step - loss: 174.0608 - I_var: 0.1518 - val_loss: 171.5171 - val_I_var: 0.1631\n",
      "Epoch 48/1000\n",
      "92/92 [==============================] - 0s 2ms/step - loss: 173.9358 - I_var: 0.1555 - val_loss: 171.3940 - val_I_var: 0.1641\n",
      "Epoch 49/1000\n",
      "92/92 [==============================] - 0s 2ms/step - loss: 174.0512 - I_var: 0.1567 - val_loss: 171.3353 - val_I_var: 0.1649\n",
      "Epoch 50/1000\n",
      "92/92 [==============================] - 0s 3ms/step - loss: 173.8512 - I_var: 0.1576 - val_loss: 171.2834 - val_I_var: 0.1653\n",
      "Epoch 51/1000\n",
      "92/92 [==============================] - 0s 2ms/step - loss: 173.7057 - I_var: 0.1546 - val_loss: 171.3958 - val_I_var: 0.1654\n",
      "Epoch 52/1000\n",
      "92/92 [==============================] - 0s 2ms/step - loss: 173.5615 - I_var: 0.1498 - val_loss: 171.1150 - val_I_var: 0.1669\n",
      "Epoch 53/1000\n",
      "92/92 [==============================] - 0s 3ms/step - loss: 173.5603 - I_var: 0.1606 - val_loss: 171.0643 - val_I_var: 0.1678\n",
      "Epoch 54/1000\n",
      "92/92 [==============================] - 0s 2ms/step - loss: 173.4648 - I_var: 0.1581 - val_loss: 170.9795 - val_I_var: 0.1685\n",
      "Epoch 55/1000\n",
      "92/92 [==============================] - 0s 2ms/step - loss: 173.3506 - I_var: 0.1607 - val_loss: 170.8067 - val_I_var: 0.1694\n",
      "Epoch 56/1000\n",
      "92/92 [==============================] - 0s 2ms/step - loss: 173.3000 - I_var: 0.1589 - val_loss: 171.0574 - val_I_var: 0.1672\n",
      "Epoch 57/1000\n",
      "92/92 [==============================] - 0s 2ms/step - loss: 173.2437 - I_var: 0.1498 - val_loss: 170.7196 - val_I_var: 0.1702\n",
      "Epoch 58/1000\n",
      "92/92 [==============================] - 0s 2ms/step - loss: 173.0173 - I_var: 0.1478 - val_loss: 170.9501 - val_I_var: 0.1681\n"
     ]
    },
    {
     "name": "stdout",
     "output_type": "stream",
     "text": [
      "Epoch 59/1000\n",
      "92/92 [==============================] - 0s 2ms/step - loss: 173.0256 - I_var: 0.1600 - val_loss: 170.4721 - val_I_var: 0.1721\n",
      "Epoch 60/1000\n",
      "92/92 [==============================] - 0s 2ms/step - loss: 172.8740 - I_var: 0.1566 - val_loss: 170.6682 - val_I_var: 0.1712\n",
      "Epoch 61/1000\n",
      "92/92 [==============================] - 0s 2ms/step - loss: 172.8861 - I_var: 0.1580 - val_loss: 170.3547 - val_I_var: 0.1734\n",
      "Epoch 62/1000\n",
      "92/92 [==============================] - 0s 2ms/step - loss: 172.7850 - I_var: 0.1599 - val_loss: 170.2839 - val_I_var: 0.1740\n",
      "Epoch 63/1000\n",
      "92/92 [==============================] - 0s 3ms/step - loss: 172.7887 - I_var: 0.1627 - val_loss: 170.2686 - val_I_var: 0.1738\n",
      "Epoch 64/1000\n",
      "92/92 [==============================] - 0s 2ms/step - loss: 172.8002 - I_var: 0.1663 - val_loss: 170.4377 - val_I_var: 0.1732\n",
      "Epoch 65/1000\n",
      "92/92 [==============================] - 0s 2ms/step - loss: 172.6548 - I_var: 0.1639 - val_loss: 170.0755 - val_I_var: 0.1757\n",
      "Epoch 66/1000\n",
      "92/92 [==============================] - 0s 2ms/step - loss: 172.4936 - I_var: 0.1658 - val_loss: 170.0082 - val_I_var: 0.1759\n",
      "Epoch 67/1000\n",
      "92/92 [==============================] - 0s 2ms/step - loss: 172.4465 - I_var: 0.1554 - val_loss: 170.0195 - val_I_var: 0.1760\n",
      "Epoch 68/1000\n",
      "92/92 [==============================] - 0s 2ms/step - loss: 172.4091 - I_var: 0.1672 - val_loss: 169.8922 - val_I_var: 0.1769\n",
      "Epoch 69/1000\n",
      "92/92 [==============================] - 0s 2ms/step - loss: 172.2579 - I_var: 0.1618 - val_loss: 170.2341 - val_I_var: 0.1744\n",
      "Epoch 70/1000\n",
      "92/92 [==============================] - 0s 2ms/step - loss: 172.2314 - I_var: 0.1620 - val_loss: 170.1015 - val_I_var: 0.1753\n",
      "Epoch 71/1000\n",
      "92/92 [==============================] - 0s 3ms/step - loss: 172.1875 - I_var: 0.1642 - val_loss: 169.9386 - val_I_var: 0.1768\n",
      "Epoch 72/1000\n",
      "92/92 [==============================] - 0s 3ms/step - loss: 172.1566 - I_var: 0.1725 - val_loss: 169.7265 - val_I_var: 0.1791\n",
      "Epoch 73/1000\n",
      "92/92 [==============================] - 0s 2ms/step - loss: 171.9879 - I_var: 0.1669 - val_loss: 169.5646 - val_I_var: 0.1799\n",
      "Epoch 74/1000\n",
      "92/92 [==============================] - 0s 2ms/step - loss: 171.9382 - I_var: 0.1690 - val_loss: 169.5631 - val_I_var: 0.1800\n",
      "Epoch 75/1000\n",
      "92/92 [==============================] - 0s 2ms/step - loss: 171.8850 - I_var: 0.1691 - val_loss: 169.7238 - val_I_var: 0.1785\n",
      "Epoch 76/1000\n",
      "92/92 [==============================] - 0s 3ms/step - loss: 171.8383 - I_var: 0.1698 - val_loss: 169.6880 - val_I_var: 0.1792\n",
      "Epoch 77/1000\n",
      "92/92 [==============================] - 0s 2ms/step - loss: 171.8824 - I_var: 0.1721 - val_loss: 169.2076 - val_I_var: 0.1832\n",
      "Epoch 78/1000\n",
      "92/92 [==============================] - 0s 2ms/step - loss: 171.7224 - I_var: 0.1688 - val_loss: 169.1605 - val_I_var: 0.1835\n",
      "Epoch 79/1000\n",
      "92/92 [==============================] - 0s 2ms/step - loss: 171.6851 - I_var: 0.1685 - val_loss: 169.0354 - val_I_var: 0.1846\n",
      "Epoch 80/1000\n",
      "92/92 [==============================] - 0s 2ms/step - loss: 171.6425 - I_var: 0.1770 - val_loss: 168.9828 - val_I_var: 0.1848\n",
      "Epoch 81/1000\n",
      "92/92 [==============================] - 0s 3ms/step - loss: 171.4349 - I_var: 0.1713 - val_loss: 168.9032 - val_I_var: 0.1856\n",
      "Epoch 82/1000\n",
      "92/92 [==============================] - 0s 3ms/step - loss: 171.4028 - I_var: 0.1748 - val_loss: 168.8240 - val_I_var: 0.1861\n",
      "Epoch 83/1000\n",
      "92/92 [==============================] - 0s 2ms/step - loss: 171.3976 - I_var: 0.1793 - val_loss: 168.7222 - val_I_var: 0.1872\n",
      "Epoch 84/1000\n",
      "92/92 [==============================] - 0s 2ms/step - loss: 171.2353 - I_var: 0.1773 - val_loss: 168.6395 - val_I_var: 0.1878\n",
      "Epoch 85/1000\n",
      "92/92 [==============================] - 0s 3ms/step - loss: 171.0677 - I_var: 0.1760 - val_loss: 168.7470 - val_I_var: 0.1877\n",
      "Epoch 86/1000\n",
      "92/92 [==============================] - 0s 2ms/step - loss: 171.2232 - I_var: 0.1745 - val_loss: 168.6352 - val_I_var: 0.1882\n",
      "Epoch 87/1000\n",
      "92/92 [==============================] - 0s 2ms/step - loss: 170.8929 - I_var: 0.1779 - val_loss: 168.3938 - val_I_var: 0.1904\n",
      "Epoch 88/1000\n",
      "92/92 [==============================] - 0s 2ms/step - loss: 170.7508 - I_var: 0.1762 - val_loss: 168.7643 - val_I_var: 0.1883\n",
      "Epoch 89/1000\n",
      "92/92 [==============================] - 0s 3ms/step - loss: 170.7205 - I_var: 0.1847 - val_loss: 168.2127 - val_I_var: 0.1919\n",
      "Epoch 90/1000\n",
      "92/92 [==============================] - 0s 2ms/step - loss: 170.6290 - I_var: 0.1814 - val_loss: 168.1774 - val_I_var: 0.1925\n",
      "Epoch 91/1000\n",
      "92/92 [==============================] - 0s 2ms/step - loss: 170.5006 - I_var: 0.1830 - val_loss: 168.0013 - val_I_var: 0.1939\n",
      "Epoch 92/1000\n",
      "92/92 [==============================] - 0s 2ms/step - loss: 170.2682 - I_var: 0.1793 - val_loss: 168.1505 - val_I_var: 0.1924\n",
      "Epoch 93/1000\n",
      "92/92 [==============================] - 0s 2ms/step - loss: 170.2168 - I_var: 0.1818 - val_loss: 167.7064 - val_I_var: 0.1964\n",
      "Epoch 94/1000\n",
      "92/92 [==============================] - 0s 2ms/step - loss: 170.1017 - I_var: 0.1809 - val_loss: 167.5191 - val_I_var: 0.1975\n",
      "Epoch 95/1000\n",
      "92/92 [==============================] - 0s 2ms/step - loss: 169.8389 - I_var: 0.1796 - val_loss: 167.6619 - val_I_var: 0.1965\n",
      "Epoch 96/1000\n",
      "92/92 [==============================] - 0s 2ms/step - loss: 169.7564 - I_var: 0.1812 - val_loss: 167.7870 - val_I_var: 0.1967\n",
      "Epoch 97/1000\n",
      "92/92 [==============================] - 0s 2ms/step - loss: 169.5970 - I_var: 0.1854 - val_loss: 167.2517 - val_I_var: 0.2007\n",
      "Epoch 98/1000\n",
      "92/92 [==============================] - 0s 2ms/step - loss: 169.5501 - I_var: 0.1957 - val_loss: 166.8905 - val_I_var: 0.2032\n",
      "Epoch 99/1000\n",
      "92/92 [==============================] - 0s 2ms/step - loss: 169.2657 - I_var: 0.1938 - val_loss: 166.6925 - val_I_var: 0.2048\n",
      "Epoch 100/1000\n",
      "92/92 [==============================] - 0s 2ms/step - loss: 169.2021 - I_var: 0.1915 - val_loss: 166.4163 - val_I_var: 0.2072\n",
      "Epoch 101/1000\n",
      "92/92 [==============================] - 0s 2ms/step - loss: 168.8147 - I_var: 0.1920 - val_loss: 166.2171 - val_I_var: 0.2092\n",
      "Epoch 102/1000\n",
      "92/92 [==============================] - 0s 2ms/step - loss: 168.6130 - I_var: 0.1976 - val_loss: 165.9840 - val_I_var: 0.2112\n",
      "Epoch 103/1000\n",
      "92/92 [==============================] - 0s 3ms/step - loss: 168.2762 - I_var: 0.1935 - val_loss: 165.6402 - val_I_var: 0.2136\n",
      "Epoch 104/1000\n",
      "92/92 [==============================] - 0s 2ms/step - loss: 168.0307 - I_var: 0.2037 - val_loss: 165.2796 - val_I_var: 0.2166\n",
      "Epoch 105/1000\n",
      "92/92 [==============================] - 0s 2ms/step - loss: 167.5948 - I_var: 0.2051 - val_loss: 164.8088 - val_I_var: 0.2206\n",
      "Epoch 106/1000\n",
      "92/92 [==============================] - 0s 2ms/step - loss: 167.1847 - I_var: 0.2097 - val_loss: 164.4871 - val_I_var: 0.2230\n",
      "Epoch 107/1000\n",
      "92/92 [==============================] - 0s 2ms/step - loss: 166.4570 - I_var: 0.2060 - val_loss: 163.8794 - val_I_var: 0.2284\n",
      "Epoch 108/1000\n",
      "92/92 [==============================] - 0s 2ms/step - loss: 166.0719 - I_var: 0.2130 - val_loss: 163.8894 - val_I_var: 0.2276\n",
      "Epoch 109/1000\n",
      "92/92 [==============================] - 0s 3ms/step - loss: 165.2203 - I_var: 0.2245 - val_loss: 162.3896 - val_I_var: 0.2395\n",
      "Epoch 110/1000\n",
      "92/92 [==============================] - 0s 3ms/step - loss: 164.7948 - I_var: 0.2252 - val_loss: 161.2761 - val_I_var: 0.2479\n",
      "Epoch 111/1000\n",
      "92/92 [==============================] - 0s 3ms/step - loss: 163.3250 - I_var: 0.2234 - val_loss: 161.2863 - val_I_var: 0.2488\n",
      "Epoch 112/1000\n",
      "92/92 [==============================] - 0s 2ms/step - loss: 163.3080 - I_var: 0.2420 - val_loss: 160.6695 - val_I_var: 0.2506\n",
      "Epoch 113/1000\n",
      "92/92 [==============================] - 0s 2ms/step - loss: 163.0328 - I_var: 0.2384 - val_loss: 160.5676 - val_I_var: 0.2520\n",
      "Epoch 114/1000\n",
      "92/92 [==============================] - 0s 3ms/step - loss: 163.1791 - I_var: 0.2365 - val_loss: 160.5037 - val_I_var: 0.2533\n",
      "Epoch 115/1000\n",
      "92/92 [==============================] - 0s 3ms/step - loss: 162.8716 - I_var: 0.2370 - val_loss: 160.6925 - val_I_var: 0.2515\n",
      "Epoch 116/1000\n",
      "92/92 [==============================] - 0s 2ms/step - loss: 162.7573 - I_var: 0.2390 - val_loss: 161.0368 - val_I_var: 0.2487\n"
     ]
    },
    {
     "name": "stdout",
     "output_type": "stream",
     "text": [
      "Epoch 117/1000\n",
      "92/92 [==============================] - 0s 2ms/step - loss: 162.9000 - I_var: 0.2441 - val_loss: 160.6565 - val_I_var: 0.2508\n",
      "Epoch 118/1000\n",
      "92/92 [==============================] - 0s 2ms/step - loss: 162.9498 - I_var: 0.2339 - val_loss: 161.3189 - val_I_var: 0.2468\n",
      "Epoch 119/1000\n",
      "92/92 [==============================] - 0s 2ms/step - loss: 162.8303 - I_var: 0.2357 - val_loss: 160.5398 - val_I_var: 0.2522\n",
      "Epoch 120/1000\n",
      "92/92 [==============================] - 0s 3ms/step - loss: 162.8583 - I_var: 0.2383 - val_loss: 161.3363 - val_I_var: 0.2458\n",
      "Epoch 121/1000\n",
      "92/92 [==============================] - 0s 2ms/step - loss: 162.8084 - I_var: 0.2406 - val_loss: 160.8950 - val_I_var: 0.2496\n",
      "Epoch 122/1000\n",
      "92/92 [==============================] - 0s 2ms/step - loss: 162.8589 - I_var: 0.2395 - val_loss: 160.5135 - val_I_var: 0.2520\n",
      "Epoch 123/1000\n",
      "92/92 [==============================] - 0s 2ms/step - loss: 162.6113 - I_var: 0.2353 - val_loss: 160.7113 - val_I_var: 0.2505\n",
      "Epoch 124/1000\n",
      "92/92 [==============================] - 0s 3ms/step - loss: 162.6030 - I_var: 0.2318 - val_loss: 160.5732 - val_I_var: 0.2512\n",
      "Epoch 125/1000\n",
      "92/92 [==============================] - 0s 2ms/step - loss: 162.7334 - I_var: 0.2354 - val_loss: 160.6108 - val_I_var: 0.2512\n",
      "Epoch 126/1000\n",
      "92/92 [==============================] - 0s 2ms/step - loss: 162.8224 - I_var: 0.2324 - val_loss: 160.6601 - val_I_var: 0.2508\n",
      "Epoch 127/1000\n",
      "92/92 [==============================] - 0s 2ms/step - loss: 162.7024 - I_var: 0.2370 - val_loss: 160.5634 - val_I_var: 0.2518\n",
      "Epoch 128/1000\n",
      "92/92 [==============================] - 0s 3ms/step - loss: 162.7255 - I_var: 0.2384 - val_loss: 160.6097 - val_I_var: 0.2518\n",
      "Epoch 129/1000\n",
      "92/92 [==============================] - 0s 3ms/step - loss: 162.7123 - I_var: 0.2399 - val_loss: 160.5658 - val_I_var: 0.2510\n",
      "Epoch 130/1000\n",
      "92/92 [==============================] - 0s 3ms/step - loss: 162.8158 - I_var: 0.2391 - val_loss: 160.5846 - val_I_var: 0.2514\n",
      "Epoch 131/1000\n",
      "92/92 [==============================] - 0s 2ms/step - loss: 162.7318 - I_var: 0.2398 - val_loss: 161.2704 - val_I_var: 0.2474\n",
      "Epoch 132/1000\n",
      "92/92 [==============================] - 0s 2ms/step - loss: 162.7823 - I_var: 0.2338 - val_loss: 160.7310 - val_I_var: 0.2510\n",
      "Epoch 133/1000\n",
      "92/92 [==============================] - 0s 2ms/step - loss: 162.6882 - I_var: 0.2422 - val_loss: 160.6800 - val_I_var: 0.2498\n",
      "Epoch 134/1000\n",
      "92/92 [==============================] - 0s 2ms/step - loss: 162.7012 - I_var: 0.2467 - val_loss: 160.6692 - val_I_var: 0.2510\n",
      "Epoch 135/1000\n",
      "92/92 [==============================] - 0s 2ms/step - loss: 162.6671 - I_var: 0.2412 - val_loss: 160.9187 - val_I_var: 0.2488\n",
      "Epoch 136/1000\n",
      "92/92 [==============================] - 0s 2ms/step - loss: 162.8170 - I_var: 0.2391 - val_loss: 160.7182 - val_I_var: 0.2503\n",
      "Epoch 137/1000\n",
      "92/92 [==============================] - 0s 2ms/step - loss: 162.7519 - I_var: 0.2378 - val_loss: 160.7051 - val_I_var: 0.2510\n",
      "Epoch 138/1000\n",
      "92/92 [==============================] - 0s 2ms/step - loss: 162.6852 - I_var: 0.2289 - val_loss: 160.6187 - val_I_var: 0.2506\n",
      "Epoch 139/1000\n",
      "92/92 [==============================] - 0s 3ms/step - loss: 162.6930 - I_var: 0.2380 - val_loss: 160.5492 - val_I_var: 0.2520\n",
      "Epoch 140/1000\n",
      "92/92 [==============================] - 0s 2ms/step - loss: 162.6506 - I_var: 0.2326 - val_loss: 160.9338 - val_I_var: 0.2484\n",
      "Epoch 141/1000\n",
      "92/92 [==============================] - 0s 2ms/step - loss: 162.6266 - I_var: 0.2438 - val_loss: 160.8667 - val_I_var: 0.2489\n",
      "Epoch 142/1000\n",
      "92/92 [==============================] - 0s 2ms/step - loss: 162.8222 - I_var: 0.2385 - val_loss: 160.6728 - val_I_var: 0.2506\n",
      "Epoch 143/1000\n",
      "92/92 [==============================] - 0s 2ms/step - loss: 162.6449 - I_var: 0.2390 - val_loss: 160.7815 - val_I_var: 0.2492\n",
      "Epoch 144/1000\n",
      "92/92 [==============================] - 0s 2ms/step - loss: 162.6688 - I_var: 0.2295 - val_loss: 161.2330 - val_I_var: 0.2466\n",
      "Training time: 35.7 seconds\n"
     ]
    },
    {
     "data": {
      "text/plain": [
       "<tensorflow.python.keras.callbacks.History at 0x1443499d0>"
      ]
     },
     "execution_count": 5,
     "metadata": {},
     "output_type": "execute_result"
    }
   ],
   "source": [
    "# Fit model to data\n",
    "model.fit(learning_rate=.001,\n",
    "          epochs=1000,\n",
    "          batch_size=200,\n",
    "          early_stopping=True,\n",
    "          early_stopping_patience=30,\n",
    "          linear_initialization=False)"
   ]
  },
  {
   "cell_type": "code",
   "execution_count": 6,
   "metadata": {
    "ExecuteTime": {
     "end_time": "2020-11-17T18:19:26.082855Z",
     "start_time": "2020-11-17T18:19:26.021556Z"
    }
   },
   "outputs": [
    {
     "name": "stdout",
     "output_type": "stream",
     "text": [
      "Model saved to these files:\n",
      "\tmpsa_ge_additive.pickle\n",
      "\tmpsa_ge_additive.h5\n"
     ]
    }
   ],
   "source": [
    "# Save model\n",
    "model.save('mpsa_ge_additive')"
   ]
  },
  {
   "cell_type": "code",
   "execution_count": 7,
   "metadata": {
    "ExecuteTime": {
     "end_time": "2020-11-17T18:19:26.337587Z",
     "start_time": "2020-11-17T18:19:26.086861Z"
    },
    "scrolled": true
   },
   "outputs": [
    {
     "name": "stdout",
     "output_type": "stream",
     "text": [
      "Model loaded from these files:\n",
      "\tmpsa_ge_additive.pickle\n",
      "\tmpsa_ge_additive.h5\n"
     ]
    }
   ],
   "source": [
    "# Load model\n",
    "model = mavenn.load('mpsa_ge_additive')"
   ]
  },
  {
   "cell_type": "code",
   "execution_count": 8,
   "metadata": {
    "ExecuteTime": {
     "end_time": "2020-11-17T18:19:26.347901Z",
     "start_time": "2020-11-17T18:19:26.340045Z"
    }
   },
   "outputs": [],
   "source": [
    "# Get x and y\n",
    "x_test = test_df['x'].values\n",
    "y_test = test_df['y'].values"
   ]
  },
  {
   "cell_type": "code",
   "execution_count": 9,
   "metadata": {
    "ExecuteTime": {
     "end_time": "2020-11-17T18:19:27.246062Z",
     "start_time": "2020-11-17T18:19:26.350360Z"
    }
   },
   "outputs": [
    {
     "name": "stdout",
     "output_type": "stream",
     "text": [
      "On test data:\n",
      "I_var_test: 0.222 +- 0.028 bits\n",
      "I_pred_test: 0.260 +- 0.015 bits\n"
     ]
    },
    {
     "data": {
      "image/png": "[encoded data removed]",
      "text/plain": [
       "<Figure size 288x288 with 1 Axes>"
      ]
     },
     "metadata": {
      "needs_background": "light"
     },
     "output_type": "display_data"
    }
   ],
   "source": [
    "# Show training history\n",
    "print('On test data:')\n",
    "\n",
    "# Compute variational information\n",
    "I_var, dI_var =  model.I_variational(x=x_test, y=y_test)\n",
    "print(f'I_var_test: {I_var:.3f} +- {dI_var:.3f} bits') \n",
    "\n",
    "# Compute predictive information\n",
    "I_pred, dI_pred = model.I_predictive(x=x_test, y=y_test)\n",
    "print(f'I_pred_test: {I_pred:.3f} +- {dI_pred:.3f} bits')\n",
    "\n",
    "I_var_hist = model.history['I_var']\n",
    "val_I_var_hist = model.history['val_I_var']\n",
    "\n",
    "fig, ax = plt.subplots(1,1,figsize=[4,4])\n",
    "ax.plot(I_var_hist, label='I_var_train')\n",
    "ax.plot(val_I_var_hist, label='I_var_val')\n",
    "ax.axhline(I_var, color='C2', linestyle=':', label='I_var_test')\n",
    "ax.axhline(I_pred, color='C3', linestyle=':', label='I_pred_test')\n",
    "ax.legend()\n",
    "ax.set_xlabel('epochs')\n",
    "ax.set_ylabel('bits')\n",
    "ax.set_title('training hisotry')\n",
    "ax.set_ylim([0, I_pred*1.2]);"
   ]
  },
  {
   "cell_type": "code",
   "execution_count": 10,
   "metadata": {
    "ExecuteTime": {
     "end_time": "2020-11-17T18:19:28.606950Z",
     "start_time": "2020-11-17T18:19:27.248716Z"
    }
   },
   "outputs": [
    {
     "data": {
      "image/png": "[encoded data removed]",
      "text/plain": [
       "<Figure size 288x288 with 1 Axes>"
      ]
     },
     "metadata": {
      "needs_background": "light"
     },
     "output_type": "display_data"
    }
   ],
   "source": [
    "# Predict latent phentoype values (phi) on test data\n",
    "phi_test = model.x_to_phi(x_test)\n",
    "\n",
    "# Predict measurement values (yhat) on test data\n",
    "yhat_test = model.x_to_yhat(x_test)\n",
    "\n",
    "# Set phi lims and create grid in phi space\n",
    "phi_lim = [min(phi_test)-.5, max(phi_test)+.5]\n",
    "phi_grid = np.linspace(phi_lim[0], phi_lim[1], 1000)\n",
    "\n",
    "# Compute yhat each phi gridpoint\n",
    "yhat_grid = model.phi_to_yhat(phi_grid)\n",
    "\n",
    "# Compute 90% CI for each yhat\n",
    "q = [0.05, 0.95] #[0.16, 0.84]\n",
    "yqs_grid = model.yhat_to_yq(yhat_grid, q=q)\n",
    "\n",
    "# Create figure\n",
    "fig, ax = plt.subplots(1, 1, figsize=[4, 4])\n",
    "\n",
    "# Illustrate measurement process with GE curve\n",
    "ax.scatter(phi_test, y_test, color='C0', s=5, alpha=.2, label='test data')\n",
    "ax.plot(phi_grid, yhat_grid, linewidth=2, color='C1',\n",
    "        label='$\\hat{y} = g(\\phi)$')\n",
    "ax.plot(phi_grid, yqs_grid[:, 0], linestyle='--', color='C1', label='68% CI')\n",
    "ax.plot(phi_grid, yqs_grid[:, 1], linestyle='--', color='C1')\n",
    "ax.set_xlim(phi_lim)\n",
    "ax.set_xlabel('latent phenotype ($\\phi$)')\n",
    "ax.set_ylabel('measurement ($y$)')\n",
    "ax.set_title('measurement process')\n",
    "ax.legend()\n",
    "\n",
    "# Fix up plot\n",
    "fig.tight_layout()\n",
    "plt.show()"
   ]
  },
  {
   "cell_type": "code",
   "execution_count": 11,
   "metadata": {
    "ExecuteTime": {
     "end_time": "2020-11-17T18:19:28.709275Z",
     "start_time": "2020-11-17T18:19:28.610547Z"
    }
   },
   "outputs": [
    {
     "data": {
      "text/html": [
       "<div>\n",
       "<style scoped>\n",
       "    .dataframe tbody tr th:only-of-type {\n",
       "        vertical-align: middle;\n",
       "    }\n",
       "\n",
       "    .dataframe tbody tr th {\n",
       "        vertical-align: top;\n",
       "    }\n",
       "\n",
       "    .dataframe thead th {\n",
       "        text-align: right;\n",
       "    }\n",
       "</style>\n",
       "<table border=\"1\" class=\"dataframe\">\n",
       "  <thead>\n",
       "    <tr style=\"text-align: right;\">\n",
       "      <th></th>\n",
       "      <th>set</th>\n",
       "      <th>yhat</th>\n",
       "      <th>phi</th>\n",
       "      <th>y</th>\n",
       "      <th>x</th>\n",
       "    </tr>\n",
       "  </thead>\n",
       "  <tbody>\n",
       "    <tr>\n",
       "      <th>0</th>\n",
       "      <td>training</td>\n",
       "      <td>-0.340498</td>\n",
       "      <td>-1.261267</td>\n",
       "      <td>-0.370883</td>\n",
       "      <td>GUCGCCGGG</td>\n",
       "    </tr>\n",
       "    <tr>\n",
       "      <th>1</th>\n",
       "      <td>validation</td>\n",
       "      <td>-0.339788</td>\n",
       "      <td>-1.117791</td>\n",
       "      <td>0.150581</td>\n",
       "      <td>CCUGCCCUU</td>\n",
       "    </tr>\n",
       "    <tr>\n",
       "      <th>2</th>\n",
       "      <td>training</td>\n",
       "      <td>-0.323939</td>\n",
       "      <td>0.864381</td>\n",
       "      <td>-0.357039</td>\n",
       "      <td>CUCGUUAGG</td>\n",
       "    </tr>\n",
       "    <tr>\n",
       "      <th>3</th>\n",
       "      <td>training</td>\n",
       "      <td>-0.329921</td>\n",
       "      <td>0.610131</td>\n",
       "      <td>-0.206427</td>\n",
       "      <td>CCGGCUCGU</td>\n",
       "    </tr>\n",
       "    <tr>\n",
       "      <th>4</th>\n",
       "      <td>training</td>\n",
       "      <td>-0.337657</td>\n",
       "      <td>-0.686693</td>\n",
       "      <td>-0.347848</td>\n",
       "      <td>UGGGCCGAU</td>\n",
       "    </tr>\n",
       "  </tbody>\n",
       "</table>\n",
       "</div>"
      ],
      "text/plain": [
       "          set      yhat       phi         y          x\n",
       "0    training -0.340498 -1.261267 -0.370883  GUCGCCGGG\n",
       "1  validation -0.339788 -1.117791  0.150581  CCUGCCCUU\n",
       "2    training -0.323939  0.864381 -0.357039  CUCGUUAGG\n",
       "3    training -0.329921  0.610131 -0.206427  CCGGCUCGU\n",
       "4    training -0.337657 -0.686693 -0.347848  UGGGCCGAU"
      ]
     },
     "execution_count": 11,
     "metadata": {},
     "output_type": "execute_result"
    }
   ],
   "source": [
    "# Test simulate_data\n",
    "sim_df = model.simulate_dataset(N=1000)\n",
    "sim_df.head()"
   ]
  },
  {
   "cell_type": "code",
   "execution_count": null,
   "metadata": {},
   "outputs": [],
   "source": []
  }
 ],
 "metadata": {
  "kernelspec": {
   "display_name": "Python 3",
   "language": "python",
   "name": "python3"
  },
  "language_info": {
   "codemirror_mode": {
    "name": "ipython",
    "version": 3
   },
   "file_extension": ".py",
   "mimetype": "text/x-python",
   "name": "python",
   "nbconvert_exporter": "python",
   "pygments_lexer": "ipython3",
   "version": "3.8.3"
  },
  "toc": {
   "base_numbering": 1,
   "nav_menu": {},
   "number_sections": true,
   "sideBar": true,
   "skip_h1_title": false,
   "title_cell": "Table of Contents",
   "title_sidebar": "Contents",
   "toc_cell": false,
   "toc_position": {},
   "toc_section_display": true,
   "toc_window_display": false
  },
  "varInspector": {
   "cols": {
    "lenName": 16,
    "lenType": 16,
    "lenVar": 40
   },
   "kernels_config": {
    "python": {
     "delete_cmd_postfix": "",
     "delete_cmd_prefix": "del ",
     "library": "var_list.py",
     "varRefreshCmd": "print(var_dic_list())"
    },
    "r": {
     "delete_cmd_postfix": ") ",
     "delete_cmd_prefix": "rm(",
     "library": "var_list.r",
     "varRefreshCmd": "cat(var_dic_list()) "
    }
   },
   "types_to_exclude": [
    "module",
    "function",
    "builtin_function_or_method",
    "instance",
    "_Feature"
   ],
   "window_display": false
  }
 },
 "nbformat": 4,
 "nbformat_minor": 2
}
