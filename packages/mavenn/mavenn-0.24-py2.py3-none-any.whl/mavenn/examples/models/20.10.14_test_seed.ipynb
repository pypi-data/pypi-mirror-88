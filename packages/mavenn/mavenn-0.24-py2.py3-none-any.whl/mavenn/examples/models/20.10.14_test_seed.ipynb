{
 "cells": [
  {
   "cell_type": "code",
   "execution_count": 1,
   "metadata": {},
   "outputs": [
    {
     "name": "stdout",
     "output_type": "stream",
     "text": [
      "['/Users/jkinney/github/mavenn/mavenn']\n"
     ]
    }
   ],
   "source": [
    "# Standard imports\n",
    "import pandas as pd\n",
    "import matplotlib.pyplot as plt\n",
    "import numpy as np\n",
    "\n",
    "# Insert path to mavenn beginning of path\n",
    "import os\n",
    "import sys\n",
    "abs_path_to_mavenn = os.path.abspath('../../../')\n",
    "sys.path.insert(0, abs_path_to_mavenn)\n",
    "\n",
    "# Load mavenn\n",
    "import mavenn\n",
    "print(mavenn.__path__)"
   ]
  },
  {
   "cell_type": "code",
   "execution_count": 2,
   "metadata": {},
   "outputs": [],
   "source": [
    "import tensorflow as tf"
   ]
  },
  {
   "cell_type": "code",
   "execution_count": 3,
   "metadata": {},
   "outputs": [
    {
     "name": "stdout",
     "output_type": "stream",
     "text": [
      "numpy seed works: True\n",
      "tensorflow seed works: True\n"
     ]
    }
   ],
   "source": [
    "mavenn.set_seed(0)\n",
    "x_1 = np.random.randn(100)\n",
    "y_1 = tf.random.normal(shape=(100,))\n",
    "\n",
    "mavenn.set_seed(0)\n",
    "x_2 = np.random.randn(100)\n",
    "y_2 = tf.random.normal(shape=(100,))\n",
    "\n",
    "print(f'numpy seed works: {all(x_1==x_2)}')\n",
    "print(f'tensorflow seed works: {all(y_1==y_2)}')"
   ]
  },
  {
   "cell_type": "code",
   "execution_count": 4,
   "metadata": {},
   "outputs": [
    {
     "name": "stdout",
     "output_type": "stream",
     "text": [
      "training N: 24,411\n",
      "testing N: 6,079\n"
     ]
    }
   ],
   "source": [
    "# Load example data\n",
    "data_df = mavenn.load_example_dataset('mpsa')\n",
    "\n",
    "# Split into trianing and test data\n",
    "ix = data_df['training_set']\n",
    "L = len(data_df['x'][0])\n",
    "train_df = data_df[ix]\n",
    "print(f'training N: {len(train_df):,}')\n",
    "test_df = data_df[~ix]\n",
    "print(f'testing N: {len(test_df):,}')"
   ]
  },
  {
   "cell_type": "code",
   "execution_count": 5,
   "metadata": {},
   "outputs": [
    {
     "name": "stdout",
     "output_type": "stream",
     "text": [
      "N = 24,411 observations set as training data.\n",
      "Data shuffled.\n",
      "Time to set data: 0.376 sec.\n",
      "Epoch 1/10\n",
      "196/196 [==============================] - 1s 5ms/step - loss: 104.9466 - I_var: -0.0772 - val_loss: 91.2193 - val_I_var: 0.1051\n",
      "Epoch 2/10\n",
      "196/196 [==============================] - 1s 3ms/step - loss: 85.2321 - I_var: 0.1960 - val_loss: 81.4971 - val_I_var: 0.2493\n",
      "Epoch 3/10\n",
      "196/196 [==============================] - 1s 3ms/step - loss: 80.9738 - I_var: 0.2629 - val_loss: 79.7700 - val_I_var: 0.2789\n",
      "Epoch 4/10\n",
      "196/196 [==============================] - 1s 3ms/step - loss: 78.6190 - I_var: 0.2986 - val_loss: 96.0539 - val_I_var: 0.0485\n",
      "Epoch 5/10\n",
      "196/196 [==============================] - 1s 3ms/step - loss: 77.9294 - I_var: 0.3110 - val_loss: 76.9510 - val_I_var: 0.3251\n",
      "Epoch 6/10\n",
      "196/196 [==============================] - 1s 3ms/step - loss: 76.2458 - I_var: 0.3393 - val_loss: 75.7305 - val_I_var: 0.3445\n",
      "Epoch 7/10\n",
      "196/196 [==============================] - 1s 3ms/step - loss: 76.2510 - I_var: 0.3411 - val_loss: 81.1796 - val_I_var: 0.2650\n",
      "Epoch 8/10\n",
      "196/196 [==============================] - 1s 3ms/step - loss: 77.6174 - I_var: 0.3180 - val_loss: 75.1946 - val_I_var: 0.3502\n",
      "Epoch 9/10\n",
      "196/196 [==============================] - 1s 3ms/step - loss: 74.8239 - I_var: 0.3590 - val_loss: 72.8077 - val_I_var: 0.3846\n",
      "Epoch 10/10\n",
      "196/196 [==============================] - 1s 3ms/step - loss: 74.8831 - I_var: 0.3581 - val_loss: 76.9398 - val_I_var: 0.3238\n",
      "Training time: 9.1 seconds\n",
      "N = 24,411 observations set as training data.\n",
      "Data shuffled.\n",
      "Time to set data: 0.371 sec.\n",
      "Epoch 1/10\n",
      "196/196 [==============================] - 1s 5ms/step - loss: 104.9860 - I_var: -0.0778 - val_loss: 91.4138 - val_I_var: 0.1023\n",
      "Epoch 2/10\n",
      "196/196 [==============================] - 1s 3ms/step - loss: 85.3304 - I_var: 0.1946 - val_loss: 81.7033 - val_I_var: 0.2470\n",
      "Epoch 3/10\n",
      "196/196 [==============================] - 1s 3ms/step - loss: 81.2159 - I_var: 0.2596 - val_loss: 80.5212 - val_I_var: 0.2687\n",
      "Epoch 4/10\n",
      "196/196 [==============================] - 1s 3ms/step - loss: 78.7584 - I_var: 0.2969 - val_loss: 80.7803 - val_I_var: 0.2680\n",
      "Epoch 5/10\n",
      "196/196 [==============================] - 1s 3ms/step - loss: 78.7301 - I_var: 0.2995 - val_loss: 77.1170 - val_I_var: 0.3228\n",
      "Epoch 6/10\n",
      "196/196 [==============================] - 1s 3ms/step - loss: 76.7605 - I_var: 0.3327 - val_loss: 75.0671 - val_I_var: 0.3551\n",
      "Epoch 7/10\n",
      "196/196 [==============================] - 1s 3ms/step - loss: 75.1499 - I_var: 0.3575 - val_loss: 80.4296 - val_I_var: 0.2764\n",
      "Epoch 8/10\n",
      "196/196 [==============================] - 1s 3ms/step - loss: 75.1826 - I_var: 0.3545 - val_loss: 75.5480 - val_I_var: 0.3474\n",
      "Epoch 9/10\n",
      "196/196 [==============================] - 1s 3ms/step - loss: 76.8842 - I_var: 0.3284 - val_loss: 77.1908 - val_I_var: 0.3223\n",
      "Epoch 10/10\n",
      "196/196 [==============================] - 1s 4ms/step - loss: 75.4572 - I_var: 0.3496 - val_loss: 74.6769 - val_I_var: 0.3570\n",
      "Training time: 9.0 seconds\n"
     ]
    }
   ],
   "source": [
    "models = []\n",
    "for i in range(2):\n",
    "\n",
    "    # Set seeed\n",
    "    mavenn.set_seed(0)\n",
    "    \n",
    "    # Define model\n",
    "    model = mavenn.Model(regression_type='GE',\n",
    "                         L=L,\n",
    "                         alphabet='rna',\n",
    "                         gpmap_type='mlp',\n",
    "                         gpmap_kwargs={\n",
    "                             'hidden_layer_sizes':[5]*5,\n",
    "                             'features':'pairwise'\n",
    "                         },\n",
    "                         ge_noise_model_type='SkewedT',\n",
    "                         ge_heteroskedasticity_order=2)\n",
    "    \n",
    "    # Set training data\n",
    "    model.set_data(x=train_df['x'],\n",
    "                   y=train_df['y'])\n",
    "\n",
    "    # Fit model to data\n",
    "    model.fit(learning_rate=.005,\n",
    "              epochs=10,\n",
    "              batch_size=100,\n",
    "              early_stopping=True,\n",
    "              early_stopping_patience=30,\n",
    "              linear_initialization=False)\n",
    "    \n",
    "    models.append(model)"
   ]
  },
  {
   "cell_type": "code",
   "execution_count": 6,
   "metadata": {},
   "outputs": [
    {
     "name": "stdout",
     "output_type": "stream",
     "text": [
      "Models match: False\n"
     ]
    }
   ],
   "source": [
    "# Test that model predictions match\n",
    "phi_0 = models[0].x_to_phi(train_df['x'])\n",
    "phi_1 = models[1].x_to_phi(train_df['x'])\n",
    "\n",
    "print(f'Models match: {all(phi_0 == phi_1)}')"
   ]
  },
  {
   "cell_type": "code",
   "execution_count": 7,
   "metadata": {},
   "outputs": [
    {
     "data": {
      "text/plain": [
       "[<matplotlib.lines.Line2D at 0x14731ced0>]"
      ]
     },
     "execution_count": 7,
     "metadata": {},
     "output_type": "execute_result"
    },
    {
     "data": {
      "image/png": "[encoded data removed]",
      "text/plain": [
       "<Figure size 432x288 with 1 Axes>"
      ]
     },
     "metadata": {
      "needs_background": "light"
     },
     "output_type": "display_data"
    }
   ],
   "source": [
    "plt.plot(phi_0, phi_1, '.')"
   ]
  },
  {
   "cell_type": "code",
   "execution_count": null,
   "metadata": {},
   "outputs": [],
   "source": []
  }
 ],
 "metadata": {
  "kernelspec": {
   "display_name": "Python 3",
   "language": "python",
   "name": "python3"
  },
  "language_info": {
   "codemirror_mode": {
    "name": "ipython",
    "version": 3
   },
   "file_extension": ".py",
   "mimetype": "text/x-python",
   "name": "python",
   "nbconvert_exporter": "python",
   "pygments_lexer": "ipython3",
   "version": "3.7.4"
  }
 },
 "nbformat": 4,
 "nbformat_minor": 2
}
