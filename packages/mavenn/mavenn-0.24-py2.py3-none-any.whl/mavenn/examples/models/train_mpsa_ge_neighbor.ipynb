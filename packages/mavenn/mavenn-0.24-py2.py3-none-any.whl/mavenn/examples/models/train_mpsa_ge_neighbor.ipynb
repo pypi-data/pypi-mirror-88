{
 "cells": [
  {
   "cell_type": "code",
   "execution_count": 1,
   "metadata": {
    "ExecuteTime": {
     "end_time": "2020-11-17T18:20:23.542359Z",
     "start_time": "2020-11-17T18:20:20.989879Z"
    }
   },
   "outputs": [
    {
     "name": "stdout",
     "output_type": "stream",
     "text": [
      "['/Users/jkinney/github/mavenn/mavenn']\n"
     ]
    }
   ],
   "source": [
    "# Standard imports\n",
    "import pandas as pd\n",
    "import matplotlib.pyplot as plt\n",
    "import numpy as np\n",
    "import time\n",
    "\n",
    "# Insert path to mavenn beginning of path\n",
    "import os\n",
    "import sys\n",
    "abs_path_to_mavenn = os.path.abspath('../../../')\n",
    "sys.path.insert(0, abs_path_to_mavenn)\n",
    "\n",
    "# Load mavenn\n",
    "import mavenn\n",
    "print(mavenn.__path__)"
   ]
  },
  {
   "cell_type": "code",
   "execution_count": 2,
   "metadata": {
    "ExecuteTime": {
     "end_time": "2020-11-17T18:20:23.632763Z",
     "start_time": "2020-11-17T18:20:23.544700Z"
    }
   },
   "outputs": [
    {
     "name": "stdout",
     "output_type": "stream",
     "text": [
      "test N: 6,249\n",
      "training + validation N: 24,234\n"
     ]
    },
    {
     "data": {
      "text/html": [
       "<div>\n",
       "<style scoped>\n",
       "    .dataframe tbody tr th:only-of-type {\n",
       "        vertical-align: middle;\n",
       "    }\n",
       "\n",
       "    .dataframe tbody tr th {\n",
       "        vertical-align: top;\n",
       "    }\n",
       "\n",
       "    .dataframe thead th {\n",
       "        text-align: right;\n",
       "    }\n",
       "</style>\n",
       "<table border=\"1\" class=\"dataframe\">\n",
       "  <thead>\n",
       "    <tr style=\"text-align: right;\">\n",
       "      <th></th>\n",
       "      <th>set</th>\n",
       "      <th>tot_ct</th>\n",
       "      <th>ex_ct</th>\n",
       "      <th>y</th>\n",
       "      <th>x</th>\n",
       "    </tr>\n",
       "  </thead>\n",
       "  <tbody>\n",
       "    <tr>\n",
       "      <th>0</th>\n",
       "      <td>training</td>\n",
       "      <td>28</td>\n",
       "      <td>2</td>\n",
       "      <td>0.023406</td>\n",
       "      <td>GGAGUGAUG</td>\n",
       "    </tr>\n",
       "    <tr>\n",
       "      <th>1</th>\n",
       "      <td>training</td>\n",
       "      <td>315</td>\n",
       "      <td>7</td>\n",
       "      <td>-0.587914</td>\n",
       "      <td>AGUGUGCAA</td>\n",
       "    </tr>\n",
       "    <tr>\n",
       "      <th>2</th>\n",
       "      <td>validation</td>\n",
       "      <td>27</td>\n",
       "      <td>0</td>\n",
       "      <td>-0.438475</td>\n",
       "      <td>UAAGCUUUU</td>\n",
       "    </tr>\n",
       "    <tr>\n",
       "      <th>3</th>\n",
       "      <td>training</td>\n",
       "      <td>130</td>\n",
       "      <td>2</td>\n",
       "      <td>-0.631467</td>\n",
       "      <td>AUGGUCGGG</td>\n",
       "    </tr>\n",
       "    <tr>\n",
       "      <th>4</th>\n",
       "      <td>training</td>\n",
       "      <td>552</td>\n",
       "      <td>19</td>\n",
       "      <td>-0.433012</td>\n",
       "      <td>AGGGCAGGA</td>\n",
       "    </tr>\n",
       "    <tr>\n",
       "      <th>5</th>\n",
       "      <td>training</td>\n",
       "      <td>151</td>\n",
       "      <td>184</td>\n",
       "      <td>1.094011</td>\n",
       "      <td>AAGGUCCGC</td>\n",
       "    </tr>\n",
       "    <tr>\n",
       "      <th>6</th>\n",
       "      <td>training</td>\n",
       "      <td>88</td>\n",
       "      <td>4</td>\n",
       "      <td>-0.241737</td>\n",
       "      <td>CAGGCAAAC</td>\n",
       "    </tr>\n",
       "    <tr>\n",
       "      <th>7</th>\n",
       "      <td>training</td>\n",
       "      <td>105</td>\n",
       "      <td>5</td>\n",
       "      <td>-0.238471</td>\n",
       "      <td>GUGGCAAAU</td>\n",
       "    </tr>\n",
       "    <tr>\n",
       "      <th>8</th>\n",
       "      <td>validation</td>\n",
       "      <td>14</td>\n",
       "      <td>0</td>\n",
       "      <td>-0.167408</td>\n",
       "      <td>CAUGCAGCU</td>\n",
       "    </tr>\n",
       "    <tr>\n",
       "      <th>9</th>\n",
       "      <td>training</td>\n",
       "      <td>170</td>\n",
       "      <td>14</td>\n",
       "      <td>-0.048222</td>\n",
       "      <td>CAAGUCACU</td>\n",
       "    </tr>\n",
       "  </tbody>\n",
       "</table>\n",
       "</div>"
      ],
      "text/plain": [
       "          set  tot_ct  ex_ct         y          x\n",
       "0    training      28      2  0.023406  GGAGUGAUG\n",
       "1    training     315      7 -0.587914  AGUGUGCAA\n",
       "2  validation      27      0 -0.438475  UAAGCUUUU\n",
       "3    training     130      2 -0.631467  AUGGUCGGG\n",
       "4    training     552     19 -0.433012  AGGGCAGGA\n",
       "5    training     151    184  1.094011  AAGGUCCGC\n",
       "6    training      88      4 -0.241737  CAGGCAAAC\n",
       "7    training     105      5 -0.238471  GUGGCAAAU\n",
       "8  validation      14      0 -0.167408  CAUGCAGCU\n",
       "9    training     170     14 -0.048222  CAAGUCACU"
      ]
     },
     "execution_count": 2,
     "metadata": {},
     "output_type": "execute_result"
    }
   ],
   "source": [
    "# Load example data\n",
    "data_df = mavenn.load_example_dataset('mpsa')\n",
    "\n",
    "# Separate test from data_df\n",
    "ix_test = data_df['set']=='test'\n",
    "test_df = data_df[ix_test].reset_index(drop=True)\n",
    "print(f'test N: {len(test_df):,}')\n",
    "\n",
    "# Remove test data from data_df\n",
    "data_df = data_df[~ix_test].reset_index(drop=True)\n",
    "print(f'training + validation N: {len(data_df):,}')\n",
    "data_df.head(10)"
   ]
  },
  {
   "cell_type": "code",
   "execution_count": 3,
   "metadata": {
    "ExecuteTime": {
     "end_time": "2020-11-17T18:20:24.856115Z",
     "start_time": "2020-11-17T18:20:23.636568Z"
    }
   },
   "outputs": [],
   "source": [
    "# Get sequence length\n",
    "L = len(data_df['x'][0])\n",
    "\n",
    "# Define model\n",
    "model = mavenn.Model(L=L,\n",
    "                     alphabet='rna',\n",
    "                     gpmap_type='neighbor', \n",
    "                     regression_type='GE',\n",
    "                     ge_noise_model_type='SkewedT',\n",
    "                     ge_heteroskedasticity_order=2)\n"
   ]
  },
  {
   "cell_type": "code",
   "execution_count": 4,
   "metadata": {
    "ExecuteTime": {
     "end_time": "2020-11-17T18:20:25.273023Z",
     "start_time": "2020-11-17T18:20:24.857996Z"
    }
   },
   "outputs": [
    {
     "name": "stdout",
     "output_type": "stream",
     "text": [
      "N = 24,234 observations set as training data.\n",
      "Using 24.8% for validation.\n",
      "Data shuffled.\n",
      "Time to set data: 0.405 sec.\n"
     ]
    }
   ],
   "source": [
    "# Set training data\n",
    "model.set_data(x=data_df['x'],\n",
    "               y=data_df['y'],\n",
    "               validation_flags=(data_df['set']=='validation'),\n",
    "               shuffle=True)"
   ]
  },
  {
   "cell_type": "code",
   "execution_count": 5,
   "metadata": {
    "ExecuteTime": {
     "end_time": "2020-11-17T18:21:43.683694Z",
     "start_time": "2020-11-17T18:20:25.274559Z"
    },
    "scrolled": true
   },
   "outputs": [
    {
     "name": "stdout",
     "output_type": "stream",
     "text": [
      "Epoch 1/1000\n",
      "92/92 [==============================] - 1s 12ms/step - loss: 287.6119 - I_var: -0.6768 - val_loss: 276.6178 - val_I_var: -0.6073\n",
      "Epoch 2/1000\n",
      "92/92 [==============================] - 0s 4ms/step - loss: 268.4307 - I_var: -0.5506 - val_loss: 258.1585 - val_I_var: -0.4787\n",
      "Epoch 3/1000\n",
      "92/92 [==============================] - 0s 4ms/step - loss: 248.7932 - I_var: -0.4065 - val_loss: 237.9084 - val_I_var: -0.3366\n",
      "Epoch 4/1000\n",
      "92/92 [==============================] - 0s 4ms/step - loss: 229.7331 - I_var: -0.2704 - val_loss: 221.3689 - val_I_var: -0.2205\n",
      "Epoch 5/1000\n",
      "92/92 [==============================] - 0s 4ms/step - loss: 215.1347 - I_var: -0.1711 - val_loss: 208.7511 - val_I_var: -0.1312\n",
      "Epoch 6/1000\n",
      "92/92 [==============================] - 0s 4ms/step - loss: 204.0605 - I_var: -0.0932 - val_loss: 199.2863 - val_I_var: -0.0635\n",
      "Epoch 7/1000\n",
      "92/92 [==============================] - 0s 4ms/step - loss: 195.5625 - I_var: -0.0291 - val_loss: 191.3782 - val_I_var: -0.0065\n",
      "Epoch 8/1000\n",
      "92/92 [==============================] - 0s 4ms/step - loss: 188.7661 - I_var: 0.0195 - val_loss: 185.2480 - val_I_var: 0.0381\n",
      "Epoch 9/1000\n",
      "92/92 [==============================] - 0s 4ms/step - loss: 183.5991 - I_var: 0.0568 - val_loss: 180.5101 - val_I_var: 0.0729\n",
      "Epoch 10/1000\n",
      "92/92 [==============================] - 0s 5ms/step - loss: 179.7342 - I_var: 0.0821 - val_loss: 176.8576 - val_I_var: 0.1000\n",
      "Epoch 11/1000\n",
      "92/92 [==============================] - 0s 4ms/step - loss: 176.8101 - I_var: 0.0951 - val_loss: 174.2770 - val_I_var: 0.1192\n",
      "Epoch 12/1000\n",
      "92/92 [==============================] - 0s 4ms/step - loss: 174.8750 - I_var: 0.1151 - val_loss: 172.5892 - val_I_var: 0.1318\n",
      "Epoch 13/1000\n",
      "92/92 [==============================] - 0s 5ms/step - loss: 173.5339 - I_var: 0.1220 - val_loss: 171.3097 - val_I_var: 0.1409\n",
      "Epoch 14/1000\n",
      "92/92 [==============================] - 0s 4ms/step - loss: 172.6960 - I_var: 0.1340 - val_loss: 170.1721 - val_I_var: 0.1498\n",
      "Epoch 15/1000\n",
      "92/92 [==============================] - 0s 4ms/step - loss: 171.9447 - I_var: 0.1374 - val_loss: 169.3376 - val_I_var: 0.1561\n",
      "Epoch 16/1000\n",
      "92/92 [==============================] - 0s 4ms/step - loss: 171.5088 - I_var: 0.1478 - val_loss: 168.8222 - val_I_var: 0.1600\n",
      "Epoch 17/1000\n",
      "92/92 [==============================] - 0s 4ms/step - loss: 171.1440 - I_var: 0.1525 - val_loss: 168.5629 - val_I_var: 0.1620\n",
      "Epoch 18/1000\n",
      "92/92 [==============================] - 0s 4ms/step - loss: 170.6477 - I_var: 0.1422 - val_loss: 167.9411 - val_I_var: 0.1669\n",
      "Epoch 19/1000\n",
      "92/92 [==============================] - 0s 4ms/step - loss: 170.2812 - I_var: 0.1454 - val_loss: 167.6848 - val_I_var: 0.1690\n",
      "Epoch 20/1000\n",
      "92/92 [==============================] - 0s 4ms/step - loss: 170.0710 - I_var: 0.1537 - val_loss: 167.3051 - val_I_var: 0.1720\n",
      "Epoch 21/1000\n",
      "92/92 [==============================] - 0s 4ms/step - loss: 169.7937 - I_var: 0.1566 - val_loss: 166.9649 - val_I_var: 0.1747\n",
      "Epoch 22/1000\n",
      "92/92 [==============================] - 0s 4ms/step - loss: 169.6319 - I_var: 0.1612 - val_loss: 166.6875 - val_I_var: 0.1769\n",
      "Epoch 23/1000\n",
      "92/92 [==============================] - 0s 4ms/step - loss: 169.3333 - I_var: 0.1591 - val_loss: 166.5347 - val_I_var: 0.1781\n",
      "Epoch 24/1000\n",
      "92/92 [==============================] - 0s 4ms/step - loss: 169.1507 - I_var: 0.1640 - val_loss: 166.2297 - val_I_var: 0.1805\n",
      "Epoch 25/1000\n",
      "92/92 [==============================] - 0s 4ms/step - loss: 168.9112 - I_var: 0.1614 - val_loss: 166.0093 - val_I_var: 0.1823\n",
      "Epoch 26/1000\n",
      "92/92 [==============================] - 0s 4ms/step - loss: 168.6836 - I_var: 0.1614 - val_loss: 165.8019 - val_I_var: 0.1840\n",
      "Epoch 27/1000\n",
      "92/92 [==============================] - 0s 4ms/step - loss: 168.5624 - I_var: 0.1649 - val_loss: 165.6880 - val_I_var: 0.1850\n",
      "Epoch 28/1000\n",
      "92/92 [==============================] - 0s 4ms/step - loss: 168.3608 - I_var: 0.1668 - val_loss: 165.4018 - val_I_var: 0.1871\n",
      "Epoch 29/1000\n",
      "92/92 [==============================] - 0s 4ms/step - loss: 168.1622 - I_var: 0.1659 - val_loss: 165.2639 - val_I_var: 0.1883\n",
      "Epoch 30/1000\n",
      "92/92 [==============================] - 0s 4ms/step - loss: 168.1216 - I_var: 0.1716 - val_loss: 165.1020 - val_I_var: 0.1895\n",
      "Epoch 31/1000\n",
      "92/92 [==============================] - 0s 4ms/step - loss: 167.8625 - I_var: 0.1687 - val_loss: 164.9824 - val_I_var: 0.1904\n",
      "Epoch 32/1000\n",
      "92/92 [==============================] - 0s 4ms/step - loss: 167.7491 - I_var: 0.1763 - val_loss: 164.7823 - val_I_var: 0.1920\n",
      "Epoch 33/1000\n",
      "92/92 [==============================] - 0s 4ms/step - loss: 167.6350 - I_var: 0.1747 - val_loss: 164.7615 - val_I_var: 0.1921\n",
      "Epoch 34/1000\n",
      "92/92 [==============================] - 0s 4ms/step - loss: 167.3189 - I_var: 0.1616 - val_loss: 164.4052 - val_I_var: 0.1947\n",
      "Epoch 35/1000\n",
      "92/92 [==============================] - 0s 4ms/step - loss: 167.2867 - I_var: 0.1767 - val_loss: 164.3194 - val_I_var: 0.1955\n",
      "Epoch 36/1000\n",
      "92/92 [==============================] - 0s 4ms/step - loss: 167.2834 - I_var: 0.1801 - val_loss: 164.1309 - val_I_var: 0.1970\n",
      "Epoch 37/1000\n",
      "92/92 [==============================] - 0s 4ms/step - loss: 166.9277 - I_var: 0.1716 - val_loss: 164.0624 - val_I_var: 0.1975\n",
      "Epoch 38/1000\n",
      "92/92 [==============================] - 0s 4ms/step - loss: 166.8775 - I_var: 0.1803 - val_loss: 163.8719 - val_I_var: 0.1991\n",
      "Epoch 39/1000\n",
      "92/92 [==============================] - 0s 4ms/step - loss: 166.7153 - I_var: 0.1772 - val_loss: 163.8038 - val_I_var: 0.1996\n",
      "Epoch 40/1000\n",
      "92/92 [==============================] - 0s 5ms/step - loss: 166.6376 - I_var: 0.1839 - val_loss: 163.6535 - val_I_var: 0.2008\n",
      "Epoch 41/1000\n",
      "92/92 [==============================] - 0s 4ms/step - loss: 166.5796 - I_var: 0.1803 - val_loss: 163.4760 - val_I_var: 0.2020\n",
      "Epoch 42/1000\n",
      "92/92 [==============================] - 0s 4ms/step - loss: 166.4250 - I_var: 0.1778 - val_loss: 163.5168 - val_I_var: 0.2016\n",
      "Epoch 43/1000\n",
      "92/92 [==============================] - 0s 4ms/step - loss: 166.1696 - I_var: 0.1767 - val_loss: 163.1800 - val_I_var: 0.2045\n",
      "Epoch 44/1000\n",
      "92/92 [==============================] - 0s 4ms/step - loss: 166.1604 - I_var: 0.1807 - val_loss: 163.2307 - val_I_var: 0.2042\n",
      "Epoch 45/1000\n",
      "92/92 [==============================] - 0s 4ms/step - loss: 166.0782 - I_var: 0.1842 - val_loss: 162.9668 - val_I_var: 0.2061\n",
      "Epoch 46/1000\n",
      "92/92 [==============================] - 0s 4ms/step - loss: 165.8592 - I_var: 0.1749 - val_loss: 162.8477 - val_I_var: 0.2071\n",
      "Epoch 47/1000\n",
      "92/92 [==============================] - 0s 4ms/step - loss: 165.7853 - I_var: 0.1848 - val_loss: 162.6601 - val_I_var: 0.2084\n",
      "Epoch 48/1000\n",
      "92/92 [==============================] - 0s 4ms/step - loss: 165.7631 - I_var: 0.1889 - val_loss: 162.7655 - val_I_var: 0.2079\n",
      "Epoch 49/1000\n",
      "92/92 [==============================] - 0s 4ms/step - loss: 165.6520 - I_var: 0.1854 - val_loss: 162.4715 - val_I_var: 0.2102\n",
      "Epoch 50/1000\n",
      "92/92 [==============================] - 0s 4ms/step - loss: 165.5366 - I_var: 0.1914 - val_loss: 162.4209 - val_I_var: 0.2105\n",
      "Epoch 51/1000\n",
      "92/92 [==============================] - 0s 4ms/step - loss: 165.2397 - I_var: 0.1800 - val_loss: 162.2392 - val_I_var: 0.2119\n",
      "Epoch 52/1000\n",
      "92/92 [==============================] - 0s 4ms/step - loss: 165.3135 - I_var: 0.1944 - val_loss: 162.4560 - val_I_var: 0.2107\n",
      "Epoch 53/1000\n",
      "92/92 [==============================] - 0s 4ms/step - loss: 165.1512 - I_var: 0.1912 - val_loss: 162.1494 - val_I_var: 0.2129\n",
      "Epoch 54/1000\n",
      "92/92 [==============================] - 0s 4ms/step - loss: 165.0723 - I_var: 0.1879 - val_loss: 162.0148 - val_I_var: 0.2141\n",
      "Epoch 55/1000\n",
      "92/92 [==============================] - 0s 4ms/step - loss: 164.8841 - I_var: 0.1902 - val_loss: 161.8511 - val_I_var: 0.2151\n",
      "Epoch 56/1000\n",
      "92/92 [==============================] - 0s 4ms/step - loss: 164.8966 - I_var: 0.1960 - val_loss: 161.7913 - val_I_var: 0.2157\n",
      "Epoch 57/1000\n",
      "92/92 [==============================] - 0s 4ms/step - loss: 164.7064 - I_var: 0.1885 - val_loss: 161.8128 - val_I_var: 0.2158\n",
      "Epoch 58/1000\n",
      "92/92 [==============================] - 0s 4ms/step - loss: 164.6627 - I_var: 0.1975 - val_loss: 161.5061 - val_I_var: 0.2181\n",
      "Epoch 59/1000\n"
     ]
    },
    {
     "name": "stdout",
     "output_type": "stream",
     "text": [
      "92/92 [==============================] - 0s 4ms/step - loss: 164.5380 - I_var: 0.1965 - val_loss: 161.3642 - val_I_var: 0.2193\n",
      "Epoch 60/1000\n",
      "92/92 [==============================] - 0s 4ms/step - loss: 164.3734 - I_var: 0.1967 - val_loss: 161.3438 - val_I_var: 0.2190\n",
      "Epoch 61/1000\n",
      "92/92 [==============================] - 0s 4ms/step - loss: 164.3609 - I_var: 0.2028 - val_loss: 161.1803 - val_I_var: 0.2206\n",
      "Epoch 62/1000\n",
      "92/92 [==============================] - 0s 4ms/step - loss: 164.2337 - I_var: 0.2018 - val_loss: 161.3045 - val_I_var: 0.2201\n",
      "Epoch 63/1000\n",
      "92/92 [==============================] - 0s 5ms/step - loss: 164.0715 - I_var: 0.1934 - val_loss: 160.8766 - val_I_var: 0.2227\n",
      "Epoch 64/1000\n",
      "92/92 [==============================] - 0s 4ms/step - loss: 164.0239 - I_var: 0.2061 - val_loss: 160.7685 - val_I_var: 0.2238\n",
      "Epoch 65/1000\n",
      "92/92 [==============================] - 0s 4ms/step - loss: 163.8418 - I_var: 0.2009 - val_loss: 160.5577 - val_I_var: 0.2250\n",
      "Epoch 66/1000\n",
      "92/92 [==============================] - 0s 4ms/step - loss: 163.8395 - I_var: 0.2052 - val_loss: 160.4708 - val_I_var: 0.2262\n",
      "Epoch 67/1000\n",
      "92/92 [==============================] - 0s 4ms/step - loss: 163.5805 - I_var: 0.2053 - val_loss: 160.5606 - val_I_var: 0.2253\n",
      "Epoch 68/1000\n",
      "92/92 [==============================] - 0s 4ms/step - loss: 163.4638 - I_var: 0.2048 - val_loss: 160.3181 - val_I_var: 0.2271\n",
      "Epoch 69/1000\n",
      "92/92 [==============================] - 0s 4ms/step - loss: 163.3500 - I_var: 0.2036 - val_loss: 160.2378 - val_I_var: 0.2282\n",
      "Epoch 70/1000\n",
      "92/92 [==============================] - 0s 4ms/step - loss: 163.2172 - I_var: 0.2051 - val_loss: 159.9043 - val_I_var: 0.2306\n",
      "Epoch 71/1000\n",
      "92/92 [==============================] - 0s 4ms/step - loss: 163.1196 - I_var: 0.2098 - val_loss: 159.7455 - val_I_var: 0.2316\n",
      "Epoch 72/1000\n",
      "92/92 [==============================] - 0s 4ms/step - loss: 162.9409 - I_var: 0.2101 - val_loss: 159.6767 - val_I_var: 0.2325\n",
      "Epoch 73/1000\n",
      "92/92 [==============================] - 0s 4ms/step - loss: 162.7211 - I_var: 0.2028 - val_loss: 159.5160 - val_I_var: 0.2336\n",
      "Epoch 74/1000\n",
      "92/92 [==============================] - 0s 4ms/step - loss: 162.6440 - I_var: 0.2063 - val_loss: 159.3577 - val_I_var: 0.2349\n",
      "Epoch 75/1000\n",
      "92/92 [==============================] - 0s 4ms/step - loss: 162.5336 - I_var: 0.2097 - val_loss: 159.1961 - val_I_var: 0.2360\n",
      "Epoch 76/1000\n",
      "92/92 [==============================] - 0s 4ms/step - loss: 162.4060 - I_var: 0.2133 - val_loss: 158.9875 - val_I_var: 0.2377\n",
      "Epoch 77/1000\n",
      "92/92 [==============================] - 0s 4ms/step - loss: 162.2646 - I_var: 0.2142 - val_loss: 158.8654 - val_I_var: 0.2384\n",
      "Epoch 78/1000\n",
      "92/92 [==============================] - 0s 4ms/step - loss: 161.9237 - I_var: 0.1984 - val_loss: 158.7103 - val_I_var: 0.2397\n",
      "Epoch 79/1000\n",
      "92/92 [==============================] - 0s 4ms/step - loss: 161.8277 - I_var: 0.2137 - val_loss: 158.6959 - val_I_var: 0.2403\n",
      "Epoch 80/1000\n",
      "92/92 [==============================] - 0s 4ms/step - loss: 161.6154 - I_var: 0.2072 - val_loss: 158.3320 - val_I_var: 0.2424\n",
      "Epoch 81/1000\n",
      "92/92 [==============================] - 0s 4ms/step - loss: 161.5484 - I_var: 0.2161 - val_loss: 158.1701 - val_I_var: 0.2442\n",
      "Epoch 82/1000\n",
      "92/92 [==============================] - 0s 4ms/step - loss: 161.3443 - I_var: 0.2188 - val_loss: 157.9310 - val_I_var: 0.2460\n",
      "Epoch 83/1000\n",
      "92/92 [==============================] - 0s 4ms/step - loss: 161.1833 - I_var: 0.2258 - val_loss: 157.8138 - val_I_var: 0.2470\n",
      "Epoch 84/1000\n",
      "92/92 [==============================] - 0s 4ms/step - loss: 160.8844 - I_var: 0.2172 - val_loss: 157.7845 - val_I_var: 0.2474\n",
      "Epoch 85/1000\n",
      "92/92 [==============================] - 0s 4ms/step - loss: 160.7768 - I_var: 0.2260 - val_loss: 157.3079 - val_I_var: 0.2511\n",
      "Epoch 86/1000\n",
      "92/92 [==============================] - 0s 4ms/step - loss: 160.5168 - I_var: 0.2260 - val_loss: 157.0774 - val_I_var: 0.2528\n",
      "Epoch 87/1000\n",
      "92/92 [==============================] - 0s 4ms/step - loss: 160.2760 - I_var: 0.2293 - val_loss: 157.1066 - val_I_var: 0.2527\n",
      "Epoch 88/1000\n",
      "92/92 [==============================] - 0s 4ms/step - loss: 160.1095 - I_var: 0.2302 - val_loss: 156.7747 - val_I_var: 0.2550\n",
      "Epoch 89/1000\n",
      "92/92 [==============================] - 0s 4ms/step - loss: 159.8225 - I_var: 0.2334 - val_loss: 156.3784 - val_I_var: 0.2579\n",
      "Epoch 90/1000\n",
      "92/92 [==============================] - 0s 4ms/step - loss: 159.5160 - I_var: 0.2274 - val_loss: 156.0818 - val_I_var: 0.2603\n",
      "Epoch 91/1000\n",
      "92/92 [==============================] - 0s 4ms/step - loss: 159.2312 - I_var: 0.2383 - val_loss: 155.8029 - val_I_var: 0.2625\n",
      "Epoch 92/1000\n",
      "92/92 [==============================] - 0s 4ms/step - loss: 158.9502 - I_var: 0.2395 - val_loss: 155.7983 - val_I_var: 0.2632\n",
      "Epoch 93/1000\n",
      "92/92 [==============================] - 0s 4ms/step - loss: 158.6449 - I_var: 0.2320 - val_loss: 155.1428 - val_I_var: 0.2677\n",
      "Epoch 94/1000\n",
      "92/92 [==============================] - 0s 4ms/step - loss: 158.2730 - I_var: 0.2421 - val_loss: 154.7303 - val_I_var: 0.2710\n",
      "Epoch 95/1000\n",
      "92/92 [==============================] - 0s 4ms/step - loss: 157.9735 - I_var: 0.2456 - val_loss: 154.4350 - val_I_var: 0.2733\n",
      "Epoch 96/1000\n",
      "92/92 [==============================] - 0s 4ms/step - loss: 157.3419 - I_var: 0.2464 - val_loss: 153.9467 - val_I_var: 0.2772\n",
      "Epoch 97/1000\n",
      "92/92 [==============================] - 0s 4ms/step - loss: 156.9764 - I_var: 0.2560 - val_loss: 153.4162 - val_I_var: 0.2814\n",
      "Epoch 98/1000\n",
      "92/92 [==============================] - 0s 5ms/step - loss: 155.8864 - I_var: 0.2590 - val_loss: 152.5069 - val_I_var: 0.2890\n",
      "Epoch 99/1000\n",
      "92/92 [==============================] - 0s 4ms/step - loss: 154.6897 - I_var: 0.2664 - val_loss: 151.1875 - val_I_var: 0.2983\n",
      "Epoch 100/1000\n",
      "92/92 [==============================] - 0s 4ms/step - loss: 153.6903 - I_var: 0.2783 - val_loss: 150.9720 - val_I_var: 0.2978\n",
      "Epoch 101/1000\n",
      "92/92 [==============================] - 0s 4ms/step - loss: 152.5297 - I_var: 0.2819 - val_loss: 149.8985 - val_I_var: 0.3047\n",
      "Epoch 102/1000\n",
      "92/92 [==============================] - 1s 5ms/step - loss: 151.8312 - I_var: 0.2929 - val_loss: 149.8535 - val_I_var: 0.3056\n",
      "Epoch 103/1000\n",
      "92/92 [==============================] - 1s 6ms/step - loss: 151.7702 - I_var: 0.2860 - val_loss: 148.8871 - val_I_var: 0.3118\n",
      "Epoch 104/1000\n",
      "92/92 [==============================] - 0s 5ms/step - loss: 151.5869 - I_var: 0.2923 - val_loss: 148.8940 - val_I_var: 0.3115\n",
      "Epoch 105/1000\n",
      "92/92 [==============================] - 0s 4ms/step - loss: 151.3469 - I_var: 0.2853 - val_loss: 149.0594 - val_I_var: 0.3103\n",
      "Epoch 106/1000\n",
      "92/92 [==============================] - 0s 4ms/step - loss: 151.4451 - I_var: 0.2857 - val_loss: 148.5597 - val_I_var: 0.3132\n",
      "Epoch 107/1000\n",
      "92/92 [==============================] - 0s 4ms/step - loss: 151.4080 - I_var: 0.2900 - val_loss: 148.6867 - val_I_var: 0.3124\n",
      "Epoch 108/1000\n",
      "92/92 [==============================] - 0s 4ms/step - loss: 151.3250 - I_var: 0.2889 - val_loss: 148.6130 - val_I_var: 0.3127\n",
      "Epoch 109/1000\n",
      "92/92 [==============================] - 0s 4ms/step - loss: 151.2906 - I_var: 0.2913 - val_loss: 149.6454 - val_I_var: 0.3048\n",
      "Epoch 110/1000\n",
      "92/92 [==============================] - 0s 4ms/step - loss: 151.3969 - I_var: 0.2911 - val_loss: 148.5863 - val_I_var: 0.3128\n",
      "Epoch 111/1000\n",
      "92/92 [==============================] - 0s 4ms/step - loss: 151.3211 - I_var: 0.2914 - val_loss: 148.7402 - val_I_var: 0.3113\n",
      "Epoch 112/1000\n",
      "92/92 [==============================] - 0s 4ms/step - loss: 151.2223 - I_var: 0.2903 - val_loss: 148.3009 - val_I_var: 0.3145\n",
      "Epoch 113/1000\n",
      "92/92 [==============================] - 0s 4ms/step - loss: 151.2225 - I_var: 0.2921 - val_loss: 148.8328 - val_I_var: 0.3109\n",
      "Epoch 114/1000\n",
      "92/92 [==============================] - 0s 4ms/step - loss: 151.3322 - I_var: 0.2867 - val_loss: 148.8840 - val_I_var: 0.3105\n",
      "Epoch 115/1000\n",
      "92/92 [==============================] - 0s 4ms/step - loss: 151.2503 - I_var: 0.2925 - val_loss: 148.4922 - val_I_var: 0.3132\n",
      "Epoch 116/1000\n",
      "92/92 [==============================] - 0s 4ms/step - loss: 151.2041 - I_var: 0.2886 - val_loss: 148.7003 - val_I_var: 0.3116\n",
      "Epoch 117/1000\n"
     ]
    },
    {
     "name": "stdout",
     "output_type": "stream",
     "text": [
      "92/92 [==============================] - 0s 4ms/step - loss: 151.2800 - I_var: 0.2939 - val_loss: 148.4032 - val_I_var: 0.3135\n",
      "Epoch 118/1000\n",
      "92/92 [==============================] - 0s 4ms/step - loss: 151.2639 - I_var: 0.2924 - val_loss: 148.3830 - val_I_var: 0.3137\n",
      "Epoch 119/1000\n",
      "92/92 [==============================] - 0s 4ms/step - loss: 151.1994 - I_var: 0.2934 - val_loss: 148.2442 - val_I_var: 0.3151\n",
      "Epoch 120/1000\n",
      "92/92 [==============================] - 0s 4ms/step - loss: 151.1690 - I_var: 0.2911 - val_loss: 148.7055 - val_I_var: 0.3113\n",
      "Epoch 121/1000\n",
      "92/92 [==============================] - 0s 4ms/step - loss: 151.2081 - I_var: 0.2896 - val_loss: 148.2218 - val_I_var: 0.3150\n",
      "Epoch 122/1000\n",
      "92/92 [==============================] - 0s 4ms/step - loss: 151.1096 - I_var: 0.2892 - val_loss: 148.1301 - val_I_var: 0.3158\n",
      "Epoch 123/1000\n",
      "92/92 [==============================] - 0s 4ms/step - loss: 151.1800 - I_var: 0.2886 - val_loss: 148.3568 - val_I_var: 0.3144\n",
      "Epoch 124/1000\n",
      "92/92 [==============================] - 0s 4ms/step - loss: 151.2741 - I_var: 0.2929 - val_loss: 148.2571 - val_I_var: 0.3151\n",
      "Epoch 125/1000\n",
      "92/92 [==============================] - 0s 4ms/step - loss: 151.2404 - I_var: 0.2948 - val_loss: 148.2879 - val_I_var: 0.3147\n",
      "Epoch 126/1000\n",
      "92/92 [==============================] - 0s 4ms/step - loss: 151.1861 - I_var: 0.2907 - val_loss: 148.1133 - val_I_var: 0.3158\n",
      "Epoch 127/1000\n",
      "92/92 [==============================] - 0s 4ms/step - loss: 151.2795 - I_var: 0.2954 - val_loss: 148.1259 - val_I_var: 0.3156\n",
      "Epoch 128/1000\n",
      "92/92 [==============================] - 0s 5ms/step - loss: 151.1396 - I_var: 0.2929 - val_loss: 148.5291 - val_I_var: 0.3132\n",
      "Epoch 129/1000\n",
      "92/92 [==============================] - 0s 4ms/step - loss: 151.3105 - I_var: 0.2852 - val_loss: 148.2648 - val_I_var: 0.3146\n",
      "Epoch 130/1000\n",
      "92/92 [==============================] - 0s 4ms/step - loss: 151.2888 - I_var: 0.2930 - val_loss: 148.2461 - val_I_var: 0.3149\n",
      "Epoch 131/1000\n",
      "92/92 [==============================] - 0s 4ms/step - loss: 151.0971 - I_var: 0.2971 - val_loss: 148.1401 - val_I_var: 0.3159\n",
      "Epoch 132/1000\n",
      "92/92 [==============================] - 0s 4ms/step - loss: 151.1755 - I_var: 0.2862 - val_loss: 148.4003 - val_I_var: 0.3141\n",
      "Epoch 133/1000\n",
      "92/92 [==============================] - 0s 4ms/step - loss: 151.1939 - I_var: 0.2966 - val_loss: 148.4622 - val_I_var: 0.3136\n",
      "Epoch 134/1000\n",
      "92/92 [==============================] - 0s 4ms/step - loss: 151.2899 - I_var: 0.2980 - val_loss: 148.2548 - val_I_var: 0.3150\n",
      "Epoch 135/1000\n",
      "92/92 [==============================] - 0s 4ms/step - loss: 151.0597 - I_var: 0.2827 - val_loss: 148.1919 - val_I_var: 0.3156\n",
      "Epoch 136/1000\n",
      "92/92 [==============================] - 0s 4ms/step - loss: 151.0953 - I_var: 0.2939 - val_loss: 148.0447 - val_I_var: 0.3161\n",
      "Epoch 137/1000\n",
      "92/92 [==============================] - ETA: 0s - loss: 151.2019 - I_var: 0.293 - 0s 4ms/step - loss: 151.1902 - I_var: 0.2976 - val_loss: 148.2996 - val_I_var: 0.3150\n",
      "Epoch 138/1000\n",
      "92/92 [==============================] - 0s 4ms/step - loss: 151.1578 - I_var: 0.2957 - val_loss: 148.1500 - val_I_var: 0.3158\n",
      "Epoch 139/1000\n",
      "92/92 [==============================] - 0s 4ms/step - loss: 151.1746 - I_var: 0.2954 - val_loss: 148.1284 - val_I_var: 0.3158\n",
      "Epoch 140/1000\n",
      "92/92 [==============================] - 0s 4ms/step - loss: 151.1217 - I_var: 0.2966 - val_loss: 148.1784 - val_I_var: 0.3155\n",
      "Epoch 141/1000\n",
      "92/92 [==============================] - 0s 5ms/step - loss: 151.1695 - I_var: 0.2948 - val_loss: 148.4452 - val_I_var: 0.3135\n",
      "Epoch 142/1000\n",
      "92/92 [==============================] - 0s 4ms/step - loss: 151.0045 - I_var: 0.2914 - val_loss: 148.6557 - val_I_var: 0.3119\n",
      "Epoch 143/1000\n",
      "92/92 [==============================] - 0s 4ms/step - loss: 151.1056 - I_var: 0.2925 - val_loss: 148.1299 - val_I_var: 0.3157\n",
      "Epoch 144/1000\n",
      "92/92 [==============================] - 0s 4ms/step - loss: 151.1281 - I_var: 0.2944 - val_loss: 148.2157 - val_I_var: 0.3152\n",
      "Epoch 145/1000\n",
      "92/92 [==============================] - 0s 4ms/step - loss: 151.0479 - I_var: 0.2938 - val_loss: 148.1462 - val_I_var: 0.3164\n",
      "Epoch 146/1000\n",
      "92/92 [==============================] - 0s 4ms/step - loss: 151.1111 - I_var: 0.2988 - val_loss: 148.3983 - val_I_var: 0.3140\n",
      "Epoch 147/1000\n",
      "92/92 [==============================] - 0s 4ms/step - loss: 151.1115 - I_var: 0.2957 - val_loss: 148.3860 - val_I_var: 0.3141\n",
      "Epoch 148/1000\n",
      "92/92 [==============================] - 0s 4ms/step - loss: 151.0485 - I_var: 0.2956 - val_loss: 148.2192 - val_I_var: 0.3150\n",
      "Epoch 149/1000\n",
      "92/92 [==============================] - 0s 4ms/step - loss: 151.0856 - I_var: 0.2973 - val_loss: 148.1356 - val_I_var: 0.3159\n",
      "Epoch 150/1000\n",
      "92/92 [==============================] - 0s 4ms/step - loss: 151.1237 - I_var: 0.2940 - val_loss: 148.1008 - val_I_var: 0.3162\n",
      "Epoch 151/1000\n",
      "92/92 [==============================] - 0s 4ms/step - loss: 150.9963 - I_var: 0.2951 - val_loss: 148.1362 - val_I_var: 0.3161\n",
      "Epoch 152/1000\n",
      "92/92 [==============================] - 0s 4ms/step - loss: 151.0692 - I_var: 0.2989 - val_loss: 147.9670 - val_I_var: 0.3173\n",
      "Epoch 153/1000\n",
      "92/92 [==============================] - 0s 4ms/step - loss: 151.0605 - I_var: 0.2980 - val_loss: 148.0014 - val_I_var: 0.3167\n",
      "Epoch 154/1000\n",
      "92/92 [==============================] - 0s 5ms/step - loss: 151.0090 - I_var: 0.2921 - val_loss: 148.2088 - val_I_var: 0.3149\n",
      "Epoch 155/1000\n",
      "92/92 [==============================] - 0s 4ms/step - loss: 150.9996 - I_var: 0.2897 - val_loss: 148.0263 - val_I_var: 0.3166\n",
      "Epoch 156/1000\n",
      "92/92 [==============================] - 0s 4ms/step - loss: 151.1173 - I_var: 0.2979 - val_loss: 148.0789 - val_I_var: 0.3161\n",
      "Epoch 157/1000\n",
      "92/92 [==============================] - 0s 4ms/step - loss: 151.1514 - I_var: 0.2986 - val_loss: 147.9007 - val_I_var: 0.3175\n",
      "Epoch 158/1000\n",
      "92/92 [==============================] - 0s 4ms/step - loss: 151.0143 - I_var: 0.2912 - val_loss: 148.0543 - val_I_var: 0.3168\n",
      "Epoch 159/1000\n",
      "92/92 [==============================] - 0s 5ms/step - loss: 151.0571 - I_var: 0.2968 - val_loss: 148.5250 - val_I_var: 0.3135\n",
      "Epoch 160/1000\n",
      "92/92 [==============================] - 0s 4ms/step - loss: 151.1206 - I_var: 0.2941 - val_loss: 148.0703 - val_I_var: 0.3165\n",
      "Epoch 161/1000\n",
      "92/92 [==============================] - 0s 4ms/step - loss: 151.1409 - I_var: 0.2996 - val_loss: 148.0590 - val_I_var: 0.3164\n",
      "Epoch 162/1000\n",
      "92/92 [==============================] - 0s 4ms/step - loss: 151.1376 - I_var: 0.2969 - val_loss: 148.0355 - val_I_var: 0.3165\n",
      "Epoch 163/1000\n",
      "92/92 [==============================] - 0s 4ms/step - loss: 151.0087 - I_var: 0.2965 - val_loss: 148.2495 - val_I_var: 0.3152\n",
      "Epoch 164/1000\n",
      "92/92 [==============================] - 0s 4ms/step - loss: 151.0896 - I_var: 0.2933 - val_loss: 147.9739 - val_I_var: 0.3171\n",
      "Epoch 165/1000\n",
      "92/92 [==============================] - 0s 4ms/step - loss: 150.9432 - I_var: 0.2885 - val_loss: 148.0050 - val_I_var: 0.3167\n",
      "Epoch 166/1000\n",
      "92/92 [==============================] - 0s 4ms/step - loss: 151.0058 - I_var: 0.2963 - val_loss: 147.8389 - val_I_var: 0.3180\n",
      "Epoch 167/1000\n",
      "92/92 [==============================] - 0s 4ms/step - loss: 150.9684 - I_var: 0.2901 - val_loss: 147.9608 - val_I_var: 0.3172\n",
      "Epoch 168/1000\n",
      "92/92 [==============================] - 0s 4ms/step - loss: 151.0319 - I_var: 0.2917 - val_loss: 147.9864 - val_I_var: 0.3168\n",
      "Epoch 169/1000\n",
      "92/92 [==============================] - 0s 4ms/step - loss: 150.9008 - I_var: 0.2946 - val_loss: 148.5454 - val_I_var: 0.3127\n",
      "Epoch 170/1000\n",
      "92/92 [==============================] - 0s 4ms/step - loss: 151.0507 - I_var: 0.2916 - val_loss: 148.0257 - val_I_var: 0.3167\n",
      "Epoch 171/1000\n",
      "92/92 [==============================] - 0s 4ms/step - loss: 151.0646 - I_var: 0.2973 - val_loss: 148.1162 - val_I_var: 0.3157\n",
      "Epoch 172/1000\n",
      "92/92 [==============================] - 0s 4ms/step - loss: 151.1227 - I_var: 0.2941 - val_loss: 148.1259 - val_I_var: 0.3160\n",
      "Epoch 173/1000\n",
      "92/92 [==============================] - 0s 4ms/step - loss: 151.0130 - I_var: 0.2958 - val_loss: 147.9012 - val_I_var: 0.3172\n",
      "Epoch 174/1000\n"
     ]
    },
    {
     "name": "stdout",
     "output_type": "stream",
     "text": [
      "92/92 [==============================] - 0s 4ms/step - loss: 151.1567 - I_var: 0.2988 - val_loss: 148.1327 - val_I_var: 0.3157\n",
      "Epoch 175/1000\n",
      "92/92 [==============================] - 0s 4ms/step - loss: 150.9653 - I_var: 0.2912 - val_loss: 147.9771 - val_I_var: 0.3167\n",
      "Epoch 176/1000\n",
      "92/92 [==============================] - 0s 4ms/step - loss: 150.9676 - I_var: 0.2966 - val_loss: 147.9284 - val_I_var: 0.3174\n",
      "Epoch 177/1000\n",
      "92/92 [==============================] - 0s 4ms/step - loss: 150.8695 - I_var: 0.2881 - val_loss: 148.1477 - val_I_var: 0.3159\n",
      "Epoch 178/1000\n",
      "92/92 [==============================] - 0s 4ms/step - loss: 151.0195 - I_var: 0.2893 - val_loss: 147.9613 - val_I_var: 0.3171\n",
      "Epoch 179/1000\n",
      "92/92 [==============================] - 0s 4ms/step - loss: 151.0666 - I_var: 0.3017 - val_loss: 148.0437 - val_I_var: 0.3166\n",
      "Epoch 180/1000\n",
      "92/92 [==============================] - 0s 4ms/step - loss: 150.9354 - I_var: 0.2883 - val_loss: 148.1111 - val_I_var: 0.3161\n",
      "Epoch 181/1000\n",
      "92/92 [==============================] - 0s 4ms/step - loss: 151.0539 - I_var: 0.2967 - val_loss: 148.0610 - val_I_var: 0.3164\n",
      "Epoch 182/1000\n",
      "92/92 [==============================] - 0s 4ms/step - loss: 151.0158 - I_var: 0.2973 - val_loss: 148.3349 - val_I_var: 0.3139\n",
      "Epoch 183/1000\n",
      "92/92 [==============================] - 0s 4ms/step - loss: 150.9499 - I_var: 0.2869 - val_loss: 147.9137 - val_I_var: 0.3177\n",
      "Epoch 184/1000\n",
      "92/92 [==============================] - 0s 4ms/step - loss: 151.0324 - I_var: 0.2964 - val_loss: 147.9378 - val_I_var: 0.3174\n",
      "Epoch 185/1000\n",
      "92/92 [==============================] - 0s 4ms/step - loss: 151.0146 - I_var: 0.2976 - val_loss: 147.8643 - val_I_var: 0.3179\n",
      "Epoch 186/1000\n",
      "92/92 [==============================] - 0s 4ms/step - loss: 151.0795 - I_var: 0.2979 - val_loss: 147.9061 - val_I_var: 0.3178\n",
      "Epoch 187/1000\n",
      "92/92 [==============================] - 0s 4ms/step - loss: 151.0290 - I_var: 0.2947 - val_loss: 147.8957 - val_I_var: 0.3173\n",
      "Epoch 188/1000\n",
      "92/92 [==============================] - 0s 4ms/step - loss: 150.9363 - I_var: 0.2941 - val_loss: 148.1210 - val_I_var: 0.3158\n",
      "Epoch 189/1000\n",
      "92/92 [==============================] - 0s 4ms/step - loss: 150.9509 - I_var: 0.2994 - val_loss: 148.2442 - val_I_var: 0.3149\n",
      "Epoch 190/1000\n",
      "92/92 [==============================] - 0s 4ms/step - loss: 150.8585 - I_var: 0.2828 - val_loss: 147.9063 - val_I_var: 0.3175\n",
      "Epoch 191/1000\n",
      "92/92 [==============================] - 0s 5ms/step - loss: 150.9841 - I_var: 0.2951 - val_loss: 147.9301 - val_I_var: 0.3170\n",
      "Epoch 192/1000\n",
      "92/92 [==============================] - 0s 4ms/step - loss: 151.0077 - I_var: 0.3005 - val_loss: 147.9305 - val_I_var: 0.3171\n",
      "Epoch 193/1000\n",
      "92/92 [==============================] - 0s 4ms/step - loss: 150.9454 - I_var: 0.2930 - val_loss: 148.2360 - val_I_var: 0.3153\n",
      "Epoch 194/1000\n",
      "92/92 [==============================] - 0s 4ms/step - loss: 151.0403 - I_var: 0.2945 - val_loss: 147.9950 - val_I_var: 0.3169\n",
      "Epoch 195/1000\n",
      "92/92 [==============================] - 0s 4ms/step - loss: 151.1093 - I_var: 0.3008 - val_loss: 147.8627 - val_I_var: 0.3178\n",
      "Epoch 196/1000\n",
      "92/92 [==============================] - 0s 4ms/step - loss: 150.8965 - I_var: 0.2922 - val_loss: 148.0883 - val_I_var: 0.3165\n",
      "Training time: 78.4 seconds\n"
     ]
    },
    {
     "data": {
      "text/plain": [
       "<tensorflow.python.keras.callbacks.History at 0x13b9acb50>"
      ]
     },
     "execution_count": 5,
     "metadata": {},
     "output_type": "execute_result"
    }
   ],
   "source": [
    "# Fit model to data\n",
    "model.fit(learning_rate=.001,\n",
    "          epochs=1000,\n",
    "          batch_size=200,\n",
    "          early_stopping=True,\n",
    "          early_stopping_patience=30,\n",
    "          linear_initialization=False)"
   ]
  },
  {
   "cell_type": "code",
   "execution_count": 6,
   "metadata": {
    "ExecuteTime": {
     "end_time": "2020-11-17T18:21:43.716729Z",
     "start_time": "2020-11-17T18:21:43.685450Z"
    }
   },
   "outputs": [
    {
     "name": "stdout",
     "output_type": "stream",
     "text": [
      "Model saved to these files:\n",
      "\tmpsa_ge_neighbor.pickle\n",
      "\tmpsa_ge_neighbor.h5\n"
     ]
    }
   ],
   "source": [
    "# Save model\n",
    "model.save('mpsa_ge_neighbor')"
   ]
  },
  {
   "cell_type": "code",
   "execution_count": 7,
   "metadata": {
    "ExecuteTime": {
     "end_time": "2020-11-17T18:21:44.019575Z",
     "start_time": "2020-11-17T18:21:43.721686Z"
    },
    "scrolled": true
   },
   "outputs": [
    {
     "name": "stdout",
     "output_type": "stream",
     "text": [
      "Model loaded from these files:\n",
      "\tmpsa_ge_neighbor.pickle\n",
      "\tmpsa_ge_neighbor.h5\n"
     ]
    }
   ],
   "source": [
    "# Load model\n",
    "model = mavenn.load('mpsa_ge_neighbor')"
   ]
  },
  {
   "cell_type": "code",
   "execution_count": 8,
   "metadata": {
    "ExecuteTime": {
     "end_time": "2020-11-17T18:21:44.033309Z",
     "start_time": "2020-11-17T18:21:44.022974Z"
    }
   },
   "outputs": [],
   "source": [
    "# Get x and y\n",
    "x_test = test_df['x'].values\n",
    "y_test = test_df['y'].values"
   ]
  },
  {
   "cell_type": "code",
   "execution_count": 9,
   "metadata": {
    "ExecuteTime": {
     "end_time": "2020-11-17T18:21:45.036716Z",
     "start_time": "2020-11-17T18:21:44.035601Z"
    }
   },
   "outputs": [
    {
     "name": "stdout",
     "output_type": "stream",
     "text": [
      "On test data:\n",
      "I_var_test: 0.306 +- 0.027 bits\n",
      "I_pred_test: 0.340 +- 0.017 bits\n"
     ]
    },
    {
     "data": {
      "image/png": "[encoded data removed]",
      "text/plain": [
       "<Figure size 288x288 with 1 Axes>"
      ]
     },
     "metadata": {
      "needs_background": "light"
     },
     "output_type": "display_data"
    }
   ],
   "source": [
    "# Show training history\n",
    "print('On test data:')\n",
    "\n",
    "# Compute variational information\n",
    "I_var, dI_var =  model.I_variational(x=x_test, y=y_test)\n",
    "print(f'I_var_test: {I_var:.3f} +- {dI_var:.3f} bits') \n",
    "\n",
    "# Compute predictive information\n",
    "I_pred, dI_pred = model.I_predictive(x=x_test, y=y_test)\n",
    "print(f'I_pred_test: {I_pred:.3f} +- {dI_pred:.3f} bits')\n",
    "\n",
    "I_var_hist = model.history['I_var']\n",
    "val_I_var_hist = model.history['val_I_var']\n",
    "\n",
    "fig, ax = plt.subplots(1,1,figsize=[4,4])\n",
    "ax.plot(I_var_hist, label='I_var_train')\n",
    "ax.plot(val_I_var_hist, label='I_var_val')\n",
    "ax.axhline(I_var, color='C2', linestyle=':', label='I_var_test')\n",
    "ax.axhline(I_pred, color='C3', linestyle=':', label='I_pred_test')\n",
    "ax.legend()\n",
    "ax.set_xlabel('epochs')\n",
    "ax.set_ylabel('bits')\n",
    "ax.set_title('training hisotry')\n",
    "ax.set_ylim([0, I_pred*1.2]);"
   ]
  },
  {
   "cell_type": "code",
   "execution_count": 10,
   "metadata": {
    "ExecuteTime": {
     "end_time": "2020-11-17T18:21:46.256783Z",
     "start_time": "2020-11-17T18:21:45.041158Z"
    }
   },
   "outputs": [
    {
     "data": {
      "image/png": "[encoded data removed]",
      "text/plain": [
       "<Figure size 288x288 with 1 Axes>"
      ]
     },
     "metadata": {
      "needs_background": "light"
     },
     "output_type": "display_data"
    }
   ],
   "source": [
    "# Predict latent phentoype values (phi) on test data\n",
    "phi_test = model.x_to_phi(x_test)\n",
    "\n",
    "# Predict measurement values (yhat) on test data\n",
    "yhat_test = model.x_to_yhat(x_test)\n",
    "\n",
    "# Set phi lims and create grid in phi space\n",
    "phi_lim = [min(phi_test)-.5, max(phi_test)+.5]\n",
    "phi_grid = np.linspace(phi_lim[0], phi_lim[1], 1000)\n",
    "\n",
    "# Compute yhat each phi gridpoint\n",
    "yhat_grid = model.phi_to_yhat(phi_grid)\n",
    "\n",
    "# Compute 90% CI for each yhat\n",
    "q = [0.05, 0.95] #[0.16, 0.84]\n",
    "yqs_grid = model.yhat_to_yq(yhat_grid, q=q)\n",
    "\n",
    "# Create figure\n",
    "fig, ax = plt.subplots(1, 1, figsize=[4, 4])\n",
    "\n",
    "# Illustrate measurement process with GE curve\n",
    "ax.scatter(phi_test, y_test, color='C0', s=5, alpha=.2, label='test data')\n",
    "ax.plot(phi_grid, yhat_grid, linewidth=2, color='C1',\n",
    "        label='$\\hat{y} = g(\\phi)$')\n",
    "ax.plot(phi_grid, yqs_grid[:, 0], linestyle='--', color='C1', label='68% CI')\n",
    "ax.plot(phi_grid, yqs_grid[:, 1], linestyle='--', color='C1')\n",
    "ax.set_xlim(phi_lim)\n",
    "ax.set_xlabel('latent phenotype ($\\phi$)')\n",
    "ax.set_ylabel('measurement ($y$)')\n",
    "ax.set_title('measurement process')\n",
    "ax.legend()\n",
    "\n",
    "# Fix up plot\n",
    "fig.tight_layout()\n",
    "plt.show()"
   ]
  },
  {
   "cell_type": "code",
   "execution_count": 11,
   "metadata": {
    "ExecuteTime": {
     "end_time": "2020-11-17T18:21:46.368146Z",
     "start_time": "2020-11-17T18:21:46.261940Z"
    }
   },
   "outputs": [
    {
     "data": {
      "text/html": [
       "<div>\n",
       "<style scoped>\n",
       "    .dataframe tbody tr th:only-of-type {\n",
       "        vertical-align: middle;\n",
       "    }\n",
       "\n",
       "    .dataframe tbody tr th {\n",
       "        vertical-align: top;\n",
       "    }\n",
       "\n",
       "    .dataframe thead th {\n",
       "        text-align: right;\n",
       "    }\n",
       "</style>\n",
       "<table border=\"1\" class=\"dataframe\">\n",
       "  <thead>\n",
       "    <tr style=\"text-align: right;\">\n",
       "      <th></th>\n",
       "      <th>set</th>\n",
       "      <th>yhat</th>\n",
       "      <th>phi</th>\n",
       "      <th>y</th>\n",
       "      <th>x</th>\n",
       "    </tr>\n",
       "  </thead>\n",
       "  <tbody>\n",
       "    <tr>\n",
       "      <th>0</th>\n",
       "      <td>training</td>\n",
       "      <td>-0.312178</td>\n",
       "      <td>-1.141249</td>\n",
       "      <td>-0.266805</td>\n",
       "      <td>CGAGCCGCC</td>\n",
       "    </tr>\n",
       "    <tr>\n",
       "      <th>1</th>\n",
       "      <td>training</td>\n",
       "      <td>-0.311873</td>\n",
       "      <td>0.509974</td>\n",
       "      <td>-0.503418</td>\n",
       "      <td>GUGGUCCAG</td>\n",
       "    </tr>\n",
       "    <tr>\n",
       "      <th>2</th>\n",
       "      <td>training</td>\n",
       "      <td>-0.312178</td>\n",
       "      <td>-0.891705</td>\n",
       "      <td>-0.146434</td>\n",
       "      <td>UCAGCUCGA</td>\n",
       "    </tr>\n",
       "    <tr>\n",
       "      <th>3</th>\n",
       "      <td>training</td>\n",
       "      <td>-0.312174</td>\n",
       "      <td>-0.181048</td>\n",
       "      <td>-0.389262</td>\n",
       "      <td>CUCGUCGCC</td>\n",
       "    </tr>\n",
       "    <tr>\n",
       "      <th>4</th>\n",
       "      <td>training</td>\n",
       "      <td>-0.312178</td>\n",
       "      <td>-1.166299</td>\n",
       "      <td>-0.083640</td>\n",
       "      <td>UGCGCCGAG</td>\n",
       "    </tr>\n",
       "  </tbody>\n",
       "</table>\n",
       "</div>"
      ],
      "text/plain": [
       "        set      yhat       phi         y          x\n",
       "0  training -0.312178 -1.141249 -0.266805  CGAGCCGCC\n",
       "1  training -0.311873  0.509974 -0.503418  GUGGUCCAG\n",
       "2  training -0.312178 -0.891705 -0.146434  UCAGCUCGA\n",
       "3  training -0.312174 -0.181048 -0.389262  CUCGUCGCC\n",
       "4  training -0.312178 -1.166299 -0.083640  UGCGCCGAG"
      ]
     },
     "execution_count": 11,
     "metadata": {},
     "output_type": "execute_result"
    }
   ],
   "source": [
    "# Test simulate_data\n",
    "sim_df = model.simulate_dataset(N=1000)\n",
    "sim_df.head()"
   ]
  },
  {
   "cell_type": "code",
   "execution_count": 12,
   "metadata": {
    "ExecuteTime": {
     "end_time": "2020-11-17T18:21:47.176364Z",
     "start_time": "2020-11-17T18:21:46.378666Z"
    }
   },
   "outputs": [
    {
     "data": {
      "text/plain": [
       "[<matplotlib.lines.Line2D at 0x13b7f8be0>]"
      ]
     },
     "execution_count": 12,
     "metadata": {},
     "output_type": "execute_result"
    },
    {
     "data": {
      "image/png": "[encoded data removed]",
      "text/plain": [
       "<Figure size 1080x360 with 3 Axes>"
      ]
     },
     "metadata": {
      "needs_background": "light"
     },
     "output_type": "display_data"
    }
   ],
   "source": [
    "# Is clip by value causing a problem?\n",
    "yhat_fixed = (yhat_grid - model.y_mean)/model.y_std\n",
    "a, b, s = model.layer_noise_model.compute_params(yhat_fixed)\n",
    "\n",
    "fig, axs = plt.subplots(1,3,figsize=[15,5])\n",
    "\n",
    "axs[0].semilogy(yhat_fixed, a)\n",
    "axs[1].semilogy(yhat_fixed, b)\n",
    "axs[2].plot(yhat_fixed, s)"
   ]
  },
  {
   "cell_type": "code",
   "execution_count": null,
   "metadata": {},
   "outputs": [],
   "source": []
  }
 ],
 "metadata": {
  "kernelspec": {
   "display_name": "Python 3",
   "language": "python",
   "name": "python3"
  },
  "language_info": {
   "codemirror_mode": {
    "name": "ipython",
    "version": 3
   },
   "file_extension": ".py",
   "mimetype": "text/x-python",
   "name": "python",
   "nbconvert_exporter": "python",
   "pygments_lexer": "ipython3",
   "version": "3.8.3"
  },
  "toc": {
   "base_numbering": 1,
   "nav_menu": {},
   "number_sections": true,
   "sideBar": true,
   "skip_h1_title": false,
   "title_cell": "Table of Contents",
   "title_sidebar": "Contents",
   "toc_cell": false,
   "toc_position": {},
   "toc_section_display": true,
   "toc_window_display": false
  },
  "varInspector": {
   "cols": {
    "lenName": 16,
    "lenType": 16,
    "lenVar": 40
   },
   "kernels_config": {
    "python": {
     "delete_cmd_postfix": "",
     "delete_cmd_prefix": "del ",
     "library": "var_list.py",
     "varRefreshCmd": "print(var_dic_list())"
    },
    "r": {
     "delete_cmd_postfix": ") ",
     "delete_cmd_prefix": "rm(",
     "library": "var_list.r",
     "varRefreshCmd": "cat(var_dic_list()) "
    }
   },
   "types_to_exclude": [
    "module",
    "function",
    "builtin_function_or_method",
    "instance",
    "_Feature"
   ],
   "window_display": false
  }
 },
 "nbformat": 4,
 "nbformat_minor": 2
}
