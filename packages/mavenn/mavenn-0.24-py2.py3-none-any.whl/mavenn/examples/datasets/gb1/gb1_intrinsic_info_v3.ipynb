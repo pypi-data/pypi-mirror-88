{
 "cells": [
  {
   "cell_type": "code",
   "execution_count": 1,
   "metadata": {
    "ExecuteTime": {
     "end_time": "2020-11-10T19:03:51.437514Z",
     "start_time": "2020-11-10T19:03:43.907176Z"
    }
   },
   "outputs": [
    {
     "name": "stdout",
     "output_type": "stream",
     "text": [
      "['/Users/jkinney/github/mavenn/mavenn']\n"
     ]
    }
   ],
   "source": [
    "# Standard imports\n",
    "import pandas as pd\n",
    "import matplotlib.pyplot as plt\n",
    "import numpy as np\n",
    "import seaborn as sns\n",
    "%matplotlib inline\n",
    "\n",
    "# Load mavenn and check path\n",
    "import mavenn\n",
    "print(mavenn.__path__)\n",
    "\n",
    "# MAVE-NN utilities\n",
    "from mavenn.src.entropy import entropy_continuous\n",
    "\n",
    "# Useful constants\n",
    "pi = np.pi\n",
    "e = np.exp(1)"
   ]
  },
  {
   "cell_type": "code",
   "execution_count": 2,
   "metadata": {
    "ExecuteTime": {
     "end_time": "2020-11-10T19:03:53.746656Z",
     "start_time": "2020-11-10T19:03:51.617576Z"
    }
   },
   "outputs": [
    {
     "name": "stdout",
     "output_type": "stream",
     "text": [
      "N: 530737\n"
     ]
    },
    {
     "data": {
      "text/html": [
       "<div>\n",
       "<style scoped>\n",
       "    .dataframe tbody tr th:only-of-type {\n",
       "        vertical-align: middle;\n",
       "    }\n",
       "\n",
       "    .dataframe tbody tr th {\n",
       "        vertical-align: top;\n",
       "    }\n",
       "\n",
       "    .dataframe thead th {\n",
       "        text-align: right;\n",
       "    }\n",
       "</style>\n",
       "<table border=\"1\" class=\"dataframe\">\n",
       "  <thead>\n",
       "    <tr style=\"text-align: right;\">\n",
       "      <th></th>\n",
       "      <th>set</th>\n",
       "      <th>input_ct</th>\n",
       "      <th>selected_ct</th>\n",
       "      <th>y</th>\n",
       "      <th>x</th>\n",
       "    </tr>\n",
       "  </thead>\n",
       "  <tbody>\n",
       "    <tr>\n",
       "      <th>0</th>\n",
       "      <td>training</td>\n",
       "      <td>73.0</td>\n",
       "      <td>62.0</td>\n",
       "      <td>-1.021847</td>\n",
       "      <td>QYKLILNGKTLKGETTTEAHDAATAEKVFKQYANDNGVDGEWTYDD...</td>\n",
       "    </tr>\n",
       "    <tr>\n",
       "      <th>1</th>\n",
       "      <td>training</td>\n",
       "      <td>122.0</td>\n",
       "      <td>0.0</td>\n",
       "      <td>-7.732188</td>\n",
       "      <td>QYKLILNGKTLKGETTTEAVDAATAEKVFPQYANDNGVDGEWTYDD...</td>\n",
       "    </tr>\n",
       "    <tr>\n",
       "      <th>2</th>\n",
       "      <td>training</td>\n",
       "      <td>794.0</td>\n",
       "      <td>598.0</td>\n",
       "      <td>-1.198072</td>\n",
       "      <td>QYKLILNGKTLKGETTTEAVDAATAEKVFKQYANKNGVDGEWTLDD...</td>\n",
       "    </tr>\n",
       "    <tr>\n",
       "      <th>3</th>\n",
       "      <td>training</td>\n",
       "      <td>1115.0</td>\n",
       "      <td>595.0</td>\n",
       "      <td>-1.694626</td>\n",
       "      <td>QYKLILNIKTLKGETTTEAVDAATAEKVFKQYANDNGVDGEWTYDS...</td>\n",
       "    </tr>\n",
       "    <tr>\n",
       "      <th>4</th>\n",
       "      <td>validation</td>\n",
       "      <td>97.0</td>\n",
       "      <td>2.0</td>\n",
       "      <td>-5.819421</td>\n",
       "      <td>QYKLINNGKTLKGETTTEAVDAATAEKVFKIYANDNGVDGEWTYDD...</td>\n",
       "    </tr>\n",
       "  </tbody>\n",
       "</table>\n",
       "</div>"
      ],
      "text/plain": [
       "          set  input_ct  selected_ct         y  \\\n",
       "0    training      73.0         62.0 -1.021847   \n",
       "1    training     122.0          0.0 -7.732188   \n",
       "2    training     794.0        598.0 -1.198072   \n",
       "3    training    1115.0        595.0 -1.694626   \n",
       "4  validation      97.0          2.0 -5.819421   \n",
       "\n",
       "                                                   x  \n",
       "0  QYKLILNGKTLKGETTTEAHDAATAEKVFKQYANDNGVDGEWTYDD...  \n",
       "1  QYKLILNGKTLKGETTTEAVDAATAEKVFPQYANDNGVDGEWTYDD...  \n",
       "2  QYKLILNGKTLKGETTTEAVDAATAEKVFKQYANKNGVDGEWTLDD...  \n",
       "3  QYKLILNIKTLKGETTTEAVDAATAEKVFKQYANDNGVDGEWTYDS...  \n",
       "4  QYKLINNGKTLKGETTTEAVDAATAEKVFKIYANDNGVDGEWTYDD...  "
      ]
     },
     "execution_count": 2,
     "metadata": {},
     "output_type": "execute_result"
    }
   ],
   "source": [
    "# Load GB1 data\n",
    "data_df = mavenn.load_example_dataset('gb1')\n",
    "\n",
    "# Compute length and preview df\n",
    "N = len(data_df)\n",
    "print(f'N: {N}')\n",
    "data_df.head()"
   ]
  },
  {
   "cell_type": "code",
   "execution_count": 3,
   "metadata": {
    "ExecuteTime": {
     "end_time": "2020-11-10T19:03:54.310036Z",
     "start_time": "2020-11-10T19:03:54.137711Z"
    }
   },
   "outputs": [
    {
     "data": {
      "text/html": [
       "<div>\n",
       "<style scoped>\n",
       "    .dataframe tbody tr th:only-of-type {\n",
       "        vertical-align: middle;\n",
       "    }\n",
       "\n",
       "    .dataframe tbody tr th {\n",
       "        vertical-align: top;\n",
       "    }\n",
       "\n",
       "    .dataframe thead th {\n",
       "        text-align: right;\n",
       "    }\n",
       "</style>\n",
       "<table border=\"1\" class=\"dataframe\">\n",
       "  <thead>\n",
       "    <tr style=\"text-align: right;\">\n",
       "      <th></th>\n",
       "      <th>set</th>\n",
       "      <th>input_ct</th>\n",
       "      <th>selected_ct</th>\n",
       "      <th>y</th>\n",
       "      <th>x</th>\n",
       "    </tr>\n",
       "  </thead>\n",
       "  <tbody>\n",
       "    <tr>\n",
       "      <th>0</th>\n",
       "      <td>training</td>\n",
       "      <td>316.0</td>\n",
       "      <td>47.0</td>\n",
       "      <td>-3.513050</td>\n",
       "      <td>QYKLILNDKTLKGETTTEAVDAATAEKVFKQYANWNGVDGEWTYDD...</td>\n",
       "    </tr>\n",
       "    <tr>\n",
       "      <th>1</th>\n",
       "      <td>validation</td>\n",
       "      <td>709.0</td>\n",
       "      <td>237.0</td>\n",
       "      <td>-2.366531</td>\n",
       "      <td>QYKLILNGKTLKLETTTNAVDAATAEKVFKQYANDNGVDGEWTYDD...</td>\n",
       "    </tr>\n",
       "    <tr>\n",
       "      <th>2</th>\n",
       "      <td>test</td>\n",
       "      <td>35.0</td>\n",
       "      <td>0.0</td>\n",
       "      <td>-5.959598</td>\n",
       "      <td>QYKLALNGKTLKGETTTEAVDAATAEKVFKQYANDNGVDGEYTYDD...</td>\n",
       "    </tr>\n",
       "    <tr>\n",
       "      <th>3</th>\n",
       "      <td>training</td>\n",
       "      <td>580.0</td>\n",
       "      <td>6.0</td>\n",
       "      <td>-7.164713</td>\n",
       "      <td>QYKLILNGKTLKGETTTEAVDAATAEKVFFQYQNDNGVDGEWTYDD...</td>\n",
       "    </tr>\n",
       "    <tr>\n",
       "      <th>4</th>\n",
       "      <td>validation</td>\n",
       "      <td>2510.0</td>\n",
       "      <td>13.0</td>\n",
       "      <td>-8.276365</td>\n",
       "      <td>QYKLILNGKTLKGETTTEAVDAATAEKVFKQYANDNGVDGEWTYDD...</td>\n",
       "    </tr>\n",
       "  </tbody>\n",
       "</table>\n",
       "</div>"
      ],
      "text/plain": [
       "          set  input_ct  selected_ct         y  \\\n",
       "0    training     316.0         47.0 -3.513050   \n",
       "1  validation     709.0        237.0 -2.366531   \n",
       "2        test      35.0          0.0 -5.959598   \n",
       "3    training     580.0          6.0 -7.164713   \n",
       "4  validation    2510.0         13.0 -8.276365   \n",
       "\n",
       "                                                   x  \n",
       "0  QYKLILNDKTLKGETTTEAVDAATAEKVFKQYANWNGVDGEWTYDD...  \n",
       "1  QYKLILNGKTLKLETTTNAVDAATAEKVFKQYANDNGVDGEWTYDD...  \n",
       "2  QYKLALNGKTLKGETTTEAVDAATAEKVFKQYANDNGVDGEYTYDD...  \n",
       "3  QYKLILNGKTLKGETTTEAVDAATAEKVFFQYQNDNGVDGEWTYDD...  \n",
       "4  QYKLILNGKTLKGETTTEAVDAATAEKVFKQYANDNGVDGEWTYDD...  "
      ]
     },
     "execution_count": 3,
     "metadata": {},
     "output_type": "execute_result"
    }
   ],
   "source": [
    "# Select N_sub sequences to estimate intrinsic information on\n",
    "N_sub = 10000\n",
    "ix = np.random.choice(N, size=N_sub, replace=False)\n",
    "sub_df = data_df.iloc[ix].copy().reset_index(drop=True)\n",
    "sub_df.head()"
   ]
  },
  {
   "cell_type": "code",
   "execution_count": 4,
   "metadata": {
    "ExecuteTime": {
     "end_time": "2020-11-10T19:03:55.029888Z",
     "start_time": "2020-11-10T19:03:55.024023Z"
    }
   },
   "outputs": [],
   "source": [
    "# Extract counts\n",
    "i_n = sub_df['input_ct'].values\n",
    "o_n = sub_df['selected_ct'].values\n",
    "r_n = (o_n+1)/(i_n+1)\n",
    "y_n = np.log2(r_n)"
   ]
  },
  {
   "cell_type": "code",
   "execution_count": 5,
   "metadata": {
    "ExecuteTime": {
     "end_time": "2020-11-10T19:03:58.388841Z",
     "start_time": "2020-11-10T19:03:58.381322Z"
    }
   },
   "outputs": [
    {
     "name": "stdout",
     "output_type": "stream",
     "text": [
      "H[y|x] (naive): 0.2125 +- 0.0142 bits\n"
     ]
    }
   ],
   "source": [
    "# Compute naive estimate\n",
    "dy2_naive_n = (np.log2(e)**2)*(1./(o_n+1.) + 1./(i_n+1))\n",
    "H_n_naive = 0.5*np.log2(2*pi*e*dy2_naive_n)\n",
    "H_ygx_naive = np.mean(H_n_naive)\n",
    "dH_ygx_naive = np.std(H_n_naive)/np.sqrt(N_sub)\n",
    "print(f'H[y|x] (naive): {H_ygx_naive:.4f} +- {dH_ygx_naive:.4f} bits')"
   ]
  },
  {
   "cell_type": "code",
   "execution_count": 6,
   "metadata": {
    "ExecuteTime": {
     "end_time": "2020-11-10T19:04:02.985402Z",
     "start_time": "2020-11-10T19:04:00.175753Z"
    }
   },
   "outputs": [
    {
     "name": "stdout",
     "output_type": "stream",
     "text": [
      "H[y] (knn): 3.4252 +- 0.0090 bits\n"
     ]
    }
   ],
   "source": [
    "# Compute entropy of dataset using knn\n",
    "y = y_n.copy()\n",
    "H_y_knn, dH_y_knn = entropy_continuous(y, knn=5, uncertainty=True, num_subsamples=100)\n",
    "print(f'H[y] (knn): {H_y_knn:.4f} +- {dH_y_knn:.4f} bits')"
   ]
  },
  {
   "cell_type": "code",
   "execution_count": 7,
   "metadata": {
    "ExecuteTime": {
     "end_time": "2020-11-10T19:04:03.631904Z",
     "start_time": "2020-11-10T19:04:03.620964Z"
    }
   },
   "outputs": [
    {
     "name": "stdout",
     "output_type": "stream",
     "text": [
      "I_intr (naive): 3.2127 +- 0.0168 bits\n"
     ]
    }
   ],
   "source": [
    "# Report mutual information values for various H_ygx estimates\n",
    "I_y_x = H_y_knn - H_ygx_naive\n",
    "dI_y_x = np.sqrt(dH_y_knn**2 + dH_ygx_naive**2)\n",
    "print(f'I_intr (naive): {I_y_x:.4f} +- {dI_y_x:.4f} bits')"
   ]
  },
  {
   "cell_type": "code",
   "execution_count": null,
   "metadata": {},
   "outputs": [],
   "source": []
  }
 ],
 "metadata": {
  "kernelspec": {
   "display_name": "Python 3",
   "language": "python",
   "name": "python3"
  },
  "language_info": {
   "codemirror_mode": {
    "name": "ipython",
    "version": 3
   },
   "file_extension": ".py",
   "mimetype": "text/x-python",
   "name": "python",
   "nbconvert_exporter": "python",
   "pygments_lexer": "ipython3",
   "version": "3.8.3"
  },
  "toc": {
   "base_numbering": 1,
   "nav_menu": {},
   "number_sections": true,
   "sideBar": true,
   "skip_h1_title": false,
   "title_cell": "Table of Contents",
   "title_sidebar": "Contents",
   "toc_cell": false,
   "toc_position": {},
   "toc_section_display": true,
   "toc_window_display": false
  },
  "varInspector": {
   "cols": {
    "lenName": 16,
    "lenType": 16,
    "lenVar": 40
   },
   "kernels_config": {
    "python": {
     "delete_cmd_postfix": "",
     "delete_cmd_prefix": "del ",
     "library": "var_list.py",
     "varRefreshCmd": "print(var_dic_list())"
    },
    "r": {
     "delete_cmd_postfix": ") ",
     "delete_cmd_prefix": "rm(",
     "library": "var_list.r",
     "varRefreshCmd": "cat(var_dic_list()) "
    }
   },
   "types_to_exclude": [
    "module",
    "function",
    "builtin_function_or_method",
    "instance",
    "_Feature"
   ],
   "window_display": false
  }
 },
 "nbformat": 4,
 "nbformat_minor": 2
}
