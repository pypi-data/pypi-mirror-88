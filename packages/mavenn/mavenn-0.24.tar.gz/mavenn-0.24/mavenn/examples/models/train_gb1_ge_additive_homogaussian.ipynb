{
 "cells": [
  {
   "cell_type": "code",
   "execution_count": 1,
   "metadata": {
    "ExecuteTime": {
     "end_time": "2020-11-13T17:18:53.593737Z",
     "start_time": "2020-11-13T17:18:48.009833Z"
    }
   },
   "outputs": [
    {
     "name": "stdout",
     "output_type": "stream",
     "text": [
      "['/Users/jkinney/github/mavenn/mavenn']\n"
     ]
    }
   ],
   "source": [
    "# Standard imports\n",
    "import pandas as pd\n",
    "import matplotlib.pyplot as plt\n",
    "import numpy as np\n",
    "\n",
    "# Load mavenn\n",
    "import mavenn\n",
    "print(mavenn.__path__)"
   ]
  },
  {
   "cell_type": "code",
   "execution_count": 2,
   "metadata": {
    "ExecuteTime": {
     "end_time": "2020-11-13T17:18:55.241596Z",
     "start_time": "2020-11-13T17:18:53.609787Z"
    }
   },
   "outputs": [
    {
     "name": "stdout",
     "output_type": "stream",
     "text": [
      "test N: 106,336\n",
      "training + validation N: 424,401\n"
     ]
    },
    {
     "data": {
      "text/html": [
       "<div>\n",
       "<style scoped>\n",
       "    .dataframe tbody tr th:only-of-type {\n",
       "        vertical-align: middle;\n",
       "    }\n",
       "\n",
       "    .dataframe tbody tr th {\n",
       "        vertical-align: top;\n",
       "    }\n",
       "\n",
       "    .dataframe thead th {\n",
       "        text-align: right;\n",
       "    }\n",
       "</style>\n",
       "<table border=\"1\" class=\"dataframe\">\n",
       "  <thead>\n",
       "    <tr style=\"text-align: right;\">\n",
       "      <th></th>\n",
       "      <th>set</th>\n",
       "      <th>input_ct</th>\n",
       "      <th>selected_ct</th>\n",
       "      <th>y</th>\n",
       "      <th>x</th>\n",
       "    </tr>\n",
       "  </thead>\n",
       "  <tbody>\n",
       "    <tr>\n",
       "      <th>0</th>\n",
       "      <td>training</td>\n",
       "      <td>73.0</td>\n",
       "      <td>62.0</td>\n",
       "      <td>-1.021847</td>\n",
       "      <td>QYKLILNGKTLKGETTTEAHDAATAEKVFKQYANDNGVDGEWTYDD...</td>\n",
       "    </tr>\n",
       "    <tr>\n",
       "      <th>1</th>\n",
       "      <td>training</td>\n",
       "      <td>122.0</td>\n",
       "      <td>0.0</td>\n",
       "      <td>-7.732188</td>\n",
       "      <td>QYKLILNGKTLKGETTTEAVDAATAEKVFPQYANDNGVDGEWTYDD...</td>\n",
       "    </tr>\n",
       "    <tr>\n",
       "      <th>2</th>\n",
       "      <td>training</td>\n",
       "      <td>794.0</td>\n",
       "      <td>598.0</td>\n",
       "      <td>-1.198072</td>\n",
       "      <td>QYKLILNGKTLKGETTTEAVDAATAEKVFKQYANKNGVDGEWTLDD...</td>\n",
       "    </tr>\n",
       "    <tr>\n",
       "      <th>3</th>\n",
       "      <td>training</td>\n",
       "      <td>1115.0</td>\n",
       "      <td>595.0</td>\n",
       "      <td>-1.694626</td>\n",
       "      <td>QYKLILNIKTLKGETTTEAVDAATAEKVFKQYANDNGVDGEWTYDS...</td>\n",
       "    </tr>\n",
       "    <tr>\n",
       "      <th>4</th>\n",
       "      <td>validation</td>\n",
       "      <td>97.0</td>\n",
       "      <td>2.0</td>\n",
       "      <td>-5.819421</td>\n",
       "      <td>QYKLINNGKTLKGETTTEAVDAATAEKVFKIYANDNGVDGEWTYDD...</td>\n",
       "    </tr>\n",
       "    <tr>\n",
       "      <th>5</th>\n",
       "      <td>training</td>\n",
       "      <td>40.0</td>\n",
       "      <td>169.0</td>\n",
       "      <td>1.262166</td>\n",
       "      <td>QYKLILNGKTLWGETTTEAVDAATAEKVFKQYANDNGVDGEWTYDD...</td>\n",
       "    </tr>\n",
       "    <tr>\n",
       "      <th>6</th>\n",
       "      <td>training</td>\n",
       "      <td>244.0</td>\n",
       "      <td>819.0</td>\n",
       "      <td>0.953169</td>\n",
       "      <td>QYKLILNGKTLKGETTTEAVDAATAEKVFKQYANDNGVDGEWTYVV...</td>\n",
       "    </tr>\n",
       "    <tr>\n",
       "      <th>7</th>\n",
       "      <td>training</td>\n",
       "      <td>381.0</td>\n",
       "      <td>232.0</td>\n",
       "      <td>-1.502916</td>\n",
       "      <td>QYKLILNGKTLKGAFTTEAVDAATAEKVFKQYANDNGVDGEWTYDD...</td>\n",
       "    </tr>\n",
       "    <tr>\n",
       "      <th>8</th>\n",
       "      <td>training</td>\n",
       "      <td>366.0</td>\n",
       "      <td>5.0</td>\n",
       "      <td>-6.724347</td>\n",
       "      <td>QYKLILNGKTLKGETTTEAVDAVTHEKVFKQYANDNGVDGEWTYDD...</td>\n",
       "    </tr>\n",
       "    <tr>\n",
       "      <th>9</th>\n",
       "      <td>training</td>\n",
       "      <td>119.0</td>\n",
       "      <td>145.0</td>\n",
       "      <td>-0.506739</td>\n",
       "      <td>QYKLILNGKTLKGETTTEAVDAATAEKVFKQYANENGVDGEWTYDD...</td>\n",
       "    </tr>\n",
       "  </tbody>\n",
       "</table>\n",
       "</div>"
      ],
      "text/plain": [
       "          set  input_ct  selected_ct         y  \\\n",
       "0    training      73.0         62.0 -1.021847   \n",
       "1    training     122.0          0.0 -7.732188   \n",
       "2    training     794.0        598.0 -1.198072   \n",
       "3    training    1115.0        595.0 -1.694626   \n",
       "4  validation      97.0          2.0 -5.819421   \n",
       "5    training      40.0        169.0  1.262166   \n",
       "6    training     244.0        819.0  0.953169   \n",
       "7    training     381.0        232.0 -1.502916   \n",
       "8    training     366.0          5.0 -6.724347   \n",
       "9    training     119.0        145.0 -0.506739   \n",
       "\n",
       "                                                   x  \n",
       "0  QYKLILNGKTLKGETTTEAHDAATAEKVFKQYANDNGVDGEWTYDD...  \n",
       "1  QYKLILNGKTLKGETTTEAVDAATAEKVFPQYANDNGVDGEWTYDD...  \n",
       "2  QYKLILNGKTLKGETTTEAVDAATAEKVFKQYANKNGVDGEWTLDD...  \n",
       "3  QYKLILNIKTLKGETTTEAVDAATAEKVFKQYANDNGVDGEWTYDS...  \n",
       "4  QYKLINNGKTLKGETTTEAVDAATAEKVFKIYANDNGVDGEWTYDD...  \n",
       "5  QYKLILNGKTLWGETTTEAVDAATAEKVFKQYANDNGVDGEWTYDD...  \n",
       "6  QYKLILNGKTLKGETTTEAVDAATAEKVFKQYANDNGVDGEWTYVV...  \n",
       "7  QYKLILNGKTLKGAFTTEAVDAATAEKVFKQYANDNGVDGEWTYDD...  \n",
       "8  QYKLILNGKTLKGETTTEAVDAVTHEKVFKQYANDNGVDGEWTYDD...  \n",
       "9  QYKLILNGKTLKGETTTEAVDAATAEKVFKQYANENGVDGEWTYDD...  "
      ]
     },
     "execution_count": 2,
     "metadata": {},
     "output_type": "execute_result"
    }
   ],
   "source": [
    "# Load example data\n",
    "data_df = mavenn.load_example_dataset('gb1')\n",
    "\n",
    "# Separate test from data_df\n",
    "ix_test = data_df['set']=='test'\n",
    "test_df = data_df[ix_test].reset_index(drop=True)\n",
    "print(f'test N: {len(test_df):,}')\n",
    "\n",
    "# Remove test data from data_df\n",
    "data_df = data_df[~ix_test].reset_index(drop=True)\n",
    "print(f'training + validation N: {len(data_df):,}')\n",
    "data_df.head(10)"
   ]
  },
  {
   "cell_type": "code",
   "execution_count": 3,
   "metadata": {
    "ExecuteTime": {
     "end_time": "2020-11-13T17:18:56.769693Z",
     "start_time": "2020-11-13T17:18:55.248052Z"
    }
   },
   "outputs": [],
   "source": [
    "# Get sequence length\n",
    "L = len(data_df['x'][0])\n",
    "\n",
    "# Define model\n",
    "model = mavenn.Model(regression_type='GE',\n",
    "                     L=L,\n",
    "                     alphabet='protein',\n",
    "                     gpmap_type='additive',                     \n",
    "                     ge_noise_model_type='Gaussian',\n",
    "                     ge_heteroskedasticity_order=0)"
   ]
  },
  {
   "cell_type": "code",
   "execution_count": 4,
   "metadata": {
    "ExecuteTime": {
     "end_time": "2020-11-13T17:19:10.236222Z",
     "start_time": "2020-11-13T17:18:56.800857Z"
    }
   },
   "outputs": [
    {
     "name": "stdout",
     "output_type": "stream",
     "text": [
      "N = 424,401 observations set as training data.\n",
      "Using 24.9% for validation.\n",
      "Data shuffled.\n",
      "Time to set data: 13.4 sec.\n"
     ]
    }
   ],
   "source": [
    "# Set training data\n",
    "model.set_data(x=data_df['x'],\n",
    "               y=data_df['y'],\n",
    "               validation_flags=(data_df['set']=='validation'),\n",
    "               shuffle=True)"
   ]
  },
  {
   "cell_type": "code",
   "execution_count": 5,
   "metadata": {
    "ExecuteTime": {
     "end_time": "2020-11-13T17:24:29.660897Z",
     "start_time": "2020-11-13T17:19:10.244039Z"
    }
   },
   "outputs": [
    {
     "name": "stdout",
     "output_type": "stream",
     "text": [
      "Epoch 1/1000\n",
      "319/319 [==============================] - 6s 19ms/step - loss: 1362.7284 - I_var: -0.1826 - val_loss: 1169.8916 - val_I_var: 0.0935\n",
      "Epoch 2/1000\n",
      "319/319 [==============================] - 5s 15ms/step - loss: 906.1606 - I_var: 0.4780 - val_loss: 706.6719 - val_I_var: 0.7651\n",
      "Epoch 3/1000\n",
      "319/319 [==============================] - 5s 16ms/step - loss: 598.6044 - I_var: 0.9242 - val_loss: 508.6578 - val_I_var: 1.0548\n",
      "Epoch 4/1000\n",
      "319/319 [==============================] - 6s 18ms/step - loss: 433.1885 - I_var: 1.1672 - val_loss: 360.9125 - val_I_var: 1.2731\n",
      "Epoch 5/1000\n",
      "319/319 [==============================] - 6s 17ms/step - loss: 297.9568 - I_var: 1.3670 - val_loss: 240.0280 - val_I_var: 1.4520\n",
      "Epoch 6/1000\n",
      "319/319 [==============================] - 5s 15ms/step - loss: 192.1594 - I_var: 1.5228 - val_loss: 150.7407 - val_I_var: 1.5834\n",
      "Epoch 7/1000\n",
      "319/319 [==============================] - 5s 15ms/step - loss: 122.4079 - I_var: 1.6252 - val_loss: 97.6413 - val_I_var: 1.6611\n",
      "Epoch 8/1000\n",
      "319/319 [==============================] - 5s 15ms/step - loss: 81.2223 - I_var: 1.6851 - val_loss: 66.9613 - val_I_var: 1.7057\n",
      "Epoch 9/1000\n",
      "319/319 [==============================] - 5s 15ms/step - loss: 60.3993 - I_var: 1.7150 - val_loss: 56.0068 - val_I_var: 1.7214\n",
      "Epoch 10/1000\n",
      "319/319 [==============================] - 5s 15ms/step - loss: 51.1075 - I_var: 1.7282 - val_loss: 48.6798 - val_I_var: 1.7317\n",
      "Epoch 11/1000\n",
      "319/319 [==============================] - 5s 15ms/step - loss: 47.6034 - I_var: 1.7330 - val_loss: 47.3627 - val_I_var: 1.7331\n",
      "Epoch 12/1000\n",
      "319/319 [==============================] - 5s 16ms/step - loss: 45.1897 - I_var: 1.7360 - val_loss: 42.9963 - val_I_var: 1.7389\n",
      "Epoch 13/1000\n",
      "319/319 [==============================] - 5s 15ms/step - loss: 43.2979 - I_var: 1.7382 - val_loss: 41.8236 - val_I_var: 1.7402\n",
      "Epoch 14/1000\n",
      "319/319 [==============================] - 5s 16ms/step - loss: 41.4988 - I_var: 1.7403 - val_loss: 44.6727 - val_I_var: 1.7355\n",
      "Epoch 15/1000\n",
      "319/319 [==============================] - 7s 21ms/step - loss: 41.3580 - I_var: 1.7401 - val_loss: 39.5471 - val_I_var: 1.7425\n",
      "Epoch 16/1000\n",
      "319/319 [==============================] - 7s 23ms/step - loss: 39.5458 - I_var: 1.7423 - val_loss: 38.5509 - val_I_var: 1.7436\n",
      "Epoch 17/1000\n",
      "319/319 [==============================] - 6s 19ms/step - loss: 39.5262 - I_var: 1.7420 - val_loss: 42.1755 - val_I_var: 1.7379\n",
      "Epoch 18/1000\n",
      "319/319 [==============================] - 5s 17ms/step - loss: 39.0293 - I_var: 1.7423 - val_loss: 37.5947 - val_I_var: 1.7442\n",
      "Epoch 19/1000\n",
      "319/319 [==============================] - 6s 18ms/step - loss: 38.6672 - I_var: 1.7425 - val_loss: 37.4008 - val_I_var: 1.7442\n",
      "Epoch 20/1000\n",
      "319/319 [==============================] - 6s 17ms/step - loss: 37.7645 - I_var: 1.7434 - val_loss: 45.6869 - val_I_var: 1.7319\n",
      "Epoch 21/1000\n",
      "319/319 [==============================] - 5s 17ms/step - loss: 37.4024 - I_var: 1.7438 - val_loss: 41.1133 - val_I_var: 1.7383\n",
      "Epoch 22/1000\n",
      "319/319 [==============================] - 6s 19ms/step - loss: 36.8975 - I_var: 1.7443 - val_loss: 46.0718 - val_I_var: 1.7310\n",
      "Epoch 23/1000\n",
      "319/319 [==============================] - 5s 17ms/step - loss: 36.8955 - I_var: 1.7438 - val_loss: 46.2939 - val_I_var: 1.7304\n",
      "Epoch 24/1000\n",
      "319/319 [==============================] - 6s 19ms/step - loss: 36.4883 - I_var: 1.7442 - val_loss: 36.5338 - val_I_var: 1.7443\n",
      "Epoch 25/1000\n",
      "319/319 [==============================] - 6s 18ms/step - loss: 36.7913 - I_var: 1.7439 - val_loss: 36.0099 - val_I_var: 1.7450\n",
      "Epoch 26/1000\n",
      "319/319 [==============================] - 6s 18ms/step - loss: 35.9060 - I_var: 1.7451 - val_loss: 37.3392 - val_I_var: 1.7429\n",
      "Epoch 27/1000\n",
      "319/319 [==============================] - 5s 17ms/step - loss: 36.2701 - I_var: 1.7443 - val_loss: 35.0159 - val_I_var: 1.7461\n",
      "Epoch 28/1000\n",
      "319/319 [==============================] - 6s 18ms/step - loss: 36.1672 - I_var: 1.7444 - val_loss: 36.2655 - val_I_var: 1.7442\n",
      "Epoch 29/1000\n",
      "319/319 [==============================] - 5s 16ms/step - loss: 35.6705 - I_var: 1.7450 - val_loss: 40.8415 - val_I_var: 1.7375\n",
      "Epoch 30/1000\n",
      "319/319 [==============================] - 6s 19ms/step - loss: 36.0527 - I_var: 1.7443 - val_loss: 36.4208 - val_I_var: 1.7438\n",
      "Epoch 31/1000\n",
      "319/319 [==============================] - 5s 17ms/step - loss: 35.7481 - I_var: 1.7446 - val_loss: 36.4574 - val_I_var: 1.7436\n",
      "Epoch 32/1000\n",
      "319/319 [==============================] - 6s 18ms/step - loss: 35.4960 - I_var: 1.7449 - val_loss: 34.9439 - val_I_var: 1.7457\n",
      "Epoch 33/1000\n",
      "319/319 [==============================] - 6s 17ms/step - loss: 35.7345 - I_var: 1.7446 - val_loss: 43.5942 - val_I_var: 1.7331\n",
      "Epoch 34/1000\n",
      "319/319 [==============================] - 5s 17ms/step - loss: 35.7261 - I_var: 1.7443 - val_loss: 37.0270 - val_I_var: 1.7426\n",
      "Epoch 35/1000\n",
      "319/319 [==============================] - 6s 19ms/step - loss: 35.3307 - I_var: 1.7449 - val_loss: 35.9309 - val_I_var: 1.7440\n",
      "Epoch 36/1000\n",
      "319/319 [==============================] - 6s 19ms/step - loss: 35.0934 - I_var: 1.7452 - val_loss: 34.7221 - val_I_var: 1.7457\n",
      "Epoch 37/1000\n",
      "319/319 [==============================] - 5s 17ms/step - loss: 35.6280 - I_var: 1.7443 - val_loss: 35.4999 - val_I_var: 1.7444\n",
      "Epoch 38/1000\n",
      "319/319 [==============================] - 6s 19ms/step - loss: 35.0456 - I_var: 1.7450 - val_loss: 34.0093 - val_I_var: 1.7465\n",
      "Epoch 39/1000\n",
      "319/319 [==============================] - 6s 18ms/step - loss: 35.0481 - I_var: 1.7448 - val_loss: 36.9743 - val_I_var: 1.7421\n",
      "Epoch 40/1000\n",
      "319/319 [==============================] - 5s 17ms/step - loss: 35.2415 - I_var: 1.7445 - val_loss: 34.5539 - val_I_var: 1.7455\n",
      "Epoch 41/1000\n",
      "319/319 [==============================] - 6s 18ms/step - loss: 34.8914 - I_var: 1.7449 - val_loss: 34.1662 - val_I_var: 1.7460\n",
      "Epoch 42/1000\n",
      "319/319 [==============================] - 5s 16ms/step - loss: 34.4325 - I_var: 1.7455 - val_loss: 34.1520 - val_I_var: 1.7459\n",
      "Epoch 43/1000\n",
      "319/319 [==============================] - 5s 17ms/step - loss: 34.7865 - I_var: 1.7448 - val_loss: 33.8944 - val_I_var: 1.7461\n",
      "Epoch 44/1000\n",
      "319/319 [==============================] - 6s 18ms/step - loss: 34.8597 - I_var: 1.7446 - val_loss: 33.8408 - val_I_var: 1.7461\n",
      "Epoch 45/1000\n",
      "319/319 [==============================] - 6s 18ms/step - loss: 34.4345 - I_var: 1.7453 - val_loss: 33.7670 - val_I_var: 1.7461\n",
      "Epoch 46/1000\n",
      "319/319 [==============================] - 6s 18ms/step - loss: 34.0688 - I_var: 1.7456 - val_loss: 33.3675 - val_I_var: 1.7465\n",
      "Epoch 47/1000\n",
      "319/319 [==============================] - 4s 12ms/step - loss: 34.3793 - I_var: 1.7450 - val_loss: 35.3648 - val_I_var: 1.7436\n",
      "Epoch 48/1000\n",
      "319/319 [==============================] - 3s 11ms/step - loss: 34.7579 - I_var: 1.7443 - val_loss: 33.4343 - val_I_var: 1.7463\n",
      "Epoch 49/1000\n",
      "319/319 [==============================] - 4s 11ms/step - loss: 34.2557 - I_var: 1.7452 - val_loss: 34.2834 - val_I_var: 1.7449\n",
      "Epoch 50/1000\n",
      "319/319 [==============================] - 4s 12ms/step - loss: 33.7437 - I_var: 1.7455 - val_loss: 33.3453 - val_I_var: 1.7462\n",
      "Epoch 51/1000\n",
      "319/319 [==============================] - 4s 13ms/step - loss: 34.4676 - I_var: 1.7444 - val_loss: 36.8184 - val_I_var: 1.7410\n",
      "Epoch 52/1000\n",
      "319/319 [==============================] - 3s 11ms/step - loss: 34.1546 - I_var: 1.7448 - val_loss: 32.8561 - val_I_var: 1.7467\n",
      "Epoch 53/1000\n",
      "319/319 [==============================] - 4s 12ms/step - loss: 33.6313 - I_var: 1.7453 - val_loss: 33.2867 - val_I_var: 1.7460\n",
      "Epoch 54/1000\n",
      "319/319 [==============================] - 4s 12ms/step - loss: 33.6150 - I_var: 1.7453 - val_loss: 33.7542 - val_I_var: 1.7452\n",
      "Epoch 55/1000\n",
      "319/319 [==============================] - 4s 11ms/step - loss: 33.5824 - I_var: 1.7451 - val_loss: 32.5993 - val_I_var: 1.7468\n",
      "Epoch 56/1000\n",
      "319/319 [==============================] - 4s 12ms/step - loss: 33.4784 - I_var: 1.7454 - val_loss: 32.6683 - val_I_var: 1.7466\n",
      "Epoch 57/1000\n",
      "319/319 [==============================] - 4s 11ms/step - loss: 33.7312 - I_var: 1.7451 - val_loss: 34.7721 - val_I_var: 1.7434\n",
      "Epoch 58/1000\n"
     ]
    },
    {
     "name": "stdout",
     "output_type": "stream",
     "text": [
      "319/319 [==============================] - 3s 11ms/step - loss: 33.6537 - I_var: 1.7451 - val_loss: 33.0477 - val_I_var: 1.7458\n",
      "Epoch 59/1000\n",
      "319/319 [==============================] - 3s 10ms/step - loss: 33.2547 - I_var: 1.7454 - val_loss: 32.7315 - val_I_var: 1.7462\n",
      "Epoch 60/1000\n",
      "319/319 [==============================] - 4s 11ms/step - loss: 33.6841 - I_var: 1.7448 - val_loss: 35.9588 - val_I_var: 1.7414\n",
      "Training time: 319.0 seconds\n"
     ]
    }
   ],
   "source": [
    "# Fit model to data\n",
    "history = model.fit(learning_rate=.0005,\n",
    "                    epochs=1000,\n",
    "                    batch_size=1000,\n",
    "                    early_stopping=True,\n",
    "                    early_stopping_patience=5,\n",
    "                    linear_initialization=False)"
   ]
  },
  {
   "cell_type": "code",
   "execution_count": 6,
   "metadata": {
    "ExecuteTime": {
     "end_time": "2020-11-13T17:24:29.738162Z",
     "start_time": "2020-11-13T17:24:29.663486Z"
    }
   },
   "outputs": [
    {
     "name": "stdout",
     "output_type": "stream",
     "text": [
      "Model saved to these files:\n",
      "\tgb1_ge_additive_homogaussian.pickle\n",
      "\tgb1_ge_additive_homogaussian.h5\n"
     ]
    }
   ],
   "source": [
    "# Save model\n",
    "model.save('gb1_ge_additive_homogaussian')"
   ]
  },
  {
   "cell_type": "code",
   "execution_count": 7,
   "metadata": {
    "ExecuteTime": {
     "end_time": "2020-11-13T17:24:29.949932Z",
     "start_time": "2020-11-13T17:24:29.745159Z"
    }
   },
   "outputs": [
    {
     "name": "stdout",
     "output_type": "stream",
     "text": [
      "Model loaded from these files:\n",
      "\tgb1_ge_additive_homogaussian.pickle\n",
      "\tgb1_ge_additive_homogaussian.h5\n"
     ]
    }
   ],
   "source": [
    "# Load model\n",
    "model = mavenn.load('gb1_ge_additive_homogaussian')"
   ]
  },
  {
   "cell_type": "code",
   "execution_count": 8,
   "metadata": {
    "ExecuteTime": {
     "end_time": "2020-11-13T17:24:29.968985Z",
     "start_time": "2020-11-13T17:24:29.954699Z"
    }
   },
   "outputs": [],
   "source": [
    "# Subsample indices for easy plotting and information estimation\n",
    "N_test = len(test_df)\n",
    "ix = np.random.rand(N_test) < .1\n",
    "\n",
    "# Get x and y\n",
    "x = test_df['x'].values[ix]\n",
    "y = test_df['y'].values[ix]"
   ]
  },
  {
   "cell_type": "code",
   "execution_count": 9,
   "metadata": {
    "ExecuteTime": {
     "end_time": "2020-11-13T17:24:32.184656Z",
     "start_time": "2020-11-13T17:24:29.975779Z"
    }
   },
   "outputs": [
    {
     "name": "stdout",
     "output_type": "stream",
     "text": [
      "On test data:\n",
      "I_var_test: 1.741 +- 0.016 bits\n",
      "I_pred_test: 2.119 +- 0.012 bits\n"
     ]
    },
    {
     "data": {
      "image/png": "[encoded data removed]",
      "text/plain": [
       "<Figure size 288x288 with 1 Axes>"
      ]
     },
     "metadata": {
      "needs_background": "light"
     },
     "output_type": "display_data"
    }
   ],
   "source": [
    "# Show training history\n",
    "print('On test data:')\n",
    "\n",
    "# Compute likelihood information\n",
    "I_var, dI_var =  model.I_variational(x=x, y=y)\n",
    "print(f'I_var_test: {I_var:.3f} +- {dI_var:.3f} bits') \n",
    "\n",
    "# Compute predictive information\n",
    "I_pred, dI_pred = model.I_predictive(x=x, y=y)\n",
    "print(f'I_pred_test: {I_pred:.3f} +- {dI_pred:.3f} bits')\n",
    "\n",
    "I_var_hist = model.history['I_var']\n",
    "val_I_var_hist = model.history['val_I_var']\n",
    "\n",
    "fig, ax = plt.subplots(1,1,figsize=[4,4])\n",
    "ax.plot(I_var_hist, label='I_var_train')\n",
    "ax.plot(val_I_var_hist, label='I_var_val')\n",
    "ax.axhline(I_var, color='C2', linestyle=':', label='I_var_test')\n",
    "ax.axhline(I_pred, color='C3', linestyle=':', label='I_pred_test')\n",
    "ax.legend()\n",
    "ax.set_xlabel('epochs')\n",
    "ax.set_ylabel('bits')\n",
    "ax.set_title('training hisotry')\n",
    "ax.set_ylim([0, I_pred*1.2]);"
   ]
  },
  {
   "cell_type": "code",
   "execution_count": 10,
   "metadata": {
    "ExecuteTime": {
     "end_time": "2020-11-13T17:24:33.154877Z",
     "start_time": "2020-11-13T17:24:32.186708Z"
    }
   },
   "outputs": [
    {
     "data": {
      "image/png": "[encoded data removed]",
      "text/plain": [
       "<Figure size 288x288 with 1 Axes>"
      ]
     },
     "metadata": {
      "needs_background": "light"
     },
     "output_type": "display_data"
    }
   ],
   "source": [
    "# Compute phi and yhat values\n",
    "phi = model.x_to_phi(x)\n",
    "yhat = model.phi_to_yhat(phi)\n",
    "\n",
    "# Create grid for plotting yhat and yqs\n",
    "phi_lim = [-5, 2.5]\n",
    "phi_grid = np.linspace(phi_lim[0], phi_lim[1], 1000)\n",
    "yhat_grid = model.phi_to_yhat(phi_grid)\n",
    "yqs_grid = model.yhat_to_yq(yhat_grid, q=[.16,.84])\n",
    "\n",
    "# Create two panels\n",
    "fig, ax = plt.subplots(1, 1, figsize=[4, 4])\n",
    "\n",
    "# Illustrate measurement process with GE curve\n",
    "ax.scatter(phi, y, color='C0', s=5, alpha=.2, label='test data')\n",
    "ax.plot(phi_grid, yhat_grid, linewidth=2, color='C1',\n",
    "        label='$\\hat{y} = g(\\phi)$')\n",
    "ax.plot(phi_grid, yqs_grid[:, 0], linestyle='--', color='C1',\n",
    "        label='68% CI')\n",
    "ax.plot(phi_grid, yqs_grid[:, 1], linestyle='--', color='C1')\n",
    "ax.set_xlim(phi_lim)\n",
    "ax.set_xlabel('latent phenotype ($\\phi$)')\n",
    "ax.set_ylabel('measurement ($y$)')\n",
    "ax.set_title('measurement process')\n",
    "ax.legend()\n",
    "\n",
    "# Fix up plot\n",
    "fig.tight_layout()\n",
    "plt.show()"
   ]
  },
  {
   "cell_type": "code",
   "execution_count": 11,
   "metadata": {
    "ExecuteTime": {
     "end_time": "2020-11-13T17:24:33.543403Z",
     "start_time": "2020-11-13T17:24:33.157043Z"
    }
   },
   "outputs": [
    {
     "data": {
      "image/png": "[encoded data removed]",
      "text/plain": [
       "<Figure size 720x360 with 2 Axes>"
      ]
     },
     "metadata": {
      "needs_background": "light"
     },
     "output_type": "display_data"
    }
   ],
   "source": [
    "# Set wild-type sequence\n",
    "gb1_seq = model.x_stats['consensus_seq']\n",
    "\n",
    "# Get effects of all single-point mutations on phi\n",
    "theta_dict = model.get_theta(gauge='user',\n",
    "                             x_wt=gb1_seq)\n",
    "\n",
    "# Create two panels\n",
    "fig, ax = plt.subplots(1, 1, figsize=[10, 5])\n",
    "\n",
    "# Left panel: draw heatmap illustrating 1pt mutation effects\n",
    "ax, cb = mavenn.heatmap(theta_dict['theta_lc'],\n",
    "                        alphabet=theta_dict['alphabet'],\n",
    "                        seq=gb1_seq,\n",
    "                        cmap='PiYG',\n",
    "                        ccenter=0,\n",
    "                        ax=ax)\n",
    "ax.set_xlabel('position ($l$)')\n",
    "ax.set_ylabel('amino acid ($c$)')\n",
    "cb.set_label('effect ($\\Delta\\phi$)', rotation=-90, va=\"bottom\")\n",
    "ax.set_title('mutation effects')\n",
    "\n",
    "# Fix up plot\n",
    "fig.tight_layout()\n",
    "plt.show()\n"
   ]
  },
  {
   "cell_type": "code",
   "execution_count": 12,
   "metadata": {
    "ExecuteTime": {
     "end_time": "2020-11-13T17:24:33.654082Z",
     "start_time": "2020-11-13T17:24:33.547887Z"
    }
   },
   "outputs": [
    {
     "data": {
      "text/html": [
       "<div>\n",
       "<style scoped>\n",
       "    .dataframe tbody tr th:only-of-type {\n",
       "        vertical-align: middle;\n",
       "    }\n",
       "\n",
       "    .dataframe tbody tr th {\n",
       "        vertical-align: top;\n",
       "    }\n",
       "\n",
       "    .dataframe thead th {\n",
       "        text-align: right;\n",
       "    }\n",
       "</style>\n",
       "<table border=\"1\" class=\"dataframe\">\n",
       "  <thead>\n",
       "    <tr style=\"text-align: right;\">\n",
       "      <th></th>\n",
       "      <th>set</th>\n",
       "      <th>yhat</th>\n",
       "      <th>phi</th>\n",
       "      <th>y</th>\n",
       "      <th>x</th>\n",
       "    </tr>\n",
       "  </thead>\n",
       "  <tbody>\n",
       "    <tr>\n",
       "      <th>0</th>\n",
       "      <td>test</td>\n",
       "      <td>0.255523</td>\n",
       "      <td>0.990057</td>\n",
       "      <td>0.317732</td>\n",
       "      <td>QYKLILNGKTLKGETTTEAVDAATAEKVFKQYANDNRVDGEWTYDD...</td>\n",
       "    </tr>\n",
       "    <tr>\n",
       "      <th>1</th>\n",
       "      <td>test</td>\n",
       "      <td>-7.334950</td>\n",
       "      <td>-1.146735</td>\n",
       "      <td>-7.362299</td>\n",
       "      <td>QYKLQLNGKTLKGQTTTEAVDAATAEKVFKQYANDNGVDGELTYDD...</td>\n",
       "    </tr>\n",
       "    <tr>\n",
       "      <th>2</th>\n",
       "      <td>training</td>\n",
       "      <td>-4.702570</td>\n",
       "      <td>-0.048536</td>\n",
       "      <td>-4.901616</td>\n",
       "      <td>QYKLILNGKTLKGETTTEAVDAATAEKVFKQYANDNGVDGEWTYDD...</td>\n",
       "    </tr>\n",
       "    <tr>\n",
       "      <th>3</th>\n",
       "      <td>validation</td>\n",
       "      <td>-1.808931</td>\n",
       "      <td>0.529372</td>\n",
       "      <td>-2.744153</td>\n",
       "      <td>QYKLILNGKTLKKETTTEAVDAATAEKVFKQYANDNGVDGEWTYDD...</td>\n",
       "    </tr>\n",
       "    <tr>\n",
       "      <th>4</th>\n",
       "      <td>training</td>\n",
       "      <td>-1.625678</td>\n",
       "      <td>0.565398</td>\n",
       "      <td>-1.867885</td>\n",
       "      <td>QYKLILNTKTLKGETTTEAVDAATAEKVFKQYANDNGVDGEWTYID...</td>\n",
       "    </tr>\n",
       "  </tbody>\n",
       "</table>\n",
       "</div>"
      ],
      "text/plain": [
       "          set      yhat       phi         y  \\\n",
       "0        test  0.255523  0.990057  0.317732   \n",
       "1        test -7.334950 -1.146735 -7.362299   \n",
       "2    training -4.702570 -0.048536 -4.901616   \n",
       "3  validation -1.808931  0.529372 -2.744153   \n",
       "4    training -1.625678  0.565398 -1.867885   \n",
       "\n",
       "                                                   x  \n",
       "0  QYKLILNGKTLKGETTTEAVDAATAEKVFKQYANDNRVDGEWTYDD...  \n",
       "1  QYKLQLNGKTLKGQTTTEAVDAATAEKVFKQYANDNGVDGELTYDD...  \n",
       "2  QYKLILNGKTLKGETTTEAVDAATAEKVFKQYANDNGVDGEWTYDD...  \n",
       "3  QYKLILNGKTLKKETTTEAVDAATAEKVFKQYANDNGVDGEWTYDD...  \n",
       "4  QYKLILNTKTLKGETTTEAVDAATAEKVFKQYANDNGVDGEWTYID...  "
      ]
     },
     "execution_count": 12,
     "metadata": {},
     "output_type": "execute_result"
    }
   ],
   "source": [
    "# Test simulate_data\n",
    "sim_df = model.simulate_dataset(N=1000)\n",
    "sim_df.head()"
   ]
  },
  {
   "cell_type": "code",
   "execution_count": null,
   "metadata": {},
   "outputs": [],
   "source": []
  }
 ],
 "metadata": {
  "kernelspec": {
   "display_name": "Python 3",
   "language": "python",
   "name": "python3"
  },
  "language_info": {
   "codemirror_mode": {
    "name": "ipython",
    "version": 3
   },
   "file_extension": ".py",
   "mimetype": "text/x-python",
   "name": "python",
   "nbconvert_exporter": "python",
   "pygments_lexer": "ipython3",
   "version": "3.8.3"
  },
  "toc": {
   "base_numbering": 1,
   "nav_menu": {},
   "number_sections": true,
   "sideBar": true,
   "skip_h1_title": false,
   "title_cell": "Table of Contents",
   "title_sidebar": "Contents",
   "toc_cell": false,
   "toc_position": {},
   "toc_section_display": true,
   "toc_window_display": false
  },
  "varInspector": {
   "cols": {
    "lenName": 16,
    "lenType": 16,
    "lenVar": 40
   },
   "kernels_config": {
    "python": {
     "delete_cmd_postfix": "",
     "delete_cmd_prefix": "del ",
     "library": "var_list.py",
     "varRefreshCmd": "print(var_dic_list())"
    },
    "r": {
     "delete_cmd_postfix": ") ",
     "delete_cmd_prefix": "rm(",
     "library": "var_list.r",
     "varRefreshCmd": "cat(var_dic_list()) "
    }
   },
   "types_to_exclude": [
    "module",
    "function",
    "builtin_function_or_method",
    "instance",
    "_Feature"
   ],
   "window_display": false
  }
 },
 "nbformat": 4,
 "nbformat_minor": 2
}
