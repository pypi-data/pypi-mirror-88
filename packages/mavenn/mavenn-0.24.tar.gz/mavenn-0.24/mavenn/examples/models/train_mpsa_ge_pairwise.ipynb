{
 "cells": [
  {
   "cell_type": "code",
   "execution_count": 1,
   "metadata": {
    "ExecuteTime": {
     "end_time": "2020-11-17T18:23:43.275821Z",
     "start_time": "2020-11-17T18:23:40.743003Z"
    }
   },
   "outputs": [
    {
     "name": "stdout",
     "output_type": "stream",
     "text": [
      "['/Users/jkinney/github/mavenn/mavenn']\n"
     ]
    }
   ],
   "source": [
    "# Standard imports\n",
    "import pandas as pd\n",
    "import matplotlib.pyplot as plt\n",
    "import numpy as np\n",
    "import time\n",
    "\n",
    "# Insert path to mavenn beginning of path\n",
    "import os\n",
    "import sys\n",
    "abs_path_to_mavenn = os.path.abspath('../../../')\n",
    "sys.path.insert(0, abs_path_to_mavenn)\n",
    "\n",
    "# Load mavenn\n",
    "import mavenn\n",
    "print(mavenn.__path__)"
   ]
  },
  {
   "cell_type": "code",
   "execution_count": 2,
   "metadata": {
    "ExecuteTime": {
     "end_time": "2020-11-17T18:23:43.368416Z",
     "start_time": "2020-11-17T18:23:43.278097Z"
    }
   },
   "outputs": [
    {
     "name": "stdout",
     "output_type": "stream",
     "text": [
      "test N: 6,249\n",
      "training + validation N: 24,234\n"
     ]
    },
    {
     "data": {
      "text/html": [
       "<div>\n",
       "<style scoped>\n",
       "    .dataframe tbody tr th:only-of-type {\n",
       "        vertical-align: middle;\n",
       "    }\n",
       "\n",
       "    .dataframe tbody tr th {\n",
       "        vertical-align: top;\n",
       "    }\n",
       "\n",
       "    .dataframe thead th {\n",
       "        text-align: right;\n",
       "    }\n",
       "</style>\n",
       "<table border=\"1\" class=\"dataframe\">\n",
       "  <thead>\n",
       "    <tr style=\"text-align: right;\">\n",
       "      <th></th>\n",
       "      <th>set</th>\n",
       "      <th>tot_ct</th>\n",
       "      <th>ex_ct</th>\n",
       "      <th>y</th>\n",
       "      <th>x</th>\n",
       "    </tr>\n",
       "  </thead>\n",
       "  <tbody>\n",
       "    <tr>\n",
       "      <th>0</th>\n",
       "      <td>training</td>\n",
       "      <td>28</td>\n",
       "      <td>2</td>\n",
       "      <td>0.023406</td>\n",
       "      <td>GGAGUGAUG</td>\n",
       "    </tr>\n",
       "    <tr>\n",
       "      <th>1</th>\n",
       "      <td>training</td>\n",
       "      <td>315</td>\n",
       "      <td>7</td>\n",
       "      <td>-0.587914</td>\n",
       "      <td>AGUGUGCAA</td>\n",
       "    </tr>\n",
       "    <tr>\n",
       "      <th>2</th>\n",
       "      <td>validation</td>\n",
       "      <td>27</td>\n",
       "      <td>0</td>\n",
       "      <td>-0.438475</td>\n",
       "      <td>UAAGCUUUU</td>\n",
       "    </tr>\n",
       "    <tr>\n",
       "      <th>3</th>\n",
       "      <td>training</td>\n",
       "      <td>130</td>\n",
       "      <td>2</td>\n",
       "      <td>-0.631467</td>\n",
       "      <td>AUGGUCGGG</td>\n",
       "    </tr>\n",
       "    <tr>\n",
       "      <th>4</th>\n",
       "      <td>training</td>\n",
       "      <td>552</td>\n",
       "      <td>19</td>\n",
       "      <td>-0.433012</td>\n",
       "      <td>AGGGCAGGA</td>\n",
       "    </tr>\n",
       "    <tr>\n",
       "      <th>5</th>\n",
       "      <td>training</td>\n",
       "      <td>151</td>\n",
       "      <td>184</td>\n",
       "      <td>1.094011</td>\n",
       "      <td>AAGGUCCGC</td>\n",
       "    </tr>\n",
       "    <tr>\n",
       "      <th>6</th>\n",
       "      <td>training</td>\n",
       "      <td>88</td>\n",
       "      <td>4</td>\n",
       "      <td>-0.241737</td>\n",
       "      <td>CAGGCAAAC</td>\n",
       "    </tr>\n",
       "    <tr>\n",
       "      <th>7</th>\n",
       "      <td>training</td>\n",
       "      <td>105</td>\n",
       "      <td>5</td>\n",
       "      <td>-0.238471</td>\n",
       "      <td>GUGGCAAAU</td>\n",
       "    </tr>\n",
       "    <tr>\n",
       "      <th>8</th>\n",
       "      <td>validation</td>\n",
       "      <td>14</td>\n",
       "      <td>0</td>\n",
       "      <td>-0.167408</td>\n",
       "      <td>CAUGCAGCU</td>\n",
       "    </tr>\n",
       "    <tr>\n",
       "      <th>9</th>\n",
       "      <td>training</td>\n",
       "      <td>170</td>\n",
       "      <td>14</td>\n",
       "      <td>-0.048222</td>\n",
       "      <td>CAAGUCACU</td>\n",
       "    </tr>\n",
       "  </tbody>\n",
       "</table>\n",
       "</div>"
      ],
      "text/plain": [
       "          set  tot_ct  ex_ct         y          x\n",
       "0    training      28      2  0.023406  GGAGUGAUG\n",
       "1    training     315      7 -0.587914  AGUGUGCAA\n",
       "2  validation      27      0 -0.438475  UAAGCUUUU\n",
       "3    training     130      2 -0.631467  AUGGUCGGG\n",
       "4    training     552     19 -0.433012  AGGGCAGGA\n",
       "5    training     151    184  1.094011  AAGGUCCGC\n",
       "6    training      88      4 -0.241737  CAGGCAAAC\n",
       "7    training     105      5 -0.238471  GUGGCAAAU\n",
       "8  validation      14      0 -0.167408  CAUGCAGCU\n",
       "9    training     170     14 -0.048222  CAAGUCACU"
      ]
     },
     "execution_count": 2,
     "metadata": {},
     "output_type": "execute_result"
    }
   ],
   "source": [
    "# Load example data\n",
    "data_df = mavenn.load_example_dataset('mpsa')\n",
    "\n",
    "# Separate test from data_df\n",
    "ix_test = data_df['set']=='test'\n",
    "test_df = data_df[ix_test].reset_index(drop=True)\n",
    "print(f'test N: {len(test_df):,}')\n",
    "\n",
    "# Remove test data from data_df\n",
    "data_df = data_df[~ix_test].reset_index(drop=True)\n",
    "print(f'training + validation N: {len(data_df):,}')\n",
    "data_df.head(10)"
   ]
  },
  {
   "cell_type": "code",
   "execution_count": 3,
   "metadata": {
    "ExecuteTime": {
     "end_time": "2020-11-17T18:23:44.608911Z",
     "start_time": "2020-11-17T18:23:43.370903Z"
    }
   },
   "outputs": [],
   "source": [
    "# Get sequence length\n",
    "L = len(data_df['x'][0])\n",
    "\n",
    "# Define model\n",
    "model = mavenn.Model(L=L,\n",
    "                     alphabet='rna',\n",
    "                     gpmap_type='pairwise', \n",
    "                     regression_type='GE',\n",
    "                     ge_noise_model_type='SkewedT',\n",
    "                     ge_heteroskedasticity_order=2)"
   ]
  },
  {
   "cell_type": "code",
   "execution_count": 4,
   "metadata": {
    "ExecuteTime": {
     "end_time": "2020-11-17T18:23:45.031477Z",
     "start_time": "2020-11-17T18:23:44.611432Z"
    }
   },
   "outputs": [
    {
     "name": "stdout",
     "output_type": "stream",
     "text": [
      "N = 24,234 observations set as training data.\n",
      "Using 24.8% for validation.\n",
      "Data shuffled.\n",
      "Time to set data: 0.392 sec.\n"
     ]
    }
   ],
   "source": [
    "# Set training data\n",
    "model.set_data(x=data_df['x'],\n",
    "               y=data_df['y'],\n",
    "               validation_flags=(data_df['set']=='validation'),\n",
    "               shuffle=True)"
   ]
  },
  {
   "cell_type": "code",
   "execution_count": 5,
   "metadata": {
    "ExecuteTime": {
     "end_time": "2020-11-17T18:25:25.958324Z",
     "start_time": "2020-11-17T18:23:45.033777Z"
    },
    "scrolled": true
   },
   "outputs": [
    {
     "name": "stdout",
     "output_type": "stream",
     "text": [
      "Epoch 1/1000\n",
      "365/365 [==============================] - 1s 3ms/step - loss: 63.6323 - I_var: -0.3366 - val_loss: 55.0362 - val_I_var: -0.1263\n",
      "Epoch 2/1000\n",
      "365/365 [==============================] - 1s 2ms/step - loss: 50.6860 - I_var: -0.0209 - val_loss: 47.2711 - val_I_var: 0.0632\n",
      "Epoch 3/1000\n",
      "365/365 [==============================] - 1s 2ms/step - loss: 45.4024 - I_var: 0.1120 - val_loss: 43.7098 - val_I_var: 0.1559\n",
      "Epoch 4/1000\n",
      "365/365 [==============================] - 1s 2ms/step - loss: 43.3491 - I_var: 0.1672 - val_loss: 42.5630 - val_I_var: 0.1866\n",
      "Epoch 5/1000\n",
      "365/365 [==============================] - 1s 2ms/step - loss: 42.5546 - I_var: 0.1884 - val_loss: 42.1647 - val_I_var: 0.1983\n",
      "Epoch 6/1000\n",
      "365/365 [==============================] - 1s 3ms/step - loss: 42.1751 - I_var: 0.1989 - val_loss: 41.8022 - val_I_var: 0.2083\n",
      "Epoch 7/1000\n",
      "365/365 [==============================] - 1s 3ms/step - loss: 41.9473 - I_var: 0.2052 - val_loss: 41.6037 - val_I_var: 0.2138\n",
      "Epoch 8/1000\n",
      "365/365 [==============================] - 1s 2ms/step - loss: 41.7738 - I_var: 0.2101 - val_loss: 41.4198 - val_I_var: 0.2185\n",
      "Epoch 9/1000\n",
      "365/365 [==============================] - 1s 2ms/step - loss: 41.6252 - I_var: 0.2127 - val_loss: 41.4501 - val_I_var: 0.2174\n",
      "Epoch 10/1000\n",
      "365/365 [==============================] - 1s 2ms/step - loss: 41.5194 - I_var: 0.2141 - val_loss: 41.1788 - val_I_var: 0.2248\n",
      "Epoch 11/1000\n",
      "365/365 [==============================] - 1s 2ms/step - loss: 41.4511 - I_var: 0.2187 - val_loss: 41.2500 - val_I_var: 0.2223\n",
      "Epoch 12/1000\n",
      "365/365 [==============================] - 1s 2ms/step - loss: 41.3274 - I_var: 0.2201 - val_loss: 41.1198 - val_I_var: 0.2254\n",
      "Epoch 13/1000\n",
      "365/365 [==============================] - 1s 2ms/step - loss: 41.2865 - I_var: 0.2206 - val_loss: 41.0150 - val_I_var: 0.2281\n",
      "Epoch 14/1000\n",
      "365/365 [==============================] - 1s 3ms/step - loss: 41.2607 - I_var: 0.2217 - val_loss: 40.9628 - val_I_var: 0.2296\n",
      "Epoch 15/1000\n",
      "365/365 [==============================] - 1s 2ms/step - loss: 41.1928 - I_var: 0.2247 - val_loss: 40.9218 - val_I_var: 0.2307\n",
      "Epoch 16/1000\n",
      "365/365 [==============================] - 1s 2ms/step - loss: 41.1507 - I_var: 0.2255 - val_loss: 40.9582 - val_I_var: 0.2294\n",
      "Epoch 17/1000\n",
      "365/365 [==============================] - 1s 2ms/step - loss: 41.1211 - I_var: 0.2261 - val_loss: 40.7534 - val_I_var: 0.2352\n",
      "Epoch 18/1000\n",
      "365/365 [==============================] - 1s 2ms/step - loss: 41.0744 - I_var: 0.2271 - val_loss: 40.7778 - val_I_var: 0.2344\n",
      "Epoch 19/1000\n",
      "365/365 [==============================] - 1s 2ms/step - loss: 41.0481 - I_var: 0.2271 - val_loss: 40.7482 - val_I_var: 0.2355\n",
      "Epoch 20/1000\n",
      "365/365 [==============================] - 1s 2ms/step - loss: 40.9911 - I_var: 0.2291 - val_loss: 40.8580 - val_I_var: 0.2323\n",
      "Epoch 21/1000\n",
      "365/365 [==============================] - 1s 2ms/step - loss: 40.9821 - I_var: 0.2310 - val_loss: 40.7350 - val_I_var: 0.2360\n",
      "Epoch 22/1000\n",
      "365/365 [==============================] - 1s 3ms/step - loss: 40.9675 - I_var: 0.2308 - val_loss: 40.5956 - val_I_var: 0.2399\n",
      "Epoch 23/1000\n",
      "365/365 [==============================] - 1s 2ms/step - loss: 40.8982 - I_var: 0.2312 - val_loss: 40.8262 - val_I_var: 0.2339\n",
      "Epoch 24/1000\n",
      "365/365 [==============================] - 1s 2ms/step - loss: 40.8865 - I_var: 0.2328 - val_loss: 40.5431 - val_I_var: 0.2421\n",
      "Epoch 25/1000\n",
      "365/365 [==============================] - 1s 2ms/step - loss: 40.8397 - I_var: 0.2348 - val_loss: 40.6843 - val_I_var: 0.2379\n",
      "Epoch 26/1000\n",
      "365/365 [==============================] - 1s 3ms/step - loss: 40.8012 - I_var: 0.2366 - val_loss: 40.5112 - val_I_var: 0.2434\n",
      "Epoch 27/1000\n",
      "365/365 [==============================] - 1s 3ms/step - loss: 40.7877 - I_var: 0.2358 - val_loss: 40.4001 - val_I_var: 0.2469\n",
      "Epoch 28/1000\n",
      "365/365 [==============================] - 1s 3ms/step - loss: 40.7646 - I_var: 0.2376 - val_loss: 40.3455 - val_I_var: 0.2485\n",
      "Epoch 29/1000\n",
      "365/365 [==============================] - 1s 3ms/step - loss: 40.7250 - I_var: 0.2387 - val_loss: 40.5764 - val_I_var: 0.2420\n",
      "Epoch 30/1000\n",
      "365/365 [==============================] - 1s 3ms/step - loss: 40.6963 - I_var: 0.2396 - val_loss: 40.3483 - val_I_var: 0.2491\n",
      "Epoch 31/1000\n",
      "365/365 [==============================] - 1s 2ms/step - loss: 40.6683 - I_var: 0.2393 - val_loss: 40.3489 - val_I_var: 0.2496\n",
      "Epoch 32/1000\n",
      "365/365 [==============================] - 1s 3ms/step - loss: 40.6387 - I_var: 0.2416 - val_loss: 40.3005 - val_I_var: 0.2511\n",
      "Epoch 33/1000\n",
      "365/365 [==============================] - 1s 3ms/step - loss: 40.6503 - I_var: 0.2415 - val_loss: 40.2854 - val_I_var: 0.2519\n",
      "Epoch 34/1000\n",
      "365/365 [==============================] - 1s 3ms/step - loss: 40.5524 - I_var: 0.2446 - val_loss: 40.2624 - val_I_var: 0.2530\n",
      "Epoch 35/1000\n",
      "365/365 [==============================] - 1s 2ms/step - loss: 40.5607 - I_var: 0.2464 - val_loss: 40.1589 - val_I_var: 0.2561\n",
      "Epoch 36/1000\n",
      "365/365 [==============================] - 1s 2ms/step - loss: 40.5310 - I_var: 0.2455 - val_loss: 40.1632 - val_I_var: 0.2559\n",
      "Epoch 37/1000\n",
      "365/365 [==============================] - 1s 3ms/step - loss: 40.5215 - I_var: 0.2481 - val_loss: 40.1295 - val_I_var: 0.2575\n",
      "Epoch 38/1000\n",
      "365/365 [==============================] - 1s 2ms/step - loss: 40.5005 - I_var: 0.2489 - val_loss: 40.1895 - val_I_var: 0.2562\n",
      "Epoch 39/1000\n",
      "365/365 [==============================] - 1s 3ms/step - loss: 40.4357 - I_var: 0.2497 - val_loss: 40.0423 - val_I_var: 0.2605\n",
      "Epoch 40/1000\n",
      "365/365 [==============================] - 1s 3ms/step - loss: 40.4182 - I_var: 0.2519 - val_loss: 40.1710 - val_I_var: 0.2576\n",
      "Epoch 41/1000\n",
      "365/365 [==============================] - 1s 3ms/step - loss: 40.3675 - I_var: 0.2503 - val_loss: 40.0010 - val_I_var: 0.2627\n",
      "Epoch 42/1000\n",
      "365/365 [==============================] - 1s 3ms/step - loss: 40.3836 - I_var: 0.2524 - val_loss: 40.0003 - val_I_var: 0.2631\n",
      "Epoch 43/1000\n",
      "365/365 [==============================] - 1s 3ms/step - loss: 40.3609 - I_var: 0.2555 - val_loss: 39.9232 - val_I_var: 0.2656\n",
      "Epoch 44/1000\n",
      "365/365 [==============================] - 1s 2ms/step - loss: 40.2762 - I_var: 0.2559 - val_loss: 40.0024 - val_I_var: 0.2638\n",
      "Epoch 45/1000\n",
      "365/365 [==============================] - 1s 2ms/step - loss: 40.2936 - I_var: 0.2552 - val_loss: 39.8350 - val_I_var: 0.2689\n",
      "Epoch 46/1000\n",
      "365/365 [==============================] - 1s 2ms/step - loss: 40.2643 - I_var: 0.2560 - val_loss: 39.7940 - val_I_var: 0.2703\n",
      "Epoch 47/1000\n",
      "365/365 [==============================] - 1s 3ms/step - loss: 40.2496 - I_var: 0.2594 - val_loss: 39.8031 - val_I_var: 0.2703\n",
      "Epoch 48/1000\n",
      "365/365 [==============================] - 1s 3ms/step - loss: 40.1773 - I_var: 0.2612 - val_loss: 39.8263 - val_I_var: 0.2704\n",
      "Epoch 49/1000\n",
      "365/365 [==============================] - 1s 3ms/step - loss: 40.1640 - I_var: 0.2622 - val_loss: 39.9754 - val_I_var: 0.2666\n",
      "Epoch 50/1000\n",
      "365/365 [==============================] - 1s 2ms/step - loss: 40.1776 - I_var: 0.2627 - val_loss: 39.7008 - val_I_var: 0.2746\n",
      "Epoch 51/1000\n",
      "365/365 [==============================] - 1s 3ms/step - loss: 40.0844 - I_var: 0.2638 - val_loss: 39.6960 - val_I_var: 0.2756\n",
      "Epoch 52/1000\n",
      "365/365 [==============================] - 1s 3ms/step - loss: 40.0673 - I_var: 0.2661 - val_loss: 39.5942 - val_I_var: 0.2790\n",
      "Epoch 53/1000\n",
      "365/365 [==============================] - 1s 3ms/step - loss: 40.0396 - I_var: 0.2683 - val_loss: 39.8219 - val_I_var: 0.2730\n",
      "Epoch 54/1000\n",
      "365/365 [==============================] - 1s 3ms/step - loss: 39.9934 - I_var: 0.2686 - val_loss: 39.6155 - val_I_var: 0.2792\n",
      "Epoch 55/1000\n",
      "365/365 [==============================] - 1s 3ms/step - loss: 39.9260 - I_var: 0.2730 - val_loss: 39.5818 - val_I_var: 0.2812\n",
      "Epoch 56/1000\n",
      "365/365 [==============================] - 1s 3ms/step - loss: 39.8985 - I_var: 0.2717 - val_loss: 39.3860 - val_I_var: 0.2873\n",
      "Epoch 57/1000\n",
      "365/365 [==============================] - 1s 2ms/step - loss: 39.8510 - I_var: 0.2756 - val_loss: 39.3848 - val_I_var: 0.2882\n",
      "Epoch 58/1000\n",
      "365/365 [==============================] - 1s 3ms/step - loss: 39.7755 - I_var: 0.2793 - val_loss: 39.3333 - val_I_var: 0.2903\n",
      "Epoch 59/1000\n"
     ]
    },
    {
     "name": "stdout",
     "output_type": "stream",
     "text": [
      "365/365 [==============================] - 1s 2ms/step - loss: 39.6943 - I_var: 0.2821 - val_loss: 39.3571 - val_I_var: 0.2903\n",
      "Epoch 60/1000\n",
      "365/365 [==============================] - 1s 2ms/step - loss: 39.6456 - I_var: 0.2844 - val_loss: 39.1710 - val_I_var: 0.2969\n",
      "Epoch 61/1000\n",
      "365/365 [==============================] - 1s 3ms/step - loss: 39.5939 - I_var: 0.2871 - val_loss: 38.8625 - val_I_var: 0.3063\n",
      "Epoch 62/1000\n",
      "365/365 [==============================] - 1s 3ms/step - loss: 39.4024 - I_var: 0.2939 - val_loss: 38.7360 - val_I_var: 0.3112\n",
      "Epoch 63/1000\n",
      "365/365 [==============================] - 1s 2ms/step - loss: 39.1906 - I_var: 0.3020 - val_loss: 38.6230 - val_I_var: 0.3162\n",
      "Epoch 64/1000\n",
      "365/365 [==============================] - 1s 2ms/step - loss: 38.8685 - I_var: 0.3126 - val_loss: 37.9323 - val_I_var: 0.3387\n",
      "Epoch 65/1000\n",
      "365/365 [==============================] - 1s 3ms/step - loss: 38.4555 - I_var: 0.3257 - val_loss: 38.0921 - val_I_var: 0.3354\n",
      "Epoch 66/1000\n",
      "365/365 [==============================] - 1s 2ms/step - loss: 38.4166 - I_var: 0.3293 - val_loss: 37.5483 - val_I_var: 0.3506\n",
      "Epoch 67/1000\n",
      "365/365 [==============================] - 1s 2ms/step - loss: 38.1384 - I_var: 0.3361 - val_loss: 37.5814 - val_I_var: 0.3500\n",
      "Epoch 68/1000\n",
      "365/365 [==============================] - 1s 3ms/step - loss: 38.1457 - I_var: 0.3370 - val_loss: 37.4799 - val_I_var: 0.3535\n",
      "Epoch 69/1000\n",
      "365/365 [==============================] - 1s 3ms/step - loss: 38.0127 - I_var: 0.3402 - val_loss: 37.5188 - val_I_var: 0.3524\n",
      "Epoch 70/1000\n",
      "365/365 [==============================] - 1s 2ms/step - loss: 38.0674 - I_var: 0.3375 - val_loss: 37.3912 - val_I_var: 0.3563\n",
      "Epoch 71/1000\n",
      "365/365 [==============================] - 1s 3ms/step - loss: 37.9788 - I_var: 0.3422 - val_loss: 37.3365 - val_I_var: 0.3581\n",
      "Epoch 72/1000\n",
      "365/365 [==============================] - 1s 2ms/step - loss: 37.9664 - I_var: 0.3422 - val_loss: 37.3944 - val_I_var: 0.3564\n",
      "Epoch 73/1000\n",
      "365/365 [==============================] - 1s 2ms/step - loss: 37.9717 - I_var: 0.3412 - val_loss: 37.5404 - val_I_var: 0.3526\n",
      "Epoch 74/1000\n",
      "365/365 [==============================] - 1s 2ms/step - loss: 37.9966 - I_var: 0.3393 - val_loss: 37.3974 - val_I_var: 0.3563\n",
      "Epoch 75/1000\n",
      "365/365 [==============================] - 1s 2ms/step - loss: 37.8516 - I_var: 0.3456 - val_loss: 37.8711 - val_I_var: 0.3433\n",
      "Epoch 76/1000\n",
      "365/365 [==============================] - 1s 3ms/step - loss: 37.9004 - I_var: 0.3441 - val_loss: 37.3089 - val_I_var: 0.3594\n",
      "Epoch 77/1000\n",
      "365/365 [==============================] - 1s 2ms/step - loss: 38.0486 - I_var: 0.3402 - val_loss: 37.6714 - val_I_var: 0.3489\n",
      "Epoch 78/1000\n",
      "365/365 [==============================] - 1s 3ms/step - loss: 37.9244 - I_var: 0.3438 - val_loss: 37.4012 - val_I_var: 0.3568\n",
      "Epoch 79/1000\n",
      "365/365 [==============================] - 1s 3ms/step - loss: 37.8867 - I_var: 0.3454 - val_loss: 37.5812 - val_I_var: 0.3516\n",
      "Epoch 80/1000\n",
      "365/365 [==============================] - 1s 2ms/step - loss: 37.9509 - I_var: 0.3434 - val_loss: 37.6066 - val_I_var: 0.3505\n",
      "Epoch 81/1000\n",
      "365/365 [==============================] - 1s 2ms/step - loss: 37.8958 - I_var: 0.3434 - val_loss: 37.6665 - val_I_var: 0.3493\n",
      "Epoch 82/1000\n",
      "365/365 [==============================] - 1s 3ms/step - loss: 37.9266 - I_var: 0.3434 - val_loss: 37.6749 - val_I_var: 0.3488\n",
      "Epoch 83/1000\n",
      "365/365 [==============================] - 1s 2ms/step - loss: 37.8932 - I_var: 0.3451 - val_loss: 37.3494 - val_I_var: 0.3579\n",
      "Epoch 84/1000\n",
      "365/365 [==============================] - 1s 3ms/step - loss: 37.8197 - I_var: 0.3466 - val_loss: 37.7634 - val_I_var: 0.3462\n",
      "Epoch 85/1000\n",
      "365/365 [==============================] - 1s 2ms/step - loss: 37.8789 - I_var: 0.3453 - val_loss: 37.3984 - val_I_var: 0.3565\n",
      "Epoch 86/1000\n",
      "365/365 [==============================] - 1s 2ms/step - loss: 37.9111 - I_var: 0.3445 - val_loss: 37.4820 - val_I_var: 0.3540\n",
      "Epoch 87/1000\n",
      "365/365 [==============================] - 1s 3ms/step - loss: 37.8430 - I_var: 0.3458 - val_loss: 37.8491 - val_I_var: 0.3437\n",
      "Epoch 88/1000\n",
      "365/365 [==============================] - 1s 3ms/step - loss: 37.9168 - I_var: 0.3441 - val_loss: 37.5074 - val_I_var: 0.3535\n",
      "Epoch 89/1000\n",
      "365/365 [==============================] - 1s 3ms/step - loss: 37.8220 - I_var: 0.3460 - val_loss: 37.8167 - val_I_var: 0.3451\n",
      "Epoch 90/1000\n",
      "365/365 [==============================] - 1s 3ms/step - loss: 37.8871 - I_var: 0.3447 - val_loss: 37.5000 - val_I_var: 0.3538\n",
      "Epoch 91/1000\n",
      "365/365 [==============================] - 1s 3ms/step - loss: 37.9131 - I_var: 0.3438 - val_loss: 37.3693 - val_I_var: 0.3575\n",
      "Epoch 92/1000\n",
      "365/365 [==============================] - 1s 3ms/step - loss: 37.8840 - I_var: 0.3456 - val_loss: 37.6776 - val_I_var: 0.3482\n",
      "Epoch 93/1000\n",
      "365/365 [==============================] - 1s 3ms/step - loss: 37.8349 - I_var: 0.3461 - val_loss: 37.5512 - val_I_var: 0.3517\n",
      "Epoch 94/1000\n",
      "365/365 [==============================] - 1s 2ms/step - loss: 37.7681 - I_var: 0.3485 - val_loss: 37.4503 - val_I_var: 0.3554\n",
      "Epoch 95/1000\n",
      "365/365 [==============================] - 1s 2ms/step - loss: 37.8786 - I_var: 0.3459 - val_loss: 37.4754 - val_I_var: 0.3543\n",
      "Epoch 96/1000\n",
      "365/365 [==============================] - 1s 3ms/step - loss: 37.8367 - I_var: 0.3460 - val_loss: 37.3789 - val_I_var: 0.3573\n",
      "Epoch 97/1000\n",
      "365/365 [==============================] - 1s 3ms/step - loss: 37.8340 - I_var: 0.3465 - val_loss: 37.3826 - val_I_var: 0.3570\n",
      "Epoch 98/1000\n",
      "365/365 [==============================] - 1s 3ms/step - loss: 37.8795 - I_var: 0.3454 - val_loss: 37.4178 - val_I_var: 0.3559\n",
      "Epoch 99/1000\n",
      "365/365 [==============================] - 1s 3ms/step - loss: 37.8036 - I_var: 0.3474 - val_loss: 37.3855 - val_I_var: 0.3570\n",
      "Epoch 100/1000\n",
      "365/365 [==============================] - 1s 2ms/step - loss: 37.8206 - I_var: 0.3456 - val_loss: 37.4887 - val_I_var: 0.3538\n",
      "Epoch 101/1000\n",
      "365/365 [==============================] - 1s 2ms/step - loss: 37.7943 - I_var: 0.3472 - val_loss: 37.4405 - val_I_var: 0.3550\n",
      "Epoch 102/1000\n",
      "365/365 [==============================] - 1s 3ms/step - loss: 37.8850 - I_var: 0.3450 - val_loss: 37.3840 - val_I_var: 0.3566\n",
      "Epoch 103/1000\n",
      "365/365 [==============================] - 1s 2ms/step - loss: 37.8141 - I_var: 0.3475 - val_loss: 37.3157 - val_I_var: 0.3585\n",
      "Epoch 104/1000\n",
      "365/365 [==============================] - 1s 2ms/step - loss: 37.8185 - I_var: 0.3476 - val_loss: 37.5930 - val_I_var: 0.3506\n",
      "Epoch 105/1000\n",
      "365/365 [==============================] - 1s 2ms/step - loss: 37.8059 - I_var: 0.3468 - val_loss: 37.4063 - val_I_var: 0.3559\n",
      "Epoch 106/1000\n",
      "365/365 [==============================] - 1s 2ms/step - loss: 37.8411 - I_var: 0.3457 - val_loss: 37.9239 - val_I_var: 0.3407\n",
      "Training time: 100.9 seconds\n"
     ]
    },
    {
     "data": {
      "text/plain": [
       "<tensorflow.python.keras.callbacks.History at 0x13ed0db50>"
      ]
     },
     "execution_count": 5,
     "metadata": {},
     "output_type": "execute_result"
    }
   ],
   "source": [
    "# Fit model to data\n",
    "model.fit(learning_rate=.001,\n",
    "          epochs=1000,\n",
    "          batch_size=50,\n",
    "          early_stopping=True,\n",
    "          early_stopping_patience=30,\n",
    "          linear_initialization=False)"
   ]
  },
  {
   "cell_type": "code",
   "execution_count": 6,
   "metadata": {
    "ExecuteTime": {
     "end_time": "2020-11-17T18:25:25.994350Z",
     "start_time": "2020-11-17T18:25:25.960777Z"
    }
   },
   "outputs": [
    {
     "name": "stdout",
     "output_type": "stream",
     "text": [
      "Model saved to these files:\n",
      "\tmpsa_ge_pairwise.pickle\n",
      "\tmpsa_ge_pairwise.h5\n"
     ]
    }
   ],
   "source": [
    "# Save model\n",
    "model.save('mpsa_ge_pairwise')"
   ]
  },
  {
   "cell_type": "code",
   "execution_count": 7,
   "metadata": {
    "ExecuteTime": {
     "end_time": "2020-11-17T18:25:26.202499Z",
     "start_time": "2020-11-17T18:25:26.006383Z"
    },
    "scrolled": true
   },
   "outputs": [
    {
     "name": "stdout",
     "output_type": "stream",
     "text": [
      "Model loaded from these files:\n",
      "\tmpsa_ge_pairwise.pickle\n",
      "\tmpsa_ge_pairwise.h5\n"
     ]
    }
   ],
   "source": [
    "# Load model\n",
    "model = mavenn.load('mpsa_ge_pairwise')"
   ]
  },
  {
   "cell_type": "code",
   "execution_count": 8,
   "metadata": {
    "ExecuteTime": {
     "end_time": "2020-11-17T18:25:26.212539Z",
     "start_time": "2020-11-17T18:25:26.208475Z"
    }
   },
   "outputs": [],
   "source": [
    "# Get x and y\n",
    "x_test = test_df['x'].values\n",
    "y_test = test_df['y'].values"
   ]
  },
  {
   "cell_type": "code",
   "execution_count": 9,
   "metadata": {
    "ExecuteTime": {
     "end_time": "2020-11-17T18:25:27.169610Z",
     "start_time": "2020-11-17T18:25:26.214625Z"
    }
   },
   "outputs": [
    {
     "name": "stdout",
     "output_type": "stream",
     "text": [
      "On test data:\n",
      "I_var_test: 0.329 +- 0.027 bits\n",
      "I_pred_test: 0.368 +- 0.013 bits\n"
     ]
    },
    {
     "data": {
      "image/png": "[encoded data removed]",
      "text/plain": [
       "<Figure size 288x288 with 1 Axes>"
      ]
     },
     "metadata": {
      "needs_background": "light"
     },
     "output_type": "display_data"
    }
   ],
   "source": [
    "# Show training history\n",
    "print('On test data:')\n",
    "\n",
    "# Compute likelihood information\n",
    "I_var, dI_var =  model.I_variational(x=x_test, y=y_test)\n",
    "print(f'I_var_test: {I_var:.3f} +- {dI_var:.3f} bits') \n",
    "\n",
    "# Compute predictive information\n",
    "I_pred, dI_pred = model.I_predictive(x=x_test, y=y_test)\n",
    "print(f'I_pred_test: {I_pred:.3f} +- {dI_pred:.3f} bits')\n",
    "\n",
    "I_var_hist = model.history['I_var']\n",
    "val_I_var_hist = model.history['val_I_var']\n",
    "\n",
    "fig, ax = plt.subplots(1,1,figsize=[4,4])\n",
    "ax.plot(I_var_hist, label='I_var_train')\n",
    "ax.plot(val_I_var_hist, label='I_var_val')\n",
    "ax.axhline(I_var, color='C2', linestyle=':', label='I_var_test')\n",
    "ax.axhline(I_pred, color='C3', linestyle=':', label='I_pred_test')\n",
    "ax.legend()\n",
    "ax.set_xlabel('epochs')\n",
    "ax.set_ylabel('bits')\n",
    "ax.set_title('training hisotry')\n",
    "ax.set_ylim([0, I_pred*1.2]);"
   ]
  },
  {
   "cell_type": "code",
   "execution_count": 10,
   "metadata": {
    "ExecuteTime": {
     "end_time": "2020-11-17T18:25:28.158503Z",
     "start_time": "2020-11-17T18:25:27.171401Z"
    }
   },
   "outputs": [
    {
     "data": {
      "image/png": "[encoded data removed]",
      "text/plain": [
       "<Figure size 288x288 with 1 Axes>"
      ]
     },
     "metadata": {
      "needs_background": "light"
     },
     "output_type": "display_data"
    }
   ],
   "source": [
    "# Predict latent phentoype values (phi) on test data\n",
    "phi_test = model.x_to_phi(x_test)\n",
    "\n",
    "# Predict measurement values (yhat) on test data\n",
    "yhat_test = model.x_to_yhat(x_test)\n",
    "\n",
    "# Set phi lims and create grid in phi space\n",
    "phi_lim = [min(phi_test)-.5, max(phi_test)+.5]\n",
    "phi_grid = np.linspace(phi_lim[0], phi_lim[1], 1000)\n",
    "\n",
    "# Compute yhat each phi gridpoint\n",
    "yhat_grid = model.phi_to_yhat(phi_grid)\n",
    "\n",
    "# Compute 90% CI for each yhat\n",
    "q = [0.05, 0.95] #[0.16, 0.84]\n",
    "yqs_grid = model.yhat_to_yq(yhat_grid, q=q)\n",
    "\n",
    "# Create figure\n",
    "fig, ax = plt.subplots(1, 1, figsize=[4, 4])\n",
    "\n",
    "# Illustrate measurement process with GE curve\n",
    "ax.scatter(phi_test, y_test, color='C0', s=5, alpha=.2, label='test data')\n",
    "ax.plot(phi_grid, yhat_grid, linewidth=2, color='C1',\n",
    "        label='$\\hat{y} = g(\\phi)$')\n",
    "ax.plot(phi_grid, yqs_grid[:, 0], linestyle='--', color='C1', label='68% CI')\n",
    "ax.plot(phi_grid, yqs_grid[:, 1], linestyle='--', color='C1')\n",
    "ax.set_xlim(phi_lim)\n",
    "ax.set_xlabel('latent phenotype ($\\phi$)')\n",
    "ax.set_ylabel('measurement ($y$)')\n",
    "ax.set_title('measurement process')\n",
    "ax.legend()\n",
    "\n",
    "# Fix up plot\n",
    "fig.tight_layout()\n",
    "plt.show()"
   ]
  },
  {
   "cell_type": "code",
   "execution_count": 11,
   "metadata": {
    "ExecuteTime": {
     "end_time": "2020-11-17T18:25:28.355944Z",
     "start_time": "2020-11-17T18:25:28.162800Z"
    }
   },
   "outputs": [
    {
     "data": {
      "image/png": "[encoded data removed]",
      "text/plain": [
       "<Figure size 576x288 with 2 Axes>"
      ]
     },
     "metadata": {
      "needs_background": "light"
     },
     "output_type": "display_data"
    }
   ],
   "source": [
    "# Plot pairwise parameters\n",
    "theta = model.get_theta()\n",
    "fig, ax = plt.subplots(1, 1, figsize=[8, 4])\n",
    "mavenn.heatmap_pairwise(values=theta['theta_lclc'],\n",
    "                        alphabet=theta['alphabet'],\n",
    "                        ax=ax);"
   ]
  },
  {
   "cell_type": "code",
   "execution_count": 12,
   "metadata": {
    "ExecuteTime": {
     "end_time": "2020-11-17T18:25:28.424093Z",
     "start_time": "2020-11-17T18:25:28.358900Z"
    }
   },
   "outputs": [
    {
     "data": {
      "text/html": [
       "<div>\n",
       "<style scoped>\n",
       "    .dataframe tbody tr th:only-of-type {\n",
       "        vertical-align: middle;\n",
       "    }\n",
       "\n",
       "    .dataframe tbody tr th {\n",
       "        vertical-align: top;\n",
       "    }\n",
       "\n",
       "    .dataframe thead th {\n",
       "        text-align: right;\n",
       "    }\n",
       "</style>\n",
       "<table border=\"1\" class=\"dataframe\">\n",
       "  <thead>\n",
       "    <tr style=\"text-align: right;\">\n",
       "      <th></th>\n",
       "      <th>set</th>\n",
       "      <th>yhat</th>\n",
       "      <th>phi</th>\n",
       "      <th>y</th>\n",
       "      <th>x</th>\n",
       "    </tr>\n",
       "  </thead>\n",
       "  <tbody>\n",
       "    <tr>\n",
       "      <th>0</th>\n",
       "      <td>validation</td>\n",
       "      <td>-0.327926</td>\n",
       "      <td>-0.541973</td>\n",
       "      <td>-0.330788</td>\n",
       "      <td>UAAGCGACC</td>\n",
       "    </tr>\n",
       "    <tr>\n",
       "      <th>1</th>\n",
       "      <td>validation</td>\n",
       "      <td>-0.354729</td>\n",
       "      <td>-1.208897</td>\n",
       "      <td>-0.206976</td>\n",
       "      <td>UCUGCCAAU</td>\n",
       "    </tr>\n",
       "    <tr>\n",
       "      <th>2</th>\n",
       "      <td>training</td>\n",
       "      <td>-0.291322</td>\n",
       "      <td>0.272894</td>\n",
       "      <td>-0.329993</td>\n",
       "      <td>UUAGUAGUC</td>\n",
       "    </tr>\n",
       "    <tr>\n",
       "      <th>3</th>\n",
       "      <td>training</td>\n",
       "      <td>1.377984</td>\n",
       "      <td>2.117125</td>\n",
       "      <td>1.287107</td>\n",
       "      <td>GGAGUGAGU</td>\n",
       "    </tr>\n",
       "    <tr>\n",
       "      <th>4</th>\n",
       "      <td>training</td>\n",
       "      <td>-0.390895</td>\n",
       "      <td>-2.148078</td>\n",
       "      <td>-0.251880</td>\n",
       "      <td>AUCGCUAGA</td>\n",
       "    </tr>\n",
       "  </tbody>\n",
       "</table>\n",
       "</div>"
      ],
      "text/plain": [
       "          set      yhat       phi         y          x\n",
       "0  validation -0.327926 -0.541973 -0.330788  UAAGCGACC\n",
       "1  validation -0.354729 -1.208897 -0.206976  UCUGCCAAU\n",
       "2    training -0.291322  0.272894 -0.329993  UUAGUAGUC\n",
       "3    training  1.377984  2.117125  1.287107  GGAGUGAGU\n",
       "4    training -0.390895 -2.148078 -0.251880  AUCGCUAGA"
      ]
     },
     "execution_count": 12,
     "metadata": {},
     "output_type": "execute_result"
    }
   ],
   "source": [
    "# Test simulate_data\n",
    "sim_df = model.simulate_dataset(N=1000)\n",
    "sim_df.head()"
   ]
  },
  {
   "cell_type": "code",
   "execution_count": 13,
   "metadata": {
    "ExecuteTime": {
     "end_time": "2020-11-17T18:25:29.351569Z",
     "start_time": "2020-11-17T18:25:28.427172Z"
    }
   },
   "outputs": [
    {
     "data": {
      "text/plain": [
       "[<matplotlib.lines.Line2D at 0x13e904040>]"
      ]
     },
     "execution_count": 13,
     "metadata": {},
     "output_type": "execute_result"
    },
    {
     "data": {
      "image/png": "[encoded data removed]",
      "text/plain": [
       "<Figure size 1080x360 with 3 Axes>"
      ]
     },
     "metadata": {
      "needs_background": "light"
     },
     "output_type": "display_data"
    }
   ],
   "source": [
    "# Is clip by value causing a problem?\n",
    "yhat_fixed = (yhat_grid - model.y_mean)/model.y_std\n",
    "a, b, s = model.layer_noise_model.compute_params(yhat_fixed)\n",
    "\n",
    "fig, axs = plt.subplots(1,3,figsize=[15,5])\n",
    "\n",
    "axs[0].semilogy(yhat_fixed, a)\n",
    "axs[1].semilogy(yhat_fixed, b)\n",
    "axs[2].semilogy(yhat_fixed, s)"
   ]
  },
  {
   "cell_type": "code",
   "execution_count": null,
   "metadata": {},
   "outputs": [],
   "source": []
  }
 ],
 "metadata": {
  "kernelspec": {
   "display_name": "Python 3",
   "language": "python",
   "name": "python3"
  },
  "language_info": {
   "codemirror_mode": {
    "name": "ipython",
    "version": 3
   },
   "file_extension": ".py",
   "mimetype": "text/x-python",
   "name": "python",
   "nbconvert_exporter": "python",
   "pygments_lexer": "ipython3",
   "version": "3.8.3"
  },
  "toc": {
   "base_numbering": 1,
   "nav_menu": {},
   "number_sections": true,
   "sideBar": true,
   "skip_h1_title": false,
   "title_cell": "Table of Contents",
   "title_sidebar": "Contents",
   "toc_cell": false,
   "toc_position": {},
   "toc_section_display": true,
   "toc_window_display": false
  },
  "varInspector": {
   "cols": {
    "lenName": 16,
    "lenType": 16,
    "lenVar": 40
   },
   "kernels_config": {
    "python": {
     "delete_cmd_postfix": "",
     "delete_cmd_prefix": "del ",
     "library": "var_list.py",
     "varRefreshCmd": "print(var_dic_list())"
    },
    "r": {
     "delete_cmd_postfix": ") ",
     "delete_cmd_prefix": "rm(",
     "library": "var_list.r",
     "varRefreshCmd": "cat(var_dic_list()) "
    }
   },
   "types_to_exclude": [
    "module",
    "function",
    "builtin_function_or_method",
    "instance",
    "_Feature"
   ],
   "window_display": false
  }
 },
 "nbformat": 4,
 "nbformat_minor": 2
}
