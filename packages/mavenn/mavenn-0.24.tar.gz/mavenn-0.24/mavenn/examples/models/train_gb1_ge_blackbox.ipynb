{
 "cells": [
  {
   "cell_type": "code",
   "execution_count": 1,
   "metadata": {},
   "outputs": [
    {
     "name": "stdout",
     "output_type": "stream",
     "text": [
      "['/Users/jkinney/github/mavenn/mavenn']\n"
     ]
    }
   ],
   "source": [
    "# Standard imports\n",
    "import pandas as pd\n",
    "import matplotlib.pyplot as plt\n",
    "import numpy as np\n",
    "\n",
    "# Insert path to mavenn beginning of path\n",
    "import os\n",
    "import sys\n",
    "abs_path_to_mavenn = os.path.abspath('../../../')\n",
    "sys.path.insert(0, abs_path_to_mavenn)\n",
    "\n",
    "# Load mavenn\n",
    "import mavenn\n",
    "print(mavenn.__path__)"
   ]
  },
  {
   "cell_type": "code",
   "execution_count": 2,
   "metadata": {},
   "outputs": [
    {
     "name": "stdout",
     "output_type": "stream",
     "text": [
      "test N: 106,336\n",
      "training + validation N: 424,401\n"
     ]
    },
    {
     "data": {
      "text/html": [
       "<div>\n",
       "<style scoped>\n",
       "    .dataframe tbody tr th:only-of-type {\n",
       "        vertical-align: middle;\n",
       "    }\n",
       "\n",
       "    .dataframe tbody tr th {\n",
       "        vertical-align: top;\n",
       "    }\n",
       "\n",
       "    .dataframe thead th {\n",
       "        text-align: right;\n",
       "    }\n",
       "</style>\n",
       "<table border=\"1\" class=\"dataframe\">\n",
       "  <thead>\n",
       "    <tr style=\"text-align: right;\">\n",
       "      <th></th>\n",
       "      <th>set</th>\n",
       "      <th>input_ct</th>\n",
       "      <th>selected_ct</th>\n",
       "      <th>y</th>\n",
       "      <th>x</th>\n",
       "    </tr>\n",
       "  </thead>\n",
       "  <tbody>\n",
       "    <tr>\n",
       "      <th>0</th>\n",
       "      <td>training</td>\n",
       "      <td>73.0</td>\n",
       "      <td>62.0</td>\n",
       "      <td>-1.021847</td>\n",
       "      <td>QYKLILNGKTLKGETTTEAHDAATAEKVFKQYANDNGVDGEWTYDD...</td>\n",
       "    </tr>\n",
       "    <tr>\n",
       "      <th>1</th>\n",
       "      <td>training</td>\n",
       "      <td>122.0</td>\n",
       "      <td>0.0</td>\n",
       "      <td>-7.732188</td>\n",
       "      <td>QYKLILNGKTLKGETTTEAVDAATAEKVFPQYANDNGVDGEWTYDD...</td>\n",
       "    </tr>\n",
       "    <tr>\n",
       "      <th>2</th>\n",
       "      <td>training</td>\n",
       "      <td>794.0</td>\n",
       "      <td>598.0</td>\n",
       "      <td>-1.198072</td>\n",
       "      <td>QYKLILNGKTLKGETTTEAVDAATAEKVFKQYANKNGVDGEWTLDD...</td>\n",
       "    </tr>\n",
       "    <tr>\n",
       "      <th>3</th>\n",
       "      <td>training</td>\n",
       "      <td>1115.0</td>\n",
       "      <td>595.0</td>\n",
       "      <td>-1.694626</td>\n",
       "      <td>QYKLILNIKTLKGETTTEAVDAATAEKVFKQYANDNGVDGEWTYDS...</td>\n",
       "    </tr>\n",
       "    <tr>\n",
       "      <th>4</th>\n",
       "      <td>validation</td>\n",
       "      <td>97.0</td>\n",
       "      <td>2.0</td>\n",
       "      <td>-5.819421</td>\n",
       "      <td>QYKLINNGKTLKGETTTEAVDAATAEKVFKIYANDNGVDGEWTYDD...</td>\n",
       "    </tr>\n",
       "    <tr>\n",
       "      <th>5</th>\n",
       "      <td>training</td>\n",
       "      <td>40.0</td>\n",
       "      <td>169.0</td>\n",
       "      <td>1.262166</td>\n",
       "      <td>QYKLILNGKTLWGETTTEAVDAATAEKVFKQYANDNGVDGEWTYDD...</td>\n",
       "    </tr>\n",
       "    <tr>\n",
       "      <th>6</th>\n",
       "      <td>training</td>\n",
       "      <td>244.0</td>\n",
       "      <td>819.0</td>\n",
       "      <td>0.953169</td>\n",
       "      <td>QYKLILNGKTLKGETTTEAVDAATAEKVFKQYANDNGVDGEWTYVV...</td>\n",
       "    </tr>\n",
       "    <tr>\n",
       "      <th>7</th>\n",
       "      <td>training</td>\n",
       "      <td>381.0</td>\n",
       "      <td>232.0</td>\n",
       "      <td>-1.502916</td>\n",
       "      <td>QYKLILNGKTLKGAFTTEAVDAATAEKVFKQYANDNGVDGEWTYDD...</td>\n",
       "    </tr>\n",
       "    <tr>\n",
       "      <th>8</th>\n",
       "      <td>training</td>\n",
       "      <td>366.0</td>\n",
       "      <td>5.0</td>\n",
       "      <td>-6.724347</td>\n",
       "      <td>QYKLILNGKTLKGETTTEAVDAVTHEKVFKQYANDNGVDGEWTYDD...</td>\n",
       "    </tr>\n",
       "    <tr>\n",
       "      <th>9</th>\n",
       "      <td>training</td>\n",
       "      <td>119.0</td>\n",
       "      <td>145.0</td>\n",
       "      <td>-0.506739</td>\n",
       "      <td>QYKLILNGKTLKGETTTEAVDAATAEKVFKQYANENGVDGEWTYDD...</td>\n",
       "    </tr>\n",
       "  </tbody>\n",
       "</table>\n",
       "</div>"
      ],
      "text/plain": [
       "          set  input_ct  selected_ct         y  \\\n",
       "0    training      73.0         62.0 -1.021847   \n",
       "1    training     122.0          0.0 -7.732188   \n",
       "2    training     794.0        598.0 -1.198072   \n",
       "3    training    1115.0        595.0 -1.694626   \n",
       "4  validation      97.0          2.0 -5.819421   \n",
       "5    training      40.0        169.0  1.262166   \n",
       "6    training     244.0        819.0  0.953169   \n",
       "7    training     381.0        232.0 -1.502916   \n",
       "8    training     366.0          5.0 -6.724347   \n",
       "9    training     119.0        145.0 -0.506739   \n",
       "\n",
       "                                                   x  \n",
       "0  QYKLILNGKTLKGETTTEAHDAATAEKVFKQYANDNGVDGEWTYDD...  \n",
       "1  QYKLILNGKTLKGETTTEAVDAATAEKVFPQYANDNGVDGEWTYDD...  \n",
       "2  QYKLILNGKTLKGETTTEAVDAATAEKVFKQYANKNGVDGEWTLDD...  \n",
       "3  QYKLILNIKTLKGETTTEAVDAATAEKVFKQYANDNGVDGEWTYDS...  \n",
       "4  QYKLINNGKTLKGETTTEAVDAATAEKVFKIYANDNGVDGEWTYDD...  \n",
       "5  QYKLILNGKTLWGETTTEAVDAATAEKVFKQYANDNGVDGEWTYDD...  \n",
       "6  QYKLILNGKTLKGETTTEAVDAATAEKVFKQYANDNGVDGEWTYVV...  \n",
       "7  QYKLILNGKTLKGAFTTEAVDAATAEKVFKQYANDNGVDGEWTYDD...  \n",
       "8  QYKLILNGKTLKGETTTEAVDAVTHEKVFKQYANDNGVDGEWTYDD...  \n",
       "9  QYKLILNGKTLKGETTTEAVDAATAEKVFKQYANENGVDGEWTYDD...  "
      ]
     },
     "execution_count": 2,
     "metadata": {},
     "output_type": "execute_result"
    }
   ],
   "source": [
    "# Load example data\n",
    "data_df = mavenn.load_example_dataset('gb1')\n",
    "\n",
    "# Separate test from data_df\n",
    "ix_test = data_df['set']=='test'\n",
    "test_df = data_df[ix_test].reset_index(drop=True)\n",
    "print(f'test N: {len(test_df):,}')\n",
    "\n",
    "# Remove test data from data_df\n",
    "data_df = data_df[~ix_test].reset_index(drop=True)\n",
    "print(f'training + validation N: {len(data_df):,}')\n",
    "data_df.head(10)"
   ]
  },
  {
   "cell_type": "code",
   "execution_count": 3,
   "metadata": {},
   "outputs": [],
   "source": [
    "# Set filename\n",
    "name = 'gb1_ge_blackbox'\n",
    "\n",
    "# Get sequence length\n",
    "L = len(data_df['x'][0])\n",
    "\n",
    "# Define model\n",
    "model = mavenn.Model(regression_type='GE',\n",
    "                     L=L,\n",
    "                     alphabet='protein',\n",
    "                     gpmap_type='blackbox',\n",
    "                     gpmap_kwargs={\n",
    "                         'hidden_layer_sizes':[100]*5\n",
    "                     },\n",
    "                     ge_noise_model_type='SkewedT',\n",
    "                     ge_heteroskedasticity_order=2)"
   ]
  },
  {
   "cell_type": "code",
   "execution_count": 4,
   "metadata": {},
   "outputs": [
    {
     "name": "stdout",
     "output_type": "stream",
     "text": [
      "N = 424,401 observations set as training data.\n",
      "Using 24.9% for validation.\n",
      "Data shuffled.\n",
      "Time to set data: 11.2 sec.\n"
     ]
    }
   ],
   "source": [
    "# Set training data\n",
    "model.set_data(x=data_df['x'],\n",
    "               y=data_df['y'],\n",
    "               validation_flags=(data_df['set']=='validation'),\n",
    "               shuffle=True)"
   ]
  },
  {
   "cell_type": "code",
   "execution_count": 5,
   "metadata": {},
   "outputs": [
    {
     "name": "stdout",
     "output_type": "stream",
     "text": [
      "Epoch 1/1000\n",
      "319/319 [==============================] - 8s 26ms/step - loss: 1020.9904 - I_var: 0.3646 - val_loss: 808.7668 - val_I_var: 0.6567\n",
      "Epoch 2/1000\n",
      "319/319 [==============================] - 6s 19ms/step - loss: 703.0203 - I_var: 0.8069 - val_loss: 593.8287 - val_I_var: 0.9606\n",
      "Epoch 3/1000\n",
      "319/319 [==============================] - 6s 19ms/step - loss: 504.2184 - I_var: 1.0901 - val_loss: 419.2193 - val_I_var: 1.2111\n",
      "Epoch 4/1000\n",
      "319/319 [==============================] - 6s 20ms/step - loss: 334.6784 - I_var: 1.3335 - val_loss: 249.7695 - val_I_var: 1.4554\n",
      "Epoch 5/1000\n",
      "319/319 [==============================] - 6s 19ms/step - loss: 181.7676 - I_var: 1.5540 - val_loss: 103.2723 - val_I_var: 1.6671\n",
      "Epoch 6/1000\n",
      "319/319 [==============================] - 6s 20ms/step - loss: 49.7994 - I_var: 1.7446 - val_loss: 6.9468 - val_I_var: 1.8067\n",
      "Epoch 7/1000\n",
      "319/319 [==============================] - 6s 19ms/step - loss: -58.7983 - I_var: 1.9017 - val_loss: -98.5220 - val_I_var: 1.9596\n",
      "Epoch 8/1000\n",
      "319/319 [==============================] - 6s 20ms/step - loss: -136.9787 - I_var: 2.0150 - val_loss: -167.0524 - val_I_var: 2.0592\n",
      "Epoch 9/1000\n",
      "319/319 [==============================] - 6s 19ms/step - loss: -198.3509 - I_var: 2.1042 - val_loss: -201.2695 - val_I_var: 2.1093\n",
      "Epoch 10/1000\n",
      "319/319 [==============================] - 6s 19ms/step - loss: -238.9345 - I_var: 2.1633 - val_loss: -247.3681 - val_I_var: 2.1765\n",
      "Epoch 11/1000\n",
      "319/319 [==============================] - 6s 20ms/step - loss: -276.6124 - I_var: 2.2181 - val_loss: -267.9980 - val_I_var: 2.2068\n",
      "Epoch 12/1000\n",
      "319/319 [==============================] - 6s 20ms/step - loss: -304.4439 - I_var: 2.2587 - val_loss: -312.1534 - val_I_var: 2.2712\n",
      "Epoch 13/1000\n",
      "319/319 [==============================] - 10s 30ms/step - loss: -339.2423 - I_var: 2.3096 - val_loss: -332.0547 - val_I_var: 2.3006\n",
      "Epoch 14/1000\n",
      "319/319 [==============================] - 6s 18ms/step - loss: -369.2854 - I_var: 2.3534 - val_loss: -356.2391 - val_I_var: 2.3360\n",
      "Epoch 15/1000\n",
      "319/319 [==============================] - 6s 18ms/step - loss: -398.8365 - I_var: 2.3965 - val_loss: -371.4139 - val_I_var: 2.3584\n",
      "Epoch 16/1000\n",
      "319/319 [==============================] - 5s 17ms/step - loss: -423.1969 - I_var: 2.4322 - val_loss: -395.3848 - val_I_var: 2.3935\n",
      "Epoch 17/1000\n",
      "319/319 [==============================] - 6s 18ms/step - loss: -448.8874 - I_var: 2.4699 - val_loss: -422.2216 - val_I_var: 2.4328\n",
      "Epoch 18/1000\n",
      "319/319 [==============================] - 5s 17ms/step - loss: -475.8798 - I_var: 2.5093 - val_loss: -444.6950 - val_I_var: 2.4657\n",
      "Epoch 19/1000\n",
      "319/319 [==============================] - 6s 17ms/step - loss: -493.1127 - I_var: 2.5347 - val_loss: -469.2867 - val_I_var: 2.5019\n",
      "Epoch 20/1000\n",
      "319/319 [==============================] - 6s 17ms/step - loss: -518.1417 - I_var: 2.5711 - val_loss: -487.1122 - val_I_var: 2.5280\n",
      "Epoch 21/1000\n",
      "319/319 [==============================] - 5s 17ms/step - loss: -547.0618 - I_var: 2.6132 - val_loss: -450.1436 - val_I_var: 2.4749\n",
      "Epoch 22/1000\n",
      "319/319 [==============================] - 6s 18ms/step - loss: -550.4203 - I_var: 2.6185 - val_loss: -474.9885 - val_I_var: 2.5115\n",
      "Epoch 23/1000\n",
      "319/319 [==============================] - 5s 17ms/step - loss: -570.4846 - I_var: 2.6479 - val_loss: -523.6080 - val_I_var: 2.5821\n",
      "Epoch 24/1000\n",
      "319/319 [==============================] - 6s 20ms/step - loss: -586.8738 - I_var: 2.6722 - val_loss: -517.0328 - val_I_var: 2.5730\n",
      "Epoch 25/1000\n",
      "319/319 [==============================] - 11s 34ms/step - loss: -604.6423 - I_var: 2.6982 - val_loss: -530.5803 - val_I_var: 2.5930\n",
      "Epoch 26/1000\n",
      "319/319 [==============================] - 7s 22ms/step - loss: -607.5973 - I_var: 2.7028 - val_loss: -453.8929 - val_I_var: 2.4827\n",
      "Epoch 27/1000\n",
      "319/319 [==============================] - 5s 17ms/step - loss: -615.0544 - I_var: 2.7140 - val_loss: -539.8092 - val_I_var: 2.6072\n",
      "Epoch 28/1000\n",
      "319/319 [==============================] - 5s 16ms/step - loss: -632.3723 - I_var: 2.7394 - val_loss: -548.0101 - val_I_var: 2.6194\n",
      "Epoch 29/1000\n",
      "319/319 [==============================] - 6s 17ms/step - loss: -632.1815 - I_var: 2.7395 - val_loss: -554.1410 - val_I_var: 2.6288\n",
      "Epoch 30/1000\n",
      "319/319 [==============================] - 6s 20ms/step - loss: -644.7127 - I_var: 2.7581 - val_loss: -562.1237 - val_I_var: 2.6406\n",
      "Epoch 31/1000\n",
      "319/319 [==============================] - 6s 20ms/step - loss: -638.5927 - I_var: 2.7496 - val_loss: -568.1818 - val_I_var: 2.6497\n",
      "Epoch 32/1000\n",
      "319/319 [==============================] - 8s 24ms/step - loss: -642.3460 - I_var: 2.7552 - val_loss: -533.7430 - val_I_var: 2.6004\n",
      "Epoch 33/1000\n",
      "319/319 [==============================] - 6s 19ms/step - loss: -652.9347 - I_var: 2.7709 - val_loss: -557.7155 - val_I_var: 2.6354\n",
      "Epoch 34/1000\n",
      "319/319 [==============================] - 6s 19ms/step - loss: -662.4843 - I_var: 2.7852 - val_loss: -557.0673 - val_I_var: 2.6348\n",
      "Epoch 35/1000\n",
      "319/319 [==============================] - 7s 21ms/step - loss: -667.4836 - I_var: 2.7927 - val_loss: -550.1033 - val_I_var: 2.6251\n",
      "Epoch 36/1000\n",
      "319/319 [==============================] - 6s 18ms/step - loss: -660.3781 - I_var: 2.7826 - val_loss: -560.0588 - val_I_var: 2.6397\n",
      "Epoch 37/1000\n",
      "319/319 [==============================] - 7s 21ms/step - loss: -674.9554 - I_var: 2.8041 - val_loss: -567.8272 - val_I_var: 2.6512\n",
      "Epoch 38/1000\n",
      "319/319 [==============================] - 6s 20ms/step - loss: -672.6386 - I_var: 2.8008 - val_loss: -565.2067 - val_I_var: 2.6478\n",
      "Epoch 39/1000\n",
      "319/319 [==============================] - 6s 19ms/step - loss: -676.8199 - I_var: 2.8076 - val_loss: -561.5016 - val_I_var: 2.6429\n",
      "Epoch 40/1000\n",
      "319/319 [==============================] - 6s 19ms/step - loss: -678.8302 - I_var: 2.8106 - val_loss: -539.5753 - val_I_var: 2.6114\n",
      "Epoch 41/1000\n",
      "319/319 [==============================] - 6s 19ms/step - loss: -684.1241 - I_var: 2.8184 - val_loss: -550.2885 - val_I_var: 2.6274\n",
      "Epoch 42/1000\n",
      "319/319 [==============================] - 6s 19ms/step - loss: -680.6355 - I_var: 2.8139 - val_loss: -555.2493 - val_I_var: 2.6346\n",
      "Epoch 43/1000\n",
      "319/319 [==============================] - 6s 19ms/step - loss: -690.0103 - I_var: 2.8275 - val_loss: -550.5840 - val_I_var: 2.6281\n",
      "Epoch 44/1000\n",
      "319/319 [==============================] - 6s 20ms/step - loss: -693.3849 - I_var: 2.8326 - val_loss: -543.5759 - val_I_var: 2.6185\n",
      "Epoch 45/1000\n",
      "319/319 [==============================] - 7s 20ms/step - loss: -687.4583 - I_var: 2.8244 - val_loss: -531.0154 - val_I_var: 2.6005\n",
      "Epoch 46/1000\n",
      "319/319 [==============================] - 7s 21ms/step - loss: -694.5270 - I_var: 2.8348 - val_loss: -477.6685 - val_I_var: 2.5240\n",
      "Epoch 47/1000\n",
      "319/319 [==============================] - 6s 19ms/step - loss: -693.2606 - I_var: 2.8335 - val_loss: -563.3955 - val_I_var: 2.6480\n",
      "Epoch 48/1000\n",
      "319/319 [==============================] - 6s 19ms/step - loss: -702.2914 - I_var: 2.8467 - val_loss: -525.3908 - val_I_var: 2.5932\n",
      "Epoch 49/1000\n",
      "319/319 [==============================] - 6s 20ms/step - loss: -701.3768 - I_var: 2.8455 - val_loss: -553.4570 - val_I_var: 2.6342\n",
      "Epoch 50/1000\n",
      "319/319 [==============================] - 6s 20ms/step - loss: -710.2881 - I_var: 2.8589 - val_loss: -557.8816 - val_I_var: 2.6409\n",
      "Epoch 51/1000\n",
      "319/319 [==============================] - 6s 20ms/step - loss: -706.5364 - I_var: 2.8538 - val_loss: -546.6329 - val_I_var: 2.6249\n",
      "Training time: 335.5 seconds\n"
     ]
    }
   ],
   "source": [
    "# Fit model to data\n",
    "history = model.fit(learning_rate=.0003,\n",
    "                    epochs=1000,\n",
    "                    batch_size=1000,\n",
    "                    early_stopping=True,\n",
    "                    early_stopping_patience=20,\n",
    "                    linear_initialization=False)"
   ]
  },
  {
   "cell_type": "code",
   "execution_count": 6,
   "metadata": {},
   "outputs": [
    {
     "name": "stdout",
     "output_type": "stream",
     "text": [
      "Model saved to these files:\n",
      "\tgb1_ge_blackbox.pickle\n",
      "\tgb1_ge_blackbox.h5\n"
     ]
    }
   ],
   "source": [
    "# Save model\n",
    "model.save(name)"
   ]
  },
  {
   "cell_type": "code",
   "execution_count": 7,
   "metadata": {},
   "outputs": [
    {
     "name": "stdout",
     "output_type": "stream",
     "text": [
      "Model loaded from these files:\n",
      "\tgb1_ge_blackbox.pickle\n",
      "\tgb1_ge_blackbox.h5\n"
     ]
    }
   ],
   "source": [
    "# Load model\n",
    "model = mavenn.load(name)"
   ]
  },
  {
   "cell_type": "code",
   "execution_count": 8,
   "metadata": {},
   "outputs": [
    {
     "name": "stdout",
     "output_type": "stream",
     "text": [
      "640\tgb1_ge_blackbox.h5\r\n",
      "16\tgb1_ge_blackbox.pickle\r\n"
     ]
    }
   ],
   "source": [
    "!du -k gb1_ge_blackbox.*"
   ]
  },
  {
   "cell_type": "code",
   "execution_count": 9,
   "metadata": {},
   "outputs": [],
   "source": [
    "# Subsample indices for easy plotting and information estimation\n",
    "N_test = len(test_df)\n",
    "ix = np.random.rand(N_test) < .1\n",
    "\n",
    "# Get x and y\n",
    "x = test_df['x'].values[ix]\n",
    "y = test_df['y'].values[ix]"
   ]
  },
  {
   "cell_type": "code",
   "execution_count": 10,
   "metadata": {},
   "outputs": [
    {
     "name": "stdout",
     "output_type": "stream",
     "text": [
      "On test data:\n",
      "I_var_test: 2.598 +- 0.019 bits\n",
      "I_pred_test: 2.689 +- 0.011 bits\n"
     ]
    },
    {
     "data": {
      "image/png": "[encoded data removed]",
      "text/plain": [
       "<Figure size 288x288 with 1 Axes>"
      ]
     },
     "metadata": {
      "needs_background": "light"
     },
     "output_type": "display_data"
    }
   ],
   "source": [
    "# Show training history\n",
    "print('On test data:')\n",
    "\n",
    "# Compute variational information\n",
    "I_var, dI_var =  model.I_variational(x=x, y=y)\n",
    "print(f'I_var_test: {I_var:.3f} +- {dI_var:.3f} bits') \n",
    "\n",
    "# Compute predictive information\n",
    "I_pred, dI_pred = model.I_predictive(x=x, y=y)\n",
    "print(f'I_pred_test: {I_pred:.3f} +- {dI_pred:.3f} bits')\n",
    "\n",
    "I_var_hist = model.history['I_var']\n",
    "val_I_var_hist = model.history['val_I_var']\n",
    "\n",
    "fig, ax = plt.subplots(1,1,figsize=[4,4])\n",
    "ax.plot(I_var_hist, label='I_var_train')\n",
    "ax.plot(val_I_var_hist, label='I_var_val')\n",
    "ax.axhline(I_var, color='C2', linestyle=':', label='I_var_test')\n",
    "ax.axhline(I_pred, color='C3', linestyle=':', label='I_pred_test')\n",
    "ax.legend()\n",
    "ax.set_xlabel('epochs')\n",
    "ax.set_ylabel('bits')\n",
    "ax.set_title('training hisotry')\n",
    "ax.set_ylim([0, I_pred*1.2]);"
   ]
  },
  {
   "cell_type": "code",
   "execution_count": 11,
   "metadata": {},
   "outputs": [
    {
     "data": {
      "image/png": "[encoded data removed]",
      "text/plain": [
       "<Figure size 288x288 with 1 Axes>"
      ]
     },
     "metadata": {
      "needs_background": "light"
     },
     "output_type": "display_data"
    }
   ],
   "source": [
    "# Compute phi and yhat values\n",
    "phi = model.x_to_phi(x)\n",
    "yhat = model.phi_to_yhat(phi)\n",
    "\n",
    "# Create grid for plotting yhat and yqs\n",
    "phi_lim = [-5, 2.5]\n",
    "phi_grid = np.linspace(phi_lim[0], phi_lim[1], 1000)\n",
    "yhat_grid = model.phi_to_yhat(phi_grid)\n",
    "yqs_grid = model.yhat_to_yq(yhat_grid, q=[.16,.84])\n",
    "\n",
    "# Create two panels\n",
    "fig, ax = plt.subplots(1, 1, figsize=[4, 4])\n",
    "\n",
    "# Illustrate measurement process with GE curve\n",
    "ax.scatter(phi, y, color='C0', s=5, alpha=.2, label='test data')\n",
    "ax.plot(phi_grid, yhat_grid, linewidth=2, color='C1',\n",
    "        label='$\\hat{y} = g(\\phi)$')\n",
    "ax.plot(phi_grid, yqs_grid[:, 0], linestyle='--', color='C1',\n",
    "        label='68% CI')\n",
    "ax.plot(phi_grid, yqs_grid[:, 1], linestyle='--', color='C1')\n",
    "ax.set_xlim(phi_lim)\n",
    "ax.set_xlabel('latent phenotype ($\\phi$)')\n",
    "ax.set_ylabel('measurement ($y$)')\n",
    "ax.set_title('measurement process')\n",
    "ax.legend()\n",
    "\n",
    "# Fix up plot\n",
    "fig.tight_layout()\n",
    "plt.show()"
   ]
  },
  {
   "cell_type": "code",
   "execution_count": 12,
   "metadata": {},
   "outputs": [
    {
     "data": {
      "text/html": [
       "<div>\n",
       "<style scoped>\n",
       "    .dataframe tbody tr th:only-of-type {\n",
       "        vertical-align: middle;\n",
       "    }\n",
       "\n",
       "    .dataframe tbody tr th {\n",
       "        vertical-align: top;\n",
       "    }\n",
       "\n",
       "    .dataframe thead th {\n",
       "        text-align: right;\n",
       "    }\n",
       "</style>\n",
       "<table border=\"1\" class=\"dataframe\">\n",
       "  <thead>\n",
       "    <tr style=\"text-align: right;\">\n",
       "      <th></th>\n",
       "      <th>set</th>\n",
       "      <th>yhat</th>\n",
       "      <th>phi</th>\n",
       "      <th>y</th>\n",
       "      <th>x</th>\n",
       "    </tr>\n",
       "  </thead>\n",
       "  <tbody>\n",
       "    <tr>\n",
       "      <th>0</th>\n",
       "      <td>training</td>\n",
       "      <td>-2.578421</td>\n",
       "      <td>0.240932</td>\n",
       "      <td>-2.632237</td>\n",
       "      <td>QYKLILNGKTLWGETTTEAVDAATAEWVFKQYANDNLVDGEWTYDD...</td>\n",
       "    </tr>\n",
       "    <tr>\n",
       "      <th>1</th>\n",
       "      <td>training</td>\n",
       "      <td>-2.431401</td>\n",
       "      <td>0.284341</td>\n",
       "      <td>-2.411244</td>\n",
       "      <td>QYKLILNGKTLKGETTTEAVDAATAEKVFKQYANDNGVDGEWTYDD...</td>\n",
       "    </tr>\n",
       "    <tr>\n",
       "      <th>2</th>\n",
       "      <td>training</td>\n",
       "      <td>-2.431401</td>\n",
       "      <td>0.284341</td>\n",
       "      <td>-2.646579</td>\n",
       "      <td>QYKLILNGKTLKGETTTEAVDAATAEKVFKQYANDNGVDGEWTYDD...</td>\n",
       "    </tr>\n",
       "    <tr>\n",
       "      <th>3</th>\n",
       "      <td>training</td>\n",
       "      <td>-2.431401</td>\n",
       "      <td>0.284341</td>\n",
       "      <td>-2.496142</td>\n",
       "      <td>QYKLILNGKTLKGETTTEAVDAATAEKVFKQYANDNGVDGEWTYDD...</td>\n",
       "    </tr>\n",
       "    <tr>\n",
       "      <th>4</th>\n",
       "      <td>test</td>\n",
       "      <td>-5.282658</td>\n",
       "      <td>-0.560973</td>\n",
       "      <td>-5.382852</td>\n",
       "      <td>QYKLILNGKTLKGETTTEAVDAATAEKVFKQYANDNGDDGEWTYDD...</td>\n",
       "    </tr>\n",
       "  </tbody>\n",
       "</table>\n",
       "</div>"
      ],
      "text/plain": [
       "        set      yhat       phi         y  \\\n",
       "0  training -2.578421  0.240932 -2.632237   \n",
       "1  training -2.431401  0.284341 -2.411244   \n",
       "2  training -2.431401  0.284341 -2.646579   \n",
       "3  training -2.431401  0.284341 -2.496142   \n",
       "4      test -5.282658 -0.560973 -5.382852   \n",
       "\n",
       "                                                   x  \n",
       "0  QYKLILNGKTLWGETTTEAVDAATAEWVFKQYANDNLVDGEWTYDD...  \n",
       "1  QYKLILNGKTLKGETTTEAVDAATAEKVFKQYANDNGVDGEWTYDD...  \n",
       "2  QYKLILNGKTLKGETTTEAVDAATAEKVFKQYANDNGVDGEWTYDD...  \n",
       "3  QYKLILNGKTLKGETTTEAVDAATAEKVFKQYANDNGVDGEWTYDD...  \n",
       "4  QYKLILNGKTLKGETTTEAVDAATAEKVFKQYANDNGDDGEWTYDD...  "
      ]
     },
     "execution_count": 12,
     "metadata": {},
     "output_type": "execute_result"
    }
   ],
   "source": [
    "# Test simulate_data\n",
    "sim_df = model.simulate_dataset(N=1000)\n",
    "sim_df.head()"
   ]
  },
  {
   "cell_type": "code",
   "execution_count": null,
   "metadata": {},
   "outputs": [],
   "source": []
  }
 ],
 "metadata": {
  "kernelspec": {
   "display_name": "Python 3",
   "language": "python",
   "name": "python3"
  },
  "language_info": {
   "codemirror_mode": {
    "name": "ipython",
    "version": 3
   },
   "file_extension": ".py",
   "mimetype": "text/x-python",
   "name": "python",
   "nbconvert_exporter": "python",
   "pygments_lexer": "ipython3",
   "version": "3.7.4"
  }
 },
 "nbformat": 4,
 "nbformat_minor": 2
}
