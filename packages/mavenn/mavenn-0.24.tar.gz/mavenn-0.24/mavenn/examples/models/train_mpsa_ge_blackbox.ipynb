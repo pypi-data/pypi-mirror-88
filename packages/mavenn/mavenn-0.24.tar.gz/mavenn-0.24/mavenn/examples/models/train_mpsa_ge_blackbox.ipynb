{
 "cells": [
  {
   "cell_type": "code",
   "execution_count": 1,
   "metadata": {
    "ExecuteTime": {
     "end_time": "2020-11-17T18:10:22.716127Z",
     "start_time": "2020-11-17T18:10:19.740757Z"
    }
   },
   "outputs": [
    {
     "name": "stdout",
     "output_type": "stream",
     "text": [
      "['/Users/jkinney/github/mavenn/mavenn']\n"
     ]
    }
   ],
   "source": [
    "# Standard imports\n",
    "import pandas as pd\n",
    "import matplotlib.pyplot as plt\n",
    "import numpy as np\n",
    "\n",
    "# Insert path to mavenn beginning of path\n",
    "import os\n",
    "import sys\n",
    "abs_path_to_mavenn = os.path.abspath('../../../')\n",
    "sys.path.insert(0, abs_path_to_mavenn)\n",
    "\n",
    "# Load mavenn\n",
    "import mavenn\n",
    "print(mavenn.__path__)"
   ]
  },
  {
   "cell_type": "code",
   "execution_count": 2,
   "metadata": {
    "ExecuteTime": {
     "end_time": "2020-11-17T18:10:22.822155Z",
     "start_time": "2020-11-17T18:10:22.719308Z"
    }
   },
   "outputs": [
    {
     "name": "stdout",
     "output_type": "stream",
     "text": [
      "test N: 6,249\n",
      "training + validation N: 24,234\n"
     ]
    },
    {
     "data": {
      "text/html": [
       "<div>\n",
       "<style scoped>\n",
       "    .dataframe tbody tr th:only-of-type {\n",
       "        vertical-align: middle;\n",
       "    }\n",
       "\n",
       "    .dataframe tbody tr th {\n",
       "        vertical-align: top;\n",
       "    }\n",
       "\n",
       "    .dataframe thead th {\n",
       "        text-align: right;\n",
       "    }\n",
       "</style>\n",
       "<table border=\"1\" class=\"dataframe\">\n",
       "  <thead>\n",
       "    <tr style=\"text-align: right;\">\n",
       "      <th></th>\n",
       "      <th>set</th>\n",
       "      <th>tot_ct</th>\n",
       "      <th>ex_ct</th>\n",
       "      <th>y</th>\n",
       "      <th>x</th>\n",
       "    </tr>\n",
       "  </thead>\n",
       "  <tbody>\n",
       "    <tr>\n",
       "      <th>0</th>\n",
       "      <td>training</td>\n",
       "      <td>28</td>\n",
       "      <td>2</td>\n",
       "      <td>0.023406</td>\n",
       "      <td>GGAGUGAUG</td>\n",
       "    </tr>\n",
       "    <tr>\n",
       "      <th>1</th>\n",
       "      <td>training</td>\n",
       "      <td>315</td>\n",
       "      <td>7</td>\n",
       "      <td>-0.587914</td>\n",
       "      <td>AGUGUGCAA</td>\n",
       "    </tr>\n",
       "    <tr>\n",
       "      <th>2</th>\n",
       "      <td>validation</td>\n",
       "      <td>27</td>\n",
       "      <td>0</td>\n",
       "      <td>-0.438475</td>\n",
       "      <td>UAAGCUUUU</td>\n",
       "    </tr>\n",
       "    <tr>\n",
       "      <th>3</th>\n",
       "      <td>training</td>\n",
       "      <td>130</td>\n",
       "      <td>2</td>\n",
       "      <td>-0.631467</td>\n",
       "      <td>AUGGUCGGG</td>\n",
       "    </tr>\n",
       "    <tr>\n",
       "      <th>4</th>\n",
       "      <td>training</td>\n",
       "      <td>552</td>\n",
       "      <td>19</td>\n",
       "      <td>-0.433012</td>\n",
       "      <td>AGGGCAGGA</td>\n",
       "    </tr>\n",
       "    <tr>\n",
       "      <th>5</th>\n",
       "      <td>training</td>\n",
       "      <td>151</td>\n",
       "      <td>184</td>\n",
       "      <td>1.094011</td>\n",
       "      <td>AAGGUCCGC</td>\n",
       "    </tr>\n",
       "    <tr>\n",
       "      <th>6</th>\n",
       "      <td>training</td>\n",
       "      <td>88</td>\n",
       "      <td>4</td>\n",
       "      <td>-0.241737</td>\n",
       "      <td>CAGGCAAAC</td>\n",
       "    </tr>\n",
       "    <tr>\n",
       "      <th>7</th>\n",
       "      <td>training</td>\n",
       "      <td>105</td>\n",
       "      <td>5</td>\n",
       "      <td>-0.238471</td>\n",
       "      <td>GUGGCAAAU</td>\n",
       "    </tr>\n",
       "    <tr>\n",
       "      <th>8</th>\n",
       "      <td>validation</td>\n",
       "      <td>14</td>\n",
       "      <td>0</td>\n",
       "      <td>-0.167408</td>\n",
       "      <td>CAUGCAGCU</td>\n",
       "    </tr>\n",
       "    <tr>\n",
       "      <th>9</th>\n",
       "      <td>training</td>\n",
       "      <td>170</td>\n",
       "      <td>14</td>\n",
       "      <td>-0.048222</td>\n",
       "      <td>CAAGUCACU</td>\n",
       "    </tr>\n",
       "  </tbody>\n",
       "</table>\n",
       "</div>"
      ],
      "text/plain": [
       "          set  tot_ct  ex_ct         y          x\n",
       "0    training      28      2  0.023406  GGAGUGAUG\n",
       "1    training     315      7 -0.587914  AGUGUGCAA\n",
       "2  validation      27      0 -0.438475  UAAGCUUUU\n",
       "3    training     130      2 -0.631467  AUGGUCGGG\n",
       "4    training     552     19 -0.433012  AGGGCAGGA\n",
       "5    training     151    184  1.094011  AAGGUCCGC\n",
       "6    training      88      4 -0.241737  CAGGCAAAC\n",
       "7    training     105      5 -0.238471  GUGGCAAAU\n",
       "8  validation      14      0 -0.167408  CAUGCAGCU\n",
       "9    training     170     14 -0.048222  CAAGUCACU"
      ]
     },
     "execution_count": 2,
     "metadata": {},
     "output_type": "execute_result"
    }
   ],
   "source": [
    "# Load example data\n",
    "data_df = mavenn.load_example_dataset('mpsa')\n",
    "\n",
    "# Separate test from data_df\n",
    "ix_test = data_df['set']=='test'\n",
    "test_df = data_df[ix_test].reset_index(drop=True)\n",
    "print(f'test N: {len(test_df):,}')\n",
    "\n",
    "# Remove test data from data_df\n",
    "data_df = data_df[~ix_test].reset_index(drop=True)\n",
    "print(f'training + validation N: {len(data_df):,}')\n",
    "data_df.head(10)"
   ]
  },
  {
   "cell_type": "code",
   "execution_count": 3,
   "metadata": {
    "ExecuteTime": {
     "end_time": "2020-11-17T18:11:01.626553Z",
     "start_time": "2020-11-17T18:10:22.824808Z"
    }
   },
   "outputs": [
    {
     "name": "stdout",
     "output_type": "stream",
     "text": [
      "N = 24,234 observations set as training data.\n",
      "Using 24.8% for validation.\n",
      "Data shuffled.\n",
      "Time to set data: 0.571 sec.\n",
      "Epoch 1/1000\n",
      "365/365 [==============================] - 2s 5ms/step - loss: 71.4415 - I_var: -0.4555 - val_loss: 64.2741 - val_I_var: -0.3065\n",
      "Epoch 2/1000\n",
      "365/365 [==============================] - 1s 3ms/step - loss: 58.8987 - I_var: -0.1769 - val_loss: 53.7139 - val_I_var: -0.0510\n",
      "Epoch 3/1000\n",
      "365/365 [==============================] - 1s 3ms/step - loss: 49.9269 - I_var: 0.0508 - val_loss: 46.0371 - val_I_var: 0.1558\n",
      "Epoch 4/1000\n",
      "365/365 [==============================] - 1s 3ms/step - loss: 44.1358 - I_var: 0.2098 - val_loss: 42.8016 - val_I_var: 0.2452\n",
      "Epoch 5/1000\n",
      "365/365 [==============================] - 1s 3ms/step - loss: 40.8938 - I_var: 0.3016 - val_loss: 38.8178 - val_I_var: 0.3630\n",
      "Epoch 6/1000\n",
      "365/365 [==============================] - 1s 4ms/step - loss: 38.3295 - I_var: 0.3765 - val_loss: 38.1071 - val_I_var: 0.3809\n",
      "Epoch 7/1000\n",
      "365/365 [==============================] - 1s 3ms/step - loss: 37.2471 - I_var: 0.4071 - val_loss: 36.3707 - val_I_var: 0.4336\n",
      "Epoch 8/1000\n",
      "365/365 [==============================] - 1s 3ms/step - loss: 36.0799 - I_var: 0.4420 - val_loss: 36.1028 - val_I_var: 0.4421\n",
      "Epoch 9/1000\n",
      "365/365 [==============================] - 1s 3ms/step - loss: 35.8524 - I_var: 0.4471 - val_loss: 36.1064 - val_I_var: 0.4411\n",
      "Epoch 10/1000\n",
      "365/365 [==============================] - 1s 3ms/step - loss: 35.2947 - I_var: 0.4647 - val_loss: 35.8219 - val_I_var: 0.4501\n",
      "Epoch 11/1000\n",
      "365/365 [==============================] - 1s 3ms/step - loss: 35.0621 - I_var: 0.4711 - val_loss: 35.6260 - val_I_var: 0.4557\n",
      "Epoch 12/1000\n",
      "365/365 [==============================] - 1s 3ms/step - loss: 34.7920 - I_var: 0.4788 - val_loss: 35.8648 - val_I_var: 0.4484\n",
      "Epoch 13/1000\n",
      "365/365 [==============================] - 2s 4ms/step - loss: 34.4359 - I_var: 0.4905 - val_loss: 35.6479 - val_I_var: 0.4547\n",
      "Epoch 14/1000\n",
      "365/365 [==============================] - 1s 3ms/step - loss: 34.6452 - I_var: 0.4832 - val_loss: 35.5319 - val_I_var: 0.4577\n",
      "Epoch 15/1000\n",
      "365/365 [==============================] - 1s 3ms/step - loss: 34.2748 - I_var: 0.4919 - val_loss: 35.2413 - val_I_var: 0.4660\n",
      "Epoch 16/1000\n",
      "365/365 [==============================] - 1s 3ms/step - loss: 33.8801 - I_var: 0.5038 - val_loss: 35.4413 - val_I_var: 0.4601\n",
      "Epoch 17/1000\n",
      "365/365 [==============================] - 1s 3ms/step - loss: 33.9624 - I_var: 0.5024 - val_loss: 35.4849 - val_I_var: 0.4583\n",
      "Epoch 18/1000\n",
      "365/365 [==============================] - 1s 3ms/step - loss: 33.7031 - I_var: 0.5093 - val_loss: 35.1035 - val_I_var: 0.4687\n",
      "Epoch 19/1000\n",
      "365/365 [==============================] - 1s 3ms/step - loss: 33.4200 - I_var: 0.5167 - val_loss: 35.2966 - val_I_var: 0.4628\n",
      "Epoch 20/1000\n",
      "365/365 [==============================] - 1s 3ms/step - loss: 33.4267 - I_var: 0.5165 - val_loss: 35.2809 - val_I_var: 0.4626\n",
      "Epoch 21/1000\n",
      "365/365 [==============================] - 1s 3ms/step - loss: 33.6027 - I_var: 0.5129 - val_loss: 35.8593 - val_I_var: 0.4454\n",
      "Epoch 22/1000\n",
      "365/365 [==============================] - 1s 3ms/step - loss: 33.2337 - I_var: 0.5223 - val_loss: 37.6877 - val_I_var: 0.3935\n",
      "Epoch 23/1000\n",
      "365/365 [==============================] - 1s 3ms/step - loss: 33.1014 - I_var: 0.5266 - val_loss: 35.7671 - val_I_var: 0.4481\n",
      "Epoch 24/1000\n",
      "365/365 [==============================] - 1s 3ms/step - loss: 33.1535 - I_var: 0.5251 - val_loss: 35.1249 - val_I_var: 0.4668\n",
      "Epoch 25/1000\n",
      "365/365 [==============================] - 1s 3ms/step - loss: 32.8775 - I_var: 0.5317 - val_loss: 35.3047 - val_I_var: 0.4616\n",
      "Epoch 26/1000\n",
      "365/365 [==============================] - 1s 3ms/step - loss: 32.9660 - I_var: 0.5294 - val_loss: 36.7360 - val_I_var: 0.4206\n",
      "Epoch 27/1000\n",
      "365/365 [==============================] - 1s 4ms/step - loss: 32.8227 - I_var: 0.5324 - val_loss: 36.1863 - val_I_var: 0.4360\n",
      "Epoch 28/1000\n",
      "365/365 [==============================] - 1s 3ms/step - loss: 32.6504 - I_var: 0.5379 - val_loss: 35.4586 - val_I_var: 0.4568\n",
      "Training time: 36.6 seconds\n",
      "Model saved to these files:\n",
      "\tmpsa_ge_blackbox.pickle\n",
      "\tmpsa_ge_blackbox.h5\n"
     ]
    }
   ],
   "source": [
    "# Get sequence length\n",
    "L = len(data_df['x'][0])\n",
    "\n",
    "# Set filename\n",
    "name = 'mpsa_ge_blackbox'\n",
    "\n",
    "# Define model\n",
    "model = mavenn.Model(regression_type='GE',\n",
    "                     L=L,\n",
    "                     alphabet='rna',\n",
    "                     gpmap_type='blackbox',\n",
    "                     gpmap_kwargs={\n",
    "                         'hidden_layer_sizes':[10]*5,\n",
    "                         'features':'pairwise'\n",
    "                     },\n",
    "                     ge_noise_model_type='SkewedT',\n",
    "                     ge_heteroskedasticity_order=2)\n",
    "\n",
    "# Set training data\n",
    "model.set_data(x=data_df['x'],\n",
    "               y=data_df['y'],\n",
    "               validation_flags=(data_df['set']=='validation'),\n",
    "               shuffle=True)\n",
    "\n",
    "# Fit model to data\n",
    "model.fit(learning_rate=.0005,\n",
    "          epochs=1000,\n",
    "          batch_size=50,\n",
    "          early_stopping=True,\n",
    "          early_stopping_patience=10,\n",
    "          linear_initialization=False)\n",
    "\n",
    "# Save models\n",
    "model.save(name)"
   ]
  },
  {
   "cell_type": "code",
   "execution_count": 4,
   "metadata": {
    "ExecuteTime": {
     "end_time": "2020-11-17T18:11:01.843791Z",
     "start_time": "2020-11-17T18:11:01.631030Z"
    }
   },
   "outputs": [
    {
     "name": "stdout",
     "output_type": "stream",
     "text": [
      "Model loaded from these files:\n",
      "\tmpsa_ge_blackbox.pickle\n",
      "\tmpsa_ge_blackbox.h5\n"
     ]
    }
   ],
   "source": [
    "# Load model\n",
    "model = mavenn.load(name)"
   ]
  },
  {
   "cell_type": "code",
   "execution_count": 5,
   "metadata": {
    "ExecuteTime": {
     "end_time": "2020-11-17T18:11:01.984438Z",
     "start_time": "2020-11-17T18:11:01.848808Z"
    }
   },
   "outputs": [
    {
     "name": "stdout",
     "output_type": "stream",
     "text": [
      "56\tmpsa_ge_blackbox.h5\r\n",
      "4\tmpsa_ge_blackbox.pickle\r\n"
     ]
    }
   ],
   "source": [
    "!du -k $name*"
   ]
  },
  {
   "cell_type": "code",
   "execution_count": 6,
   "metadata": {
    "ExecuteTime": {
     "end_time": "2020-11-17T18:11:01.991607Z",
     "start_time": "2020-11-17T18:11:01.986662Z"
    }
   },
   "outputs": [],
   "source": [
    "# Get x and y\n",
    "x = test_df['x']\n",
    "y = test_df['y']"
   ]
  },
  {
   "cell_type": "code",
   "execution_count": 7,
   "metadata": {
    "ExecuteTime": {
     "end_time": "2020-11-17T18:11:03.074231Z",
     "start_time": "2020-11-17T18:11:01.999738Z"
    }
   },
   "outputs": [
    {
     "name": "stdout",
     "output_type": "stream",
     "text": [
      "On test data:\n",
      "I_var_test: 0.432 +- 0.024 bits\n",
      "I_pred_test: 0.483 +- 0.013 bits\n"
     ]
    },
    {
     "data": {
      "image/png": "[encoded data removed]",
      "text/plain": [
       "<Figure size 288x288 with 1 Axes>"
      ]
     },
     "metadata": {
      "needs_background": "light"
     },
     "output_type": "display_data"
    }
   ],
   "source": [
    "# Show training history\n",
    "print('On test data:')\n",
    "\n",
    "# Compute variational information\n",
    "I_var, dI_var =  model.I_variational(x=x, y=y)\n",
    "print(f'I_var_test: {I_var:.3f} +- {dI_var:.3f} bits') \n",
    "\n",
    "# Compute predictive information\n",
    "I_pred, dI_pred = model.I_predictive(x=x, y=y)\n",
    "print(f'I_pred_test: {I_pred:.3f} +- {dI_pred:.3f} bits')\n",
    "\n",
    "I_var_hist = model.history['I_var']\n",
    "val_I_var_hist = model.history['val_I_var']\n",
    "\n",
    "fig, ax = plt.subplots(1,1,figsize=[4,4])\n",
    "ax.plot(I_var_hist, label='I_var_train')\n",
    "ax.plot(val_I_var_hist, label='I_var_val')\n",
    "ax.axhline(I_var, color='C2', linestyle=':', label='I_var_test')\n",
    "ax.axhline(I_pred, color='C3', linestyle=':', label='I_pred_test')\n",
    "ax.legend()\n",
    "ax.set_xlabel('epochs')\n",
    "ax.set_ylabel('bits')\n",
    "ax.set_title('training hisotry')\n",
    "ax.set_ylim([0, I_pred*1.2]);"
   ]
  },
  {
   "cell_type": "code",
   "execution_count": 8,
   "metadata": {
    "ExecuteTime": {
     "end_time": "2020-11-17T18:11:03.845720Z",
     "start_time": "2020-11-17T18:11:03.077818Z"
    }
   },
   "outputs": [
    {
     "data": {
      "image/png": "[encoded data removed]",
      "text/plain": [
       "<Figure size 288x288 with 1 Axes>"
      ]
     },
     "metadata": {
      "needs_background": "light"
     },
     "output_type": "display_data"
    }
   ],
   "source": [
    "# Compute phi and yhat values\n",
    "phi = model.x_to_phi(x)\n",
    "yhat = model.phi_to_yhat(phi)\n",
    "\n",
    "# Create grid for plotting yhat and yqs\n",
    "phi_lim = [min(phi), max(phi)]\n",
    "phi_grid = np.linspace(phi_lim[0], phi_lim[1], 1000)\n",
    "yhat_grid = model.phi_to_yhat(phi_grid)\n",
    "yqs_grid = model.yhat_to_yq(yhat_grid, q=[.16,.84])\n",
    "\n",
    "# Create two panels\n",
    "fig, ax = plt.subplots(1, 1, figsize=[4, 4])\n",
    "\n",
    "# Illustrate measurement process with GE curve\n",
    "ax.scatter(phi, y, color='C0', s=5, alpha=.2, label='test data')\n",
    "ax.plot(phi_grid, yhat_grid, linewidth=2, color='C1',\n",
    "        label='$\\hat{y} = g(\\phi)$')\n",
    "ax.plot(phi_grid, yqs_grid[:, 0], linestyle='--', color='C1',\n",
    "        label='68% CI')\n",
    "ax.plot(phi_grid, yqs_grid[:, 1], linestyle='--', color='C1')\n",
    "ax.set_xlim(phi_lim)\n",
    "ax.set_xlabel('latent phenotype ($\\phi$)')\n",
    "ax.set_ylabel('measurement ($y$)')\n",
    "ax.set_title('measurement process')\n",
    "ax.legend()\n",
    "\n",
    "# Fix up plot\n",
    "fig.tight_layout()\n",
    "plt.show()"
   ]
  },
  {
   "cell_type": "code",
   "execution_count": 9,
   "metadata": {
    "ExecuteTime": {
     "end_time": "2020-11-17T18:11:03.923631Z",
     "start_time": "2020-11-17T18:11:03.850464Z"
    }
   },
   "outputs": [
    {
     "data": {
      "text/html": [
       "<div>\n",
       "<style scoped>\n",
       "    .dataframe tbody tr th:only-of-type {\n",
       "        vertical-align: middle;\n",
       "    }\n",
       "\n",
       "    .dataframe tbody tr th {\n",
       "        vertical-align: top;\n",
       "    }\n",
       "\n",
       "    .dataframe thead th {\n",
       "        text-align: right;\n",
       "    }\n",
       "</style>\n",
       "<table border=\"1\" class=\"dataframe\">\n",
       "  <thead>\n",
       "    <tr style=\"text-align: right;\">\n",
       "      <th></th>\n",
       "      <th>set</th>\n",
       "      <th>yhat</th>\n",
       "      <th>phi</th>\n",
       "      <th>y</th>\n",
       "      <th>x</th>\n",
       "    </tr>\n",
       "  </thead>\n",
       "  <tbody>\n",
       "    <tr>\n",
       "      <th>0</th>\n",
       "      <td>training</td>\n",
       "      <td>-0.208139</td>\n",
       "      <td>-0.145679</td>\n",
       "      <td>-0.430888</td>\n",
       "      <td>GUCGUGGGC</td>\n",
       "    </tr>\n",
       "    <tr>\n",
       "      <th>1</th>\n",
       "      <td>training</td>\n",
       "      <td>-0.235294</td>\n",
       "      <td>-0.205056</td>\n",
       "      <td>-0.193998</td>\n",
       "      <td>UUGGCUGUC</td>\n",
       "    </tr>\n",
       "    <tr>\n",
       "      <th>2</th>\n",
       "      <td>test</td>\n",
       "      <td>-0.204244</td>\n",
       "      <td>-0.137164</td>\n",
       "      <td>0.360180</td>\n",
       "      <td>UCCGUACGG</td>\n",
       "    </tr>\n",
       "    <tr>\n",
       "      <th>3</th>\n",
       "      <td>training</td>\n",
       "      <td>2.001449</td>\n",
       "      <td>4.992811</td>\n",
       "      <td>1.960023</td>\n",
       "      <td>AAGGUAUUA</td>\n",
       "    </tr>\n",
       "    <tr>\n",
       "      <th>4</th>\n",
       "      <td>test</td>\n",
       "      <td>-0.328016</td>\n",
       "      <td>-0.407937</td>\n",
       "      <td>-0.212976</td>\n",
       "      <td>UACGCUCGU</td>\n",
       "    </tr>\n",
       "  </tbody>\n",
       "</table>\n",
       "</div>"
      ],
      "text/plain": [
       "        set      yhat       phi         y          x\n",
       "0  training -0.208139 -0.145679 -0.430888  GUCGUGGGC\n",
       "1  training -0.235294 -0.205056 -0.193998  UUGGCUGUC\n",
       "2      test -0.204244 -0.137164  0.360180  UCCGUACGG\n",
       "3  training  2.001449  4.992811  1.960023  AAGGUAUUA\n",
       "4      test -0.328016 -0.407937 -0.212976  UACGCUCGU"
      ]
     },
     "execution_count": 9,
     "metadata": {},
     "output_type": "execute_result"
    }
   ],
   "source": [
    "# Test simulate_data\n",
    "sim_df = model.simulate_dataset(N=1000)\n",
    "sim_df.head()"
   ]
  },
  {
   "cell_type": "code",
   "execution_count": null,
   "metadata": {},
   "outputs": [],
   "source": []
  }
 ],
 "metadata": {
  "kernelspec": {
   "display_name": "Python 3",
   "language": "python",
   "name": "python3"
  },
  "language_info": {
   "codemirror_mode": {
    "name": "ipython",
    "version": 3
   },
   "file_extension": ".py",
   "mimetype": "text/x-python",
   "name": "python",
   "nbconvert_exporter": "python",
   "pygments_lexer": "ipython3",
   "version": "3.8.3"
  },
  "toc": {
   "base_numbering": 1,
   "nav_menu": {},
   "number_sections": true,
   "sideBar": true,
   "skip_h1_title": false,
   "title_cell": "Table of Contents",
   "title_sidebar": "Contents",
   "toc_cell": false,
   "toc_position": {},
   "toc_section_display": true,
   "toc_window_display": false
  },
  "varInspector": {
   "cols": {
    "lenName": 16,
    "lenType": 16,
    "lenVar": 40
   },
   "kernels_config": {
    "python": {
     "delete_cmd_postfix": "",
     "delete_cmd_prefix": "del ",
     "library": "var_list.py",
     "varRefreshCmd": "print(var_dic_list())"
    },
    "r": {
     "delete_cmd_postfix": ") ",
     "delete_cmd_prefix": "rm(",
     "library": "var_list.r",
     "varRefreshCmd": "cat(var_dic_list()) "
    }
   },
   "types_to_exclude": [
    "module",
    "function",
    "builtin_function_or_method",
    "instance",
    "_Feature"
   ],
   "window_display": false
  }
 },
 "nbformat": 4,
 "nbformat_minor": 2
}
