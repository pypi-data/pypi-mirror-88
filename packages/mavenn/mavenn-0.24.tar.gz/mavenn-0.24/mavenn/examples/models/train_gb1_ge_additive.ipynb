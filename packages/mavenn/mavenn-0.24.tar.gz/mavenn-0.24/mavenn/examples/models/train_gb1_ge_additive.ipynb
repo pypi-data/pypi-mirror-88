{
 "cells": [
  {
   "cell_type": "code",
   "execution_count": 1,
   "metadata": {},
   "outputs": [
    {
     "name": "stdout",
     "output_type": "stream",
     "text": [
      "['/Users/jkinney/github/mavenn/mavenn']\n"
     ]
    }
   ],
   "source": [
    "# Standard imports\n",
    "import pandas as pd\n",
    "import matplotlib.pyplot as plt\n",
    "import numpy as np\n",
    "\n",
    "# Load mavenn\n",
    "import mavenn\n",
    "print(mavenn.__path__)"
   ]
  },
  {
   "cell_type": "code",
   "execution_count": 2,
   "metadata": {},
   "outputs": [
    {
     "name": "stdout",
     "output_type": "stream",
     "text": [
      "test N: 106,336\n",
      "training + validation N: 424,401\n"
     ]
    },
    {
     "data": {
      "text/html": [
       "<div>\n",
       "<style scoped>\n",
       "    .dataframe tbody tr th:only-of-type {\n",
       "        vertical-align: middle;\n",
       "    }\n",
       "\n",
       "    .dataframe tbody tr th {\n",
       "        vertical-align: top;\n",
       "    }\n",
       "\n",
       "    .dataframe thead th {\n",
       "        text-align: right;\n",
       "    }\n",
       "</style>\n",
       "<table border=\"1\" class=\"dataframe\">\n",
       "  <thead>\n",
       "    <tr style=\"text-align: right;\">\n",
       "      <th></th>\n",
       "      <th>set</th>\n",
       "      <th>input_ct</th>\n",
       "      <th>selected_ct</th>\n",
       "      <th>y</th>\n",
       "      <th>x</th>\n",
       "    </tr>\n",
       "  </thead>\n",
       "  <tbody>\n",
       "    <tr>\n",
       "      <th>0</th>\n",
       "      <td>training</td>\n",
       "      <td>73.0</td>\n",
       "      <td>62.0</td>\n",
       "      <td>-1.021847</td>\n",
       "      <td>QYKLILNGKTLKGETTTEAHDAATAEKVFKQYANDNGVDGEWTYDD...</td>\n",
       "    </tr>\n",
       "    <tr>\n",
       "      <th>1</th>\n",
       "      <td>training</td>\n",
       "      <td>122.0</td>\n",
       "      <td>0.0</td>\n",
       "      <td>-7.732188</td>\n",
       "      <td>QYKLILNGKTLKGETTTEAVDAATAEKVFPQYANDNGVDGEWTYDD...</td>\n",
       "    </tr>\n",
       "    <tr>\n",
       "      <th>2</th>\n",
       "      <td>training</td>\n",
       "      <td>794.0</td>\n",
       "      <td>598.0</td>\n",
       "      <td>-1.198072</td>\n",
       "      <td>QYKLILNGKTLKGETTTEAVDAATAEKVFKQYANKNGVDGEWTLDD...</td>\n",
       "    </tr>\n",
       "    <tr>\n",
       "      <th>3</th>\n",
       "      <td>training</td>\n",
       "      <td>1115.0</td>\n",
       "      <td>595.0</td>\n",
       "      <td>-1.694626</td>\n",
       "      <td>QYKLILNIKTLKGETTTEAVDAATAEKVFKQYANDNGVDGEWTYDS...</td>\n",
       "    </tr>\n",
       "    <tr>\n",
       "      <th>4</th>\n",
       "      <td>validation</td>\n",
       "      <td>97.0</td>\n",
       "      <td>2.0</td>\n",
       "      <td>-5.819421</td>\n",
       "      <td>QYKLINNGKTLKGETTTEAVDAATAEKVFKIYANDNGVDGEWTYDD...</td>\n",
       "    </tr>\n",
       "    <tr>\n",
       "      <th>5</th>\n",
       "      <td>training</td>\n",
       "      <td>40.0</td>\n",
       "      <td>169.0</td>\n",
       "      <td>1.262166</td>\n",
       "      <td>QYKLILNGKTLWGETTTEAVDAATAEKVFKQYANDNGVDGEWTYDD...</td>\n",
       "    </tr>\n",
       "    <tr>\n",
       "      <th>6</th>\n",
       "      <td>training</td>\n",
       "      <td>244.0</td>\n",
       "      <td>819.0</td>\n",
       "      <td>0.953169</td>\n",
       "      <td>QYKLILNGKTLKGETTTEAVDAATAEKVFKQYANDNGVDGEWTYVV...</td>\n",
       "    </tr>\n",
       "    <tr>\n",
       "      <th>7</th>\n",
       "      <td>training</td>\n",
       "      <td>381.0</td>\n",
       "      <td>232.0</td>\n",
       "      <td>-1.502916</td>\n",
       "      <td>QYKLILNGKTLKGAFTTEAVDAATAEKVFKQYANDNGVDGEWTYDD...</td>\n",
       "    </tr>\n",
       "    <tr>\n",
       "      <th>8</th>\n",
       "      <td>training</td>\n",
       "      <td>366.0</td>\n",
       "      <td>5.0</td>\n",
       "      <td>-6.724347</td>\n",
       "      <td>QYKLILNGKTLKGETTTEAVDAVTHEKVFKQYANDNGVDGEWTYDD...</td>\n",
       "    </tr>\n",
       "    <tr>\n",
       "      <th>9</th>\n",
       "      <td>training</td>\n",
       "      <td>119.0</td>\n",
       "      <td>145.0</td>\n",
       "      <td>-0.506739</td>\n",
       "      <td>QYKLILNGKTLKGETTTEAVDAATAEKVFKQYANENGVDGEWTYDD...</td>\n",
       "    </tr>\n",
       "  </tbody>\n",
       "</table>\n",
       "</div>"
      ],
      "text/plain": [
       "          set  input_ct  selected_ct         y  \\\n",
       "0    training      73.0         62.0 -1.021847   \n",
       "1    training     122.0          0.0 -7.732188   \n",
       "2    training     794.0        598.0 -1.198072   \n",
       "3    training    1115.0        595.0 -1.694626   \n",
       "4  validation      97.0          2.0 -5.819421   \n",
       "5    training      40.0        169.0  1.262166   \n",
       "6    training     244.0        819.0  0.953169   \n",
       "7    training     381.0        232.0 -1.502916   \n",
       "8    training     366.0          5.0 -6.724347   \n",
       "9    training     119.0        145.0 -0.506739   \n",
       "\n",
       "                                                   x  \n",
       "0  QYKLILNGKTLKGETTTEAHDAATAEKVFKQYANDNGVDGEWTYDD...  \n",
       "1  QYKLILNGKTLKGETTTEAVDAATAEKVFPQYANDNGVDGEWTYDD...  \n",
       "2  QYKLILNGKTLKGETTTEAVDAATAEKVFKQYANKNGVDGEWTLDD...  \n",
       "3  QYKLILNIKTLKGETTTEAVDAATAEKVFKQYANDNGVDGEWTYDS...  \n",
       "4  QYKLINNGKTLKGETTTEAVDAATAEKVFKIYANDNGVDGEWTYDD...  \n",
       "5  QYKLILNGKTLWGETTTEAVDAATAEKVFKQYANDNGVDGEWTYDD...  \n",
       "6  QYKLILNGKTLKGETTTEAVDAATAEKVFKQYANDNGVDGEWTYVV...  \n",
       "7  QYKLILNGKTLKGAFTTEAVDAATAEKVFKQYANDNGVDGEWTYDD...  \n",
       "8  QYKLILNGKTLKGETTTEAVDAVTHEKVFKQYANDNGVDGEWTYDD...  \n",
       "9  QYKLILNGKTLKGETTTEAVDAATAEKVFKQYANENGVDGEWTYDD...  "
      ]
     },
     "execution_count": 2,
     "metadata": {},
     "output_type": "execute_result"
    }
   ],
   "source": [
    "# Load example data\n",
    "data_df = mavenn.load_example_dataset('gb1')\n",
    "\n",
    "# Separate test from data_df\n",
    "ix_test = data_df['set']=='test'\n",
    "test_df = data_df[ix_test].reset_index(drop=True)\n",
    "print(f'test N: {len(test_df):,}')\n",
    "\n",
    "# Remove test data from data_df\n",
    "data_df = data_df[~ix_test].reset_index(drop=True)\n",
    "print(f'training + validation N: {len(data_df):,}')\n",
    "data_df.head(10)"
   ]
  },
  {
   "cell_type": "code",
   "execution_count": 3,
   "metadata": {},
   "outputs": [],
   "source": [
    "# Get sequence length\n",
    "L = len(data_df['x'][0])\n",
    "\n",
    "# Define model\n",
    "model = mavenn.Model(regression_type='GE',\n",
    "                     L=L,\n",
    "                     alphabet='protein',\n",
    "                     gpmap_type='additive',                     \n",
    "                     ge_noise_model_type='SkewedT',\n",
    "                     ge_heteroskedasticity_order=2)"
   ]
  },
  {
   "cell_type": "code",
   "execution_count": 4,
   "metadata": {},
   "outputs": [
    {
     "name": "stdout",
     "output_type": "stream",
     "text": [
      "N = 424,401 observations set as training data.\n",
      "Using 24.9% for validation.\n",
      "Data shuffled.\n",
      "Time to set data: 13.7 sec.\n"
     ]
    }
   ],
   "source": [
    "# Set training data\n",
    "model.set_data(x=data_df['x'],\n",
    "               y=data_df['y'],\n",
    "               validation_flags=(data_df['set']=='validation'),\n",
    "               shuffle=True)"
   ]
  },
  {
   "cell_type": "code",
   "execution_count": 5,
   "metadata": {},
   "outputs": [
    {
     "name": "stdout",
     "output_type": "stream",
     "text": [
      "Epoch 1/1000\n",
      "319/319 [==============================] - 4s 14ms/step - loss: 1433.9945 - I_var: -0.2875 - val_loss: 1092.0515 - val_I_var: 0.2044\n",
      "Epoch 2/1000\n",
      "319/319 [==============================] - 3s 10ms/step - loss: 729.9481 - I_var: 0.7319 - val_loss: 410.6826 - val_I_var: 1.1930\n",
      "Epoch 3/1000\n",
      "319/319 [==============================] - 6s 18ms/step - loss: 234.2252 - I_var: 1.4501 - val_loss: 120.0610 - val_I_var: 1.6152\n",
      "Epoch 4/1000\n",
      "319/319 [==============================] - 6s 18ms/step - loss: 57.2696 - I_var: 1.7070 - val_loss: 14.1890 - val_I_var: 1.7697\n",
      "Epoch 5/1000\n",
      "319/319 [==============================] - 5s 17ms/step - loss: -21.1945 - I_var: 1.8214 - val_loss: -51.5579 - val_I_var: 1.8658\n",
      "Epoch 6/1000\n",
      "319/319 [==============================] - 5s 14ms/step - loss: -76.1527 - I_var: 1.9018 - val_loss: -91.2653 - val_I_var: 1.9242\n",
      "Epoch 7/1000\n",
      "319/319 [==============================] - 6s 18ms/step - loss: -110.8548 - I_var: 1.9528 - val_loss: -121.3116 - val_I_var: 1.9685\n",
      "Epoch 8/1000\n",
      "319/319 [==============================] - 5s 17ms/step - loss: -134.3936 - I_var: 1.9876 - val_loss: -135.2292 - val_I_var: 1.9894\n",
      "Epoch 9/1000\n",
      "319/319 [==============================] - 6s 19ms/step - loss: -156.8542 - I_var: 2.0208 - val_loss: -161.8612 - val_I_var: 2.0289\n",
      "Epoch 10/1000\n",
      "319/319 [==============================] - 5s 16ms/step - loss: -175.6506 - I_var: 2.0487 - val_loss: -175.7608 - val_I_var: 2.0497\n",
      "Epoch 11/1000\n",
      "319/319 [==============================] - 4s 13ms/step - loss: -194.3632 - I_var: 2.0765 - val_loss: -200.4185 - val_I_var: 2.0862\n",
      "Epoch 12/1000\n",
      "319/319 [==============================] - 4s 12ms/step - loss: -209.2375 - I_var: 2.0985 - val_loss: -211.9057 - val_I_var: 2.1035\n",
      "Epoch 13/1000\n",
      "319/319 [==============================] - 6s 18ms/step - loss: -221.4625 - I_var: 2.1172 - val_loss: -222.5570 - val_I_var: 2.1198\n",
      "Epoch 14/1000\n",
      "319/319 [==============================] - 5s 16ms/step - loss: -231.9603 - I_var: 2.1332 - val_loss: -227.9979 - val_I_var: 2.1284\n",
      "Epoch 15/1000\n",
      "319/319 [==============================] - 5s 17ms/step - loss: -242.6366 - I_var: 2.1492 - val_loss: -241.8992 - val_I_var: 2.1492\n",
      "Epoch 16/1000\n",
      "319/319 [==============================] - 4s 13ms/step - loss: -248.4730 - I_var: 2.1586 - val_loss: -246.4383 - val_I_var: 2.1564\n",
      "Epoch 17/1000\n",
      "319/319 [==============================] - 3s 10ms/step - loss: -253.1591 - I_var: 2.1657 - val_loss: -252.8142 - val_I_var: 2.1661\n",
      "Epoch 18/1000\n",
      "319/319 [==============================] - 4s 11ms/step - loss: -257.8765 - I_var: 2.1730 - val_loss: -252.4260 - val_I_var: 2.1660\n",
      "Epoch 19/1000\n",
      "319/319 [==============================] - 3s 11ms/step - loss: -259.8551 - I_var: 2.1766 - val_loss: -258.0233 - val_I_var: 2.1744\n",
      "Epoch 20/1000\n",
      "319/319 [==============================] - 3s 11ms/step - loss: -262.4385 - I_var: 2.1804 - val_loss: -258.9966 - val_I_var: 2.1761\n",
      "Epoch 21/1000\n",
      "319/319 [==============================] - 4s 12ms/step - loss: -263.5869 - I_var: 2.1823 - val_loss: -261.2906 - val_I_var: 2.1796\n",
      "Epoch 22/1000\n",
      "319/319 [==============================] - 3s 10ms/step - loss: -264.8885 - I_var: 2.1842 - val_loss: -258.5046 - val_I_var: 2.1757\n",
      "Epoch 23/1000\n",
      "319/319 [==============================] - 4s 11ms/step - loss: -263.8224 - I_var: 2.1829 - val_loss: -251.4505 - val_I_var: 2.1655\n",
      "Epoch 24/1000\n",
      "319/319 [==============================] - 4s 11ms/step - loss: -265.7370 - I_var: 2.1855 - val_loss: -264.0085 - val_I_var: 2.1836\n",
      "Epoch 25/1000\n",
      "319/319 [==============================] - 4s 12ms/step - loss: -267.2188 - I_var: 2.1875 - val_loss: -264.0757 - val_I_var: 2.1835\n",
      "Epoch 26/1000\n",
      "319/319 [==============================] - 4s 11ms/step - loss: -268.2906 - I_var: 2.1889 - val_loss: -263.4613 - val_I_var: 2.1824\n",
      "Epoch 27/1000\n",
      "319/319 [==============================] - 4s 14ms/step - loss: -268.0940 - I_var: 2.1883 - val_loss: -260.3036 - val_I_var: 2.1777\n",
      "Epoch 28/1000\n",
      "319/319 [==============================] - 4s 11ms/step - loss: -268.1133 - I_var: 2.1881 - val_loss: -263.2968 - val_I_var: 2.1817\n",
      "Epoch 29/1000\n",
      "319/319 [==============================] - 4s 11ms/step - loss: -268.6962 - I_var: 2.1889 - val_loss: -264.3133 - val_I_var: 2.1829\n",
      "Epoch 30/1000\n",
      "319/319 [==============================] - 3s 10ms/step - loss: -269.0804 - I_var: 2.1889 - val_loss: -256.5999 - val_I_var: 2.1715\n",
      "Epoch 31/1000\n",
      "319/319 [==============================] - 4s 11ms/step - loss: -268.8168 - I_var: 2.1884 - val_loss: -266.8848 - val_I_var: 2.1860\n",
      "Epoch 32/1000\n",
      "319/319 [==============================] - 4s 11ms/step - loss: -270.0415 - I_var: 2.1897 - val_loss: -267.4602 - val_I_var: 2.1864\n",
      "Epoch 33/1000\n",
      "319/319 [==============================] - 3s 11ms/step - loss: -268.3751 - I_var: 2.1871 - val_loss: -266.6646 - val_I_var: 2.1850\n",
      "Epoch 34/1000\n",
      "319/319 [==============================] - 3s 10ms/step - loss: -270.3452 - I_var: 2.1897 - val_loss: -265.1826 - val_I_var: 2.1825\n",
      "Epoch 35/1000\n",
      "319/319 [==============================] - 4s 11ms/step - loss: -270.5806 - I_var: 2.1895 - val_loss: -267.4622 - val_I_var: 2.1856\n",
      "Epoch 36/1000\n",
      "319/319 [==============================] - 4s 11ms/step - loss: -270.1986 - I_var: 2.1887 - val_loss: -254.0098 - val_I_var: 2.1659\n",
      "Epoch 37/1000\n",
      "319/319 [==============================] - 4s 12ms/step - loss: -270.0432 - I_var: 2.1883 - val_loss: -268.4310 - val_I_var: 2.1865\n",
      "Epoch 38/1000\n",
      "319/319 [==============================] - 4s 13ms/step - loss: -271.0654 - I_var: 2.1896 - val_loss: -268.4566 - val_I_var: 2.1864\n",
      "Epoch 39/1000\n",
      "319/319 [==============================] - 3s 11ms/step - loss: -271.0514 - I_var: 2.1895 - val_loss: -257.6389 - val_I_var: 2.1706\n",
      "Epoch 40/1000\n",
      "319/319 [==============================] - 4s 11ms/step - loss: -271.1492 - I_var: 2.1894 - val_loss: -269.0778 - val_I_var: 2.1871\n",
      "Epoch 41/1000\n",
      "319/319 [==============================] - 4s 12ms/step - loss: -272.3820 - I_var: 2.1914 - val_loss: -262.3329 - val_I_var: 2.1772\n",
      "Epoch 42/1000\n",
      "319/319 [==============================] - 4s 11ms/step - loss: -270.8940 - I_var: 2.1888 - val_loss: -265.6452 - val_I_var: 2.1820\n",
      "Epoch 43/1000\n",
      "319/319 [==============================] - 4s 12ms/step - loss: -271.8565 - I_var: 2.1903 - val_loss: -268.6042 - val_I_var: 2.1861\n",
      "Epoch 44/1000\n",
      "319/319 [==============================] - 4s 13ms/step - loss: -271.7876 - I_var: 2.1901 - val_loss: -262.5713 - val_I_var: 2.1774\n",
      "Epoch 45/1000\n",
      "319/319 [==============================] - 4s 11ms/step - loss: -271.7192 - I_var: 2.1900 - val_loss: -266.6259 - val_I_var: 2.1832\n",
      "Training time: 198.9 seconds\n"
     ]
    }
   ],
   "source": [
    "# Fit model to data\n",
    "history = model.fit(learning_rate=.0005,\n",
    "                    epochs=1000,\n",
    "                    batch_size=1000,\n",
    "                    early_stopping=True,\n",
    "                    early_stopping_patience=5,\n",
    "                    linear_initialization=False)"
   ]
  },
  {
   "cell_type": "code",
   "execution_count": 6,
   "metadata": {},
   "outputs": [
    {
     "name": "stdout",
     "output_type": "stream",
     "text": [
      "Model saved to these files:\n",
      "\tgb1_ge_additive.pickle\n",
      "\tgb1_ge_additive.h5\n"
     ]
    }
   ],
   "source": [
    "# Save model\n",
    "model.save('gb1_ge_additive')"
   ]
  },
  {
   "cell_type": "code",
   "execution_count": 7,
   "metadata": {},
   "outputs": [
    {
     "name": "stdout",
     "output_type": "stream",
     "text": [
      "Model loaded from these files:\n",
      "\tgb1_ge_additive.pickle\n",
      "\tgb1_ge_additive.h5\n"
     ]
    }
   ],
   "source": [
    "# Load model\n",
    "model = mavenn.load('gb1_ge_additive')"
   ]
  },
  {
   "cell_type": "code",
   "execution_count": 8,
   "metadata": {},
   "outputs": [],
   "source": [
    "# Subsample indices for easy plotting and information estimation\n",
    "N_test = len(test_df)\n",
    "ix = np.random.rand(N_test) < .1\n",
    "\n",
    "# Get x and y\n",
    "x = test_df['x'].values[ix]\n",
    "y = test_df['y'].values[ix]"
   ]
  },
  {
   "cell_type": "code",
   "execution_count": 9,
   "metadata": {},
   "outputs": [
    {
     "name": "stdout",
     "output_type": "stream",
     "text": [
      "On test data:\n",
      "I_var_test: 2.190 +- 0.018 bits\n",
      "I_pred_test: 2.258 +- 0.014 bits\n"
     ]
    },
    {
     "data": {
      "image/png": "[encoded data removed]",
      "text/plain": [
       "<Figure size 288x288 with 1 Axes>"
      ]
     },
     "metadata": {
      "needs_background": "light"
     },
     "output_type": "display_data"
    }
   ],
   "source": [
    "# Show training history\n",
    "print('On test data:')\n",
    "\n",
    "# Compute likelihood information\n",
    "I_var, dI_var =  model.I_variational(x=x, y=y)\n",
    "print(f'I_var_test: {I_var:.3f} +- {dI_var:.3f} bits') \n",
    "\n",
    "# Compute predictive information\n",
    "I_pred, dI_pred = model.I_predictive(x=x, y=y)\n",
    "print(f'I_pred_test: {I_pred:.3f} +- {dI_pred:.3f} bits')\n",
    "\n",
    "I_var_hist = model.history['I_var']\n",
    "val_I_var_hist = model.history['val_I_var']\n",
    "\n",
    "fig, ax = plt.subplots(1,1,figsize=[4,4])\n",
    "ax.plot(I_var_hist, label='I_var_train')\n",
    "ax.plot(val_I_var_hist, label='I_var_val')\n",
    "ax.axhline(I_var, color='C2', linestyle=':', label='I_var_test')\n",
    "ax.axhline(I_pred, color='C3', linestyle=':', label='I_pred_test')\n",
    "ax.legend()\n",
    "ax.set_xlabel('epochs')\n",
    "ax.set_ylabel('bits')\n",
    "ax.set_title('training hisotry')\n",
    "ax.set_ylim([0, I_pred*1.2]);"
   ]
  },
  {
   "cell_type": "code",
   "execution_count": 10,
   "metadata": {},
   "outputs": [
    {
     "data": {
      "image/png": "[encoded data removed]",
      "text/plain": [
       "<Figure size 288x288 with 1 Axes>"
      ]
     },
     "metadata": {
      "needs_background": "light"
     },
     "output_type": "display_data"
    }
   ],
   "source": [
    "# Compute phi and yhat values\n",
    "phi = model.x_to_phi(x)\n",
    "yhat = model.phi_to_yhat(phi)\n",
    "\n",
    "# Create grid for plotting yhat and yqs\n",
    "phi_lim = [-5, 2.5]\n",
    "phi_grid = np.linspace(phi_lim[0], phi_lim[1], 1000)\n",
    "yhat_grid = model.phi_to_yhat(phi_grid)\n",
    "yqs_grid = model.yhat_to_yq(yhat_grid, q=[.16,.84])\n",
    "\n",
    "# Create two panels\n",
    "fig, ax = plt.subplots(1, 1, figsize=[4, 4])\n",
    "\n",
    "# Illustrate measurement process with GE curve\n",
    "ax.scatter(phi, y, color='C0', s=5, alpha=.2, label='test data')\n",
    "ax.plot(phi_grid, yhat_grid, linewidth=2, color='C1',\n",
    "        label='$\\hat{y} = g(\\phi)$')\n",
    "ax.plot(phi_grid, yqs_grid[:, 0], linestyle='--', color='C1',\n",
    "        label='68% CI')\n",
    "ax.plot(phi_grid, yqs_grid[:, 1], linestyle='--', color='C1')\n",
    "ax.set_xlim(phi_lim)\n",
    "ax.set_xlabel('latent phenotype ($\\phi$)')\n",
    "ax.set_ylabel('measurement ($y$)')\n",
    "ax.set_title('measurement process')\n",
    "ax.legend()\n",
    "\n",
    "# Fix up plot\n",
    "fig.tight_layout()\n",
    "plt.show()"
   ]
  },
  {
   "cell_type": "code",
   "execution_count": 11,
   "metadata": {},
   "outputs": [
    {
     "data": {
      "image/png": "[encoded data removed]",
      "text/plain": [
       "<Figure size 720x360 with 2 Axes>"
      ]
     },
     "metadata": {
      "needs_background": "light"
     },
     "output_type": "display_data"
    }
   ],
   "source": [
    "# Set wild-type sequence\n",
    "gb1_seq = model.x_stats['consensus_seq']\n",
    "\n",
    "# Get effects of all single-point mutations on phi\n",
    "theta_dict = model.get_theta(gauge='user',\n",
    "                             x_wt=gb1_seq)\n",
    "\n",
    "# Create two panels\n",
    "fig, ax = plt.subplots(1, 1, figsize=[10, 5])\n",
    "\n",
    "# Left panel: draw heatmap illustrating 1pt mutation effects\n",
    "ax, cb = mavenn.heatmap(theta_dict['theta_lc'],\n",
    "                        alphabet=theta_dict['alphabet'],\n",
    "                        seq=gb1_seq,\n",
    "                        cmap='PiYG',\n",
    "                        ccenter=0,\n",
    "                        ax=ax)\n",
    "ax.set_xlabel('position ($l$)')\n",
    "ax.set_ylabel('amino acid ($c$)')\n",
    "cb.set_label('effect ($\\Delta\\phi$)', rotation=-90, va=\"bottom\")\n",
    "ax.set_title('mutation effects')\n",
    "\n",
    "# Fix up plot\n",
    "fig.tight_layout()\n",
    "plt.show()\n"
   ]
  },
  {
   "cell_type": "code",
   "execution_count": 12,
   "metadata": {},
   "outputs": [
    {
     "data": {
      "text/html": [
       "<div>\n",
       "<style scoped>\n",
       "    .dataframe tbody tr th:only-of-type {\n",
       "        vertical-align: middle;\n",
       "    }\n",
       "\n",
       "    .dataframe tbody tr th {\n",
       "        vertical-align: top;\n",
       "    }\n",
       "\n",
       "    .dataframe thead th {\n",
       "        text-align: right;\n",
       "    }\n",
       "</style>\n",
       "<table border=\"1\" class=\"dataframe\">\n",
       "  <thead>\n",
       "    <tr style=\"text-align: right;\">\n",
       "      <th></th>\n",
       "      <th>set</th>\n",
       "      <th>yhat</th>\n",
       "      <th>phi</th>\n",
       "      <th>y</th>\n",
       "      <th>x</th>\n",
       "    </tr>\n",
       "  </thead>\n",
       "  <tbody>\n",
       "    <tr>\n",
       "      <th>0</th>\n",
       "      <td>test</td>\n",
       "      <td>-4.207942</td>\n",
       "      <td>0.017278</td>\n",
       "      <td>-6.888361</td>\n",
       "      <td>QIKLILNGKTLKGETTTEAVDAATAEKVFKQYANDNGVDGEWTYDD...</td>\n",
       "    </tr>\n",
       "    <tr>\n",
       "      <th>1</th>\n",
       "      <td>training</td>\n",
       "      <td>0.397445</td>\n",
       "      <td>1.004454</td>\n",
       "      <td>0.274060</td>\n",
       "      <td>QYKLILNGHTLKGERTTEMVDAATAEKVFKQYANDNGVDGEWTYDD...</td>\n",
       "    </tr>\n",
       "    <tr>\n",
       "      <th>2</th>\n",
       "      <td>training</td>\n",
       "      <td>-1.951538</td>\n",
       "      <td>0.467866</td>\n",
       "      <td>-2.104813</td>\n",
       "      <td>QYKLRLNGKTLKGETTTEAVDACAAEKVFKQYANDNGVDGEWTYDP...</td>\n",
       "    </tr>\n",
       "    <tr>\n",
       "      <th>3</th>\n",
       "      <td>test</td>\n",
       "      <td>-7.682378</td>\n",
       "      <td>-1.435070</td>\n",
       "      <td>-7.625790</td>\n",
       "      <td>QYKLILNGKTLKGETTTEAVDNATAEKVFFQYANDNGVDGEWTYDD...</td>\n",
       "    </tr>\n",
       "    <tr>\n",
       "      <th>4</th>\n",
       "      <td>test</td>\n",
       "      <td>-5.519150</td>\n",
       "      <td>-0.294452</td>\n",
       "      <td>-5.505709</td>\n",
       "      <td>QYKLILNGRTLKGETTTEAVDAAVAEKVFKQYANDNGVDDEWTYDD...</td>\n",
       "    </tr>\n",
       "  </tbody>\n",
       "</table>\n",
       "</div>"
      ],
      "text/plain": [
       "        set      yhat       phi         y  \\\n",
       "0      test -4.207942  0.017278 -6.888361   \n",
       "1  training  0.397445  1.004454  0.274060   \n",
       "2  training -1.951538  0.467866 -2.104813   \n",
       "3      test -7.682378 -1.435070 -7.625790   \n",
       "4      test -5.519150 -0.294452 -5.505709   \n",
       "\n",
       "                                                   x  \n",
       "0  QIKLILNGKTLKGETTTEAVDAATAEKVFKQYANDNGVDGEWTYDD...  \n",
       "1  QYKLILNGHTLKGERTTEMVDAATAEKVFKQYANDNGVDGEWTYDD...  \n",
       "2  QYKLRLNGKTLKGETTTEAVDACAAEKVFKQYANDNGVDGEWTYDP...  \n",
       "3  QYKLILNGKTLKGETTTEAVDNATAEKVFFQYANDNGVDGEWTYDD...  \n",
       "4  QYKLILNGRTLKGETTTEAVDAAVAEKVFKQYANDNGVDDEWTYDD...  "
      ]
     },
     "execution_count": 12,
     "metadata": {},
     "output_type": "execute_result"
    }
   ],
   "source": [
    "# Test simulate_data\n",
    "sim_df = model.simulate_dataset(N=1000)\n",
    "sim_df.head()"
   ]
  },
  {
   "cell_type": "code",
   "execution_count": null,
   "metadata": {},
   "outputs": [],
   "source": []
  }
 ],
 "metadata": {
  "kernelspec": {
   "display_name": "Python 3",
   "language": "python",
   "name": "python3"
  },
  "language_info": {
   "codemirror_mode": {
    "name": "ipython",
    "version": 3
   },
   "file_extension": ".py",
   "mimetype": "text/x-python",
   "name": "python",
   "nbconvert_exporter": "python",
   "pygments_lexer": "ipython3",
   "version": "3.8.3"
  },
  "toc": {
   "base_numbering": 1,
   "nav_menu": {},
   "number_sections": true,
   "sideBar": true,
   "skip_h1_title": false,
   "title_cell": "Table of Contents",
   "title_sidebar": "Contents",
   "toc_cell": false,
   "toc_position": {},
   "toc_section_display": true,
   "toc_window_display": false
  },
  "varInspector": {
   "cols": {
    "lenName": 16,
    "lenType": 16,
    "lenVar": 40
   },
   "kernels_config": {
    "python": {
     "delete_cmd_postfix": "",
     "delete_cmd_prefix": "del ",
     "library": "var_list.py",
     "varRefreshCmd": "print(var_dic_list())"
    },
    "r": {
     "delete_cmd_postfix": ") ",
     "delete_cmd_prefix": "rm(",
     "library": "var_list.r",
     "varRefreshCmd": "cat(var_dic_list()) "
    }
   },
   "types_to_exclude": [
    "module",
    "function",
    "builtin_function_or_method",
    "instance",
    "_Feature"
   ],
   "window_display": false
  }
 },
 "nbformat": 4,
 "nbformat_minor": 2
}
