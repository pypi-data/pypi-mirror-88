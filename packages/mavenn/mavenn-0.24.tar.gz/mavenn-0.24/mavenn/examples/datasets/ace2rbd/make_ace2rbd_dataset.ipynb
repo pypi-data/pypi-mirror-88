{
 "cells": [
  {
   "cell_type": "code",
   "execution_count": 1,
   "metadata": {},
   "outputs": [
    {
     "name": "stdout",
     "output_type": "stream",
     "text": [
      "['../../../../mavenn']\n"
     ]
    }
   ],
   "source": [
    "# Standard imports\n",
    "import pandas as pd\n",
    "import matplotlib.pyplot as plt\n",
    "import numpy as np\n",
    "import re\n",
    "%matplotlib inline\n",
    "\n",
    "# Insert mavenn at beginning of path\n",
    "import sys\n",
    "path_to_mavenn_local = '../../../../'\n",
    "sys.path.insert(0,path_to_mavenn_local)\n",
    "\n",
    "#Load mavenn and check path\n",
    "import mavenn\n",
    "print(mavenn.__path__)\n",
    "\n",
    "# MAVE-NN utilities\n",
    "from mavenn.src.mavedb import mutations_to_dataset"
   ]
  },
  {
   "cell_type": "code",
   "execution_count": 2,
   "metadata": {},
   "outputs": [],
   "source": [
    "abreviation_dict = {\n",
    "    'Ala':'A', \n",
    "    'Arg':'R',\n",
    "    'Asn':'N',\n",
    "    'Asp':'D',\n",
    "    'Cys':'C',\n",
    "    'Glu':'E',\n",
    "    'Gln':'Q',\n",
    "    'Gly':'G',\n",
    "    'His':'H',\n",
    "    'Ile':'I',\n",
    "    'Leu':'L',\n",
    "    'Lys':'K',\n",
    "    'Met':'M',\n",
    "    'Phe':'F',\n",
    "    'Pro':'P',\n",
    "    'Ser':'S',\n",
    "    'Thr':'T',\n",
    "    'Trp':'W',\n",
    "    'Tyr':'Y',\n",
    "    'Val':'V'\n",
    "}\n",
    "\n",
    "aas = list(abreviation_dict.values())"
   ]
  },
  {
   "cell_type": "code",
   "execution_count": 3,
   "metadata": {},
   "outputs": [
    {
     "data": {
      "text/html": [
       "<div>\n",
       "<style scoped>\n",
       "    .dataframe tbody tr th:only-of-type {\n",
       "        vertical-align: middle;\n",
       "    }\n",
       "\n",
       "    .dataframe tbody tr th {\n",
       "        vertical-align: top;\n",
       "    }\n",
       "\n",
       "    .dataframe thead th {\n",
       "        text-align: right;\n",
       "    }\n",
       "</style>\n",
       "<table border=\"1\" class=\"dataframe\">\n",
       "  <thead>\n",
       "    <tr style=\"text-align: right;\">\n",
       "      <th></th>\n",
       "      <th>accession</th>\n",
       "      <th>hgvs_nt</th>\n",
       "      <th>hgvs_pro</th>\n",
       "      <th>score</th>\n",
       "      <th>avg_count</th>\n",
       "      <th>library</th>\n",
       "    </tr>\n",
       "  </thead>\n",
       "  <tbody>\n",
       "    <tr>\n",
       "      <th>0</th>\n",
       "      <td>urn:mavedb:00000044-a-2#1</td>\n",
       "      <td>NaN</td>\n",
       "      <td>p.[Ala14Asp;Ala22Gln;Lys94Ala;Asp137Ser]</td>\n",
       "      <td>NaN</td>\n",
       "      <td>3.54</td>\n",
       "      <td>2.0</td>\n",
       "    </tr>\n",
       "    <tr>\n",
       "      <th>1</th>\n",
       "      <td>urn:mavedb:00000044-a-2#2</td>\n",
       "      <td>NaN</td>\n",
       "      <td>p.[Asn4Tyr;Asn151Pro]</td>\n",
       "      <td>-0.72</td>\n",
       "      <td>102.47</td>\n",
       "      <td>2.0</td>\n",
       "    </tr>\n",
       "    <tr>\n",
       "      <th>2</th>\n",
       "      <td>urn:mavedb:00000044-a-2#3</td>\n",
       "      <td>NaN</td>\n",
       "      <td>p.[Ile88Val;Tyr93Ser;Ser129Asn]</td>\n",
       "      <td>-4.84</td>\n",
       "      <td>28.57</td>\n",
       "      <td>2.0</td>\n",
       "    </tr>\n",
       "    <tr>\n",
       "      <th>3</th>\n",
       "      <td>urn:mavedb:00000044-a-2#4</td>\n",
       "      <td>NaN</td>\n",
       "      <td>p.[Tyr119Ser;Ser129Asp]</td>\n",
       "      <td>-1.31</td>\n",
       "      <td>128.08</td>\n",
       "      <td>2.0</td>\n",
       "    </tr>\n",
       "    <tr>\n",
       "      <th>4</th>\n",
       "      <td>urn:mavedb:00000044-a-2#5</td>\n",
       "      <td>NaN</td>\n",
       "      <td>p.[Asn24Gln;Phe62Arg;Asn107Pro;Tyr123Phe]</td>\n",
       "      <td>-0.53</td>\n",
       "      <td>108.56</td>\n",
       "      <td>2.0</td>\n",
       "    </tr>\n",
       "  </tbody>\n",
       "</table>\n",
       "</div>"
      ],
      "text/plain": [
       "                   accession  hgvs_nt  \\\n",
       "0  urn:mavedb:00000044-a-2#1      NaN   \n",
       "1  urn:mavedb:00000044-a-2#2      NaN   \n",
       "2  urn:mavedb:00000044-a-2#3      NaN   \n",
       "3  urn:mavedb:00000044-a-2#4      NaN   \n",
       "4  urn:mavedb:00000044-a-2#5      NaN   \n",
       "\n",
       "                                    hgvs_pro  score  avg_count  library  \n",
       "0   p.[Ala14Asp;Ala22Gln;Lys94Ala;Asp137Ser]    NaN       3.54      2.0  \n",
       "1                      p.[Asn4Tyr;Asn151Pro]  -0.72     102.47      2.0  \n",
       "2            p.[Ile88Val;Tyr93Ser;Ser129Asn]  -4.84      28.57      2.0  \n",
       "3                    p.[Tyr119Ser;Ser129Asp]  -1.31     128.08      2.0  \n",
       "4  p.[Asn24Gln;Phe62Arg;Asn107Pro;Tyr123Phe]  -0.53     108.56      2.0  "
      ]
     },
     "execution_count": 3,
     "metadata": {},
     "output_type": "execute_result"
    }
   ],
   "source": [
    "# Load mave-db dataset\n",
    "df = pd.read_csv('urn_mavedb_00000044-a-2_scores.csv', skiprows=17)\n",
    "df.head()"
   ]
  },
  {
   "cell_type": "code",
   "execution_count": 4,
   "metadata": {},
   "outputs": [
    {
     "name": "stdout",
     "output_type": "stream",
     "text": [
      "len(y_df): 195081\n"
     ]
    },
    {
     "data": {
      "text/html": [
       "<div>\n",
       "<style scoped>\n",
       "    .dataframe tbody tr th:only-of-type {\n",
       "        vertical-align: middle;\n",
       "    }\n",
       "\n",
       "    .dataframe tbody tr th {\n",
       "        vertical-align: top;\n",
       "    }\n",
       "\n",
       "    .dataframe thead th {\n",
       "        text-align: right;\n",
       "    }\n",
       "</style>\n",
       "<table border=\"1\" class=\"dataframe\">\n",
       "  <thead>\n",
       "    <tr style=\"text-align: right;\">\n",
       "      <th></th>\n",
       "      <th>y</th>\n",
       "    </tr>\n",
       "  </thead>\n",
       "  <tbody>\n",
       "    <tr>\n",
       "      <th>0</th>\n",
       "      <td>NaN</td>\n",
       "    </tr>\n",
       "    <tr>\n",
       "      <th>1</th>\n",
       "      <td>-0.72</td>\n",
       "    </tr>\n",
       "    <tr>\n",
       "      <th>2</th>\n",
       "      <td>-4.84</td>\n",
       "    </tr>\n",
       "    <tr>\n",
       "      <th>3</th>\n",
       "      <td>-1.31</td>\n",
       "    </tr>\n",
       "    <tr>\n",
       "      <th>4</th>\n",
       "      <td>-0.53</td>\n",
       "    </tr>\n",
       "  </tbody>\n",
       "</table>\n",
       "</div>"
      ],
      "text/plain": [
       "      y\n",
       "0   NaN\n",
       "1 -0.72\n",
       "2 -4.84\n",
       "3 -1.31\n",
       "4 -0.53"
      ]
     },
     "execution_count": 4,
     "metadata": {},
     "output_type": "execute_result"
    }
   ],
   "source": [
    "# Create y_df\n",
    "y_df = pd.DataFrame()\n",
    "y_df['y'] = df['score'].astype(float).copy()\n",
    "print(f'len(y_df): {len(y_df)}')\n",
    "y_df.head()"
   ]
  },
  {
   "cell_type": "code",
   "execution_count": 5,
   "metadata": {},
   "outputs": [
    {
     "data": {
      "text/html": [
       "<div>\n",
       "<style scoped>\n",
       "    .dataframe tbody tr th:only-of-type {\n",
       "        vertical-align: middle;\n",
       "    }\n",
       "\n",
       "    .dataframe tbody tr th {\n",
       "        vertical-align: top;\n",
       "    }\n",
       "\n",
       "    .dataframe thead th {\n",
       "        text-align: right;\n",
       "    }\n",
       "</style>\n",
       "<table border=\"1\" class=\"dataframe\">\n",
       "  <thead>\n",
       "    <tr style=\"text-align: right;\">\n",
       "      <th></th>\n",
       "      <th>set</th>\n",
       "      <th>hamming_dist</th>\n",
       "      <th>y</th>\n",
       "    </tr>\n",
       "  </thead>\n",
       "  <tbody>\n",
       "    <tr>\n",
       "      <th>0</th>\n",
       "      <td>training</td>\n",
       "      <td>4</td>\n",
       "      <td>NaN</td>\n",
       "    </tr>\n",
       "    <tr>\n",
       "      <th>1</th>\n",
       "      <td>training</td>\n",
       "      <td>2</td>\n",
       "      <td>-0.72</td>\n",
       "    </tr>\n",
       "    <tr>\n",
       "      <th>2</th>\n",
       "      <td>training</td>\n",
       "      <td>3</td>\n",
       "      <td>-4.84</td>\n",
       "    </tr>\n",
       "    <tr>\n",
       "      <th>3</th>\n",
       "      <td>training</td>\n",
       "      <td>2</td>\n",
       "      <td>-1.31</td>\n",
       "    </tr>\n",
       "    <tr>\n",
       "      <th>4</th>\n",
       "      <td>training</td>\n",
       "      <td>4</td>\n",
       "      <td>-0.53</td>\n",
       "    </tr>\n",
       "  </tbody>\n",
       "</table>\n",
       "</div>"
      ],
      "text/plain": [
       "        set  hamming_dist     y\n",
       "0  training             4   NaN\n",
       "1  training             2 -0.72\n",
       "2  training             3 -4.84\n",
       "3  training             2 -1.31\n",
       "4  training             4 -0.53"
      ]
     },
     "execution_count": 5,
     "metadata": {},
     "output_type": "execute_result"
    }
   ],
   "source": [
    "# Parse hgvs notation\n",
    "matches_list = [re.findall('([A-Za-z\\*]+)([0-9]+)([A-Za-z\\*]+)', s) for s in df['hgvs_pro']]\n",
    "\n",
    "# Add hamming_dist col to y_df\n",
    "y_df.insert(loc=0, column='hamming_dist', value=[len(m) for m in matches_list])\n",
    "\n",
    "# Assign to trianing and test sets\n",
    "N = len(y_df)\n",
    "training_frac=.8\n",
    "np.random.seed(0)\n",
    "r = np.random.rand(N)\n",
    "test_frac = .2\n",
    "val_frac = .2\n",
    "ix_train = (test_frac + val_frac <= r)\n",
    "ix_val = (test_frac <= r) & (r < test_frac + val_frac)\n",
    "ix_test = (r < test_frac)\n",
    "y_df.insert(loc=0, column='set', value='')\n",
    "y_df.loc[ix_train, 'set'] = 'training'\n",
    "y_df.loc[ix_val, 'set'] = 'validation'\n",
    "y_df.loc[ix_test, 'set'] = 'test'\n",
    "assert all([len(x)>0 for x in y_df['set']])\n",
    "\n",
    "y_df.head()"
   ]
  },
  {
   "cell_type": "code",
   "execution_count": 6,
   "metadata": {},
   "outputs": [
    {
     "name": "stdout",
     "output_type": "stream",
     "text": [
      "min l: 0\n",
      "max l: 200\n",
      "max id: 195080\n"
     ]
    },
    {
     "data": {
      "text/html": [
       "<div>\n",
       "<style scoped>\n",
       "    .dataframe tbody tr th:only-of-type {\n",
       "        vertical-align: middle;\n",
       "    }\n",
       "\n",
       "    .dataframe tbody tr th {\n",
       "        vertical-align: top;\n",
       "    }\n",
       "\n",
       "    .dataframe thead th {\n",
       "        text-align: right;\n",
       "    }\n",
       "</style>\n",
       "<table border=\"1\" class=\"dataframe\">\n",
       "  <thead>\n",
       "    <tr style=\"text-align: right;\">\n",
       "      <th></th>\n",
       "      <th>id</th>\n",
       "      <th>l</th>\n",
       "      <th>c</th>\n",
       "    </tr>\n",
       "  </thead>\n",
       "  <tbody>\n",
       "    <tr>\n",
       "      <th>0</th>\n",
       "      <td>0</td>\n",
       "      <td>13</td>\n",
       "      <td>D</td>\n",
       "    </tr>\n",
       "    <tr>\n",
       "      <th>1</th>\n",
       "      <td>0</td>\n",
       "      <td>21</td>\n",
       "      <td>Q</td>\n",
       "    </tr>\n",
       "    <tr>\n",
       "      <th>2</th>\n",
       "      <td>0</td>\n",
       "      <td>93</td>\n",
       "      <td>A</td>\n",
       "    </tr>\n",
       "    <tr>\n",
       "      <th>3</th>\n",
       "      <td>0</td>\n",
       "      <td>136</td>\n",
       "      <td>S</td>\n",
       "    </tr>\n",
       "    <tr>\n",
       "      <th>4</th>\n",
       "      <td>1</td>\n",
       "      <td>3</td>\n",
       "      <td>Y</td>\n",
       "    </tr>\n",
       "  </tbody>\n",
       "</table>\n",
       "</div>"
      ],
      "text/plain": [
       "   id    l  c\n",
       "0   0   13  D\n",
       "1   0   21  Q\n",
       "2   0   93  A\n",
       "3   0  136  S\n",
       "4   1    3  Y"
      ]
     },
     "execution_count": 6,
     "metadata": {},
     "output_type": "execute_result"
    }
   ],
   "source": [
    "### Create mut_df\n",
    "\n",
    "# Parse strings in 'hgvs_pro' column\n",
    "f = open('tmp.txt','w')\n",
    "f.write('id,l,c\\n')\n",
    "for i, matches in enumerate(matches_list):\n",
    "    for _, l, c in matches:\n",
    "        f.write(f'{i},{int(l)-1},{c}\\n')\n",
    "f.close()\n",
    "mut_df = pd.read_csv('tmp.txt')\n",
    "\n",
    "# Map long-form aa to short-form aa\n",
    "mut_df['c'] = mut_df['c'].map(abreviation_dict).astype(str)\n",
    "\n",
    "# Remove all unrecognized 'c'\n",
    "ix = mut_df['c'].isin(aas)\n",
    "mut_df = mut_df[ix]\n",
    "\n",
    "# preview mut_df\n",
    "print(f'min l: {min(mut_df[\"l\"])}')\n",
    "print(f'max l: {max(mut_df[\"l\"])}')\n",
    "print(f'max id: {max(mut_df[\"id\"])}')\n",
    "mut_df.head()"
   ]
  },
  {
   "cell_type": "code",
   "execution_count": 7,
   "metadata": {},
   "outputs": [
    {
     "data": {
      "text/plain": [
       "201"
      ]
     },
     "execution_count": 7,
     "metadata": {},
     "output_type": "execute_result"
    }
   ],
   "source": [
    "# Protein sequence determined from the wt coding DNA sequence in Snapgene\n",
    "# 'AATATTACAAACTTGTGCCCTTTTGGTGAAGTTTTTAACGCCACCAGATTTGCATCTGTTTATGCTTGGAACAGGAAGAGAATCAGCAACTGTGTTGCTGATTATTCTGTCCTATATAATTCCGCATCATTTTCCACTTTTAAGTGTTATGGAGTGTCTCCTACTAAATTAAATGATCTCTGCTTTACTAATGTCTATGCAGATTCATTTGTAATTAGAGGTGATGAAGTCAGACAAATCGCTCCAGGGCAAACTGGAAAGATTGCTGATTATAATTATAAATTACCAGATGATTTTACAGGCTGCGTTATAGCTTGGAATTCTAACAATCTTGATTCTAAGGTTGGTGGTAATTATAATTACCTGTATAGATTGTTTAGGAAGTCTAATCTCAAACCTTTTGAGAGAGATATTTCAACTGAAATCTATCAGGCCGGTAGCACACCTTGTAATGGTGTTGAAGGTTTTAATTGTTACTTTCCTTTACAATCATATGGTTTCCAACCCACTAATGGTGTTGGTTACCAACCATACAGAGTAGTAGTACTTTCTTTTGAACTTCTACATGCACCAGCAACTGTTTGTGGACCTAAAAAGTCTACT'\n",
    "wt_seq = 'NITNLCPFGEVFNATRFASVYAWNRKRISNCVADYSVLYNSASFSTFKCYGVSPTKLNDLCFTNVYADSFVIRGDEVRQIAPGQTGKIADYNYKLPDDFTGCVIAWNSNNLDSKVGGNYNYLYRLFRKSNLKPFERDISTEIYQAGSTPCNGVEGFNCYFPLQSYGFQPTNGVGYQPYRVVVLSFELLHAPATVCGPKKST'\n",
    "len(wt_seq)"
   ]
  },
  {
   "cell_type": "code",
   "execution_count": 8,
   "metadata": {},
   "outputs": [
    {
     "data": {
      "text/html": [
       "<div>\n",
       "<style scoped>\n",
       "    .dataframe tbody tr th:only-of-type {\n",
       "        vertical-align: middle;\n",
       "    }\n",
       "\n",
       "    .dataframe tbody tr th {\n",
       "        vertical-align: top;\n",
       "    }\n",
       "\n",
       "    .dataframe thead th {\n",
       "        text-align: right;\n",
       "    }\n",
       "</style>\n",
       "<table border=\"1\" class=\"dataframe\">\n",
       "  <thead>\n",
       "    <tr style=\"text-align: right;\">\n",
       "      <th></th>\n",
       "      <th>set</th>\n",
       "      <th>hamming_dist</th>\n",
       "      <th>y</th>\n",
       "      <th>x</th>\n",
       "    </tr>\n",
       "  </thead>\n",
       "  <tbody>\n",
       "    <tr>\n",
       "      <th>0</th>\n",
       "      <td>training</td>\n",
       "      <td>2</td>\n",
       "      <td>-0.72</td>\n",
       "      <td>NITYLCPFGEVFNATRFASVYAWNRKRISNCVADYSVLYNSASFST...</td>\n",
       "    </tr>\n",
       "    <tr>\n",
       "      <th>1</th>\n",
       "      <td>training</td>\n",
       "      <td>3</td>\n",
       "      <td>-4.84</td>\n",
       "      <td>NITNLCPFGEVFNATRFASVYAWNRKRISNCVADYSVLYNSASFST...</td>\n",
       "    </tr>\n",
       "    <tr>\n",
       "      <th>2</th>\n",
       "      <td>training</td>\n",
       "      <td>2</td>\n",
       "      <td>-1.31</td>\n",
       "      <td>NITNLCPFGEVFNATRFASVYAWNRKRISNCVADYSVLYNSASFST...</td>\n",
       "    </tr>\n",
       "    <tr>\n",
       "      <th>3</th>\n",
       "      <td>training</td>\n",
       "      <td>4</td>\n",
       "      <td>-0.53</td>\n",
       "      <td>NITNLCPFGEVFNATRFASVYAWQRKRISNCVADYSVLYNSASFST...</td>\n",
       "    </tr>\n",
       "    <tr>\n",
       "      <th>4</th>\n",
       "      <td>training</td>\n",
       "      <td>2</td>\n",
       "      <td>-4.84</td>\n",
       "      <td>NITNLCPFGEVFNATRFASVYAWNRKRISNCVADYSVLYNSASFST...</td>\n",
       "    </tr>\n",
       "    <tr>\n",
       "      <th>5</th>\n",
       "      <td>training</td>\n",
       "      <td>2</td>\n",
       "      <td>-1.42</td>\n",
       "      <td>NITNLCPFGEVFNATRFASVYAWNRKRISNCVADYSVLYNSASFST...</td>\n",
       "    </tr>\n",
       "    <tr>\n",
       "      <th>6</th>\n",
       "      <td>training</td>\n",
       "      <td>2</td>\n",
       "      <td>-0.75</td>\n",
       "      <td>NITNLCPFGEVFNATRFASVYAWNRKRISNCVADYSVLYNSASFST...</td>\n",
       "    </tr>\n",
       "    <tr>\n",
       "      <th>7</th>\n",
       "      <td>validation</td>\n",
       "      <td>2</td>\n",
       "      <td>-0.94</td>\n",
       "      <td>NITNLCPFGEVFNATRFASVYAWNRKRISNCVADYSVLYNSASFST...</td>\n",
       "    </tr>\n",
       "    <tr>\n",
       "      <th>8</th>\n",
       "      <td>training</td>\n",
       "      <td>2</td>\n",
       "      <td>-0.55</td>\n",
       "      <td>NITNLCPFGEVFNATRFASVYAWNRKRISNCVADYSVLYNSASFST...</td>\n",
       "    </tr>\n",
       "    <tr>\n",
       "      <th>9</th>\n",
       "      <td>training</td>\n",
       "      <td>3</td>\n",
       "      <td>-4.84</td>\n",
       "      <td>NITNLCPFGEVFNATRFASVYAWNRKRISNCVADYSVLYNSASFST...</td>\n",
       "    </tr>\n",
       "  </tbody>\n",
       "</table>\n",
       "</div>"
      ],
      "text/plain": [
       "          set  hamming_dist     y  \\\n",
       "0    training             2 -0.72   \n",
       "1    training             3 -4.84   \n",
       "2    training             2 -1.31   \n",
       "3    training             4 -0.53   \n",
       "4    training             2 -4.84   \n",
       "5    training             2 -1.42   \n",
       "6    training             2 -0.75   \n",
       "7  validation             2 -0.94   \n",
       "8    training             2 -0.55   \n",
       "9    training             3 -4.84   \n",
       "\n",
       "                                                   x  \n",
       "0  NITYLCPFGEVFNATRFASVYAWNRKRISNCVADYSVLYNSASFST...  \n",
       "1  NITNLCPFGEVFNATRFASVYAWNRKRISNCVADYSVLYNSASFST...  \n",
       "2  NITNLCPFGEVFNATRFASVYAWNRKRISNCVADYSVLYNSASFST...  \n",
       "3  NITNLCPFGEVFNATRFASVYAWQRKRISNCVADYSVLYNSASFST...  \n",
       "4  NITNLCPFGEVFNATRFASVYAWNRKRISNCVADYSVLYNSASFST...  \n",
       "5  NITNLCPFGEVFNATRFASVYAWNRKRISNCVADYSVLYNSASFST...  \n",
       "6  NITNLCPFGEVFNATRFASVYAWNRKRISNCVADYSVLYNSASFST...  \n",
       "7  NITNLCPFGEVFNATRFASVYAWNRKRISNCVADYSVLYNSASFST...  \n",
       "8  NITNLCPFGEVFNATRFASVYAWNRKRISNCVADYSVLYNSASFST...  \n",
       "9  NITNLCPFGEVFNATRFASVYAWNRKRISNCVADYSVLYNSASFST...  "
      ]
     },
     "execution_count": 8,
     "metadata": {},
     "output_type": "execute_result"
    }
   ],
   "source": [
    "# Create dataset\n",
    "data_df = mutations_to_dataset(wt_seq=wt_seq, mut_df=mut_df, y_df=y_df)\n",
    "\n",
    "# Dropna and reindex\n",
    "data_df.dropna(inplace=True)\n",
    "data_df.reset_index(inplace=True, drop=True)\n",
    "\n",
    "data_df.head(10)"
   ]
  },
  {
   "cell_type": "code",
   "execution_count": 9,
   "metadata": {},
   "outputs": [
    {
     "name": "stdout",
     "output_type": "stream",
     "text": [
      "2.0M\t../ace2rbd_data.csv.gz\r\n"
     ]
    }
   ],
   "source": [
    "# Save data_df\n",
    "file_name = '../ace2rbd_data.csv.gz'\n",
    "data_df.to_csv(file_name, compression='gzip', index=False)\n",
    "!du -mh $file_name"
   ]
  },
  {
   "cell_type": "code",
   "execution_count": 10,
   "metadata": {},
   "outputs": [
    {
     "name": "stderr",
     "output_type": "stream",
     "text": [
      "/Users/jkinney/opt/anaconda3/lib/python3.7/site-packages/seaborn/distributions.py:2551: FutureWarning: `distplot` is a deprecated function and will be removed in a future version. Please adapt your code to use either `displot` (a figure-level function with similar flexibility) or `histplot` (an axes-level function for histograms).\n",
      "  warnings.warn(msg, FutureWarning)\n"
     ]
    },
    {
     "data": {
      "text/plain": [
       "<AxesSubplot:xlabel='hamming_dist'>"
      ]
     },
     "execution_count": 10,
     "metadata": {},
     "output_type": "execute_result"
    },
    {
     "data": {
      "image/png": "[encoded data removed]",
      "text/plain": [
       "<Figure size 432x288 with 1 Axes>"
      ]
     },
     "metadata": {
      "needs_background": "light"
     },
     "output_type": "display_data"
    }
   ],
   "source": [
    "import seaborn as sns\n",
    "sns.distplot(data_df['hamming_dist'], kde=False, bins=np.arange(10)-.5)"
   ]
  },
  {
   "cell_type": "code",
   "execution_count": null,
   "metadata": {},
   "outputs": [],
   "source": []
  }
 ],
 "metadata": {
  "kernelspec": {
   "display_name": "Python 3",
   "language": "python",
   "name": "python3"
  },
  "language_info": {
   "codemirror_mode": {
    "name": "ipython",
    "version": 3
   },
   "file_extension": ".py",
   "mimetype": "text/x-python",
   "name": "python",
   "nbconvert_exporter": "python",
   "pygments_lexer": "ipython3",
   "version": "3.7.4"
  }
 },
 "nbformat": 4,
 "nbformat_minor": 2
}
