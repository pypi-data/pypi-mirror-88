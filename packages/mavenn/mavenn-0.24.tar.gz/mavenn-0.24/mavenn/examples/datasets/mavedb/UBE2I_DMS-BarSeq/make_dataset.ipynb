{
 "cells": [
  {
   "cell_type": "code",
   "execution_count": 1,
   "metadata": {},
   "outputs": [
    {
     "name": "stdout",
     "output_type": "stream",
     "text": [
      "['../../../../../mavenn']\n"
     ]
    }
   ],
   "source": [
    "# Standard imports\n",
    "import pandas as pd\n",
    "import matplotlib.pyplot as plt\n",
    "import numpy as np\n",
    "import re\n",
    "import os\n",
    "import tempfile\n",
    "import time\n",
    "%matplotlib inline\n",
    "\n",
    "# Insert mavenn at beginning of path\n",
    "import sys\n",
    "path_to_mavenn_local = '../../../../../'\n",
    "sys.path.insert(0,path_to_mavenn_local)\n",
    "\n",
    "#Load mavenn and check path\n",
    "import mavenn\n",
    "print(mavenn.__path__)\n",
    "\n",
    "# MAVE-NN utilities\n",
    "from mavenn.src.dev import mavedb_to_dataset"
   ]
  },
  {
   "cell_type": "code",
   "execution_count": 2,
   "metadata": {},
   "outputs": [
    {
     "data": {
      "text/html": [
       "<div>\n",
       "<style scoped>\n",
       "    .dataframe tbody tr th:only-of-type {\n",
       "        vertical-align: middle;\n",
       "    }\n",
       "\n",
       "    .dataframe tbody tr th {\n",
       "        vertical-align: top;\n",
       "    }\n",
       "\n",
       "    .dataframe thead th {\n",
       "        text-align: right;\n",
       "    }\n",
       "</style>\n",
       "<table border=\"1\" class=\"dataframe\">\n",
       "  <thead>\n",
       "    <tr style=\"text-align: right;\">\n",
       "      <th></th>\n",
       "      <th>accession</th>\n",
       "      <th>hgvs_nt</th>\n",
       "      <th>hgvs_pro</th>\n",
       "      <th>score</th>\n",
       "      <th>sd</th>\n",
       "      <th>se</th>\n",
       "    </tr>\n",
       "  </thead>\n",
       "  <tbody>\n",
       "    <tr>\n",
       "      <td>0</td>\n",
       "      <td>urn:mavedb:00000001-a-2#1</td>\n",
       "      <td>c.[197A&gt;G;472T&gt;C]</td>\n",
       "      <td>p.[Asp66Gly;Ser158Pro]</td>\n",
       "      <td>0.406973</td>\n",
       "      <td>0.100413</td>\n",
       "      <td>0.040993</td>\n",
       "    </tr>\n",
       "    <tr>\n",
       "      <td>1</td>\n",
       "      <td>urn:mavedb:00000001-a-2#2</td>\n",
       "      <td>c.[188_189delinsGG;200A&gt;C;310_311delinsGC]</td>\n",
       "      <td>p.[Leu63Arg;Asp67Ala;Arg104Ala]</td>\n",
       "      <td>0.248341</td>\n",
       "      <td>0.140991</td>\n",
       "      <td>0.057559</td>\n",
       "    </tr>\n",
       "    <tr>\n",
       "      <td>2</td>\n",
       "      <td>urn:mavedb:00000001-a-2#3</td>\n",
       "      <td>c.[96C&gt;G;346A&gt;G;370_371delinsTC]</td>\n",
       "      <td>p.[Ile116Val;Asn124Ser]</td>\n",
       "      <td>-0.037095</td>\n",
       "      <td>0.042003</td>\n",
       "      <td>0.017148</td>\n",
       "    </tr>\n",
       "    <tr>\n",
       "      <td>3</td>\n",
       "      <td>urn:mavedb:00000001-a-2#4</td>\n",
       "      <td>c.[370_372delinsTCG;447A&gt;G]</td>\n",
       "      <td>p.Asn124Ser</td>\n",
       "      <td>0.277561</td>\n",
       "      <td>0.078074</td>\n",
       "      <td>0.026025</td>\n",
       "    </tr>\n",
       "    <tr>\n",
       "      <td>4</td>\n",
       "      <td>urn:mavedb:00000001-a-2#5</td>\n",
       "      <td>c.[408T&gt;C;421A&gt;G;444C&gt;T]</td>\n",
       "      <td>p.Arg141Gly</td>\n",
       "      <td>0.250270</td>\n",
       "      <td>0.073538</td>\n",
       "      <td>0.024513</td>\n",
       "    </tr>\n",
       "  </tbody>\n",
       "</table>\n",
       "</div>"
      ],
      "text/plain": [
       "                   accession                                     hgvs_nt  \\\n",
       "0  urn:mavedb:00000001-a-2#1                           c.[197A>G;472T>C]   \n",
       "1  urn:mavedb:00000001-a-2#2  c.[188_189delinsGG;200A>C;310_311delinsGC]   \n",
       "2  urn:mavedb:00000001-a-2#3            c.[96C>G;346A>G;370_371delinsTC]   \n",
       "3  urn:mavedb:00000001-a-2#4                 c.[370_372delinsTCG;447A>G]   \n",
       "4  urn:mavedb:00000001-a-2#5                    c.[408T>C;421A>G;444C>T]   \n",
       "\n",
       "                          hgvs_pro     score        sd        se  \n",
       "0           p.[Asp66Gly;Ser158Pro]  0.406973  0.100413  0.040993  \n",
       "1  p.[Leu63Arg;Asp67Ala;Arg104Ala]  0.248341  0.140991  0.057559  \n",
       "2          p.[Ile116Val;Asn124Ser] -0.037095  0.042003  0.017148  \n",
       "3                      p.Asn124Ser  0.277561  0.078074  0.026025  \n",
       "4                      p.Arg141Gly  0.250270  0.073538  0.024513  "
      ]
     },
     "execution_count": 2,
     "metadata": {},
     "output_type": "execute_result"
    }
   ],
   "source": [
    "# Load mave-db dataset\n",
    "mavedb_file = 'urn_mavedb_00000001-a-2_scores.csv'\n",
    "skiprows = 4\n",
    "df = pd.read_csv(mavedb_file, skiprows=skiprows)\n",
    "df.head()"
   ]
  },
  {
   "cell_type": "code",
   "execution_count": 3,
   "metadata": {},
   "outputs": [
    {
     "name": "stdout",
     "output_type": "stream",
     "text": [
      "{'wt_seq': 'MSGIALSRLAQERKAWRKDHPFGFVAVPTKNPDGTMNLMNWECAIPGKKGTPWEGGLFKLRMLFKDDYPSSPPKCKFEPPLFHPNVYPSGTVCLSILEEDKDWRPAITIKQILLGIQELLNEPNIQDPAQAEAYTIYCQNRVEYEKRVRAQAKKFAPS', 'alphabet': 'protein'}\n"
     ]
    },
    {
     "data": {
      "text/html": [
       "<div>\n",
       "<style scoped>\n",
       "    .dataframe tbody tr th:only-of-type {\n",
       "        vertical-align: middle;\n",
       "    }\n",
       "\n",
       "    .dataframe tbody tr th {\n",
       "        vertical-align: top;\n",
       "    }\n",
       "\n",
       "    .dataframe thead th {\n",
       "        text-align: right;\n",
       "    }\n",
       "</style>\n",
       "<table border=\"1\" class=\"dataframe\">\n",
       "  <thead>\n",
       "    <tr style=\"text-align: right;\">\n",
       "      <th></th>\n",
       "      <th>training_set</th>\n",
       "      <th>hamming_dist</th>\n",
       "      <th>accession</th>\n",
       "      <th>hgvs_nt</th>\n",
       "      <th>sd</th>\n",
       "      <th>se</th>\n",
       "      <th>y</th>\n",
       "      <th>x</th>\n",
       "    </tr>\n",
       "    <tr>\n",
       "      <th>id</th>\n",
       "      <th></th>\n",
       "      <th></th>\n",
       "      <th></th>\n",
       "      <th></th>\n",
       "      <th></th>\n",
       "      <th></th>\n",
       "      <th></th>\n",
       "      <th></th>\n",
       "    </tr>\n",
       "  </thead>\n",
       "  <tbody>\n",
       "    <tr>\n",
       "      <td>0</td>\n",
       "      <td>True</td>\n",
       "      <td>2</td>\n",
       "      <td>urn:mavedb:00000001-a-2#1</td>\n",
       "      <td>c.[197A&gt;G;472T&gt;C]</td>\n",
       "      <td>0.100413</td>\n",
       "      <td>0.040993</td>\n",
       "      <td>0.406973</td>\n",
       "      <td>MSGIALSRLAQERKAWRKDHPFGFVAVPTKNPDGTMNLMNWECAIP...</td>\n",
       "    </tr>\n",
       "    <tr>\n",
       "      <td>1</td>\n",
       "      <td>True</td>\n",
       "      <td>3</td>\n",
       "      <td>urn:mavedb:00000001-a-2#2</td>\n",
       "      <td>c.[188_189delinsGG;200A&gt;C;310_311delinsGC]</td>\n",
       "      <td>0.140991</td>\n",
       "      <td>0.057559</td>\n",
       "      <td>0.248341</td>\n",
       "      <td>MSGIALSRLAQERKAWRKDHPFGFVAVPTKNPDGTMNLMNWECAIP...</td>\n",
       "    </tr>\n",
       "    <tr>\n",
       "      <td>2</td>\n",
       "      <td>True</td>\n",
       "      <td>2</td>\n",
       "      <td>urn:mavedb:00000001-a-2#3</td>\n",
       "      <td>c.[96C&gt;G;346A&gt;G;370_371delinsTC]</td>\n",
       "      <td>0.042003</td>\n",
       "      <td>0.017148</td>\n",
       "      <td>-0.037095</td>\n",
       "      <td>MSGIALSRLAQERKAWRKDHPFGFVAVPTKNPDGTMNLMNWECAIP...</td>\n",
       "    </tr>\n",
       "    <tr>\n",
       "      <td>3</td>\n",
       "      <td>True</td>\n",
       "      <td>1</td>\n",
       "      <td>urn:mavedb:00000001-a-2#4</td>\n",
       "      <td>c.[370_372delinsTCG;447A&gt;G]</td>\n",
       "      <td>0.078074</td>\n",
       "      <td>0.026025</td>\n",
       "      <td>0.277561</td>\n",
       "      <td>MSGIALSRLAQERKAWRKDHPFGFVAVPTKNPDGTMNLMNWECAIP...</td>\n",
       "    </tr>\n",
       "    <tr>\n",
       "      <td>4</td>\n",
       "      <td>True</td>\n",
       "      <td>1</td>\n",
       "      <td>urn:mavedb:00000001-a-2#5</td>\n",
       "      <td>c.[408T&gt;C;421A&gt;G;444C&gt;T]</td>\n",
       "      <td>0.073538</td>\n",
       "      <td>0.024513</td>\n",
       "      <td>0.250270</td>\n",
       "      <td>MSGIALSRLAQERKAWRKDHPFGFVAVPTKNPDGTMNLMNWECAIP...</td>\n",
       "    </tr>\n",
       "  </tbody>\n",
       "</table>\n",
       "</div>"
      ],
      "text/plain": [
       "    training_set  hamming_dist                  accession  \\\n",
       "id                                                          \n",
       "0           True             2  urn:mavedb:00000001-a-2#1   \n",
       "1           True             3  urn:mavedb:00000001-a-2#2   \n",
       "2           True             2  urn:mavedb:00000001-a-2#3   \n",
       "3           True             1  urn:mavedb:00000001-a-2#4   \n",
       "4           True             1  urn:mavedb:00000001-a-2#5   \n",
       "\n",
       "                                       hgvs_nt        sd        se         y  \\\n",
       "id                                                                             \n",
       "0                            c.[197A>G;472T>C]  0.100413  0.040993  0.406973   \n",
       "1   c.[188_189delinsGG;200A>C;310_311delinsGC]  0.140991  0.057559  0.248341   \n",
       "2             c.[96C>G;346A>G;370_371delinsTC]  0.042003  0.017148 -0.037095   \n",
       "3                  c.[370_372delinsTCG;447A>G]  0.078074  0.026025  0.277561   \n",
       "4                     c.[408T>C;421A>G;444C>T]  0.073538  0.024513  0.250270   \n",
       "\n",
       "                                                    x  \n",
       "id                                                     \n",
       "0   MSGIALSRLAQERKAWRKDHPFGFVAVPTKNPDGTMNLMNWECAIP...  \n",
       "1   MSGIALSRLAQERKAWRKDHPFGFVAVPTKNPDGTMNLMNWECAIP...  \n",
       "2   MSGIALSRLAQERKAWRKDHPFGFVAVPTKNPDGTMNLMNWECAIP...  \n",
       "3   MSGIALSRLAQERKAWRKDHPFGFVAVPTKNPDGTMNLMNWECAIP...  \n",
       "4   MSGIALSRLAQERKAWRKDHPFGFVAVPTKNPDGTMNLMNWECAIP...  "
      ]
     },
     "execution_count": 3,
     "metadata": {},
     "output_type": "execute_result"
    }
   ],
   "source": [
    "data_df, info_dict = mavedb_to_dataset(df, \n",
    "                                       hgvs_col='hgvs_pro',\n",
    "                                       y_col='score')\n",
    "print(info_dict)\n",
    "data_df.head()"
   ]
  },
  {
   "cell_type": "code",
   "execution_count": 4,
   "metadata": {},
   "outputs": [
    {
     "name": "stdout",
     "output_type": "stream",
     "text": [
      "212K\tdataset.csv.gz\r\n"
     ]
    }
   ],
   "source": [
    "# Save data_df\n",
    "file_name = 'dataset.csv.gz'\n",
    "data_df.to_csv(file_name, compression='gzip')\n",
    "!du -mh $file_name"
   ]
  },
  {
   "cell_type": "code",
   "execution_count": 5,
   "metadata": {},
   "outputs": [
    {
     "data": {
      "text/plain": [
       "{0: 'ACDEFGHKNPQSVWY',\n",
       " 1: 'DEGHIKQV',\n",
       " 2: 'CDFHIKLMNPQSTY',\n",
       " 3: 'ACDEHKPQRWY',\n",
       " 4: 'CEFHIKLMNQRWY',\n",
       " 5: 'ACDEGKMNQSTWY',\n",
       " 6: 'AEFHKLMPQVWY',\n",
       " 7: 'ACDEFHLMNPQTVWY',\n",
       " 8: 'ACDEGKMNQRSTWY',\n",
       " 9: 'CEFHIKLMNPQRWY',\n",
       " 10: 'CDFIMNPSVWY',\n",
       " 11: 'CFHILMNY',\n",
       " 12: 'ACFHIVY',\n",
       " 13: 'CFHMQVWY',\n",
       " 14: 'FHMQRY',\n",
       " 15: 'H',\n",
       " 16: 'DHL',\n",
       " 17: 'ADHL',\n",
       " 18: 'CFHIKLMPQRSTW',\n",
       " 19: 'ACEFIKMNTVW',\n",
       " 20: 'CDEGHIKMNVWY',\n",
       " 21: 'ADGPQW',\n",
       " 22: 'FILNPQT',\n",
       " 23: 'DEGHMPQRTVW',\n",
       " 24: 'CDFHIKNQRSTW',\n",
       " 25: 'CDFHIKLMNQWY',\n",
       " 26: 'CEGKMNPQRSTWY',\n",
       " 27: 'CDFGHKMRW',\n",
       " 28: 'CDEGHLMQVWY',\n",
       " 29: 'ACGHMPSVWY',\n",
       " 30: 'AEPVW',\n",
       " 31: 'CDFIKQRVW',\n",
       " 32: 'CIKLMP',\n",
       " 33: 'FPQWY',\n",
       " 34: 'DFGHLNQ',\n",
       " 35: 'CDEFHRY',\n",
       " 36: 'CEFHMQV',\n",
       " 37: 'ACDEMQSTY',\n",
       " 38: 'ACDEFGHNPQRWY',\n",
       " 39: 'ACEFGHLMQRVW',\n",
       " 40: 'AEFHIMNPQSTVY',\n",
       " 41: 'CFILMNPRSTY',\n",
       " 42: 'ADEFGHILMNPQV',\n",
       " 43: 'EHIKLMNQRWY',\n",
       " 44: 'ACDEGKPQRSWY',\n",
       " 45: 'CEFGHIKVW',\n",
       " 46: 'ACDFHILMNQSVWY',\n",
       " 47: 'ACDGHLPSVWY',\n",
       " 48: 'CDFGHLMPSTVWY',\n",
       " 49: 'ACDFHIKLNPTY',\n",
       " 50: 'CEFGMQVWY',\n",
       " 51: 'CHI',\n",
       " 52: 'ADFIMNPQTVY',\n",
       " 53: 'CFHIMNRSTWY',\n",
       " 54: 'CDFHILW',\n",
       " 55: 'CEHIKLMNPQTWY',\n",
       " 56: 'ACDGHKNPTVW',\n",
       " 57: 'CDEGHKMNT',\n",
       " 58: 'CDMPQ',\n",
       " 59: 'ACFGVY',\n",
       " 60: 'CIKTV',\n",
       " 61: 'CDGHPSY',\n",
       " 62: 'CDEKWY',\n",
       " 63: 'ACEHMNQRTW',\n",
       " 64: 'ACDFGHMSVWY',\n",
       " 65: 'M',\n",
       " 66: 'FMPQ',\n",
       " 67: 'GMW',\n",
       " 68: 'ACFGHIM',\n",
       " 69: 'DEHIMNQVW',\n",
       " 70: 'CDHIKNQVY',\n",
       " 71: 'DGHIKNWY',\n",
       " 72: 'CDEFGW',\n",
       " 73: 'AC',\n",
       " 74: 'ILM',\n",
       " 75: 'FG',\n",
       " 76: 'AGMW',\n",
       " 77: 'CFHLMNPSY',\n",
       " 78: 'CHKMW',\n",
       " 79: 'DEFHKNQTWY',\n",
       " 80: 'EGMW',\n",
       " 81: 'DG',\n",
       " 82: 'AFGISTVW',\n",
       " 83: 'ACDEFGHINVWY',\n",
       " 84: 'ACEFGMQRVW',\n",
       " 85: 'CDFHKNPQRSTWY',\n",
       " 86: 'AEGILMPRSTVW',\n",
       " 87: 'ACDEFGIKMNVWY',\n",
       " 88: 'CDFGHIKMNQRVY',\n",
       " 89: 'ACDFHIKLMNPQSTY',\n",
       " 90: 'CDEFGHKLMQVW',\n",
       " 91: 'CDFHKPRSTW',\n",
       " 92: 'ADEHIKLMNPQTV',\n",
       " 93: 'ACDEFGHNSWY',\n",
       " 94: 'ILWY',\n",
       " 95: 'CDEHKMPRWY',\n",
       " 96: 'ACDEGHKMNPRTWY',\n",
       " 97: 'CFHILMNQSTWY',\n",
       " 98: 'CFHILMNPRSTWY',\n",
       " 99: 'CFIKLMPQRSTW',\n",
       " 100: 'ACDFGHIPQSVY',\n",
       " 101: 'CFHIKLMRT',\n",
       " 102: 'DNY',\n",
       " 103: 'DEF',\n",
       " 104: 'FHIMNY',\n",
       " 105: 'FHKMQW',\n",
       " 106: 'DHPY',\n",
       " 107: 'CDEGHKQ',\n",
       " 108: 'DHY',\n",
       " 109: 'CMW',\n",
       " 110: 'CNWY',\n",
       " 111: 'DHY',\n",
       " 112: 'DNY',\n",
       " 113: 'CE',\n",
       " 114: 'CDFHILMPQW',\n",
       " 115: 'ACDEFGHNPQY',\n",
       " 116: 'CESVWY',\n",
       " 117: 'IQ',\n",
       " 118: 'DKQW',\n",
       " 119: 'FTY',\n",
       " 121: 'N',\n",
       " 122: 'ADHMW',\n",
       " 123: 'P',\n",
       " 124: 'DEHQY',\n",
       " 125: 'N',\n",
       " 126: 'HQTWY',\n",
       " 127: 'CFGHIKMNVWY',\n",
       " 128: 'EFHIMNRWY',\n",
       " 129: 'ACDEFGIMNSVWY',\n",
       " 130: 'CDFHKMQ',\n",
       " 131: 'CHIMNRTW',\n",
       " 132: 'KLNQRWY',\n",
       " 133: 'EKMQT',\n",
       " 134: 'CIY',\n",
       " 135: 'KNP',\n",
       " 136: 'GQTW',\n",
       " 137: 'ADEIKLMQT',\n",
       " 138: 'ACDEIMNSWY',\n",
       " 139: 'ACKLMPQVW',\n",
       " 140: 'DEQ',\n",
       " 141: 'CQW',\n",
       " 142: 'FPW',\n",
       " 143: 'EGIKPRV',\n",
       " 144: 'ACHLMPTW',\n",
       " 145: 'ADFHPVWY',\n",
       " 146: 'ACDFHV',\n",
       " 147: 'CESW',\n",
       " 148: 'ADEHIKMSVW',\n",
       " 149: 'FHQ',\n",
       " 150: 'CDEFGIKMNTY',\n",
       " 151: 'FHILMNQ',\n",
       " 152: 'ACILNPVW',\n",
       " 153: 'DFGHINSWY',\n",
       " 154: 'ADEGKMNPQTW',\n",
       " 155: 'HNQRWY',\n",
       " 156: 'CDEGIKMNQVWY',\n",
       " 157: 'CDFGHKNQRVWY'}"
      ]
     },
     "execution_count": 5,
     "metadata": {},
     "output_type": "execute_result"
    }
   ],
   "source": [
    "mask_dict = mavenn.get_mask_dict(data_df['x'], alphabet='protein')\n",
    "mask_dict"
   ]
  },
  {
   "cell_type": "code",
   "execution_count": 6,
   "metadata": {},
   "outputs": [
    {
     "data": {
      "text/plain": [
       "3418"
      ]
     },
     "execution_count": 6,
     "metadata": {},
     "output_type": "execute_result"
    }
   ],
   "source": [
    "len(data_df)"
   ]
  },
  {
   "cell_type": "code",
   "execution_count": 7,
   "metadata": {},
   "outputs": [
    {
     "data": {
      "text/plain": [
       "<matplotlib.axes._subplots.AxesSubplot at 0x10378be10>"
      ]
     },
     "execution_count": 7,
     "metadata": {},
     "output_type": "execute_result"
    },
    {
     "data": {
      "image/png": "[encoded data removed]",
      "text/plain": [
       "<Figure size 432x288 with 1 Axes>"
      ]
     },
     "metadata": {
      "needs_background": "light"
     },
     "output_type": "display_data"
    }
   ],
   "source": [
    "import seaborn as sns\n",
    "sns.distplot(data_df['hamming_dist'])"
   ]
  },
  {
   "cell_type": "code",
   "execution_count": 8,
   "metadata": {},
   "outputs": [],
   "source": [
    "# Split into training and test sets\n",
    "ix = data_df['training_set']\n",
    "training_df = data_df[ix].copy()\n",
    "test_df = data_df[~ix].copy()"
   ]
  },
  {
   "cell_type": "code",
   "execution_count": 9,
   "metadata": {},
   "outputs": [],
   "source": [
    "# Infer additive model\n",
    "model = mavenn.Model(x=training_df['x'].values,\n",
    "                     y=training_df['y'].values,\n",
    "                     alphabet='protein',\n",
    "                     gpmap_type='additive',\n",
    "                     regression_type='GE',\n",
    "                     ge_noise_model_type='Gaussian',\n",
    "                     ge_heteroskedasticity_order=0)"
   ]
  },
  {
   "cell_type": "code",
   "execution_count": 10,
   "metadata": {},
   "outputs": [
    {
     "name": "stdout",
     "output_type": "stream",
     "text": [
      "Epoch 1/1000\n",
      "44/44 [==============================] - 0s 6ms/step - loss: 75.1879 - val_loss: 52.4039\n",
      "Epoch 2/1000\n",
      "44/44 [==============================] - 0s 2ms/step - loss: 49.9968 - val_loss: 48.0026\n",
      "Epoch 3/1000\n",
      "44/44 [==============================] - 0s 2ms/step - loss: 45.4707 - val_loss: 43.9431\n",
      "Epoch 4/1000\n",
      "44/44 [==============================] - 0s 2ms/step - loss: 41.3467 - val_loss: 40.8207\n",
      "Epoch 5/1000\n",
      "44/44 [==============================] - 0s 2ms/step - loss: 38.0756 - val_loss: 38.7842\n",
      "Epoch 6/1000\n",
      "44/44 [==============================] - 0s 2ms/step - loss: 35.9251 - val_loss: 37.2280\n",
      "Epoch 7/1000\n",
      "44/44 [==============================] - 0s 2ms/step - loss: 34.6600 - val_loss: 36.7948\n",
      "Epoch 8/1000\n",
      "44/44 [==============================] - 0s 2ms/step - loss: 34.0076 - val_loss: 36.6913\n",
      "Epoch 9/1000\n",
      "44/44 [==============================] - 0s 3ms/step - loss: 33.6747 - val_loss: 36.7334\n",
      "Epoch 10/1000\n",
      "44/44 [==============================] - 0s 4ms/step - loss: 33.6128 - val_loss: 37.2550\n",
      "Epoch 11/1000\n",
      "44/44 [==============================] - 0s 5ms/step - loss: 33.4139 - val_loss: 36.8367\n",
      "Epoch 12/1000\n",
      "44/44 [==============================] - 0s 5ms/step - loss: 33.0304 - val_loss: 36.5966\n",
      "Epoch 13/1000\n",
      "44/44 [==============================] - 0s 5ms/step - loss: 32.7759 - val_loss: 37.5114\n",
      "Epoch 14/1000\n",
      "44/44 [==============================] - 0s 4ms/step - loss: 32.8715 - val_loss: 36.1658\n",
      "Epoch 15/1000\n",
      "44/44 [==============================] - 0s 4ms/step - loss: 30.8763 - val_loss: 35.6652\n",
      "Epoch 16/1000\n",
      "44/44 [==============================] - 0s 3ms/step - loss: 30.4649 - val_loss: 35.6538\n",
      "Epoch 17/1000\n",
      "44/44 [==============================] - 0s 3ms/step - loss: 27.3116 - val_loss: 34.5797\n",
      "Epoch 18/1000\n",
      "44/44 [==============================] - 0s 2ms/step - loss: 23.5286 - val_loss: 34.6353\n",
      "Epoch 19/1000\n",
      "44/44 [==============================] - 0s 3ms/step - loss: 21.2003 - val_loss: 37.0914\n",
      "Epoch 20/1000\n",
      "44/44 [==============================] - 0s 3ms/step - loss: 18.7913 - val_loss: 39.3731\n",
      "Epoch 21/1000\n",
      "44/44 [==============================] - 0s 3ms/step - loss: 14.4696 - val_loss: 52.0050\n",
      "Epoch 22/1000\n",
      "44/44 [==============================] - 0s 2ms/step - loss: 13.6439 - val_loss: 45.6758\n",
      "Epoch 23/1000\n",
      "44/44 [==============================] - 0s 2ms/step - loss: 14.6514 - val_loss: 47.4589\n",
      "Epoch 24/1000\n",
      "44/44 [==============================] - 0s 2ms/step - loss: 16.1520 - val_loss: 45.0945\n",
      "Epoch 25/1000\n",
      "44/44 [==============================] - 0s 3ms/step - loss: 10.0252 - val_loss: 50.3133\n",
      "Epoch 26/1000\n",
      "44/44 [==============================] - 0s 3ms/step - loss: 8.5846 - val_loss: 110.1872\n",
      "Epoch 27/1000\n",
      "44/44 [==============================] - 0s 3ms/step - loss: 11.5240 - val_loss: 53.6732\n",
      "Epoch 28/1000\n",
      "44/44 [==============================] - 0s 3ms/step - loss: 6.0077 - val_loss: 61.9764\n",
      "Epoch 29/1000\n",
      "44/44 [==============================] - 0s 4ms/step - loss: 5.5920 - val_loss: 67.0367\n",
      "Epoch 30/1000\n",
      "44/44 [==============================] - 0s 4ms/step - loss: 4.7925 - val_loss: 72.6877\n",
      "Epoch 31/1000\n",
      "44/44 [==============================] - 0s 6ms/step - loss: 7.0071 - val_loss: 91.9000\n",
      "Epoch 32/1000\n",
      "44/44 [==============================] - 0s 3ms/step - loss: 5.7755 - val_loss: 94.2318\n",
      "Epoch 33/1000\n",
      "44/44 [==============================] - 0s 3ms/step - loss: 3.8799 - val_loss: 108.3933\n",
      "Epoch 34/1000\n",
      "44/44 [==============================] - 0s 2ms/step - loss: 2.4249 - val_loss: 82.3421\n",
      "Epoch 35/1000\n",
      "44/44 [==============================] - 0s 3ms/step - loss: 0.9408 - val_loss: 88.9171\n",
      "Epoch 36/1000\n",
      "44/44 [==============================] - 0s 3ms/step - loss: 0.4559 - val_loss: 86.2348\n",
      "Epoch 37/1000\n",
      "44/44 [==============================] - 0s 3ms/step - loss: 4.0710 - val_loss: 82.3391\n",
      "Epoch 38/1000\n",
      "44/44 [==============================] - 0s 3ms/step - loss: 1.0575 - val_loss: 111.7793\n",
      "Epoch 39/1000\n",
      "44/44 [==============================] - 0s 3ms/step - loss: -0.0651 - val_loss: 92.5188\n",
      "Epoch 40/1000\n",
      "44/44 [==============================] - 0s 3ms/step - loss: 0.7082 - val_loss: 115.1030\n",
      "Epoch 41/1000\n",
      "44/44 [==============================] - 0s 3ms/step - loss: -0.4000 - val_loss: 97.0213\n",
      "Epoch 42/1000\n",
      "44/44 [==============================] - 0s 4ms/step - loss: -0.0372 - val_loss: 102.8536\n",
      "Epoch 43/1000\n",
      "44/44 [==============================] - 0s 4ms/step - loss: -0.9472 - val_loss: 100.7456\n",
      "Epoch 44/1000\n",
      "44/44 [==============================] - 0s 4ms/step - loss: -0.2751 - val_loss: 98.6838\n",
      "Epoch 45/1000\n",
      "44/44 [==============================] - 0s 3ms/step - loss: -1.1296 - val_loss: 114.5853\n",
      "Epoch 46/1000\n",
      "44/44 [==============================] - 0s 4ms/step - loss: 4.8632 - val_loss: 95.5188\n",
      "Epoch 47/1000\n",
      "44/44 [==============================] - 0s 3ms/step - loss: 5.3304 - val_loss: 82.9854\n",
      "Epoch 48/1000\n",
      "44/44 [==============================] - 0s 2ms/step - loss: -2.0602 - val_loss: 106.1752\n",
      "Epoch 49/1000\n",
      "44/44 [==============================] - 0s 3ms/step - loss: -2.6661 - val_loss: 137.2786\n",
      "Epoch 50/1000\n",
      "44/44 [==============================] - 0s 3ms/step - loss: -3.7325 - val_loss: 171.0541\n",
      "Epoch 51/1000\n",
      "44/44 [==============================] - 0s 3ms/step - loss: 2.6882 - val_loss: 109.7290\n",
      "Epoch 52/1000\n",
      "44/44 [==============================] - 0s 3ms/step - loss: -0.6407 - val_loss: 105.6424\n",
      "Epoch 53/1000\n",
      "44/44 [==============================] - 0s 4ms/step - loss: 0.5517 - val_loss: 132.3834\n",
      "Epoch 54/1000\n",
      "44/44 [==============================] - 0s 2ms/step - loss: -0.1050 - val_loss: 112.3178\n",
      "Epoch 55/1000\n",
      "44/44 [==============================] - 0s 2ms/step - loss: -3.7837 - val_loss: 121.4593\n",
      "Epoch 56/1000\n",
      "44/44 [==============================] - 0s 2ms/step - loss: -0.6175 - val_loss: 208.8127\n",
      "Epoch 57/1000\n",
      "44/44 [==============================] - 0s 2ms/step - loss: 3.8361 - val_loss: 102.3289\n",
      "Epoch 58/1000\n",
      "44/44 [==============================] - 0s 2ms/step - loss: -3.4024 - val_loss: 126.5949\n",
      "Epoch 59/1000\n",
      "44/44 [==============================] - 0s 2ms/step - loss: -1.3226 - val_loss: 110.9839\n",
      "Epoch 60/1000\n",
      "44/44 [==============================] - 0s 4ms/step - loss: 1.3939 - val_loss: 102.3224\n",
      "Epoch 61/1000\n",
      "44/44 [==============================] - 0s 4ms/step - loss: -3.9751 - val_loss: 128.0269\n",
      "Epoch 62/1000\n",
      "44/44 [==============================] - 0s 4ms/step - loss: -4.6026 - val_loss: 128.1827\n",
      "Epoch 63/1000\n",
      "44/44 [==============================] - 0s 4ms/step - loss: -3.4245 - val_loss: 150.8607\n",
      "Epoch 64/1000\n",
      "44/44 [==============================] - 0s 4ms/step - loss: -2.3039 - val_loss: 135.3089\n",
      "Epoch 65/1000\n",
      "44/44 [==============================] - 0s 3ms/step - loss: -4.1100 - val_loss: 123.6006\n",
      "Epoch 66/1000\n",
      "44/44 [==============================] - 0s 4ms/step - loss: -2.8478 - val_loss: 138.4161\n",
      "Epoch 67/1000\n",
      "44/44 [==============================] - 0s 5ms/step - loss: 5.8277 - val_loss: 93.0829\n",
      "training time: 10.4 seconds\n"
     ]
    }
   ],
   "source": [
    "start_time = time.time()\n",
    "history = model.fit(epochs=1000, early_stopping=True, early_stopping_patience=50, learning_rate=.005, batch_size=50)\n",
    "training_time = time.time()-start_time\n",
    "print(f'training time: {training_time:.1f} seconds')"
   ]
  },
  {
   "cell_type": "code",
   "execution_count": 11,
   "metadata": {},
   "outputs": [
    {
     "data": {
      "text/plain": [
       "<matplotlib.legend.Legend at 0x13e9c11d0>"
      ]
     },
     "execution_count": 11,
     "metadata": {},
     "output_type": "execute_result"
    },
    {
     "data": {
      "image/png": "[encoded data removed]",
      "text/plain": [
       "<Figure size 432x288 with 1 Axes>"
      ]
     },
     "metadata": {
      "needs_background": "light"
     },
     "output_type": "display_data"
    }
   ],
   "source": [
    "# Extract training loss and validation loss\n",
    "history_dict = history.history\n",
    "loss_training = history_dict['loss']\n",
    "loss_validation = history_dict['val_loss']\n",
    "\n",
    "# Plot model training history\n",
    "fig, ax = plt.subplots()\n",
    "ax.plot(loss_training, color='C2', label='training')\n",
    "ax.plot(loss_validation, color='C3', label='validation')\n",
    "ax.set_ylabel('loss')\n",
    "ax.set_xlabel('epoch')\n",
    "ax.set_title(f\"training history ({training_time:.2f} sec)\")\n",
    "ax.legend()"
   ]
  },
  {
   "cell_type": "code",
   "execution_count": 12,
   "metadata": {},
   "outputs": [
    {
     "data": {
      "text/plain": [
       "Text(0.5, 1.0, 'mutation effects')"
      ]
     },
     "execution_count": 12,
     "metadata": {},
     "output_type": "execute_result"
    },
    {
     "data": {
      "image/png": "[encoded data removed]",
      "text/plain": [
       "<Figure size 1080x360 with 2 Axes>"
      ]
     },
     "metadata": {
      "needs_background": "light"
     },
     "output_type": "display_data"
    }
   ],
   "source": [
    "# Set wild-type sequence\n",
    "wt_seq = info_dict['wt_seq']\n",
    "\n",
    "# Get effects of all single-point mutations on phi\n",
    "dphi_df = mavenn.get_1pt_effects(func=model.x_to_phi,\n",
    "                                 wt_seq=wt_seq,\n",
    "                                 alphabet='protein')\n",
    "# Draw heatmap\n",
    "fig, ax = plt.subplots(figsize=[15,5])\n",
    "ax, cb = mavenn.heatmap(dphi_df,\n",
    "                        ccenter=0,\n",
    "                        clim_quantile=.99,\n",
    "                        mask_dict=mask_dict,\n",
    "                        #clim=[-1,.2],\n",
    "                        c_col='c_mut',\n",
    "                        l_col='l',\n",
    "                        value_col='dphi',\n",
    "                        seq=wt_seq,\n",
    "                        #cmap='PiYG',\n",
    "                        ax=ax)\n",
    "ax.set_xlabel('position ($l$)')\n",
    "ax.set_ylabel('amino acid ($c$)')\n",
    "cb.set_label('effect ($\\Delta\\phi$)', rotation=-90, va=\"bottom\")\n",
    "ax.set_title('mutation effects')"
   ]
  },
  {
   "cell_type": "code",
   "execution_count": 13,
   "metadata": {},
   "outputs": [],
   "source": [
    "# Extract data into np.arrays\n",
    "x = test_df['x'].values\n",
    "y = test_df['y'].values\n",
    "\n",
    "# Compute phi and yhat values\n",
    "phi = model.x_to_phi(x)\n",
    "yhat = model.phi_to_yhat(phi)\n",
    "\n",
    "# Create grid for plotting yhat and yqs\n",
    "phi_lim = [-5, 2.5]\n",
    "phi_grid = np.linspace(phi_lim[0], phi_lim[1], 1000)\n",
    "yhat_grid = model.phi_to_yhat(phi_grid)\n",
    "yqs_grid = model.yhat_to_yq(yhat_grid, q=[.16,.84])"
   ]
  },
  {
   "cell_type": "code",
   "execution_count": 14,
   "metadata": {},
   "outputs": [
    {
     "data": {
      "text/plain": [
       "Text(0.5, 1.0, 'measurement process')"
      ]
     },
     "execution_count": 14,
     "metadata": {},
     "output_type": "execute_result"
    },
    {
     "data": {
      "image/png": "[encoded data removed]",
      "text/plain": [
       "<Figure size 432x288 with 1 Axes>"
      ]
     },
     "metadata": {
      "needs_background": "light"
     },
     "output_type": "display_data"
    }
   ],
   "source": [
    "fig, ax = plt.subplots()\n",
    "\n",
    "ax.scatter(phi, y, color='C0', s=5, alpha=.2, label='test data')\n",
    "ax.plot(phi_grid, yhat_grid, linewidth=2, color='C1',\n",
    "        label='$\\hat{y} = g(\\phi)$')\n",
    "ax.plot(phi_grid, yqs_grid[:, 0], linestyle='--', color='C1',\n",
    "        label='68% CI')\n",
    "ax.plot(phi_grid, yqs_grid[:, 1], linestyle='--', color='C1')\n",
    "ax.set_xlim(phi_lim)\n",
    "ax.set_xlabel('latent phenotype ($\\phi$)')\n",
    "ax.set_ylabel('measurement ($y$)')\n",
    "ax.set_title('measurement process')"
   ]
  },
  {
   "cell_type": "code",
   "execution_count": null,
   "metadata": {},
   "outputs": [],
   "source": []
  }
 ],
 "metadata": {
  "kernelspec": {
   "display_name": "Python 3",
   "language": "python",
   "name": "python3"
  },
  "language_info": {
   "codemirror_mode": {
    "name": "ipython",
    "version": 3
   },
   "file_extension": ".py",
   "mimetype": "text/x-python",
   "name": "python",
   "nbconvert_exporter": "python",
   "pygments_lexer": "ipython3",
   "version": "3.7.4"
  }
 },
 "nbformat": 4,
 "nbformat_minor": 2
}
