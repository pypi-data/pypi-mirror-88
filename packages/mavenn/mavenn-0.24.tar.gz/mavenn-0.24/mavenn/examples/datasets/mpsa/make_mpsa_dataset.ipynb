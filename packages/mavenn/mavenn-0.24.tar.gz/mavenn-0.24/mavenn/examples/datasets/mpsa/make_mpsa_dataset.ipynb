{
 "cells": [
  {
   "cell_type": "code",
   "execution_count": 1,
   "metadata": {
    "ExecuteTime": {
     "end_time": "2020-11-17T17:58:10.287010Z",
     "start_time": "2020-11-17T17:58:07.711046Z"
    },
    "code_folding": []
   },
   "outputs": [
    {
     "name": "stdout",
     "output_type": "stream",
     "text": [
      "['/Users/jkinney/github/mavenn/mavenn']\n"
     ]
    }
   ],
   "source": [
    "# Standard imports\n",
    "import pandas as pd\n",
    "import numpy as np\n",
    "import matplotlib.pyplot as plt\n",
    "import seaborn as sns\n",
    "%matplotlib inline\n",
    "\n",
    "import os\n",
    "import sys\n",
    "import re\n",
    "import glob\n",
    "import suftware as su\n",
    "from scipy.stats import norm\n",
    "from scipy.stats import poisson\n",
    "\n",
    "#Load mavenn and check path\n",
    "import mavenn\n",
    "print(mavenn.__path__)\n",
    "\n",
    "e = np.exp(1)\n",
    "pi = np.pi\n",
    "def pseudo_log(x,base=e):\n",
    "    return np.log(x+.5)/np.log(base)"
   ]
  },
  {
   "cell_type": "code",
   "execution_count": 2,
   "metadata": {
    "ExecuteTime": {
     "end_time": "2020-11-17T17:58:11.484013Z",
     "start_time": "2020-11-17T17:58:10.288872Z"
    }
   },
   "outputs": [
    {
     "name": "stdout",
     "output_type": "stream",
     "text": [
      "Processing /Users/jkinney/Dropbox/20_mavenn/20.08.16_mpsa_raw_data/results.brca2_9nt_lib1_rep1.txt\n"
     ]
    },
    {
     "data": {
      "text/html": [
       "<div>\n",
       "<style scoped>\n",
       "    .dataframe tbody tr th:only-of-type {\n",
       "        vertical-align: middle;\n",
       "    }\n",
       "\n",
       "    .dataframe tbody tr th {\n",
       "        vertical-align: top;\n",
       "    }\n",
       "\n",
       "    .dataframe thead th {\n",
       "        text-align: right;\n",
       "    }\n",
       "</style>\n",
       "<table border=\"1\" class=\"dataframe\">\n",
       "  <thead>\n",
       "    <tr style=\"text-align: right;\">\n",
       "      <th></th>\n",
       "      <th>tot_ct</th>\n",
       "      <th>ex_ct</th>\n",
       "      <th>ss</th>\n",
       "      <th>bc</th>\n",
       "    </tr>\n",
       "  </thead>\n",
       "  <tbody>\n",
       "    <tr>\n",
       "      <th>0</th>\n",
       "      <td>377</td>\n",
       "      <td>27</td>\n",
       "      <td>ACAGCGGGA</td>\n",
       "      <td>TTAGCTATCGGCTGACGTCT</td>\n",
       "    </tr>\n",
       "    <tr>\n",
       "      <th>1</th>\n",
       "      <td>332</td>\n",
       "      <td>5</td>\n",
       "      <td>AGCGTGTAT</td>\n",
       "      <td>CCACCCAACGCGCCGTCAGT</td>\n",
       "    </tr>\n",
       "    <tr>\n",
       "      <th>2</th>\n",
       "      <td>320</td>\n",
       "      <td>3286</td>\n",
       "      <td>CAGGTGAGA</td>\n",
       "      <td>TTGAGGTACACTGAACAGTC</td>\n",
       "    </tr>\n",
       "    <tr>\n",
       "      <th>3</th>\n",
       "      <td>312</td>\n",
       "      <td>2248</td>\n",
       "      <td>CAGGTTAGA</td>\n",
       "      <td>ACCGATCTGCCACGGCGACC</td>\n",
       "    </tr>\n",
       "    <tr>\n",
       "      <th>4</th>\n",
       "      <td>291</td>\n",
       "      <td>8</td>\n",
       "      <td>CAAGCCTTA</td>\n",
       "      <td>AGGGACCATCCAGTTCGCCT</td>\n",
       "    </tr>\n",
       "  </tbody>\n",
       "</table>\n",
       "</div>"
      ],
      "text/plain": [
       "   tot_ct  ex_ct         ss                    bc\n",
       "0     377     27  ACAGCGGGA  TTAGCTATCGGCTGACGTCT\n",
       "1     332      5  AGCGTGTAT  CCACCCAACGCGCCGTCAGT\n",
       "2     320   3286  CAGGTGAGA  TTGAGGTACACTGAACAGTC\n",
       "3     312   2248  CAGGTTAGA  ACCGATCTGCCACGGCGACC\n",
       "4     291      8  CAAGCCTTA  AGGGACCATCCAGTTCGCCT"
      ]
     },
     "execution_count": 2,
     "metadata": {},
     "output_type": "execute_result"
    }
   ],
   "source": [
    "# Get in-file\n",
    "data_dir = '/Users/jkinney/Dropbox/20_mavenn/20.08.16_mpsa_raw_data/'\n",
    "in_file = data_dir + 'results.brca2_9nt_lib1_rep1.txt'\n",
    "        \n",
    "# Create dict to record statistics\n",
    "stats_dict = {}\n",
    "        \n",
    "# Load file\n",
    "in_df = pd.read_csv(in_file, delimiter='\\t', index_col=0)\n",
    "print(f'Processing {in_file}')\n",
    "\n",
    "# Remove extraneous columns\n",
    "del in_df['mis_ct']\n",
    "del in_df['lib_ct']\n",
    "\n",
    "in_df.head()"
   ]
  },
  {
   "cell_type": "code",
   "execution_count": 3,
   "metadata": {
    "ExecuteTime": {
     "end_time": "2020-11-17T17:58:11.801790Z",
     "start_time": "2020-11-17T17:58:11.487006Z"
    }
   },
   "outputs": [],
   "source": [
    "# Marginalize by splice site\n",
    "data_df = in_df.groupby('ss').sum()\n",
    "data_df.reset_index(inplace=True)"
   ]
  },
  {
   "cell_type": "code",
   "execution_count": 4,
   "metadata": {
    "ExecuteTime": {
     "end_time": "2020-11-17T17:58:12.273620Z",
     "start_time": "2020-11-17T17:58:11.803717Z"
    }
   },
   "outputs": [
    {
     "data": {
      "text/plain": [
       "<matplotlib.axes._subplots.AxesSubplot at 0x10701fdf0>"
      ]
     },
     "execution_count": 4,
     "metadata": {},
     "output_type": "execute_result"
    },
    {
     "data": {
      "image/png": "[encoded data removed]",
      "text/plain": [
       "<Figure size 432x288 with 1 Axes>"
      ]
     },
     "metadata": {
      "needs_background": "light"
     },
     "output_type": "display_data"
    }
   ],
   "source": [
    "# Look at tot_ct distribution\n",
    "sns.histplot(np.log10(data_df['tot_ct']+.1))"
   ]
  },
  {
   "cell_type": "code",
   "execution_count": 5,
   "metadata": {
    "ExecuteTime": {
     "end_time": "2020-11-17T17:58:12.400548Z",
     "start_time": "2020-11-17T17:58:12.276930Z"
    }
   },
   "outputs": [
    {
     "name": "stdout",
     "output_type": "stream",
     "text": [
      "2309 ss removed for having tot_ct < 10\n",
      "7 ss with invalid sequences removed\n",
      "N: 30,483\n"
     ]
    },
    {
     "data": {
      "text/html": [
       "<div>\n",
       "<style scoped>\n",
       "    .dataframe tbody tr th:only-of-type {\n",
       "        vertical-align: middle;\n",
       "    }\n",
       "\n",
       "    .dataframe tbody tr th {\n",
       "        vertical-align: top;\n",
       "    }\n",
       "\n",
       "    .dataframe thead th {\n",
       "        text-align: right;\n",
       "    }\n",
       "</style>\n",
       "<table border=\"1\" class=\"dataframe\">\n",
       "  <thead>\n",
       "    <tr style=\"text-align: right;\">\n",
       "      <th></th>\n",
       "      <th>set</th>\n",
       "      <th>tot_ct</th>\n",
       "      <th>ex_ct</th>\n",
       "      <th>y</th>\n",
       "      <th>x</th>\n",
       "    </tr>\n",
       "  </thead>\n",
       "  <tbody>\n",
       "    <tr>\n",
       "      <th>0</th>\n",
       "      <td>training</td>\n",
       "      <td>28</td>\n",
       "      <td>2</td>\n",
       "      <td>0.023406</td>\n",
       "      <td>GGAGUGAUG</td>\n",
       "    </tr>\n",
       "    <tr>\n",
       "      <th>1</th>\n",
       "      <td>training</td>\n",
       "      <td>315</td>\n",
       "      <td>7</td>\n",
       "      <td>-0.587914</td>\n",
       "      <td>AGUGUGCAA</td>\n",
       "    </tr>\n",
       "    <tr>\n",
       "      <th>2</th>\n",
       "      <td>test</td>\n",
       "      <td>193</td>\n",
       "      <td>15</td>\n",
       "      <td>-0.074999</td>\n",
       "      <td>UUCGCGCCA</td>\n",
       "    </tr>\n",
       "    <tr>\n",
       "      <th>3</th>\n",
       "      <td>validation</td>\n",
       "      <td>27</td>\n",
       "      <td>0</td>\n",
       "      <td>-0.438475</td>\n",
       "      <td>UAAGCUUUU</td>\n",
       "    </tr>\n",
       "    <tr>\n",
       "      <th>4</th>\n",
       "      <td>training</td>\n",
       "      <td>130</td>\n",
       "      <td>2</td>\n",
       "      <td>-0.631467</td>\n",
       "      <td>AUGGUCGGG</td>\n",
       "    </tr>\n",
       "    <tr>\n",
       "      <th>5</th>\n",
       "      <td>training</td>\n",
       "      <td>552</td>\n",
       "      <td>19</td>\n",
       "      <td>-0.433012</td>\n",
       "      <td>AGGGCAGGA</td>\n",
       "    </tr>\n",
       "    <tr>\n",
       "      <th>6</th>\n",
       "      <td>training</td>\n",
       "      <td>151</td>\n",
       "      <td>184</td>\n",
       "      <td>1.094011</td>\n",
       "      <td>AAGGUCCGC</td>\n",
       "    </tr>\n",
       "    <tr>\n",
       "      <th>7</th>\n",
       "      <td>test</td>\n",
       "      <td>216</td>\n",
       "      <td>6</td>\n",
       "      <td>-0.482679</td>\n",
       "      <td>GGUGUCUGU</td>\n",
       "    </tr>\n",
       "    <tr>\n",
       "      <th>8</th>\n",
       "      <td>training</td>\n",
       "      <td>88</td>\n",
       "      <td>4</td>\n",
       "      <td>-0.241737</td>\n",
       "      <td>CAGGCAAAC</td>\n",
       "    </tr>\n",
       "    <tr>\n",
       "      <th>9</th>\n",
       "      <td>training</td>\n",
       "      <td>105</td>\n",
       "      <td>5</td>\n",
       "      <td>-0.238471</td>\n",
       "      <td>GUGGCAAAU</td>\n",
       "    </tr>\n",
       "    <tr>\n",
       "      <th>10</th>\n",
       "      <td>validation</td>\n",
       "      <td>14</td>\n",
       "      <td>0</td>\n",
       "      <td>-0.167408</td>\n",
       "      <td>CAUGCAGCU</td>\n",
       "    </tr>\n",
       "    <tr>\n",
       "      <th>11</th>\n",
       "      <td>training</td>\n",
       "      <td>170</td>\n",
       "      <td>14</td>\n",
       "      <td>-0.048222</td>\n",
       "      <td>CAAGUCACU</td>\n",
       "    </tr>\n",
       "    <tr>\n",
       "      <th>12</th>\n",
       "      <td>training</td>\n",
       "      <td>242</td>\n",
       "      <td>13</td>\n",
       "      <td>-0.230795</td>\n",
       "      <td>UCCGCGCUA</td>\n",
       "    </tr>\n",
       "    <tr>\n",
       "      <th>13</th>\n",
       "      <td>training</td>\n",
       "      <td>586</td>\n",
       "      <td>28</td>\n",
       "      <td>-0.297557</td>\n",
       "      <td>ACCGCAAGA</td>\n",
       "    </tr>\n",
       "    <tr>\n",
       "      <th>14</th>\n",
       "      <td>training</td>\n",
       "      <td>224</td>\n",
       "      <td>8</td>\n",
       "      <td>-0.389257</td>\n",
       "      <td>ACCGUUGAG</td>\n",
       "    </tr>\n",
       "    <tr>\n",
       "      <th>15</th>\n",
       "      <td>training</td>\n",
       "      <td>428</td>\n",
       "      <td>33</td>\n",
       "      <td>-0.092295</td>\n",
       "      <td>AGUGUCCGU</td>\n",
       "    </tr>\n",
       "    <tr>\n",
       "      <th>16</th>\n",
       "      <td>training</td>\n",
       "      <td>49</td>\n",
       "      <td>3</td>\n",
       "      <td>-0.088227</td>\n",
       "      <td>UUAGUCCCG</td>\n",
       "    </tr>\n",
       "    <tr>\n",
       "      <th>17</th>\n",
       "      <td>test</td>\n",
       "      <td>539</td>\n",
       "      <td>19</td>\n",
       "      <td>-0.422681</td>\n",
       "      <td>UUAGCUGGA</td>\n",
       "    </tr>\n",
       "    <tr>\n",
       "      <th>18</th>\n",
       "      <td>training</td>\n",
       "      <td>148</td>\n",
       "      <td>11</td>\n",
       "      <td>-0.085322</td>\n",
       "      <td>UGGGUUGAA</td>\n",
       "    </tr>\n",
       "    <tr>\n",
       "      <th>19</th>\n",
       "      <td>training</td>\n",
       "      <td>94</td>\n",
       "      <td>1</td>\n",
       "      <td>-0.668010</td>\n",
       "      <td>UCAGUCUUU</td>\n",
       "    </tr>\n",
       "  </tbody>\n",
       "</table>\n",
       "</div>"
      ],
      "text/plain": [
       "           set  tot_ct  ex_ct         y          x\n",
       "0     training      28      2  0.023406  GGAGUGAUG\n",
       "1     training     315      7 -0.587914  AGUGUGCAA\n",
       "2         test     193     15 -0.074999  UUCGCGCCA\n",
       "3   validation      27      0 -0.438475  UAAGCUUUU\n",
       "4     training     130      2 -0.631467  AUGGUCGGG\n",
       "5     training     552     19 -0.433012  AGGGCAGGA\n",
       "6     training     151    184  1.094011  AAGGUCCGC\n",
       "7         test     216      6 -0.482679  GGUGUCUGU\n",
       "8     training      88      4 -0.241737  CAGGCAAAC\n",
       "9     training     105      5 -0.238471  GUGGCAAAU\n",
       "10  validation      14      0 -0.167408  CAUGCAGCU\n",
       "11    training     170     14 -0.048222  CAAGUCACU\n",
       "12    training     242     13 -0.230795  UCCGCGCUA\n",
       "13    training     586     28 -0.297557  ACCGCAAGA\n",
       "14    training     224      8 -0.389257  ACCGUUGAG\n",
       "15    training     428     33 -0.092295  AGUGUCCGU\n",
       "16    training      49      3 -0.088227  UUAGUCCCG\n",
       "17        test     539     19 -0.422681  UUAGCUGGA\n",
       "18    training     148     11 -0.085322  UGGGUUGAA\n",
       "19    training      94      1 -0.668010  UCAGUCUUU"
      ]
     },
     "execution_count": 5,
     "metadata": {},
     "output_type": "execute_result"
    }
   ],
   "source": [
    "# Rename columns\n",
    "data_df.rename(columns={'ss':'x'}, inplace=True)\n",
    "\n",
    "# Make sequences RNA\n",
    "data_df['x'] = [ss.replace('T','U') for ss in data_df['x']]\n",
    "\n",
    "# Remove ss with minimum tot_ct\n",
    "min_ct = 10\n",
    "ix = data_df['tot_ct'] >= min_ct\n",
    "data_df = data_df[ix]\n",
    "print(f'{(~ix).sum()} ss removed for having tot_ct < {min_ct}')\n",
    "\n",
    "# Remove ss with invalid sequences\n",
    "ix = np.array([((x[3]=='G') and (x[4] in {'C','U'})) for x in data_df['x']])\n",
    "data_df = data_df[ix]\n",
    "print(f'{(~ix).sum()} ss with invalid sequences removed')\n",
    "\n",
    "# Get consensus i_cons and o_cons\n",
    "cons_seq = 'CAGGUAAGU'\n",
    "tmp_df = data_df.set_index('x')\n",
    "i_cons = tmp_df.loc['CAGGUAAGU','tot_ct']\n",
    "o_cons = tmp_df.loc['CAGGUAAGU','ex_ct']\n",
    "\n",
    "# Compute y\n",
    "i_n = data_df['tot_ct']\n",
    "o_n = data_df['ex_ct']\n",
    "y_n = np.log10(100*((o_n+1)/(i_n+1))/((o_cons+1)/(i_cons+1)))\n",
    "data_df['y'] = y_n\n",
    "\n",
    "# Assign to trianing and test sets\n",
    "N = len(data_df)\n",
    "training_frac=.8\n",
    "np.random.seed(0)\n",
    "r = np.random.rand(N)\n",
    "test_frac = .2\n",
    "val_frac = .2\n",
    "ix_train = (test_frac + val_frac <= r)\n",
    "ix_val = (test_frac <= r) & (r < test_frac + val_frac)\n",
    "ix_test = (r < test_frac)\n",
    "data_df['set'] = ''\n",
    "data_df.loc[ix_train, 'set'] = 'training'\n",
    "data_df.loc[ix_val, 'set'] = 'validation'\n",
    "data_df.loc[ix_test, 'set'] = 'test'\n",
    "assert all([len(x)>0 for x in data_df['set']])\n",
    "\n",
    "# Shuffle data for extra safety\n",
    "data_df = data_df.sample(frac=1).reset_index(drop=True)\n",
    "\n",
    "# Order columns\n",
    "data_df = data_df[['set', 'tot_ct', 'ex_ct', 'y', 'x']]\n",
    "\n",
    "# Preview dataframe\n",
    "print(f'N: {N:,}')\n",
    "data_df.head(20)"
   ]
  },
  {
   "cell_type": "code",
   "execution_count": 6,
   "metadata": {
    "ExecuteTime": {
     "end_time": "2020-11-17T17:58:12.423724Z",
     "start_time": "2020-11-17T17:58:12.405511Z"
    }
   },
   "outputs": [
    {
     "data": {
      "text/html": [
       "<div>\n",
       "<style scoped>\n",
       "    .dataframe tbody tr th:only-of-type {\n",
       "        vertical-align: middle;\n",
       "    }\n",
       "\n",
       "    .dataframe tbody tr th {\n",
       "        vertical-align: top;\n",
       "    }\n",
       "\n",
       "    .dataframe thead th {\n",
       "        text-align: right;\n",
       "    }\n",
       "</style>\n",
       "<table border=\"1\" class=\"dataframe\">\n",
       "  <thead>\n",
       "    <tr style=\"text-align: right;\">\n",
       "      <th></th>\n",
       "      <th>set</th>\n",
       "      <th>tot_ct</th>\n",
       "      <th>ex_ct</th>\n",
       "      <th>y</th>\n",
       "      <th>x</th>\n",
       "    </tr>\n",
       "  </thead>\n",
       "  <tbody>\n",
       "    <tr>\n",
       "      <th>12891</th>\n",
       "      <td>training</td>\n",
       "      <td>292</td>\n",
       "      <td>2871</td>\n",
       "      <td>2.0</td>\n",
       "      <td>CAGGUAAGU</td>\n",
       "    </tr>\n",
       "  </tbody>\n",
       "</table>\n",
       "</div>"
      ],
      "text/plain": [
       "            set  tot_ct  ex_ct    y          x\n",
       "12891  training     292   2871  2.0  CAGGUAAGU"
      ]
     },
     "execution_count": 6,
     "metadata": {},
     "output_type": "execute_result"
    }
   ],
   "source": [
    "# Check normalization; should have y=2.0\n",
    "data_df[data_df['x']==cons_seq]"
   ]
  },
  {
   "cell_type": "code",
   "execution_count": 7,
   "metadata": {
    "ExecuteTime": {
     "end_time": "2020-11-17T17:58:13.049781Z",
     "start_time": "2020-11-17T17:58:12.460353Z"
    }
   },
   "outputs": [
    {
     "name": "stdout",
     "output_type": "stream",
     "text": [
      "df (zipped):\n",
      "424K\tmpsa_data.csv.gz\r\n"
     ]
    }
   ],
   "source": [
    "# Show size of compressed dataset file\n",
    "file_name = 'mpsa_data.csv.gz'\n",
    "data_df.to_csv(file_name, compression='gzip', index=False)\n",
    "print('df (zipped):')\n",
    "!du -mh $file_name\n",
    "!mv $file_name ../."
   ]
  },
  {
   "cell_type": "code",
   "execution_count": 8,
   "metadata": {
    "ExecuteTime": {
     "end_time": "2020-11-17T17:58:13.131411Z",
     "start_time": "2020-11-17T17:58:13.052882Z"
    }
   },
   "outputs": [
    {
     "data": {
      "text/html": [
       "<div>\n",
       "<style scoped>\n",
       "    .dataframe tbody tr th:only-of-type {\n",
       "        vertical-align: middle;\n",
       "    }\n",
       "\n",
       "    .dataframe tbody tr th {\n",
       "        vertical-align: top;\n",
       "    }\n",
       "\n",
       "    .dataframe thead th {\n",
       "        text-align: right;\n",
       "    }\n",
       "</style>\n",
       "<table border=\"1\" class=\"dataframe\">\n",
       "  <thead>\n",
       "    <tr style=\"text-align: right;\">\n",
       "      <th></th>\n",
       "      <th>set</th>\n",
       "      <th>tot_ct</th>\n",
       "      <th>ex_ct</th>\n",
       "      <th>y</th>\n",
       "      <th>x</th>\n",
       "    </tr>\n",
       "  </thead>\n",
       "  <tbody>\n",
       "    <tr>\n",
       "      <th>0</th>\n",
       "      <td>training</td>\n",
       "      <td>28</td>\n",
       "      <td>2</td>\n",
       "      <td>0.023406</td>\n",
       "      <td>GGAGUGAUG</td>\n",
       "    </tr>\n",
       "    <tr>\n",
       "      <th>1</th>\n",
       "      <td>training</td>\n",
       "      <td>315</td>\n",
       "      <td>7</td>\n",
       "      <td>-0.587914</td>\n",
       "      <td>AGUGUGCAA</td>\n",
       "    </tr>\n",
       "    <tr>\n",
       "      <th>2</th>\n",
       "      <td>test</td>\n",
       "      <td>193</td>\n",
       "      <td>15</td>\n",
       "      <td>-0.074999</td>\n",
       "      <td>UUCGCGCCA</td>\n",
       "    </tr>\n",
       "    <tr>\n",
       "      <th>3</th>\n",
       "      <td>validation</td>\n",
       "      <td>27</td>\n",
       "      <td>0</td>\n",
       "      <td>-0.438475</td>\n",
       "      <td>UAAGCUUUU</td>\n",
       "    </tr>\n",
       "    <tr>\n",
       "      <th>4</th>\n",
       "      <td>training</td>\n",
       "      <td>130</td>\n",
       "      <td>2</td>\n",
       "      <td>-0.631467</td>\n",
       "      <td>AUGGUCGGG</td>\n",
       "    </tr>\n",
       "  </tbody>\n",
       "</table>\n",
       "</div>"
      ],
      "text/plain": [
       "          set  tot_ct  ex_ct         y          x\n",
       "0    training      28      2  0.023406  GGAGUGAUG\n",
       "1    training     315      7 -0.587914  AGUGUGCAA\n",
       "2        test     193     15 -0.074999  UUCGCGCCA\n",
       "3  validation      27      0 -0.438475  UAAGCUUUU\n",
       "4    training     130      2 -0.631467  AUGGUCGGG"
      ]
     },
     "execution_count": 8,
     "metadata": {},
     "output_type": "execute_result"
    }
   ],
   "source": [
    "# Test loading\n",
    "loaded_df = mavenn.load_example_dataset('mpsa')\n",
    "loaded_df.head()"
   ]
  },
  {
   "cell_type": "code",
   "execution_count": null,
   "metadata": {},
   "outputs": [],
   "source": []
  }
 ],
 "metadata": {
  "kernelspec": {
   "display_name": "Python 3",
   "language": "python",
   "name": "python3"
  },
  "language_info": {
   "codemirror_mode": {
    "name": "ipython",
    "version": 3
   },
   "file_extension": ".py",
   "mimetype": "text/x-python",
   "name": "python",
   "nbconvert_exporter": "python",
   "pygments_lexer": "ipython3",
   "version": "3.8.3"
  },
  "toc": {
   "base_numbering": 1,
   "nav_menu": {},
   "number_sections": true,
   "sideBar": true,
   "skip_h1_title": false,
   "title_cell": "Table of Contents",
   "title_sidebar": "Contents",
   "toc_cell": false,
   "toc_position": {},
   "toc_section_display": true,
   "toc_window_display": false
  },
  "varInspector": {
   "cols": {
    "lenName": 16,
    "lenType": 16,
    "lenVar": 40
   },
   "kernels_config": {
    "python": {
     "delete_cmd_postfix": "",
     "delete_cmd_prefix": "del ",
     "library": "var_list.py",
     "varRefreshCmd": "print(var_dic_list())"
    },
    "r": {
     "delete_cmd_postfix": ") ",
     "delete_cmd_prefix": "rm(",
     "library": "var_list.r",
     "varRefreshCmd": "cat(var_dic_list()) "
    }
   },
   "types_to_exclude": [
    "module",
    "function",
    "builtin_function_or_method",
    "instance",
    "_Feature"
   ],
   "window_display": false
  }
 },
 "nbformat": 4,
 "nbformat_minor": 2
}
