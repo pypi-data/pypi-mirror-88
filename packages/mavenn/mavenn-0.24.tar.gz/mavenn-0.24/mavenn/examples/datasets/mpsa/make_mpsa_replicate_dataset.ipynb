{
 "cells": [
  {
   "cell_type": "code",
   "execution_count": 1,
   "metadata": {
    "ExecuteTime": {
     "end_time": "2020-11-17T18:02:22.320906Z",
     "start_time": "2020-11-17T18:02:19.717433Z"
    },
    "code_folding": []
   },
   "outputs": [
    {
     "name": "stdout",
     "output_type": "stream",
     "text": [
      "['/Users/jkinney/github/mavenn/mavenn']\n"
     ]
    }
   ],
   "source": [
    "# Standard imports\n",
    "import pandas as pd\n",
    "import numpy as np\n",
    "import matplotlib.pyplot as plt\n",
    "import seaborn as sns\n",
    "%matplotlib inline\n",
    "\n",
    "import os\n",
    "import sys\n",
    "import re\n",
    "import glob\n",
    "import suftware as su\n",
    "from scipy.stats import norm\n",
    "from scipy.stats import poisson\n",
    "\n",
    "#Load mavenn and check path\n",
    "import mavenn\n",
    "print(mavenn.__path__)\n",
    "\n",
    "e = np.exp(1)\n",
    "pi = np.pi\n",
    "def pseudo_log(x,base=e):\n",
    "    return np.log(x+.5)/np.log(base)"
   ]
  },
  {
   "cell_type": "code",
   "execution_count": 2,
   "metadata": {
    "ExecuteTime": {
     "end_time": "2020-11-17T18:02:24.889032Z",
     "start_time": "2020-11-17T18:02:22.323464Z"
    }
   },
   "outputs": [
    {
     "name": "stderr",
     "output_type": "stream",
     "text": [
      "/Users/jkinney/opt/anaconda3/lib/python3.8/site-packages/numpy/lib/arraysetops.py:569: FutureWarning: elementwise comparison failed; returning scalar instead, but in the future will perform elementwise comparison\n",
      "  mask |= (ar1 == a)\n"
     ]
    },
    {
     "name": "stdout",
     "output_type": "stream",
     "text": [
      "Processing /Users/jkinney/Dropbox/20_mavenn/20.08.16_mpsa_raw_data/results.brca2_9nt_lib2_rep1.txt\n"
     ]
    },
    {
     "data": {
      "text/html": [
       "<div>\n",
       "<style scoped>\n",
       "    .dataframe tbody tr th:only-of-type {\n",
       "        vertical-align: middle;\n",
       "    }\n",
       "\n",
       "    .dataframe tbody tr th {\n",
       "        vertical-align: top;\n",
       "    }\n",
       "\n",
       "    .dataframe thead th {\n",
       "        text-align: right;\n",
       "    }\n",
       "</style>\n",
       "<table border=\"1\" class=\"dataframe\">\n",
       "  <thead>\n",
       "    <tr style=\"text-align: right;\">\n",
       "      <th></th>\n",
       "      <th>tot_ct</th>\n",
       "      <th>ex_ct</th>\n",
       "      <th>ss</th>\n",
       "      <th>bc</th>\n",
       "    </tr>\n",
       "  </thead>\n",
       "  <tbody>\n",
       "    <tr>\n",
       "      <th>0</th>\n",
       "      <td>137</td>\n",
       "      <td>4330</td>\n",
       "      <td>GCGGTGAGT</td>\n",
       "      <td>CATGCTAAAAGGCGTACACT</td>\n",
       "    </tr>\n",
       "    <tr>\n",
       "      <th>1</th>\n",
       "      <td>133</td>\n",
       "      <td>2640</td>\n",
       "      <td>GAGGTGAGA</td>\n",
       "      <td>CCTCATCGCTTGAGATGTGA</td>\n",
       "    </tr>\n",
       "    <tr>\n",
       "      <th>2</th>\n",
       "      <td>130</td>\n",
       "      <td>2582</td>\n",
       "      <td>GAGGTGAGA</td>\n",
       "      <td>TTAGGTCATGTGCAACCTTG</td>\n",
       "    </tr>\n",
       "    <tr>\n",
       "      <th>3</th>\n",
       "      <td>126</td>\n",
       "      <td>4</td>\n",
       "      <td>ATGGCCATA</td>\n",
       "      <td>TGGTGCCCGGACAAGTCACC</td>\n",
       "    </tr>\n",
       "    <tr>\n",
       "      <th>4</th>\n",
       "      <td>121</td>\n",
       "      <td>2054</td>\n",
       "      <td>AAGGTAAGA</td>\n",
       "      <td>GACACTCTGCTCGTCGATTA</td>\n",
       "    </tr>\n",
       "  </tbody>\n",
       "</table>\n",
       "</div>"
      ],
      "text/plain": [
       "   tot_ct  ex_ct         ss                    bc\n",
       "0     137   4330  GCGGTGAGT  CATGCTAAAAGGCGTACACT\n",
       "1     133   2640  GAGGTGAGA  CCTCATCGCTTGAGATGTGA\n",
       "2     130   2582  GAGGTGAGA  TTAGGTCATGTGCAACCTTG\n",
       "3     126      4  ATGGCCATA  TGGTGCCCGGACAAGTCACC\n",
       "4     121   2054  AAGGTAAGA  GACACTCTGCTCGTCGATTA"
      ]
     },
     "execution_count": 2,
     "metadata": {},
     "output_type": "execute_result"
    }
   ],
   "source": [
    "# Get in-file\n",
    "data_dir = '/Users/jkinney/Dropbox/20_mavenn/20.08.16_mpsa_raw_data/'\n",
    "in_file = data_dir + 'results.brca2_9nt_lib2_rep1.txt'\n",
    "\n",
    "# Create dict to record statistics\n",
    "stats_dict = {}\n",
    "        \n",
    "# Load file\n",
    "in_df = pd.read_csv(in_file, delimiter='\\t', index_col=0)\n",
    "print(f'Processing {in_file}')\n",
    "\n",
    "# Remove extraneous columns\n",
    "del in_df['mis_ct']\n",
    "del in_df['lib_ct']\n",
    "\n",
    "in_df.head()"
   ]
  },
  {
   "cell_type": "code",
   "execution_count": 3,
   "metadata": {
    "ExecuteTime": {
     "end_time": "2020-11-17T18:02:25.530575Z",
     "start_time": "2020-11-17T18:02:24.891346Z"
    }
   },
   "outputs": [],
   "source": [
    "# Marginalize by splice site\n",
    "data_df = in_df.groupby('ss').sum()\n",
    "data_df.reset_index(inplace=True)"
   ]
  },
  {
   "cell_type": "code",
   "execution_count": 4,
   "metadata": {
    "ExecuteTime": {
     "end_time": "2020-11-17T18:02:25.870001Z",
     "start_time": "2020-11-17T18:02:25.532295Z"
    }
   },
   "outputs": [
    {
     "data": {
      "text/plain": [
       "<matplotlib.axes._subplots.AxesSubplot at 0x143bdb220>"
      ]
     },
     "execution_count": 4,
     "metadata": {},
     "output_type": "execute_result"
    },
    {
     "data": {
      "image/png": "[encoded data removed]",
      "text/plain": [
       "<Figure size 432x288 with 1 Axes>"
      ]
     },
     "metadata": {
      "needs_background": "light"
     },
     "output_type": "display_data"
    }
   ],
   "source": [
    "# Look at tot_ct distribution\n",
    "sns.histplot(np.log10(data_df['tot_ct']+.1))"
   ]
  },
  {
   "cell_type": "code",
   "execution_count": 5,
   "metadata": {
    "ExecuteTime": {
     "end_time": "2020-11-17T18:02:25.979080Z",
     "start_time": "2020-11-17T18:02:25.872069Z"
    }
   },
   "outputs": [
    {
     "name": "stdout",
     "output_type": "stream",
     "text": [
      "2157 ss removed for having tot_ct < 10\n",
      "9 ss with invalid sequences removed\n",
      "N: 30,697\n"
     ]
    },
    {
     "data": {
      "text/html": [
       "<div>\n",
       "<style scoped>\n",
       "    .dataframe tbody tr th:only-of-type {\n",
       "        vertical-align: middle;\n",
       "    }\n",
       "\n",
       "    .dataframe tbody tr th {\n",
       "        vertical-align: top;\n",
       "    }\n",
       "\n",
       "    .dataframe thead th {\n",
       "        text-align: right;\n",
       "    }\n",
       "</style>\n",
       "<table border=\"1\" class=\"dataframe\">\n",
       "  <thead>\n",
       "    <tr style=\"text-align: right;\">\n",
       "      <th></th>\n",
       "      <th>set</th>\n",
       "      <th>tot_ct</th>\n",
       "      <th>ex_ct</th>\n",
       "      <th>y</th>\n",
       "      <th>x</th>\n",
       "    </tr>\n",
       "  </thead>\n",
       "  <tbody>\n",
       "    <tr>\n",
       "      <th>0</th>\n",
       "      <td>test</td>\n",
       "      <td>541</td>\n",
       "      <td>33</td>\n",
       "      <td>-0.569122</td>\n",
       "      <td>ACAGUUCAU</td>\n",
       "    </tr>\n",
       "    <tr>\n",
       "      <th>1</th>\n",
       "      <td>test</td>\n",
       "      <td>153</td>\n",
       "      <td>21</td>\n",
       "      <td>-0.211700</td>\n",
       "      <td>CGCGCCCUU</td>\n",
       "    </tr>\n",
       "    <tr>\n",
       "      <th>2</th>\n",
       "      <td>training</td>\n",
       "      <td>358</td>\n",
       "      <td>33</td>\n",
       "      <td>-0.390217</td>\n",
       "      <td>GCAGUUCGA</td>\n",
       "    </tr>\n",
       "    <tr>\n",
       "      <th>3</th>\n",
       "      <td>validation</td>\n",
       "      <td>405</td>\n",
       "      <td>41</td>\n",
       "      <td>-0.351879</td>\n",
       "      <td>ACAGCUCCA</td>\n",
       "    </tr>\n",
       "    <tr>\n",
       "      <th>4</th>\n",
       "      <td>training</td>\n",
       "      <td>43</td>\n",
       "      <td>0</td>\n",
       "      <td>-1.010054</td>\n",
       "      <td>UCAGCCUUC</td>\n",
       "    </tr>\n",
       "    <tr>\n",
       "      <th>5</th>\n",
       "      <td>training</td>\n",
       "      <td>24</td>\n",
       "      <td>4</td>\n",
       "      <td>-0.065572</td>\n",
       "      <td>UAGGUUUUC</td>\n",
       "    </tr>\n",
       "    <tr>\n",
       "      <th>6</th>\n",
       "      <td>training</td>\n",
       "      <td>111</td>\n",
       "      <td>3</td>\n",
       "      <td>-0.813760</td>\n",
       "      <td>AUAGUGACU</td>\n",
       "    </tr>\n",
       "    <tr>\n",
       "      <th>7</th>\n",
       "      <td>training</td>\n",
       "      <td>298</td>\n",
       "      <td>14</td>\n",
       "      <td>-0.666182</td>\n",
       "      <td>CUAGCCUGU</td>\n",
       "    </tr>\n",
       "    <tr>\n",
       "      <th>8</th>\n",
       "      <td>training</td>\n",
       "      <td>216</td>\n",
       "      <td>19</td>\n",
       "      <td>-0.402032</td>\n",
       "      <td>GAUGCCGUA</td>\n",
       "    </tr>\n",
       "    <tr>\n",
       "      <th>9</th>\n",
       "      <td>training</td>\n",
       "      <td>10</td>\n",
       "      <td>0</td>\n",
       "      <td>-0.407994</td>\n",
       "      <td>ACGGCAACG</td>\n",
       "    </tr>\n",
       "    <tr>\n",
       "      <th>10</th>\n",
       "      <td>training</td>\n",
       "      <td>62</td>\n",
       "      <td>2201</td>\n",
       "      <td>2.176875</td>\n",
       "      <td>ACGGUAUGC</td>\n",
       "    </tr>\n",
       "    <tr>\n",
       "      <th>11</th>\n",
       "      <td>training</td>\n",
       "      <td>345</td>\n",
       "      <td>27</td>\n",
       "      <td>-0.458520</td>\n",
       "      <td>GACGCUCGA</td>\n",
       "    </tr>\n",
       "    <tr>\n",
       "      <th>12</th>\n",
       "      <td>training</td>\n",
       "      <td>25</td>\n",
       "      <td>0</td>\n",
       "      <td>-0.781575</td>\n",
       "      <td>AGCGUAAUG</td>\n",
       "    </tr>\n",
       "    <tr>\n",
       "      <th>13</th>\n",
       "      <td>test</td>\n",
       "      <td>14</td>\n",
       "      <td>0</td>\n",
       "      <td>-0.542693</td>\n",
       "      <td>GAUGCCUCG</td>\n",
       "    </tr>\n",
       "    <tr>\n",
       "      <th>14</th>\n",
       "      <td>training</td>\n",
       "      <td>465</td>\n",
       "      <td>75</td>\n",
       "      <td>-0.154174</td>\n",
       "      <td>UUCGCCCCA</td>\n",
       "    </tr>\n",
       "    <tr>\n",
       "      <th>15</th>\n",
       "      <td>validation</td>\n",
       "      <td>146</td>\n",
       "      <td>10</td>\n",
       "      <td>-0.492526</td>\n",
       "      <td>ACUGUUGCU</td>\n",
       "    </tr>\n",
       "    <tr>\n",
       "      <th>16</th>\n",
       "      <td>training</td>\n",
       "      <td>523</td>\n",
       "      <td>29</td>\n",
       "      <td>-0.608812</td>\n",
       "      <td>AUCGCCCGU</td>\n",
       "    </tr>\n",
       "    <tr>\n",
       "      <th>17</th>\n",
       "      <td>test</td>\n",
       "      <td>160</td>\n",
       "      <td>14</td>\n",
       "      <td>-0.397336</td>\n",
       "      <td>AUCGUGGAC</td>\n",
       "    </tr>\n",
       "    <tr>\n",
       "      <th>18</th>\n",
       "      <td>training</td>\n",
       "      <td>24</td>\n",
       "      <td>1</td>\n",
       "      <td>-0.463512</td>\n",
       "      <td>UCGGCACUG</td>\n",
       "    </tr>\n",
       "    <tr>\n",
       "      <th>19</th>\n",
       "      <td>validation</td>\n",
       "      <td>156</td>\n",
       "      <td>7</td>\n",
       "      <td>-0.659411</td>\n",
       "      <td>AAGGCUCUU</td>\n",
       "    </tr>\n",
       "  </tbody>\n",
       "</table>\n",
       "</div>"
      ],
      "text/plain": [
       "           set  tot_ct  ex_ct         y          x\n",
       "0         test     541     33 -0.569122  ACAGUUCAU\n",
       "1         test     153     21 -0.211700  CGCGCCCUU\n",
       "2     training     358     33 -0.390217  GCAGUUCGA\n",
       "3   validation     405     41 -0.351879  ACAGCUCCA\n",
       "4     training      43      0 -1.010054  UCAGCCUUC\n",
       "5     training      24      4 -0.065572  UAGGUUUUC\n",
       "6     training     111      3 -0.813760  AUAGUGACU\n",
       "7     training     298     14 -0.666182  CUAGCCUGU\n",
       "8     training     216     19 -0.402032  GAUGCCGUA\n",
       "9     training      10      0 -0.407994  ACGGCAACG\n",
       "10    training      62   2201  2.176875  ACGGUAUGC\n",
       "11    training     345     27 -0.458520  GACGCUCGA\n",
       "12    training      25      0 -0.781575  AGCGUAAUG\n",
       "13        test      14      0 -0.542693  GAUGCCUCG\n",
       "14    training     465     75 -0.154174  UUCGCCCCA\n",
       "15  validation     146     10 -0.492526  ACUGUUGCU\n",
       "16    training     523     29 -0.608812  AUCGCCCGU\n",
       "17        test     160     14 -0.397336  AUCGUGGAC\n",
       "18    training      24      1 -0.463512  UCGGCACUG\n",
       "19  validation     156      7 -0.659411  AAGGCUCUU"
      ]
     },
     "execution_count": 5,
     "metadata": {},
     "output_type": "execute_result"
    }
   ],
   "source": [
    "# Rename columns\n",
    "data_df.rename(columns={'ss':'x'}, inplace=True)\n",
    "\n",
    "# Make sequences RNA\n",
    "data_df['x'] = [ss.replace('T','U') for ss in data_df['x']]\n",
    "\n",
    "# Remove ss with minimum tot_ct\n",
    "min_ct = 10\n",
    "ix = data_df['tot_ct'] >= min_ct\n",
    "data_df = data_df[ix]\n",
    "print(f'{(~ix).sum()} ss removed for having tot_ct < {min_ct}')\n",
    "\n",
    "# Remove ss with invalid sequences\n",
    "ix = np.array([((x[3]=='G') and (x[4] in {'C','U'})) for x in data_df['x']])\n",
    "data_df = data_df[ix]\n",
    "print(f'{(~ix).sum()} ss with invalid sequences removed')\n",
    "\n",
    "# Get consensus i_cons and o_cons\n",
    "cons_seq = 'CAGGUAAGU'\n",
    "tmp_df = data_df.set_index('x')\n",
    "i_cons = tmp_df.loc['CAGGUAAGU','tot_ct']\n",
    "o_cons = tmp_df.loc['CAGGUAAGU','ex_ct']\n",
    "\n",
    "# Compute y\n",
    "i_n = data_df['tot_ct']\n",
    "o_n = data_df['ex_ct']\n",
    "y_n = np.log10(100*((o_n+1)/(i_n+1))/((o_cons+1)/(i_cons+1)))\n",
    "data_df['y'] = y_n\n",
    "\n",
    "# Assign to trianing and test sets\n",
    "N = len(data_df)\n",
    "training_frac=.8\n",
    "np.random.seed(0)\n",
    "r = np.random.rand(N)\n",
    "test_frac = .2\n",
    "val_frac = .2\n",
    "ix_train = (test_frac + val_frac <= r)\n",
    "ix_val = (test_frac <= r) & (r < test_frac + val_frac)\n",
    "ix_test = (r < test_frac)\n",
    "data_df['set'] = ''\n",
    "data_df.loc[ix_train, 'set'] = 'training'\n",
    "data_df.loc[ix_val, 'set'] = 'validation'\n",
    "data_df.loc[ix_test, 'set'] = 'test'\n",
    "assert all([len(x)>0 for x in data_df['set']])\n",
    "\n",
    "# Shuffle data for extra safety\n",
    "data_df = data_df.sample(frac=1).reset_index(drop=True)\n",
    "\n",
    "# Order columns\n",
    "data_df = data_df[['set', 'tot_ct', 'ex_ct', 'y', 'x']]\n",
    "\n",
    "# Preview dataframe\n",
    "print(f'N: {N:,}')\n",
    "data_df.head(20)"
   ]
  },
  {
   "cell_type": "code",
   "execution_count": 6,
   "metadata": {
    "ExecuteTime": {
     "end_time": "2020-11-17T18:02:26.051571Z",
     "start_time": "2020-11-17T18:02:25.986625Z"
    }
   },
   "outputs": [
    {
     "data": {
      "text/html": [
       "<div>\n",
       "<style scoped>\n",
       "    .dataframe tbody tr th:only-of-type {\n",
       "        vertical-align: middle;\n",
       "    }\n",
       "\n",
       "    .dataframe tbody tr th {\n",
       "        vertical-align: top;\n",
       "    }\n",
       "\n",
       "    .dataframe thead th {\n",
       "        text-align: right;\n",
       "    }\n",
       "</style>\n",
       "<table border=\"1\" class=\"dataframe\">\n",
       "  <thead>\n",
       "    <tr style=\"text-align: right;\">\n",
       "      <th></th>\n",
       "      <th>set</th>\n",
       "      <th>tot_ct</th>\n",
       "      <th>ex_ct</th>\n",
       "      <th>y</th>\n",
       "      <th>x</th>\n",
       "    </tr>\n",
       "  </thead>\n",
       "  <tbody>\n",
       "    <tr>\n",
       "      <th>29448</th>\n",
       "      <td>validation</td>\n",
       "      <td>469</td>\n",
       "      <td>10931</td>\n",
       "      <td>2.0</td>\n",
       "      <td>CAGGUAAGU</td>\n",
       "    </tr>\n",
       "  </tbody>\n",
       "</table>\n",
       "</div>"
      ],
      "text/plain": [
       "              set  tot_ct  ex_ct    y          x\n",
       "29448  validation     469  10931  2.0  CAGGUAAGU"
      ]
     },
     "execution_count": 6,
     "metadata": {},
     "output_type": "execute_result"
    }
   ],
   "source": [
    "# Check normalization; should have y=2.0\n",
    "data_df[data_df['x']==cons_seq]"
   ]
  },
  {
   "cell_type": "code",
   "execution_count": 7,
   "metadata": {
    "ExecuteTime": {
     "end_time": "2020-11-17T18:02:26.704834Z",
     "start_time": "2020-11-17T18:02:26.073044Z"
    }
   },
   "outputs": [
    {
     "name": "stdout",
     "output_type": "stream",
     "text": [
      "df (zipped):\n",
      "440K\tmpsa_replicate_data.csv.gz\r\n"
     ]
    }
   ],
   "source": [
    "# Show size of compressed dataset file\n",
    "file_name = 'mpsa_replicate_data.csv.gz'\n",
    "data_df.to_csv(file_name, compression='gzip', index=False)\n",
    "print('df (zipped):')\n",
    "!du -mh $file_name\n",
    "!mv $file_name ../."
   ]
  },
  {
   "cell_type": "code",
   "execution_count": 8,
   "metadata": {
    "ExecuteTime": {
     "end_time": "2020-11-17T18:02:26.772456Z",
     "start_time": "2020-11-17T18:02:26.707459Z"
    }
   },
   "outputs": [
    {
     "data": {
      "text/html": [
       "<div>\n",
       "<style scoped>\n",
       "    .dataframe tbody tr th:only-of-type {\n",
       "        vertical-align: middle;\n",
       "    }\n",
       "\n",
       "    .dataframe tbody tr th {\n",
       "        vertical-align: top;\n",
       "    }\n",
       "\n",
       "    .dataframe thead th {\n",
       "        text-align: right;\n",
       "    }\n",
       "</style>\n",
       "<table border=\"1\" class=\"dataframe\">\n",
       "  <thead>\n",
       "    <tr style=\"text-align: right;\">\n",
       "      <th></th>\n",
       "      <th>set</th>\n",
       "      <th>tot_ct</th>\n",
       "      <th>ex_ct</th>\n",
       "      <th>y</th>\n",
       "      <th>x</th>\n",
       "    </tr>\n",
       "  </thead>\n",
       "  <tbody>\n",
       "    <tr>\n",
       "      <th>0</th>\n",
       "      <td>test</td>\n",
       "      <td>541</td>\n",
       "      <td>33</td>\n",
       "      <td>-0.569122</td>\n",
       "      <td>ACAGUUCAU</td>\n",
       "    </tr>\n",
       "    <tr>\n",
       "      <th>1</th>\n",
       "      <td>test</td>\n",
       "      <td>153</td>\n",
       "      <td>21</td>\n",
       "      <td>-0.211700</td>\n",
       "      <td>CGCGCCCUU</td>\n",
       "    </tr>\n",
       "    <tr>\n",
       "      <th>2</th>\n",
       "      <td>training</td>\n",
       "      <td>358</td>\n",
       "      <td>33</td>\n",
       "      <td>-0.390217</td>\n",
       "      <td>GCAGUUCGA</td>\n",
       "    </tr>\n",
       "    <tr>\n",
       "      <th>3</th>\n",
       "      <td>validation</td>\n",
       "      <td>405</td>\n",
       "      <td>41</td>\n",
       "      <td>-0.351879</td>\n",
       "      <td>ACAGCUCCA</td>\n",
       "    </tr>\n",
       "    <tr>\n",
       "      <th>4</th>\n",
       "      <td>training</td>\n",
       "      <td>43</td>\n",
       "      <td>0</td>\n",
       "      <td>-1.010054</td>\n",
       "      <td>UCAGCCUUC</td>\n",
       "    </tr>\n",
       "  </tbody>\n",
       "</table>\n",
       "</div>"
      ],
      "text/plain": [
       "          set  tot_ct  ex_ct         y          x\n",
       "0        test     541     33 -0.569122  ACAGUUCAU\n",
       "1        test     153     21 -0.211700  CGCGCCCUU\n",
       "2    training     358     33 -0.390217  GCAGUUCGA\n",
       "3  validation     405     41 -0.351879  ACAGCUCCA\n",
       "4    training      43      0 -1.010054  UCAGCCUUC"
      ]
     },
     "execution_count": 8,
     "metadata": {},
     "output_type": "execute_result"
    }
   ],
   "source": [
    "# Test loading\n",
    "loaded_df = mavenn.load_example_dataset('mpsa_replicate')\n",
    "loaded_df.head()"
   ]
  },
  {
   "cell_type": "code",
   "execution_count": 9,
   "metadata": {
    "ExecuteTime": {
     "end_time": "2020-11-17T18:02:26.932918Z",
     "start_time": "2020-11-17T18:02:26.776727Z"
    }
   },
   "outputs": [
    {
     "name": "stdout",
     "output_type": "stream",
     "text": [
      "len(lib1_df)=30,483\n",
      "len(lib2_df)=30,697\n",
      "len(intersection_df)=29,593\n"
     ]
    },
    {
     "data": {
      "text/html": [
       "<div>\n",
       "<style scoped>\n",
       "    .dataframe tbody tr th:only-of-type {\n",
       "        vertical-align: middle;\n",
       "    }\n",
       "\n",
       "    .dataframe tbody tr th {\n",
       "        vertical-align: top;\n",
       "    }\n",
       "\n",
       "    .dataframe thead th {\n",
       "        text-align: right;\n",
       "    }\n",
       "</style>\n",
       "<table border=\"1\" class=\"dataframe\">\n",
       "  <thead>\n",
       "    <tr style=\"text-align: right;\">\n",
       "      <th></th>\n",
       "      <th>x</th>\n",
       "      <th>y1</th>\n",
       "      <th>y2</th>\n",
       "    </tr>\n",
       "  </thead>\n",
       "  <tbody>\n",
       "    <tr>\n",
       "      <th>0</th>\n",
       "      <td>AGUGUGCAA</td>\n",
       "      <td>-0.587914</td>\n",
       "      <td>-0.603963</td>\n",
       "    </tr>\n",
       "    <tr>\n",
       "      <th>1</th>\n",
       "      <td>UUCGCGCCA</td>\n",
       "      <td>-0.074999</td>\n",
       "      <td>-0.067738</td>\n",
       "    </tr>\n",
       "    <tr>\n",
       "      <th>2</th>\n",
       "      <td>UAAGCUUUU</td>\n",
       "      <td>-0.438475</td>\n",
       "      <td>-0.946385</td>\n",
       "    </tr>\n",
       "    <tr>\n",
       "      <th>3</th>\n",
       "      <td>AUGGUCGGG</td>\n",
       "      <td>-0.631467</td>\n",
       "      <td>-0.548445</td>\n",
       "    </tr>\n",
       "    <tr>\n",
       "      <th>4</th>\n",
       "      <td>AGGGCAGGA</td>\n",
       "      <td>-0.433012</td>\n",
       "      <td>-0.508022</td>\n",
       "    </tr>\n",
       "  </tbody>\n",
       "</table>\n",
       "</div>"
      ],
      "text/plain": [
       "           x        y1        y2\n",
       "0  AGUGUGCAA -0.587914 -0.603963\n",
       "1  UUCGCGCCA -0.074999 -0.067738\n",
       "2  UAAGCUUUU -0.438475 -0.946385\n",
       "3  AUGGUCGGG -0.631467 -0.548445\n",
       "4  AGGGCAGGA -0.433012 -0.508022"
      ]
     },
     "execution_count": 9,
     "metadata": {},
     "output_type": "execute_result"
    }
   ],
   "source": [
    "# Compute lower bound on the intrinsic information in the mpsa data\n",
    "lib1_df = mavenn.load_example_dataset('mpsa')\n",
    "print(f'len(lib1_df)={len(lib1_df):,}')\n",
    "\n",
    "lib2_df = mavenn.load_example_dataset('mpsa_replicate')\n",
    "print(f'len(lib2_df)={len(lib2_df):,}')\n",
    "      \n",
    "# merge datasets\n",
    "cols = ['x','y']\n",
    "intersection_df = pd.merge(left=lib1_df[cols], right=lib2_df[cols], on='x', how='inner')\n",
    "intersection_df.columns = ['x','y1','y2']\n",
    "print(f'len(intersection_df)={len(intersection_df):,}')\n",
    "intersection_df.head()"
   ]
  },
  {
   "cell_type": "code",
   "execution_count": 10,
   "metadata": {
    "ExecuteTime": {
     "end_time": "2020-11-17T18:02:29.517156Z",
     "start_time": "2020-11-17T18:02:26.936587Z"
    }
   },
   "outputs": [
    {
     "name": "stdout",
     "output_type": "stream",
     "text": [
      "I_intr >= 0.4622 +- 0.0179 bits\n"
     ]
    }
   ],
   "source": [
    "# Compute mutual information\n",
    "I_intr, dI_intr = mavenn.src.entropy.mi_continuous(intersection_df['y1'], intersection_df['y2'])\n",
    "print(f'I_intr >= {I_intr:.4f} +- {1.96*dI_intr:.4f} bits')"
   ]
  },
  {
   "cell_type": "code",
   "execution_count": null,
   "metadata": {},
   "outputs": [],
   "source": []
  }
 ],
 "metadata": {
  "kernelspec": {
   "display_name": "Python 3",
   "language": "python",
   "name": "python3"
  },
  "language_info": {
   "codemirror_mode": {
    "name": "ipython",
    "version": 3
   },
   "file_extension": ".py",
   "mimetype": "text/x-python",
   "name": "python",
   "nbconvert_exporter": "python",
   "pygments_lexer": "ipython3",
   "version": "3.8.3"
  },
  "toc": {
   "base_numbering": 1,
   "nav_menu": {},
   "number_sections": true,
   "sideBar": true,
   "skip_h1_title": false,
   "title_cell": "Table of Contents",
   "title_sidebar": "Contents",
   "toc_cell": false,
   "toc_position": {},
   "toc_section_display": true,
   "toc_window_display": false
  },
  "varInspector": {
   "cols": {
    "lenName": 16,
    "lenType": 16,
    "lenVar": 40
   },
   "kernels_config": {
    "python": {
     "delete_cmd_postfix": "",
     "delete_cmd_prefix": "del ",
     "library": "var_list.py",
     "varRefreshCmd": "print(var_dic_list())"
    },
    "r": {
     "delete_cmd_postfix": ") ",
     "delete_cmd_prefix": "rm(",
     "library": "var_list.r",
     "varRefreshCmd": "cat(var_dic_list()) "
    }
   },
   "types_to_exclude": [
    "module",
    "function",
    "builtin_function_or_method",
    "instance",
    "_Feature"
   ],
   "window_display": false
  }
 },
 "nbformat": 4,
 "nbformat_minor": 2
}
