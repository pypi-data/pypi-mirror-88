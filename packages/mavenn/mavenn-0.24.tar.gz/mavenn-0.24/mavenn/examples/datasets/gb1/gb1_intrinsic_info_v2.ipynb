{
 "cells": [
  {
   "cell_type": "code",
   "execution_count": 1,
   "metadata": {
    "ExecuteTime": {
     "end_time": "2020-11-10T18:42:17.380266Z",
     "start_time": "2020-11-10T18:42:13.251998Z"
    }
   },
   "outputs": [
    {
     "name": "stdout",
     "output_type": "stream",
     "text": [
      "['../../../../mavenn']\n",
      "../../../../../suftware/suftware.py\n"
     ]
    }
   ],
   "source": [
    "# Standard imports\n",
    "import pandas as pd\n",
    "import matplotlib.pyplot as plt\n",
    "import numpy as np\n",
    "import seaborn as sns\n",
    "%matplotlib inline\n",
    "\n",
    "# Insert mavenn at beginning of path\n",
    "import sys\n",
    "path_to_mavenn_local = '../../../../'\n",
    "sys.path.insert(0,path_to_mavenn_local)\n",
    "path_to_suftware_local = '../../../../../suftware/'\n",
    "sys.path.insert(0,path_to_suftware_local)\n",
    "\n",
    "# Load mavenn and check path\n",
    "import mavenn\n",
    "print(mavenn.__path__)\n",
    "\n",
    "# Load suftware and check path\n",
    "import suftware\n",
    "print(suftware.__file__)\n",
    "\n",
    "# MAVE-NN utilities\n",
    "from mavenn.src.entropy import entropy_continuous\n",
    "\n",
    "# Useful constants\n",
    "pi = np.pi\n",
    "e = np.exp(1)"
   ]
  },
  {
   "cell_type": "code",
   "execution_count": 2,
   "metadata": {
    "ExecuteTime": {
     "end_time": "2020-11-10T18:42:19.510954Z",
     "start_time": "2020-11-10T18:42:18.422474Z"
    }
   },
   "outputs": [
    {
     "name": "stdout",
     "output_type": "stream",
     "text": [
      "N: 530737\n"
     ]
    },
    {
     "data": {
      "text/html": [
       "<div>\n",
       "<style scoped>\n",
       "    .dataframe tbody tr th:only-of-type {\n",
       "        vertical-align: middle;\n",
       "    }\n",
       "\n",
       "    .dataframe tbody tr th {\n",
       "        vertical-align: top;\n",
       "    }\n",
       "\n",
       "    .dataframe thead th {\n",
       "        text-align: right;\n",
       "    }\n",
       "</style>\n",
       "<table border=\"1\" class=\"dataframe\">\n",
       "  <thead>\n",
       "    <tr style=\"text-align: right;\">\n",
       "      <th></th>\n",
       "      <th>set</th>\n",
       "      <th>input_ct</th>\n",
       "      <th>selected_ct</th>\n",
       "      <th>y</th>\n",
       "      <th>x</th>\n",
       "    </tr>\n",
       "  </thead>\n",
       "  <tbody>\n",
       "    <tr>\n",
       "      <th>0</th>\n",
       "      <td>training</td>\n",
       "      <td>73.0</td>\n",
       "      <td>62.0</td>\n",
       "      <td>-1.021847</td>\n",
       "      <td>QYKLILNGKTLKGETTTEAHDAATAEKVFKQYANDNGVDGEWTYDD...</td>\n",
       "    </tr>\n",
       "    <tr>\n",
       "      <th>1</th>\n",
       "      <td>training</td>\n",
       "      <td>122.0</td>\n",
       "      <td>0.0</td>\n",
       "      <td>-7.732188</td>\n",
       "      <td>QYKLILNGKTLKGETTTEAVDAATAEKVFPQYANDNGVDGEWTYDD...</td>\n",
       "    </tr>\n",
       "    <tr>\n",
       "      <th>2</th>\n",
       "      <td>training</td>\n",
       "      <td>794.0</td>\n",
       "      <td>598.0</td>\n",
       "      <td>-1.198072</td>\n",
       "      <td>QYKLILNGKTLKGETTTEAVDAATAEKVFKQYANKNGVDGEWTLDD...</td>\n",
       "    </tr>\n",
       "    <tr>\n",
       "      <th>3</th>\n",
       "      <td>training</td>\n",
       "      <td>1115.0</td>\n",
       "      <td>595.0</td>\n",
       "      <td>-1.694626</td>\n",
       "      <td>QYKLILNIKTLKGETTTEAVDAATAEKVFKQYANDNGVDGEWTYDS...</td>\n",
       "    </tr>\n",
       "    <tr>\n",
       "      <th>4</th>\n",
       "      <td>validation</td>\n",
       "      <td>97.0</td>\n",
       "      <td>2.0</td>\n",
       "      <td>-5.819421</td>\n",
       "      <td>QYKLINNGKTLKGETTTEAVDAATAEKVFKIYANDNGVDGEWTYDD...</td>\n",
       "    </tr>\n",
       "  </tbody>\n",
       "</table>\n",
       "</div>"
      ],
      "text/plain": [
       "          set  input_ct  selected_ct         y  \\\n",
       "0    training      73.0         62.0 -1.021847   \n",
       "1    training     122.0          0.0 -7.732188   \n",
       "2    training     794.0        598.0 -1.198072   \n",
       "3    training    1115.0        595.0 -1.694626   \n",
       "4  validation      97.0          2.0 -5.819421   \n",
       "\n",
       "                                                   x  \n",
       "0  QYKLILNGKTLKGETTTEAHDAATAEKVFKQYANDNGVDGEWTYDD...  \n",
       "1  QYKLILNGKTLKGETTTEAVDAATAEKVFPQYANDNGVDGEWTYDD...  \n",
       "2  QYKLILNGKTLKGETTTEAVDAATAEKVFKQYANKNGVDGEWTLDD...  \n",
       "3  QYKLILNIKTLKGETTTEAVDAATAEKVFKQYANDNGVDGEWTYDS...  \n",
       "4  QYKLINNGKTLKGETTTEAVDAATAEKVFKIYANDNGVDGEWTYDD...  "
      ]
     },
     "execution_count": 2,
     "metadata": {},
     "output_type": "execute_result"
    }
   ],
   "source": [
    "# Load GB1 data\n",
    "data_df = mavenn.load_example_dataset('gb1')\n",
    "\n",
    "# Compute length and preview df\n",
    "N = len(data_df)\n",
    "print(f'N: {N}')\n",
    "data_df.head()"
   ]
  },
  {
   "cell_type": "code",
   "execution_count": 3,
   "metadata": {
    "ExecuteTime": {
     "end_time": "2020-11-10T18:42:20.789564Z",
     "start_time": "2020-11-10T18:42:20.743284Z"
    }
   },
   "outputs": [
    {
     "data": {
      "text/html": [
       "<div>\n",
       "<style scoped>\n",
       "    .dataframe tbody tr th:only-of-type {\n",
       "        vertical-align: middle;\n",
       "    }\n",
       "\n",
       "    .dataframe tbody tr th {\n",
       "        vertical-align: top;\n",
       "    }\n",
       "\n",
       "    .dataframe thead th {\n",
       "        text-align: right;\n",
       "    }\n",
       "</style>\n",
       "<table border=\"1\" class=\"dataframe\">\n",
       "  <thead>\n",
       "    <tr style=\"text-align: right;\">\n",
       "      <th></th>\n",
       "      <th>set</th>\n",
       "      <th>input_ct</th>\n",
       "      <th>selected_ct</th>\n",
       "      <th>y</th>\n",
       "      <th>x</th>\n",
       "    </tr>\n",
       "  </thead>\n",
       "  <tbody>\n",
       "    <tr>\n",
       "      <th>0</th>\n",
       "      <td>training</td>\n",
       "      <td>158.0</td>\n",
       "      <td>541.0</td>\n",
       "      <td>0.979593</td>\n",
       "      <td>QYKLILNGWTLKGETTTEAVDAATAEKVFKQYANDNGVDGMWTYDD...</td>\n",
       "    </tr>\n",
       "    <tr>\n",
       "      <th>1</th>\n",
       "      <td>training</td>\n",
       "      <td>95.0</td>\n",
       "      <td>0.0</td>\n",
       "      <td>-7.374636</td>\n",
       "      <td>QYKLILCGKTLKGETTTEAVDAATAEKVFKQYANDNGVDGEGTYDD...</td>\n",
       "    </tr>\n",
       "    <tr>\n",
       "      <th>2</th>\n",
       "      <td>training</td>\n",
       "      <td>629.0</td>\n",
       "      <td>863.0</td>\n",
       "      <td>-0.333994</td>\n",
       "      <td>CYKLILNGKTLKGETTTEAVDSATAEKVFKQYANDNGVDGEWTYDD...</td>\n",
       "    </tr>\n",
       "    <tr>\n",
       "      <th>3</th>\n",
       "      <td>training</td>\n",
       "      <td>226.0</td>\n",
       "      <td>1283.0</td>\n",
       "      <td>1.710208</td>\n",
       "      <td>QYKLILNGKTLKGETTAEAVDAPTAEKVFKQYANDNGVDGEWTYDD...</td>\n",
       "    </tr>\n",
       "    <tr>\n",
       "      <th>4</th>\n",
       "      <td>validation</td>\n",
       "      <td>37032.0</td>\n",
       "      <td>583.0</td>\n",
       "      <td>-6.776373</td>\n",
       "      <td>QYKLILNGKTLKGETTTEAVDAATLEKVFKQYANDNGVDGSWTYDD...</td>\n",
       "    </tr>\n",
       "  </tbody>\n",
       "</table>\n",
       "</div>"
      ],
      "text/plain": [
       "          set  input_ct  selected_ct         y  \\\n",
       "0    training     158.0        541.0  0.979593   \n",
       "1    training      95.0          0.0 -7.374636   \n",
       "2    training     629.0        863.0 -0.333994   \n",
       "3    training     226.0       1283.0  1.710208   \n",
       "4  validation   37032.0        583.0 -6.776373   \n",
       "\n",
       "                                                   x  \n",
       "0  QYKLILNGWTLKGETTTEAVDAATAEKVFKQYANDNGVDGMWTYDD...  \n",
       "1  QYKLILCGKTLKGETTTEAVDAATAEKVFKQYANDNGVDGEGTYDD...  \n",
       "2  CYKLILNGKTLKGETTTEAVDSATAEKVFKQYANDNGVDGEWTYDD...  \n",
       "3  QYKLILNGKTLKGETTAEAVDAPTAEKVFKQYANDNGVDGEWTYDD...  \n",
       "4  QYKLILNGKTLKGETTTEAVDAATLEKVFKQYANDNGVDGSWTYDD...  "
      ]
     },
     "execution_count": 3,
     "metadata": {},
     "output_type": "execute_result"
    }
   ],
   "source": [
    "# Select N_sub sequences to estimate intrinsic information on\n",
    "N_sub = 10000\n",
    "ix = np.random.choice(N, size=N_sub, replace=False)\n",
    "sub_df = data_df.iloc[ix].copy().reset_index(drop=True)\n",
    "sub_df.head()"
   ]
  },
  {
   "cell_type": "code",
   "execution_count": 4,
   "metadata": {
    "ExecuteTime": {
     "end_time": "2020-11-10T18:46:47.183331Z",
     "start_time": "2020-11-10T18:46:47.177370Z"
    }
   },
   "outputs": [],
   "source": [
    "# Extract counts and compute y\n",
    "i_n = sub_df['input_ct'].values\n",
    "o_n = sub_df['selected_ct'].values\n",
    "r_n = (o_n+1)/(i_n+1)\n",
    "y_n = np.log2(r_n)"
   ]
  },
  {
   "cell_type": "code",
   "execution_count": 25,
   "metadata": {
    "ExecuteTime": {
     "end_time": "2020-11-10T18:56:25.669022Z",
     "start_time": "2020-11-10T18:56:21.670195Z"
    }
   },
   "outputs": [],
   "source": [
    "# Resample counts and compute list of ys\n",
    "K = 1000\n",
    "mu_i_nk = np.repeat(i_n.reshape([N_sub,1]), K, axis=1)\n",
    "mu_o_nk = np.repeat(o_n.reshape([N_sub,1]), K, axis=1)\n",
    "i_nk = np.random.poisson(lam=mu_i_nk)\n",
    "o_nk = np.random.poisson(lam=mu_o_nk)\n",
    "r_nk = (o_nk+1)/(i_nk+1)\n",
    "y_nk = np.log2(r_nk)"
   ]
  },
  {
   "cell_type": "code",
   "execution_count": 27,
   "metadata": {
    "ExecuteTime": {
     "end_time": "2020-11-10T18:57:47.176115Z",
     "start_time": "2020-11-10T18:57:23.950668Z"
    }
   },
   "outputs": [
    {
     "name": "stdout",
     "output_type": "stream",
     "text": [
      "H[y|x] (knn): -0.1406 +- 0.0110 bits\n"
     ]
    }
   ],
   "source": [
    "# Estimate entropy using knn\n",
    "H_n_knn = np.zeros(N_sub)\n",
    "for i in range(N_sub):\n",
    "    y_k = y_nk[i,:].copy()\n",
    "    H_n_knn[i] = entropy_continuous(y_k, knn=5, uncertainty=False, resolution=.1)\n",
    "    \n",
    "H_ygx_knn = np.mean(H_n_knn)\n",
    "dH_ygx_knn = np.std(H_n_knn)/np.sqrt(N_sub)\n",
    "print(f'H[y|x] (knn): {H_ygx_knn:.4f} +- {dH_ygx_knn:.4f} bits')"
   ]
  },
  {
   "cell_type": "code",
   "execution_count": 28,
   "metadata": {
    "ExecuteTime": {
     "end_time": "2020-11-10T18:57:59.526297Z",
     "start_time": "2020-11-10T18:57:58.362842Z"
    }
   },
   "outputs": [
    {
     "name": "stdout",
     "output_type": "stream",
     "text": [
      "H[y] (knn): 3.4219 +- 0.0090 bits\n"
     ]
    }
   ],
   "source": [
    "# Compute entropy of dataset using knn\n",
    "y = y_n.copy()\n",
    "H_y_knn, dH_y_knn = entropy_continuous(y, knn=5, uncertainty=True, num_subsamples=100)\n",
    "print(f'H[y] (knn): {H_y_knn:.4f} +- {dH_y_knn:.4f} bits')"
   ]
  },
  {
   "cell_type": "code",
   "execution_count": 29,
   "metadata": {
    "ExecuteTime": {
     "end_time": "2020-11-10T18:58:00.541672Z",
     "start_time": "2020-11-10T18:58:00.536123Z"
    }
   },
   "outputs": [
    {
     "name": "stdout",
     "output_type": "stream",
     "text": [
      "I_intr (knn): 3.5624 +- 0.0143 bits\n"
     ]
    }
   ],
   "source": [
    "# Report mutual information values for various H_ygx estimates\n",
    "for (name, H_ygx, dH_ygx) in [('knn',   H_ygx_knn,   dH_ygx_knn)]:\n",
    "    I_y_x = H_y_knn - H_ygx\n",
    "    dI_y_x = np.sqrt(dH_y_knn**2 + dH_ygx**2)\n",
    "    print(f'I_intr ({name}): {I_y_x:.4f} +- {dI_y_x:.4f} bits')\n",
    "    \n",
    "# Would be nice to see a plot of this"
   ]
  },
  {
   "cell_type": "code",
   "execution_count": null,
   "metadata": {},
   "outputs": [],
   "source": []
  }
 ],
 "metadata": {
  "kernelspec": {
   "display_name": "Python 3",
   "language": "python",
   "name": "python3"
  },
  "language_info": {
   "codemirror_mode": {
    "name": "ipython",
    "version": 3
   },
   "file_extension": ".py",
   "mimetype": "text/x-python",
   "name": "python",
   "nbconvert_exporter": "python",
   "pygments_lexer": "ipython3",
   "version": "3.8.3"
  },
  "toc": {
   "base_numbering": 1,
   "nav_menu": {},
   "number_sections": true,
   "sideBar": true,
   "skip_h1_title": false,
   "title_cell": "Table of Contents",
   "title_sidebar": "Contents",
   "toc_cell": false,
   "toc_position": {},
   "toc_section_display": true,
   "toc_window_display": false
  },
  "varInspector": {
   "cols": {
    "lenName": 16,
    "lenType": 16,
    "lenVar": 40
   },
   "kernels_config": {
    "python": {
     "delete_cmd_postfix": "",
     "delete_cmd_prefix": "del ",
     "library": "var_list.py",
     "varRefreshCmd": "print(var_dic_list())"
    },
    "r": {
     "delete_cmd_postfix": ") ",
     "delete_cmd_prefix": "rm(",
     "library": "var_list.r",
     "varRefreshCmd": "cat(var_dic_list()) "
    }
   },
   "position": {
    "height": "471.4px",
    "left": "1668px",
    "right": "20px",
    "top": "120px",
    "width": "360px"
   },
   "types_to_exclude": [
    "module",
    "function",
    "builtin_function_or_method",
    "instance",
    "_Feature"
   ],
   "window_display": true
  }
 },
 "nbformat": 4,
 "nbformat_minor": 2
}
